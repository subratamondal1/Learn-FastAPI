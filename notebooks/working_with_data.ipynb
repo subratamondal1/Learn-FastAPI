{
 "cells": [
  {
   "cell_type": "markdown",
   "metadata": {},
   "source": [
    "# 2. Working with Data"
   ]
  },
  {
   "cell_type": "markdown",
   "metadata": {},
   "source": [
    "**SQL Alchemy:** acts as the **bridge** between your **Python Code** and the **Database**, allowing you to interact with the database using Python Classes and Objects rather than **Raw SQL**."
   ]
  },
  {
   "cell_type": "markdown",
   "metadata": {},
   "source": [
    "## 1. Define a Base Class\n",
    "```python\n",
    "from sqlalchemy.orm import DeclarativeBase\n",
    "```\n",
    "This line imports `DeclarativeBase` from SQLAlchemy's ORM (Object Relational Mapper). `DeclarativeBase` is a new feature in SQLAlchemy 2.0 that provides a base for declarative class definitions.\n",
    "\n",
    "```python\n",
    "class Base(DeclarativeBase):\n",
    "    pass\n",
    "```\n",
    "This defines a new class `Base` that inherits from `DeclarativeBase`. This `Base` class will serve as the base class for all your SQLAlchemy models.\n",
    "\n",
    "The `pass` statement is used because we're not adding any additional methods or attributes to the `Base` class. We're simply creating it as a subclass of `DeclarativeBase`.\n",
    "\n",
    "Key points to understand:\n",
    "\n",
    "1. In previous versions of SQLAlchemy, you would typically use `declarative_base()` to create a base class. In SQLAlchemy 2.0, `DeclarativeBase` is the recommended way to create a declarative base class.\n",
    "\n",
    "2. This `Base` class will be used as the **parent class** for all your **model classes**. For example:\n",
    "\n",
    "   ```python\n",
    "   class User(Base):\n",
    "       __tablename__ = 'users'\n",
    "       id: Mapped[int] = mapped_column(primary_key=True)\n",
    "       name: Mapped[str]\n",
    "   ```\n",
    "\n",
    "3. By inheriting from this `Base` class, your model classes gain all the functionality provided by SQLAlchemy's ORM, including the ability to interact with database tables.\n",
    "\n",
    "4. This approach allows for better type checking and IDE auto-completion support compared to the older `declarative_base()` function.\n",
    "\n",
    "5. In a typical FastAPI + SQLAlchemy application, you would define this `Base` class in a separate file (often named `database.py` or `models/__init__.py`), and then import it in your model definition files."
   ]
  },
  {
   "cell_type": "code",
   "execution_count": 3,
   "metadata": {},
   "outputs": [],
   "source": [
    "from sqlalchemy.orm import DeclarativeBase\n",
    "\n",
    "\n",
    "class Base(DeclarativeBase):\n",
    "    pass\n"
   ]
  },
  {
   "cell_type": "markdown",
   "metadata": {},
   "source": [
    "## 2. Create a Model Class"
   ]
  },
  {
   "cell_type": "markdown",
   "metadata": {},
   "source": [
    "```python\n",
    "from sqlalchemy.orm import Mapped, mapped_column\n",
    "```\n",
    "This line imports `Mapped` and `mapped_column` from SQLAlchemy's ORM (Object Relational Mapper). These are used for type annotations and column definitions in SQLAlchemy 2.0+.\n",
    "\n",
    "```python\n",
    "class User(Base):\n",
    "```\n",
    "This defines a new class `User` that inherits from `Base`. `Base` is typically a declarative base class created elsewhere in your code using `declarative_base()` from SQLAlchemy.\n",
    "\n",
    "```python\n",
    "    __tablename__: str = \"user\"\n",
    "```\n",
    "This line specifies the name of the database table that this model corresponds to. In this case, the table name is \"user\".\n",
    "\n",
    "```python\n",
    "    id: Mapped[int] = mapped_column(primary_key=True)\n",
    "```\n",
    "This line defines the `id` column:\n",
    "- `Mapped[int]` indicates that this column will contain integer values.\n",
    "- `mapped_column(primary_key=True)` specifies that this is the primary key column for the table.\n",
    "\n",
    "```python\n",
    "    name: Mapped[str]\n",
    "    email: Mapped[str]\n",
    "```\n",
    "These lines define `name` and `email` columns:\n",
    "- `Mapped[str]` indicates that these columns will contain string values.\n",
    "- By default, these columns will be `NOT NULL` (required) and have no other constraints.\n",
    "\n",
    "Key points to understand:\n",
    "\n",
    "1. `Mapped[]` is used for type hinting. It tells SQLAlchemy (and your IDE) what type of data each column will contain.\n",
    "\n",
    "2. `mapped_column()` is used to specify additional details about a column, such as if it's a primary key, has a default value, etc. If you don't need to specify any additional details, you can omit it as seen with `name` and `email`.\n",
    "\n",
    "3. This model definition creates a mapping between a Python class and a database table. Each instance of the `User` class will represent a row in the \"user\" table.\n",
    "\n",
    "4. In a FastAPI application, you would typically use this model in conjunction with Pydantic models for request/response schemas, and SQLAlchemy sessions for database operations."
   ]
  },
  {
   "cell_type": "code",
   "execution_count": 5,
   "metadata": {},
   "outputs": [],
   "source": [
    "from sqlalchemy.orm import Mapped, mapped_column\n",
    "\n",
    "\n",
    "class User(Base):\n",
    "    __tablename__: str = \"user\"\n",
    "    id: Mapped[int] = mapped_column(primary_key=True)\n",
    "    name: Mapped[str]\n",
    "    email: Mapped[str]"
   ]
  },
  {
   "cell_type": "markdown",
   "metadata": {},
   "source": [
    "## 3. Connect to the Database and Create Tables"
   ]
  },
  {
   "cell_type": "code",
   "execution_count": null,
   "metadata": {},
   "outputs": [],
   "source": []
  }
 ],
 "metadata": {
  "kernelspec": {
   "display_name": "learn-fastapi-9ibX4H3i-py3.12",
   "language": "python",
   "name": "python3"
  },
  "language_info": {
   "codemirror_mode": {
    "name": "ipython",
    "version": 3
   },
   "file_extension": ".py",
   "mimetype": "text/x-python",
   "name": "python",
   "nbconvert_exporter": "python",
   "pygments_lexer": "ipython3",
   "version": "3.12.5"
  }
 },
 "nbformat": 4,
 "nbformat_minor": 2
}
