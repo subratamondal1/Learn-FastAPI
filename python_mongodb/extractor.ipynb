{
 "cells": [
  {
   "cell_type": "markdown",
   "metadata": {},
   "source": [
    "# Extractor"
   ]
  },
  {
   "cell_type": "markdown",
   "metadata": {},
   "source": [
    "## Extract Text Blocks using ****"
   ]
  },
  {
   "cell_type": "code",
   "execution_count": 178,
   "metadata": {},
   "outputs": [],
   "source": [
    "from docx import Document\n",
    "import re"
   ]
  },
  {
   "cell_type": "code",
   "execution_count": 179,
   "metadata": {},
   "outputs": [],
   "source": [
    "text_blocks: dict = {}"
   ]
  },
  {
   "cell_type": "code",
   "execution_count": 180,
   "metadata": {},
   "outputs": [],
   "source": [
    "file_path = \"CA-P1-M1-C1-U1-Theory.docx\""
   ]
  },
  {
   "cell_type": "code",
   "execution_count": 181,
   "metadata": {},
   "outputs": [
    {
     "data": {
      "text/plain": [
       "['_Document__body',\n",
       " '__class__',\n",
       " '__delattr__',\n",
       " '__dict__',\n",
       " '__dir__',\n",
       " '__doc__',\n",
       " '__eq__',\n",
       " '__format__',\n",
       " '__ge__',\n",
       " '__getattribute__',\n",
       " '__getstate__',\n",
       " '__gt__',\n",
       " '__hash__',\n",
       " '__init__',\n",
       " '__init_subclass__',\n",
       " '__le__',\n",
       " '__lt__',\n",
       " '__module__',\n",
       " '__ne__',\n",
       " '__new__',\n",
       " '__reduce__',\n",
       " '__reduce_ex__',\n",
       " '__repr__',\n",
       " '__setattr__',\n",
       " '__sizeof__',\n",
       " '__str__',\n",
       " '__subclasshook__',\n",
       " '__weakref__',\n",
       " '_block_width',\n",
       " '_body',\n",
       " '_element',\n",
       " '_parent',\n",
       " '_part',\n",
       " 'add_heading',\n",
       " 'add_page_break',\n",
       " 'add_paragraph',\n",
       " 'add_picture',\n",
       " 'add_section',\n",
       " 'add_table',\n",
       " 'core_properties',\n",
       " 'element',\n",
       " 'inline_shapes',\n",
       " 'iter_inner_content',\n",
       " 'paragraphs',\n",
       " 'part',\n",
       " 'save',\n",
       " 'sections',\n",
       " 'settings',\n",
       " 'styles',\n",
       " 'tables']"
      ]
     },
     "execution_count": 181,
     "metadata": {},
     "output_type": "execute_result"
    }
   ],
   "source": [
    "dir(Document())"
   ]
  },
  {
   "cell_type": "code",
   "execution_count": 182,
   "metadata": {},
   "outputs": [
    {
     "name": "stdout",
     "output_type": "stream",
     "text": [
      "Help on function Document in module docx.api:\n",
      "\n",
      "Document(docx: 'str | IO[bytes] | None' = None) -> 'DocumentObject'\n",
      "    Return a |Document| object loaded from `docx`, where `docx` can be either a path\n",
      "    to a ``.docx`` file (a string) or a file-like object.\n",
      "\n",
      "    If `docx` is missing or ``None``, the built-in default document \"template\" is\n",
      "    loaded.\n",
      "\n"
     ]
    }
   ],
   "source": [
    "help(request=Document)"
   ]
  },
  {
   "cell_type": "code",
   "execution_count": 183,
   "metadata": {},
   "outputs": [],
   "source": [
    "doc: Document = Document(docx=file_path)"
   ]
  },
  {
   "cell_type": "code",
   "execution_count": 184,
   "metadata": {},
   "outputs": [
    {
     "data": {
      "text/plain": [
       "docx.section.Sections"
      ]
     },
     "execution_count": 184,
     "metadata": {},
     "output_type": "execute_result"
    }
   ],
   "source": [
    "sections = doc.sections\n",
    "type(sections)"
   ]
  },
  {
   "cell_type": "code",
   "execution_count": 185,
   "metadata": {},
   "outputs": [
    {
     "data": {
      "text/plain": [
       "'UNIT - 1 MEANING AND SCOPE OF ACCOUNTING'"
      ]
     },
     "execution_count": 185,
     "metadata": {},
     "output_type": "execute_result"
    }
   ],
   "source": [
    "doc.paragraphs[0].text"
   ]
  },
  {
   "cell_type": "code",
   "execution_count": 186,
   "metadata": {},
   "outputs": [
    {
     "data": {
      "text/plain": [
       "[<docx.text.paragraph.Paragraph at 0x10acee750>,\n",
       " <docx.text.paragraph.Paragraph at 0x10acee990>,\n",
       " <docx.text.paragraph.Paragraph at 0x10acee960>,\n",
       " <docx.text.paragraph.Paragraph at 0x10acee7e0>,\n",
       " <docx.text.paragraph.Paragraph at 0x10aced6d0>,\n",
       " <docx.text.paragraph.Paragraph at 0x10aced130>,\n",
       " <docx.text.paragraph.Paragraph at 0x10aced520>,\n",
       " <docx.text.paragraph.Paragraph at 0x10aced5b0>,\n",
       " <docx.text.paragraph.Paragraph at 0x10aced760>,\n",
       " <docx.text.paragraph.Paragraph at 0x10acee4e0>,\n",
       " <docx.text.paragraph.Paragraph at 0x10aced5e0>,\n",
       " <docx.text.paragraph.Paragraph at 0x10acecf20>,\n",
       " <docx.text.paragraph.Paragraph at 0x10acee060>,\n",
       " <docx.text.paragraph.Paragraph at 0x10acecfb0>,\n",
       " <docx.text.paragraph.Paragraph at 0x10aced970>,\n",
       " <docx.text.paragraph.Paragraph at 0x10acee330>,\n",
       " <docx.text.paragraph.Paragraph at 0x10acee930>,\n",
       " <docx.text.paragraph.Paragraph at 0x10aced550>,\n",
       " <docx.text.paragraph.Paragraph at 0x10aced9a0>,\n",
       " <docx.text.paragraph.Paragraph at 0x10acedfd0>,\n",
       " <docx.text.paragraph.Paragraph at 0x10acefa40>,\n",
       " <docx.text.paragraph.Paragraph at 0x10acedbe0>,\n",
       " <docx.text.paragraph.Paragraph at 0x10aceeff0>,\n",
       " <docx.text.paragraph.Paragraph at 0x10acefef0>,\n",
       " <docx.text.paragraph.Paragraph at 0x10aceff50>,\n",
       " <docx.text.paragraph.Paragraph at 0x10acede50>,\n",
       " <docx.text.paragraph.Paragraph at 0x10acedfa0>,\n",
       " <docx.text.paragraph.Paragraph at 0x10acefe90>,\n",
       " <docx.text.paragraph.Paragraph at 0x10acefec0>,\n",
       " <docx.text.paragraph.Paragraph at 0x10acefd70>,\n",
       " <docx.text.paragraph.Paragraph at 0x10aceff20>,\n",
       " <docx.text.paragraph.Paragraph at 0x10acefdd0>,\n",
       " <docx.text.paragraph.Paragraph at 0x10aceffb0>,\n",
       " <docx.text.paragraph.Paragraph at 0x10aceef60>,\n",
       " <docx.text.paragraph.Paragraph at 0x10aceeae0>,\n",
       " <docx.text.paragraph.Paragraph at 0x10aceecc0>,\n",
       " <docx.text.paragraph.Paragraph at 0x10acefd10>,\n",
       " <docx.text.paragraph.Paragraph at 0x10acef080>,\n",
       " <docx.text.paragraph.Paragraph at 0x10aceeb70>,\n",
       " <docx.text.paragraph.Paragraph at 0x10aceeea0>,\n",
       " <docx.text.paragraph.Paragraph at 0x10aceeab0>,\n",
       " <docx.text.paragraph.Paragraph at 0x10aceef90>,\n",
       " <docx.text.paragraph.Paragraph at 0x10aceeb40>,\n",
       " <docx.text.paragraph.Paragraph at 0x10aceedb0>,\n",
       " <docx.text.paragraph.Paragraph at 0x10acef140>,\n",
       " <docx.text.paragraph.Paragraph at 0x10acef110>,\n",
       " <docx.text.paragraph.Paragraph at 0x10aceec00>,\n",
       " <docx.text.paragraph.Paragraph at 0x10acef1a0>,\n",
       " <docx.text.paragraph.Paragraph at 0x10aceec90>,\n",
       " <docx.text.paragraph.Paragraph at 0x10acef170>,\n",
       " <docx.text.paragraph.Paragraph at 0x10acef260>,\n",
       " <docx.text.paragraph.Paragraph at 0x10acef6e0>,\n",
       " <docx.text.paragraph.Paragraph at 0x10acef650>,\n",
       " <docx.text.paragraph.Paragraph at 0x10acef320>,\n",
       " <docx.text.paragraph.Paragraph at 0x10acef680>,\n",
       " <docx.text.paragraph.Paragraph at 0x10aceed20>,\n",
       " <docx.text.paragraph.Paragraph at 0x10acef740>,\n",
       " <docx.text.paragraph.Paragraph at 0x10aceee40>,\n",
       " <docx.text.paragraph.Paragraph at 0x10acef8c0>,\n",
       " <docx.text.paragraph.Paragraph at 0x10acef890>,\n",
       " <docx.text.paragraph.Paragraph at 0x10acef8f0>,\n",
       " <docx.text.paragraph.Paragraph at 0x10acef920>,\n",
       " <docx.text.paragraph.Paragraph at 0x10acef800>,\n",
       " <docx.text.paragraph.Paragraph at 0x10acef470>,\n",
       " <docx.text.paragraph.Paragraph at 0x10acef4d0>,\n",
       " <docx.text.paragraph.Paragraph at 0x10acef9e0>,\n",
       " <docx.text.paragraph.Paragraph at 0x10acef440>,\n",
       " <docx.text.paragraph.Paragraph at 0x10acef4a0>,\n",
       " <docx.text.paragraph.Paragraph at 0x10acef5c0>,\n",
       " <docx.text.paragraph.Paragraph at 0x10acef290>,\n",
       " <docx.text.paragraph.Paragraph at 0x10acef500>,\n",
       " <docx.text.paragraph.Paragraph at 0x10acefbc0>,\n",
       " <docx.text.paragraph.Paragraph at 0x10acefc20>,\n",
       " <docx.text.paragraph.Paragraph at 0x10acef6b0>,\n",
       " <docx.text.paragraph.Paragraph at 0x10acefb30>,\n",
       " <docx.text.paragraph.Paragraph at 0x10aa4f8f0>,\n",
       " <docx.text.paragraph.Paragraph at 0x10aa4f410>,\n",
       " <docx.text.paragraph.Paragraph at 0x10aa4fec0>,\n",
       " <docx.text.paragraph.Paragraph at 0x10aa4ff80>,\n",
       " <docx.text.paragraph.Paragraph at 0x10aa4f170>,\n",
       " <docx.text.paragraph.Paragraph at 0x10aa4f980>,\n",
       " <docx.text.paragraph.Paragraph at 0x10aa4f620>,\n",
       " <docx.text.paragraph.Paragraph at 0x10aa4fa40>,\n",
       " <docx.text.paragraph.Paragraph at 0x10acf0110>,\n",
       " <docx.text.paragraph.Paragraph at 0x10acf0050>,\n",
       " <docx.text.paragraph.Paragraph at 0x10acf0200>,\n",
       " <docx.text.paragraph.Paragraph at 0x10acf0170>,\n",
       " <docx.text.paragraph.Paragraph at 0x10acf0230>,\n",
       " <docx.text.paragraph.Paragraph at 0x10acf0470>,\n",
       " <docx.text.paragraph.Paragraph at 0x10acf0320>,\n",
       " <docx.text.paragraph.Paragraph at 0x10acf0080>,\n",
       " <docx.text.paragraph.Paragraph at 0x10acf02c0>,\n",
       " <docx.text.paragraph.Paragraph at 0x10acf0440>,\n",
       " <docx.text.paragraph.Paragraph at 0x10acf0260>,\n",
       " <docx.text.paragraph.Paragraph at 0x10acf0530>,\n",
       " <docx.text.paragraph.Paragraph at 0x10acf03e0>,\n",
       " <docx.text.paragraph.Paragraph at 0x10acf05f0>,\n",
       " <docx.text.paragraph.Paragraph at 0x10acf0290>,\n",
       " <docx.text.paragraph.Paragraph at 0x10acf0830>,\n",
       " <docx.text.paragraph.Paragraph at 0x10acf06b0>,\n",
       " <docx.text.paragraph.Paragraph at 0x10acf0560>,\n",
       " <docx.text.paragraph.Paragraph at 0x10acf0650>,\n",
       " <docx.text.paragraph.Paragraph at 0x10acf0860>,\n",
       " <docx.text.paragraph.Paragraph at 0x10acf0a10>,\n",
       " <docx.text.paragraph.Paragraph at 0x10acf09e0>,\n",
       " <docx.text.paragraph.Paragraph at 0x10acf0a70>,\n",
       " <docx.text.paragraph.Paragraph at 0x10acf0590>,\n",
       " <docx.text.paragraph.Paragraph at 0x10acf08f0>,\n",
       " <docx.text.paragraph.Paragraph at 0x10acf0b90>,\n",
       " <docx.text.paragraph.Paragraph at 0x10acf0c50>,\n",
       " <docx.text.paragraph.Paragraph at 0x10acf0e30>,\n",
       " <docx.text.paragraph.Paragraph at 0x10acf0bc0>,\n",
       " <docx.text.paragraph.Paragraph at 0x10acf0ef0>,\n",
       " <docx.text.paragraph.Paragraph at 0x10acf0620>,\n",
       " <docx.text.paragraph.Paragraph at 0x10acf0da0>,\n",
       " <docx.text.paragraph.Paragraph at 0x10acf1070>,\n",
       " <docx.text.paragraph.Paragraph at 0x10acf0e00>,\n",
       " <docx.text.paragraph.Paragraph at 0x10acf0fe0>,\n",
       " <docx.text.paragraph.Paragraph at 0x10acf1190>,\n",
       " <docx.text.paragraph.Paragraph at 0x10acf1100>,\n",
       " <docx.text.paragraph.Paragraph at 0x10acf09b0>,\n",
       " <docx.text.paragraph.Paragraph at 0x10acf0d40>,\n",
       " <docx.text.paragraph.Paragraph at 0x10acf0f80>,\n",
       " <docx.text.paragraph.Paragraph at 0x10acf0ec0>,\n",
       " <docx.text.paragraph.Paragraph at 0x10acf1670>,\n",
       " <docx.text.paragraph.Paragraph at 0x10acf1520>,\n",
       " <docx.text.paragraph.Paragraph at 0x10acf0fb0>,\n",
       " <docx.text.paragraph.Paragraph at 0x10acf1640>,\n",
       " <docx.text.paragraph.Paragraph at 0x10acf15b0>,\n",
       " <docx.text.paragraph.Paragraph at 0x10acf18b0>,\n",
       " <docx.text.paragraph.Paragraph at 0x10acf18e0>,\n",
       " <docx.text.paragraph.Paragraph at 0x10acf1220>,\n",
       " <docx.text.paragraph.Paragraph at 0x10acf1730>,\n",
       " <docx.text.paragraph.Paragraph at 0x10acf17f0>,\n",
       " <docx.text.paragraph.Paragraph at 0x10acf1850>,\n",
       " <docx.text.paragraph.Paragraph at 0x10acf1370>,\n",
       " <docx.text.paragraph.Paragraph at 0x10acf1130>,\n",
       " <docx.text.paragraph.Paragraph at 0x10acf17c0>,\n",
       " <docx.text.paragraph.Paragraph at 0x10acf13d0>,\n",
       " <docx.text.paragraph.Paragraph at 0x10acf1430>,\n",
       " <docx.text.paragraph.Paragraph at 0x10acf19d0>,\n",
       " <docx.text.paragraph.Paragraph at 0x10acf1580>,\n",
       " <docx.text.paragraph.Paragraph at 0x10acf19a0>,\n",
       " <docx.text.paragraph.Paragraph at 0x10acf1940>,\n",
       " <docx.text.paragraph.Paragraph at 0x10acf16a0>,\n",
       " <docx.text.paragraph.Paragraph at 0x10acf1970>,\n",
       " <docx.text.paragraph.Paragraph at 0x10acf1b80>,\n",
       " <docx.text.paragraph.Paragraph at 0x10acf1c10>,\n",
       " <docx.text.paragraph.Paragraph at 0x10acf1d60>,\n",
       " <docx.text.paragraph.Paragraph at 0x10acf1ac0>,\n",
       " <docx.text.paragraph.Paragraph at 0x10acf1be0>,\n",
       " <docx.text.paragraph.Paragraph at 0x10acf1c70>,\n",
       " <docx.text.paragraph.Paragraph at 0x10acf1d30>,\n",
       " <docx.text.paragraph.Paragraph at 0x10acf1cd0>,\n",
       " <docx.text.paragraph.Paragraph at 0x10acf1a00>,\n",
       " <docx.text.paragraph.Paragraph at 0x10acf1d90>,\n",
       " <docx.text.paragraph.Paragraph at 0x10acf1df0>,\n",
       " <docx.text.paragraph.Paragraph at 0x10acf1ee0>,\n",
       " <docx.text.paragraph.Paragraph at 0x10acf20c0>,\n",
       " <docx.text.paragraph.Paragraph at 0x10acf1f10>,\n",
       " <docx.text.paragraph.Paragraph at 0x10acf1fa0>,\n",
       " <docx.text.paragraph.Paragraph at 0x10acf21b0>,\n",
       " <docx.text.paragraph.Paragraph at 0x10acf2060>,\n",
       " <docx.text.paragraph.Paragraph at 0x10acf2030>,\n",
       " <docx.text.paragraph.Paragraph at 0x10acf2300>,\n",
       " <docx.text.paragraph.Paragraph at 0x10acf22d0>,\n",
       " <docx.text.paragraph.Paragraph at 0x10acf21e0>,\n",
       " <docx.text.paragraph.Paragraph at 0x10acf2330>,\n",
       " <docx.text.paragraph.Paragraph at 0x10acf2270>,\n",
       " <docx.text.paragraph.Paragraph at 0x10acf2480>,\n",
       " <docx.text.paragraph.Paragraph at 0x10acf2390>,\n",
       " <docx.text.paragraph.Paragraph at 0x10acf23c0>,\n",
       " <docx.text.paragraph.Paragraph at 0x10acf24e0>,\n",
       " <docx.text.paragraph.Paragraph at 0x10acf2540>,\n",
       " <docx.text.paragraph.Paragraph at 0x10acf25a0>,\n",
       " <docx.text.paragraph.Paragraph at 0x10acf2600>,\n",
       " <docx.text.paragraph.Paragraph at 0x10acf26f0>,\n",
       " <docx.text.paragraph.Paragraph at 0x10acf2660>,\n",
       " <docx.text.paragraph.Paragraph at 0x10acf2420>,\n",
       " <docx.text.paragraph.Paragraph at 0x10acf2780>,\n",
       " <docx.text.paragraph.Paragraph at 0x10acf27e0>,\n",
       " <docx.text.paragraph.Paragraph at 0x10acf2840>,\n",
       " <docx.text.paragraph.Paragraph at 0x10acf28a0>,\n",
       " <docx.text.paragraph.Paragraph at 0x10acf29c0>,\n",
       " <docx.text.paragraph.Paragraph at 0x10acf2930>,\n",
       " <docx.text.paragraph.Paragraph at 0x10acf29f0>,\n",
       " <docx.text.paragraph.Paragraph at 0x10acf2ae0>,\n",
       " <docx.text.paragraph.Paragraph at 0x10acf2a50>,\n",
       " <docx.text.paragraph.Paragraph at 0x10acf2ab0>,\n",
       " <docx.text.paragraph.Paragraph at 0x10acf2ba0>,\n",
       " <docx.text.paragraph.Paragraph at 0x10acf2c30>,\n",
       " <docx.text.paragraph.Paragraph at 0x10acf2c00>,\n",
       " <docx.text.paragraph.Paragraph at 0x10acf2cc0>,\n",
       " <docx.text.paragraph.Paragraph at 0x10acf1eb0>,\n",
       " <docx.text.paragraph.Paragraph at 0x10acf2db0>,\n",
       " <docx.text.paragraph.Paragraph at 0x10acf2b10>,\n",
       " <docx.text.paragraph.Paragraph at 0x10acf2d80>,\n",
       " <docx.text.paragraph.Paragraph at 0x10acf2f30>,\n",
       " <docx.text.paragraph.Paragraph at 0x10acf2ea0>,\n",
       " <docx.text.paragraph.Paragraph at 0x10acf2bd0>,\n",
       " <docx.text.paragraph.Paragraph at 0x10acf2fc0>,\n",
       " <docx.text.paragraph.Paragraph at 0x10acf2f90>,\n",
       " <docx.text.paragraph.Paragraph at 0x10acf2e70>,\n",
       " <docx.text.paragraph.Paragraph at 0x10acf3110>,\n",
       " <docx.text.paragraph.Paragraph at 0x10acf3140>,\n",
       " <docx.text.paragraph.Paragraph at 0x10acf2990>,\n",
       " <docx.text.paragraph.Paragraph at 0x10acf30e0>,\n",
       " <docx.text.paragraph.Paragraph at 0x10acf33b0>,\n",
       " <docx.text.paragraph.Paragraph at 0x10acf3170>,\n",
       " <docx.text.paragraph.Paragraph at 0x10acf3230>,\n",
       " <docx.text.paragraph.Paragraph at 0x10acf32f0>,\n",
       " <docx.text.paragraph.Paragraph at 0x10acf3380>,\n",
       " <docx.text.paragraph.Paragraph at 0x10acf3500>,\n",
       " <docx.text.paragraph.Paragraph at 0x10acf3530>,\n",
       " <docx.text.paragraph.Paragraph at 0x10acf3590>,\n",
       " <docx.text.paragraph.Paragraph at 0x10acf3560>,\n",
       " <docx.text.paragraph.Paragraph at 0x10acf3650>,\n",
       " <docx.text.paragraph.Paragraph at 0x10acf3620>,\n",
       " <docx.text.paragraph.Paragraph at 0x10acf3800>,\n",
       " <docx.text.paragraph.Paragraph at 0x10acf3830>,\n",
       " <docx.text.paragraph.Paragraph at 0x10acf38c0>,\n",
       " <docx.text.paragraph.Paragraph at 0x10acf37a0>,\n",
       " <docx.text.paragraph.Paragraph at 0x10acf3950>,\n",
       " <docx.text.paragraph.Paragraph at 0x10acf3920>,\n",
       " <docx.text.paragraph.Paragraph at 0x10acf39b0>]"
      ]
     },
     "execution_count": 186,
     "metadata": {},
     "output_type": "execute_result"
    }
   ],
   "source": [
    "list(doc.paragraphs)"
   ]
  },
  {
   "cell_type": "code",
   "execution_count": 187,
   "metadata": {},
   "outputs": [],
   "source": [
    "paragraphs: list = []\n",
    "for paragraph in doc.paragraphs:\n",
    "    paragraphs.append(paragraph.text)"
   ]
  },
  {
   "cell_type": "code",
   "execution_count": 188,
   "metadata": {},
   "outputs": [
    {
     "data": {
      "text/plain": [
       "225"
      ]
     },
     "execution_count": 188,
     "metadata": {},
     "output_type": "execute_result"
    }
   ],
   "source": [
    "len(paragraphs)"
   ]
  },
  {
   "cell_type": "code",
   "execution_count": 189,
   "metadata": {},
   "outputs": [
    {
     "data": {
      "text/plain": [
       "'UNIT - 1 MEANING AND SCOPE OF ACCOUNTING'"
      ]
     },
     "execution_count": 189,
     "metadata": {},
     "output_type": "execute_result"
    }
   ],
   "source": [
    "paragraphs[0]"
   ]
  },
  {
   "cell_type": "code",
   "execution_count": 190,
   "metadata": {},
   "outputs": [],
   "source": [
    "def extract_text_blocks(file_path) -> dict:\n",
    "    \"\"\"\n",
    "    Extracts text blocks from a .docx file separated by '****' delimiters.\n",
    "\n",
    "    Args:\n",
    "        file_path (str): The path to the .docx file.\n",
    "\n",
    "    Returns:\n",
    "        dict: A dictionary containing the extracted text blocks.\n",
    "    \"\"\"\n",
    "\n",
    "    # Initialize an empty dictionary to store the extracted text blocks\n",
    "    text_blocks: dict = {}\n",
    "\n",
    "    # Open the .docx file\n",
    "    doc: Document = Document(docx=file_path)\n",
    "\n",
    "    # Extract the text from the .docx file\n",
    "    full_text: list = []\n",
    "    for para in doc.paragraphs:\n",
    "        full_text.append(para.text)\n",
    "\n",
    "    # Join the extracted text into a single string\n",
    "    full_text = \"\\n\".join(full_text)\n",
    "\n",
    "    # Split the full text into blocks based on the '****' delimiter\n",
    "    blocks = full_text.split(\"****\")\n",
    "\n",
    "    # The first block is the title\n",
    "    text_blocks[\"title\"] = blocks[0].strip()\n",
    "\n",
    "    # Process the remaining blocks\n",
    "    for i in range(1, len(blocks), 2):\n",
    "        # Split the block text by newline and get the first line\n",
    "        first_line = blocks[i].strip().split(\"\\n\")[0][:50]\n",
    "\n",
    "        # Ensure the key starts with a digit, otherwise skip non-digit characters\n",
    "        key: str = re.sub(pattern=r\"^\\D+\", repl=\"\", string=first_line).strip()\n",
    "\n",
    "        # The value is the block itself\n",
    "        value = blocks[i].strip()\n",
    "        # Add the key-value pair to the dictionary\n",
    "        if key:  # Only add if key is not empty\n",
    "            text_blocks[key] = value\n",
    "\n",
    "    return text_blocks"
   ]
  },
  {
   "cell_type": "code",
   "execution_count": 191,
   "metadata": {},
   "outputs": [
    {
     "name": "stdout",
     "output_type": "stream",
     "text": [
      "{'title': 'UNIT - 1 MEANING AND SCOPE OF ACCOUNTING', '1.1 INTRODUCTION': \"O) 1.1 INTRODUCTION\\nEvery individual performs some kind of economic activity. A salaried person gets salary and spends to buy provisions and clothing, for children's education, construction of house, etc. A sports club formed by a group of individuals, a business run by an individual or a group of individuals, a company running a business in telecom sector, a local authority like Calcutta Municipal Corporation, Delhi Development Authority, Governments, either Central or State, all are carrying some kind of economic activities. Not necessarily all the economic activities are run for any individual benefit; such economic activities may create social benefit i.e. benefit for the public, at large. Anyway, such economic activities are performed through 'transactions and events'. Transaction is used to mean 'a business, performance of an act, an agreement' while event is used to mean 'a happening, as a consequence of transaction(s), a result.'\\nExample 1\\nAn individual invests ₹ 2,00,000 for running a stationery business. On 1st January, he purchases goods for  and sells for  during the month of January. He pays shop rent for the month  and finds that still he has goods worth  in hand. The individual performs an economic activity. He carries on a few transactions and encounters with some events. Is it not logical that he will want to know the result of his activity?\\nWe see that the individual, who runs the stationery business, earns a surplus of ₹ 42,000.\\n\\nEarning of ₹ 42,000 surplus is an event; also having the inventories in hand is another event, while purchase and sale of goods, investment of money and payment of rent are transactions.\\nSimilarly, a municipal corporation got government grant ₹ 500 lakhs for adult education; it spent ₹ 250 lakhs for purchasing literacy kits, paid ₹ 200 lakhs to the tutors and is left with a balance of ₹ 50 lakhs. These are also transactions and events.\\nSimilarly, the Central Government raised money through taxes, paid salaries to the employees, and spent on various developmental activities. Whenever receipts of the Government are more than expenses it has surplus, but if expenses are more than receipts it runs in deficit. Here raising money through various sources can be termed as transaction and surplus or deficit at the end of the accounting year can be termed as an event.\\nA telecom company would need to ensure that it is providing the services for its millions of users for post-paid and pre-paid connections. Each activity done by a user (call, message, data usage) results into an economic event. The entity needs to keep appropriate and timely records to be able to collect money from post-paid connection users for the services availed by them. Likewise, the company will need to ensure that pre-paid connection customers are provided the support and the records confirm how much balance still remains to be utilized.\\nSo, everybody wants to keep records of all transactions and events and to have adequate information about the economic activity as an aid to decision-making. Accounting discipline has been developed to serve this purpose as it deals with the measurement of economic\\nactivities involving inflow and outflow of economic resources, which helps to develop useful information for decision-making process.\\nAccounting has universal application for recording transactions and events and presenting suitable information to aid decision-making regarding any type of economic activity ranging from a family function to functions of the national government. But hereinafter we shall concentrate only on business activities and their accounting because the objective of this study material is to provide a basic understanding on accounting for business activities. Nevertheless, it will give adequate knowledge to think coherently of accounting as a field of study for universal application.\\nThe growth of accounting discipline is closely associated with the development of the business world. Thus, to understand accounting as a field of study for universal application, it is best identified with recording of business transactions and communication of financial information about business enterprise to facilitate decision-making. The aim of accounting is to meet the information needs of the rational and sound decision- makers, and thus, called the language of business.\", '1.2.1 Procedural aspects of Accounting': '1.2.1 Procedural aspects of Accounting\\nOn the basis of the above definitions, procedure of accounting can be basically divided into two parts:\\n(i) Generating financial information and\\n(ii) Using the financial information.\\nGenerating Financial Information\\nRecording - This is the basic function of accounting. All business transactions of a financial character, as evidenced by some documents such as sales bill, pass book, salary slip etc. are recorded in the books of account. Recording is done in a book called \"Journal.\" This book may further be divided into several subsidiary books according to the nature and size of the business. Students will learn how to prepare journal and various subsidiary books in chapter 2.\\nClassifying - Classification is concerned with the systematic analysis of the recorded data, with a view to group transactions or entries of one nature at one place so as to put information in compact and usable form. The book containing classified information is called \"Ledger\". This book contains on different pages, individual account heads under which, all financial transactions of similar nature are collected. For example, there may be separate account heads for Salaries, Rent, Printing and Stationeries, Advertisement etc. All expenses under these heads, after being recorded in the Journal, will be classified under separate heads in the Ledger. This will help in finding out the total expenditure incurred under each of the above heads. Students will learn how to prepare ledger books in chapter 2.\\nSummarising - It is concerned with the preparation and presentation of the classified data in a manner useful to the internal as well as the external users of financial statements. This process leads to the preparation of the financial statements.\\nAnalysing - The term \\'Analysis\\' means methodical classification of the data given in the financial statements. The figures given in the financial statements will not help anyone unless they are in a simplified form. For example, all items relating to fixed assets are put at one place while all items relating to current assets are put at another place. It is concerned with the establishment of relationship between the items of the Profit and Loss Account and Balance Sheet i.e. it provides the basis for interpretation. Students will learn this aspect of financial statements in the later stages of the Chartered Accountancy Course.\\nInterpreting - This is the final function of accounting. It is concerned with explaining the meaning and significance of the relationship as established by the analysis of accounting data. The recorded financial data is analysed and interpreted in a manner that will\\nenable the end-users to make a meaningful judgement about the financial condition and profitability of the business operations. The financial statement should explain not only what had happened but also why it happened and what is likely to happen under specified conditions.\\nCommunicating - It is concerned with the transmission of summarised, analysed and interpreted information to the end-users to enable them to make rational decisions. This is done through preparation and distribution of accounting reports, which include besides the usual profit and loss account and the balance sheet, additional information in the form of accounting ratios, graphs, diagrams, fund flow statements etc. Students will learn this aspect of financial statements in the later stages of the Chartered Accountancy Course.\\nThe first two procedural stages of the process of generating financial information along with the preparation of trial balance are covered under book-keeping while the preparation of financial statements and its analysis, interpretation and also its communication to the various users are considered as accounting stages. Students will learn the term book-keeping and its distinction with accounting, in the coming topics of this unit.', '1.3 EVOLUTION OF ACCOUNTING AS A SOCIAL SCIENCE': \"1.3 EVOLUTION OF ACCOUNTING AS A SOCIAL SCIENCE\\nHistory & Development of Accounting\\nAccounting finds its roots as early as around 4000 BC, where Egyptians used some form of accounting for their treasuries. The in-charge of treasuries had to send day wise reports to their superiors known as Wazirs and monthly reports were sent to kings. Babylonia, known as the city of commerce, used accounting for business to identify the losses that took place due to frauds and lack of efficiency. Greece used accounting to divide the revenues received among treasuries, maintaining receipts, payments and balance of government financial transactions. Romans used memorandum or daybook where in receipts and payments were recorded. (700 B.C to 400 A.D).\\nChina used sophisticated form of government accounting as early as 2000 B.C. Accounting practices in India could be traced back to a period where, Kautilya, a minister in Chandragupta's kingdom wrote a book named Arthashasthra, which also described how accounting records had to be maintained.\\nLuca Pacioli's, a Franciscan friar (merchant class), book Summa de Arithmetica, Geometria, Proportion at Proportionality (Review of Arithmetic and Geometric proportions) in Venice (1494) is considered as the first book on double entry bookkeeping. A portion of this book contains knowledge of business and book-keeping. He used the terms Debit (Dr.) and Credit (Cr.) in his books. These were the concepts used in Italian terminology. Debit comes from the Italian debito which comes from the Latin debita and debeo which means owed to the proprietor. Credit comes from the Italian credito which comes from the Latin 'credo' which means trust or belief (in the proprietor or owed by the proprietor.\\nIn explaining double entry system, Pacioli wrote that 'All entries... have to be double entries, that is if you make one creditor, you must make some debtor'. He also mentioned that a merchant's responsibility is to give glory to God in their enterprises, to be ethical in all business activities and to earn a profit. He discussed the details of memorandum, journal, ledger and specialised accounting procedures.\\nIn its oldest form, accounting aided the stewards to discharge their stewardship function. The wealthy men employed stewards to manage their property; the stewards in turn rendered an account periodically of their stewardship. This 'Stewardship Accounting' was the root of financial accounting system. Although double-entry system was followed, 'stewardship accounting' served the purpose of businessmen and wealthy persons at that time. In most of the countries, stewardship accounting was prevalent till the emergence of large-scale enterprises in the form of public limited companies.\\nIn the second phase, the idea of financial accounting emerged with the concept of joint stock company and divorce of ownership from the management. To safeguard the interest of the shareholders and investors, disclosure of financial statements (mainly, profit and loss account and balance sheet) and other accounting information was moulded by law. Financial statements give periodic performance report by way of profit and loss account and financial position at the end of the period by way of Balance Sheet. It got the legal status due to changing relationships between the owners, economic entity and the managers. With the democratisation of society, the relationships between the enterprise on the one hand, the investors, employees, managers and governments on the other, have also undergone a seachange. Also, the prospective investors and other business contact groups want to know a lot about the business before entering into transactions. Thus, financial accounting emerged as an information system to identify, measure and communicate useful information for informed judgements and decisions by a broad group of users. In the third phase, accounting information was generated to aid management decision- making in particular. It contributed a lot to improve the quality of management decisions. This new dimension of accounting is called Management Accounting and it is the development of 20th Century only. It is pervasive enough to cover all spheres of management decisions.\\nLastly, Social Responsibility Accounting is in the formative process, which aims at accounting for the social cost incurred by business as well as the social benefit, created by it. It emerges from the growing social awareness about the undesirable by-products of economic activities. While earning profit, an enterprise incurs numerous social costs like pollution, using the resources of society like materials, land, labour etc. To compensate for this social cost, in today's world, an enterprise is expected to generate some social benefits also like employment opportunities, recreation activities, more choice to customers at reasonable price, better quality products etc. Therefore, it is demanded that the accounting system should produce a report measuring the social cost incurred and social benefits generated.\\nSocial Science study man as a member of society; they concern about social processes and the results and consequences of social relationships. The usefulness of accounting to society as a whole is the fundamental criterion to treat it as a social science. Although individuals may\\nbenefit from the availability of accounting information, the accounting system generates information for social good. It serves social purpose, it contributes for social progress; also it is being adapted to keep pace with social progress. So, accounting is treated as a social science.\", '1.5 FUNCTIONS OF ACCOUNTING': '1.5 FUNCTIONS OF ACCOUNTING\\nThe main functions of accounting are as follows:\\n(a) Measurement: Accounting measures past performance of the business entity and depicts its current financial position.\\n(b) Forecasting: Accounting helps in forecasting future performance and financial position of the enterprise using past data and analysing trends.\\n(c) Decision-making: Accounting provides relevant information to the users of accounts to aid rational decision-making.\\n(d) Comparison & Evaluation: Accounting assesses performance achieved in relation to targets and discloses information regarding accounting policies and contingent liabilities which play an important role in predicting, comparing and evaluating the financial results.\\n(e) Control: Accounting also identifies weaknesses of the operational system and provides feedbacks regarding effectiveness of measures adopted to check such weaknesses.\\n(f) Government Regulation and Taxation: Accounting provides necessary information to the government to exercise control on the entity as well as in collection of tax revenues.', '1.6.1 Objectives of Book-keeping': '1.6.1 Objectives of Book-keeping\\nComplete Recording of Transactions - It is concerned with complete and permanent record of all transactions in a systematic and logical manner to show its financial effect on the business.\\nAscertainment of financial Effect on the Business - It is concerned with the combined effect of all the transactions made during the accounting period upon the financial position of the business as a whole.', '1.8 SUB-FIELDS OF ACCOUNTING': '1.8 SUB-FIELDS OF ACCOUNTING\\nThe various sub-fields of accounting are:\\n(i) Financial Accounting - It covers the preparation and interpretation of financial statements and communication to the users of accounts. It is historical in nature as it records transactions which had already been occurred. The final step of financial accounting is the preparation of Profit and Loss Account and the Balance Sheet. It primarily helps in determination of the net result for an accounting period and the financial position as on the given date.\\n(ii) Management Accounting - It is concerned with internal reporting to the managers of a business unit. To discharge the functions of stewardship, planning, control and decision- making, the management needs variety of information. The different ways of grouping information and preparing reports as desired by managers for discharging their functions are referred to as management accounting. A very important component of the management accounting is cost accounting which deals with cost ascertainment and cost control. Management Accounting will be dealt with at higher levels of the Chartered Accountancy Course.\\n(iii) Cost Accounting - The terminology of Cost Accounting published by the Institute of Cost and Management Accountants of England defines cost accounting as:\\n\"the process of accounting for cost which begins with the recording of income and expenditure or the bases on which they are calculated and ends with the preparation of periodical statements and reports for ascertaining and controlling costs.\"\\n(iv) Social Responsibility Accounting - The demand for social responsibility accounting stems from increasing social awareness about the undesirable by-products of economic activities. As already discussed earlier, social responsibility accounting is concerned with accounting for social costs incurred by the enterprise and social benefits created.\\n(v) Human Resource Accounting - Human resource accounting is an attempt to identify, quantify and report investments made in human resources of an organisation that are not presently accounted for under conventional accounting practice.', '1.10 RELATIONSHIP OF ACCOUNTING WITH OTHER DISCIPL': \"1.10 RELATIONSHIP OF ACCOUNTING WITH OTHER DISCIPLINES\\nAccounting is closely related with several other disciplines and thus to acquire a good knowledge in accounting one should be conversant with the relevant portions of such disciplines. In many cases they overlap accounting. The accountant should have a working knowledge of the related disciplines so that he can understand such overlapping areas and apply the knowledge of other disciplines in his own work wherever possible, or he can take the expert advice.\\n(a) Accounting and Economics: Economics is viewed as a science of rational decisionmaking about the use of scarce resources. It is concerned with the analysis of efficient use of scarce resources for satisfying human wants. This may be viewed either from the perspective of a single firm or of the country as a whole.\\nAccounting is viewed as a system, which provides data to the users to permit informed judgement and decisions. Some non-accounting data are also relevant for decisionmaking.\\nAccounting overlaps economics in many respects. It contributed a lot in improving the management decision-making process. But, economic theories influenced the development of the decision-making tools used in accounting.\\nHowever, there exists a wide gulf between economists' and accountants' concepts of income and capital. Accountants got the ideas of value, income and capital maintenance from economists, but brushed suitably to make them usable in practical circumstances. Accountants developed the valuation, measurement and decisionmaking techniques which may owe to the economic theorems for origin but these are moulded in the work environment and suitably tempered with reference to relevance, verifiability, freedom from bias, timeliness, comparability, reliability and understandability.\\nAn example may be given to explain the nexus between accounting and economics. Economists think that value of an asset is the present value of all future earnings which can be derived from such assets. Now think about a plant whose working life is more than one hundred years. How can you estimate future stream of earnings? So accountants developed the workable valuation base - the acquisition cost i.e., the price paid to acquire the assets.\\nAt the macro-level, accounting provides the database over which the economic decision models have been developed; micro-level data arranged by the accounting system is summed up to get macro-level database.\\nNon-overlapping zones of accounting are not negligible. Development of the systems of recording, classifying and summarising transactions and events, harmonising the systems by uniform rules and communicating the data is essentially a non-overlapping area of accounting.\\n(b) Accounting and Statistics: The use of statistics in accounting can be appreciated better in the context of the nature of accounting records. Accounting information is very precise; it is exact to the last paisa. But, for decision-making purposes such precision is not necessary and hence, the statistical approximations are sought.\\nIn accounts, all values are important individually because they relate to business transactions. As against this, statistics is concerned with the typical value, behaviour or trend over a period of time or the degree of variation over a series of observations. Therefore, wherever a need arises for only broad generalisations or the average of relationships, statistical methods have to be applied in accounting data.\\nFurther, in accountancy, the classification of assets and liabilities as well as the heads of income and expenditure has been done as per the needs of financial recording to ascertain financial results of various operations. Other types of classification like the geographical and historical ones and ad hoc classification are done depending on the purpose to make such classification meaningful.\\nAccounting records generally take a short-term view of events and are confined to a year while statistical analysis is more useful if a longer view is taken for the purpose. For example, to fit the trend line a longer period will be required. However, statistical methods do use past accounting records maintained on a consistent basis.\\nThe functional relations showing mathematical relations of one variable with one or more other variables are based on statistical work. These relations are used widely in making cost or price estimates for some estimated future values assigned to the given independent variables. For example, given the functional relation of total cost to the price of an input, the effect of changes in future prices on the cost of production can be calculated.\\nIn accountancy, a number of financial and other ratios are based on statistical methods, which help in averaging them over a period of time. Several accounting and financial calculations are based on statistical formulae.\\nStatistical methods are helpful in developing accounting data and in their interpretation. For example, time series and cross-sectional comparison of accounting data is based on statistical techniques. Now- a-days multiple discriminate analysis is popularly used to identify symptoms of sickness of a business firm. Therefore, the study and application of statistical methods would add extra edge to the accounting data.\\n(c) Accounting and Mathematics: Double Entry book-keeping can be converted in algebraic form; in fact the first known book on this subject was part of a treatise on algebra. The fundamental accounting equation will be discussed in detail under 'Dual Aspect Concept' of this chapter.\\nKnowledge of arithmetic and algebra is a pre-requisite for accounting computations and measurements. Calculations of interest and annuity are the examples of such fundamental uses. While computing depreciation, finding out installments in hirepurchase and instalments payment transactions, calculating amount to be set aside for repayment of loan and replacement of assets and calculating lease rentals, mathematical techniques are frequently used. Accounting data are also presented in ratio form.\\nWith the advent of the computer, mathematics is becoming a vital part of accounting. Instead of writing accounts in traditional fashion, the transactions and events can be recorded in the matrix form and the rules of matrix algebra can be applied for classifying and summarising data.\\nNow-a-days statistics and econometric models are largely used for developing decision models for the users of accounts. Also, Operations Research Techniques provide lot of decision models. Since accounting is meant for providing information to the users, to be effective, accounting data should feed the information requirements of such statistical, econometric and operations research models. Understanding mathematics has become a must to grasp the decision models framed by statisticians, econometricians and the O.R. experts.\\nPresently graphs and charts are being extensively used for communicating accounting information. In addition to statistical knowledge, knowledge in geometry and trigonometry seems to be essential to have a better understanding about the accounting communications system.\\n(d) Accounting and Law: An economic entity operates within a legal environment. All transactions with suppliers and customers are governed by the Contract Act, the Sale of Goods Act, the Negotiable Instruments Act, etc. The entity itself is created and controlled by laws. For example, a company is created by the Companies Act and also controlled by Companies Act.\\nSimilarly, every country has a set of economic, fiscal and labour laws. Transactions and events are always guided by laws of the land. Very often the accounting system to be followed has been prescribed by the law. For example, the Companies Act has prescribed the format of financial statements for companies.\\nBanking, insurance and electric supply undertakings may also have to produce financial statements as prescribed by the respective legislations controlling such entities.\\nHowever, legal prescription about the accounting system is the product of developments in accounting knowledge. That is to say, legislation about accounting system cannot be enacted unless there is a corresponding development in the accounting discipline. In that way accounting influences law and is also influenced by law.\\n(e) Accounting and Management: Management is a broad occupational field, which comprises many functions and encompasses application of many disciplines including those mentioned above. Accountants are well placed in the management and play a key role in the management team. A large portion of accounting information is prepared for management decision-making. Although management relies on other data sources, accounting data are used as basic source documents. In the management team, an accountant is in a better position to understand and use such data. In other words, since an accountant plays an active role in management, he understands the data requirements. So the accounting system can be moulded to serve the management purpose.\", '1.12.1 Areas of Service': '1.12.1 Areas of Service\\nThe practice of accountancy has crossed its usual domain of preparation of financial statements, interpretation of such statements and audit thereof. Accountants are presently taking active role in company laws and other corporate legislation matters, in taxation laws matters (both direct and indirect) and in general management problems. Some of the services rendered by accountants to the society are briefly mentioned hereunder:\\n(i) Maintenance of Books of Accounts: An accountant is able to maintain a systematic record of financial transactions in order to establish the net result of the transactions entered into during a period and to state the financial position of the concern as at a particular date.\\nFor the fulfillment of the twin objective of ascertaining the profit earned or loss suffered and the financial position, it is necessary that all transactions be recorded in a systematic manner, which can be done only by an accountant. Proper maintenance of books of accounts assists management in planning, decision-making, controlling functions.\\n(ii) Statutory Audit: Every limited company is required to appoint a chartered accountant or a firm of chartered accountants as their auditor who are statutorily required to report each year whether in their opinion the balance sheet shows a true and fair view of the state of affairs on the balance sheet date, and the profit and loss account shows a true and fair view of the profit or loss for the year.\\nAuditing is not confined to the accounts of companies; other organisations may also have their accounts audited, either because the law so requires (for example, the Co-operative Societies Act, the Income-tax Act, etc.) or because the proprietors wisely decided so (for example, a partnership firm or an individual trader).\\n(iii) Internal Audit: It is a management tool whereby an internal auditor thoroughly examines the accounting transactions and also the system, according to which these have been recorded with a view to ensure the management that the accounts are being properly maintained and the system contains adequate safeguards to check any leakage of revenue or misappropriation of property or assets and the operations have been carried out in conformity with the plans of management.\\nNow-a-days internal auditing has developed as a service to management. The internal auditor constructively contributes in improving the operational efficiency of the business through an independent review and appraisal of all business operations.\\n(iv) Taxation: An accountant can handle taxation matters of a business or a person and he can represent that business or person before the tax authorities and settle the tax liability\\nunder the statute prevailing. He can also assist in avoiding or reducing tax burden by proper planning of tax affairs.\\nAccountants also have a social obligation to express their views on broad tax policy, on the effect of tax rate on business and the economy in general and on all other aspects of taxation in which they have knowledge superior to that of the general public.\\n(v) Management Accounting and Consultancy Services: Management accountant performs an advisory function. He is largely responsible for internal reporting to the management for planning and controlling current operations, decision-making on special matters and for formulating long-range plans. His job is to collect, analyse, interpret and present all accounting information which is useful to the management. Accountant provides management consultancy services in the areas of management information system, expenditure control and evaluation of appraisal techniques for new investments and divestments, working capital management, corporate planning etc.\\n(vi) Financial Advice: Many people need help and guidance in planning their personal financial affairs. An accountant who knows about finances, taxation and family problems is well placed to give such advice. Some of the areas in which an accountant can render financial advice are:\\n(a) Investments: An accountant can explain the significance of the formidable documents which shareholders receive from companies and help in making decisions relating to their investments.\\n(b) Insurance: An accountant can provide information to his clients on various insurance policies and helps in choosing appropriate policy.\\n(c) Business Expansion: As businesses grow in size and complexity and mergers are being considered, accountants are in the forefront in interpreting accounts, making suggestions as to the form of schemes and the fairness of proposals considering cost and financial consequences and generally advising their clients. They also advise on how to set about the problem of borrowing money or whether this is an appropriate method of finance. Accountants can render extremely useful service in connection of negotiations with foreign collaborators.\\n(d) Investigations: Financial investigations are required for a variety of purposes. Examples are:\\n(i) To ascertain the financial position of a business, for the information of interested parties in connection with an issue of capital, the purchase or sale of the business or a reconstruction or amalgamation.\\n(ii) To help the management to decide whether it is cheaper to manufacture an article or to buy out.\\n(iii) To ascertain why profits have fallen.\\n(iv) To achieve greater efficiency in management.\\n(v) To ascertain whether fraud has occurred and if so, its nature and extent and to make suggestions which will help to prevent a recurrence.\\n(vi) To value businesses and shares in private companies for purposes such as purchase, sale, estate duty or wealth tax etc.\\nFor such problems requiring financial investigation, you need an accountant. His task as an independent professional is to establish the facts fairly and clearly for the benefit of those who have to make decisions and to give advice in many areas in which he has competence and experience.\\n(e) Pension schemes: Specialist advice from actuaries, insurance agents or insurance company is needed before launching or amending a provident fund or pension scheme in a business. But before making a final decision, an accountant has to be consulted. Later on, his help may be needed for managing the scheme or obtaining tax relief.', '1.12.2 Chartered Accountant in Industry': \"1.12.2 Chartered Accountant in Industry\\nAn accountant, though he is a part of the highest planning team is not a planner in an industry. He works with the functional departments and translates the organisation's aims in terms of financial expectations. Therefore, he has to make a thorough study of the business and of individuals in the functional departments, whether they are engineers or salesmen. A qualified accountant will be able to play an important role in performing important functions of a business relating to accounting, costing and budgetary control, estimating and treasury.\\n1.12.3 Chartered Accountant in Public Sector Enterprises\\nBoth in the developed and developing countries, public sector enterprises have become a special feature of the national economy. The system of financial and budgetary control and of accounting, auditing and reporting has, therefore, become a matter of interest and concern to the nation, and does not remain confined merely to a limited number of shareholders. The form of accounting followed by these corporations or companies is different from that of ordinary government accounting. It is the duty of the accountants to prepare the accounts and reports of these public corporations in such a way that they enable the general public to know how far the items appearing in the various types of records and financial statements justify their existence.\\n1.12.4 Chartered Accountant in Framing Fiscal Policies\\nAccountants have a positive role to play in the determination of proper fiscal policies and advancement of trade, commerce and industry. They should develop new techniques and prepare themselves for new fields of service towards their commitment to the concept of the public goods and services. A business enterprise can be successful in the commercial sense only if accounting and business knowledge are pooled together. It is a social obligation for both accountants in industry and in practice to disclose greater information regarding the corporate results. The state of affairs of the economy can be ascertained only when such consolidated corporate information is disclosed.\\n1.12.5 Chartered Accountant and Economic Growth\\nIn the present times accountants should conceive their duties as broadly as the conditions might require and do not restrict them to only literal compliance of the law. Their aim should be not to allow any individual to gain at the cost of the nation. Accountants have to accept a positive role and do their best to encourage efficiency in individual business units and encourage those social objectives which form the main foundation of a welfare state.\"}\n"
     ]
    }
   ],
   "source": [
    "file_path = \"CA-P1-M1-C1-U1-Theory.docx\"\n",
    "text_blocks: dict = extract_text_blocks(file_path=file_path)\n",
    "print(text_blocks)"
   ]
  },
  {
   "cell_type": "code",
   "execution_count": 192,
   "metadata": {},
   "outputs": [
    {
     "data": {
      "text/plain": [
       "['title',\n",
       " '1.1 INTRODUCTION',\n",
       " '1.2.1 Procedural aspects of Accounting',\n",
       " '1.3 EVOLUTION OF ACCOUNTING AS A SOCIAL SCIENCE',\n",
       " '1.5 FUNCTIONS OF ACCOUNTING',\n",
       " '1.6.1 Objectives of Book-keeping',\n",
       " '1.8 SUB-FIELDS OF ACCOUNTING',\n",
       " '1.10 RELATIONSHIP OF ACCOUNTING WITH OTHER DISCIPL',\n",
       " '1.12.1 Areas of Service',\n",
       " '1.12.2 Chartered Accountant in Industry']"
      ]
     },
     "execution_count": 192,
     "metadata": {},
     "output_type": "execute_result"
    }
   ],
   "source": [
    "list(text_blocks.keys())"
   ]
  },
  {
   "cell_type": "code",
   "execution_count": 160,
   "metadata": {},
   "outputs": [
    {
     "name": "stdout",
     "output_type": "stream",
     "text": [
      "('O) 1.1 INTRODUCTION\\n'\n",
      " 'Every individual performs some kind of economic activity. A salaried person '\n",
      " \"gets salary and spends to buy provisions and clothing, for children's \"\n",
      " 'education, construction of house, etc. A sports club formed by a group of '\n",
      " 'individuals, a business run by an individual or a group of individuals, a '\n",
      " 'company running a business in telecom sector, a local authority like '\n",
      " 'Calcutta Municipal Corporation, Delhi Development Authority, Governments, '\n",
      " 'either Central or State, all are carrying some kind of economic activities. '\n",
      " 'Not necessarily all the economic activities are run for any individual '\n",
      " 'benefit; such economic activities may create social benefit i.e. benefit for '\n",
      " 'the public, at large. Anyway, such economic activities are performed through '\n",
      " \"'transactions and events'. Transaction is used to mean 'a business, \"\n",
      " \"performance of an act, an agreement' while event is used to mean 'a \"\n",
      " \"happening, as a consequence of transaction(s), a result.'\\n\"\n",
      " 'Example 1\\n'\n",
      " 'An individual invests ₹ 2,00,000 for running a stationery business. On 1st '\n",
      " 'January, he purchases goods for  and sells for  during the month of January. '\n",
      " 'He pays shop rent for the month  and finds that still he has goods worth  in '\n",
      " 'hand. The individual performs an economic activity. He carries on a few '\n",
      " 'transactions and encounters with some events. Is it not logical that he will '\n",
      " 'want to know the result of his activity?\\n'\n",
      " 'We see that the individual, who runs the stationery business, earns a '\n",
      " 'surplus of ₹ 42,000.\\n'\n",
      " '\\n'\n",
      " 'Earning of ₹ 42,000 surplus is an event; also having the inventories in hand '\n",
      " 'is another event, while purchase and sale of goods, investment of money and '\n",
      " 'payment of rent are transactions.\\n'\n",
      " 'Similarly, a municipal corporation got government grant ₹ 500 lakhs for '\n",
      " 'adult education; it spent ₹ 250 lakhs for purchasing literacy kits, paid ₹ '\n",
      " '200 lakhs to the tutors and is left with a balance of ₹ 50 lakhs. These are '\n",
      " 'also transactions and events.\\n'\n",
      " 'Similarly, the Central Government raised money through taxes, paid salaries '\n",
      " 'to the employees, and spent on various developmental activities. Whenever '\n",
      " 'receipts of the Government are more than expenses it has surplus, but if '\n",
      " 'expenses are more than receipts it runs in deficit. Here raising money '\n",
      " 'through various sources can be termed as transaction and surplus or deficit '\n",
      " 'at the end of the accounting year can be termed as an event.\\n'\n",
      " 'A telecom company would need to ensure that it is providing the services for '\n",
      " 'its millions of users for post-paid and pre-paid connections. Each activity '\n",
      " 'done by a user (call, message, data usage) results into an economic event. '\n",
      " 'The entity needs to keep appropriate and timely records to be able to '\n",
      " 'collect money from post-paid connection users for the services availed by '\n",
      " 'them. Likewise, the company will need to ensure that pre-paid connection '\n",
      " 'customers are provided the support and the records confirm how much balance '\n",
      " 'still remains to be utilized.\\n'\n",
      " 'So, everybody wants to keep records of all transactions and events and to '\n",
      " 'have adequate information about the economic activity as an aid to '\n",
      " 'decision-making. Accounting discipline has been developed to serve this '\n",
      " 'purpose as it deals with the measurement of economic\\n'\n",
      " 'activities involving inflow and outflow of economic resources, which helps '\n",
      " 'to develop useful information for decision-making process.\\n'\n",
      " 'Accounting has universal application for recording transactions and events '\n",
      " 'and presenting suitable information to aid decision-making regarding any '\n",
      " 'type of economic activity ranging from a family function to functions of the '\n",
      " 'national government. But hereinafter we shall concentrate only on business '\n",
      " 'activities and their accounting because the objective of this study material '\n",
      " 'is to provide a basic understanding on accounting for business activities. '\n",
      " 'Nevertheless, it will give adequate knowledge to think coherently of '\n",
      " 'accounting as a field of study for universal application.\\n'\n",
      " 'The growth of accounting discipline is closely associated with the '\n",
      " 'development of the business world. Thus, to understand accounting as a field '\n",
      " 'of study for universal application, it is best identified with recording of '\n",
      " 'business transactions and communication of financial information about '\n",
      " 'business enterprise to facilitate decision-making. The aim of accounting is '\n",
      " 'to meet the information needs of the rational and sound decision- makers, '\n",
      " 'and thus, called the language of business.')\n"
     ]
    }
   ],
   "source": [
    "from pprint import pprint\n",
    "\n",
    "pprint(object=text_blocks[list(text_blocks.keys())[1]])"
   ]
  },
  {
   "cell_type": "code",
   "execution_count": 161,
   "metadata": {},
   "outputs": [
    {
     "name": "stdout",
     "output_type": "stream",
     "text": [
      "('1.2.1 Procedural aspects of Accounting\\n'\n",
      " 'On the basis of the above definitions, procedure of accounting can be '\n",
      " 'basically divided into two parts:\\n'\n",
      " '(i) Generating financial information and\\n'\n",
      " '(ii) Using the financial information.\\n'\n",
      " 'Generating Financial Information\\n'\n",
      " 'Recording - This is the basic function of accounting. All business '\n",
      " 'transactions of a financial character, as evidenced by some documents such '\n",
      " 'as sales bill, pass book, salary slip etc. are recorded in the books of '\n",
      " 'account. Recording is done in a book called \"Journal.\" This book may further '\n",
      " 'be divided into several subsidiary books according to the nature and size of '\n",
      " 'the business. Students will learn how to prepare journal and various '\n",
      " 'subsidiary books in chapter 2.\\n'\n",
      " 'Classifying - Classification is concerned with the systematic analysis of '\n",
      " 'the recorded data, with a view to group transactions or entries of one '\n",
      " 'nature at one place so as to put information in compact and usable form. The '\n",
      " 'book containing classified information is called \"Ledger\". This book '\n",
      " 'contains on different pages, individual account heads under which, all '\n",
      " 'financial transactions of similar nature are collected. For example, there '\n",
      " 'may be separate account heads for Salaries, Rent, Printing and Stationeries, '\n",
      " 'Advertisement etc. All expenses under these heads, after being recorded in '\n",
      " 'the Journal, will be classified under separate heads in the Ledger. This '\n",
      " 'will help in finding out the total expenditure incurred under each of the '\n",
      " 'above heads. Students will learn how to prepare ledger books in chapter 2.\\n'\n",
      " 'Summarising - It is concerned with the preparation and presentation of the '\n",
      " 'classified data in a manner useful to the internal as well as the external '\n",
      " 'users of financial statements. This process leads to the preparation of the '\n",
      " 'financial statements.\\n'\n",
      " \"Analysing - The term 'Analysis' means methodical classification of the data \"\n",
      " 'given in the financial statements. The figures given in the financial '\n",
      " 'statements will not help anyone unless they are in a simplified form. For '\n",
      " 'example, all items relating to fixed assets are put at one place while all '\n",
      " 'items relating to current assets are put at another place. It is concerned '\n",
      " 'with the establishment of relationship between the items of the Profit and '\n",
      " 'Loss Account and Balance Sheet i.e. it provides the basis for '\n",
      " 'interpretation. Students will learn this aspect of financial statements in '\n",
      " 'the later stages of the Chartered Accountancy Course.\\n'\n",
      " 'Interpreting - This is the final function of accounting. It is concerned '\n",
      " 'with explaining the meaning and significance of the relationship as '\n",
      " 'established by the analysis of accounting data. The recorded financial data '\n",
      " 'is analysed and interpreted in a manner that will\\n'\n",
      " 'enable the end-users to make a meaningful judgement about the financial '\n",
      " 'condition and profitability of the business operations. The financial '\n",
      " 'statement should explain not only what had happened but also why it happened '\n",
      " 'and what is likely to happen under specified conditions.\\n'\n",
      " 'Communicating - It is concerned with the transmission of summarised, '\n",
      " 'analysed and interpreted information to the end-users to enable them to make '\n",
      " 'rational decisions. This is done through preparation and distribution of '\n",
      " 'accounting reports, which include besides the usual profit and loss account '\n",
      " 'and the balance sheet, additional information in the form of accounting '\n",
      " 'ratios, graphs, diagrams, fund flow statements etc. Students will learn this '\n",
      " 'aspect of financial statements in the later stages of the Chartered '\n",
      " 'Accountancy Course.\\n'\n",
      " 'The first two procedural stages of the process of generating financial '\n",
      " 'information along with the preparation of trial balance are covered under '\n",
      " 'book-keeping while the preparation of financial statements and its analysis, '\n",
      " 'interpretation and also its communication to the various users are '\n",
      " 'considered as accounting stages. Students will learn the term book-keeping '\n",
      " 'and its distinction with accounting, in the coming topics of this unit.')\n"
     ]
    }
   ],
   "source": [
    "pprint(object=text_blocks[list(text_blocks.keys())[2]])"
   ]
  },
  {
   "cell_type": "markdown",
   "metadata": {},
   "source": [
    "## Extract Text Blocks using Headings"
   ]
  },
  {
   "cell_type": "code",
   "execution_count": 144,
   "metadata": {},
   "outputs": [
    {
     "name": "stdout",
     "output_type": "stream",
     "text": [
      "Text: UNIT - 1 MEANING AND SCOPE OF ACCOUNTING, Style: Normal\n",
      "Text: ****, Style: Normal\n",
      "Text: O) 1.1 INTRODUCTION, Style: Normal\n",
      "Text: Every individual performs some kind of economic activity. A salaried person gets salary and spends to buy provisions and clothing, for children's education, construction of house, etc. A sports club formed by a group of individuals, a business run by an individual or a group of individuals, a company running a business in telecom sector, a local authority like Calcutta Municipal Corporation, Delhi Development Authority, Governments, either Central or State, all are carrying some kind of economic activities. Not necessarily all the economic activities are run for any individual benefit; such economic activities may create social benefit i.e. benefit for the public, at large. Anyway, such economic activities are performed through 'transactions and events'. Transaction is used to mean 'a business, performance of an act, an agreement' while event is used to mean 'a happening, as a consequence of transaction(s), a result.', Style: Normal\n",
      "Text: Example 1, Style: Normal\n",
      "Text: An individual invests ₹ 2,00,000 for running a stationery business. On 1st January, he purchases goods for  and sells for  during the month of January. He pays shop rent for the month  and finds that still he has goods worth  in hand. The individual performs an economic activity. He carries on a few transactions and encounters with some events. Is it not logical that he will want to know the result of his activity?, Style: Normal\n",
      "Text: We see that the individual, who runs the stationery business, earns a surplus of ₹ 42,000., Style: Normal\n",
      "Text: , Style: Normal\n",
      "Text: Earning of ₹ 42,000 surplus is an event; also having the inventories in hand is another event, while purchase and sale of goods, investment of money and payment of rent are transactions., Style: Normal\n",
      "Text: Similarly, a municipal corporation got government grant ₹ 500 lakhs for adult education; it spent ₹ 250 lakhs for purchasing literacy kits, paid ₹ 200 lakhs to the tutors and is left with a balance of ₹ 50 lakhs. These are also transactions and events., Style: Normal\n",
      "Text: Similarly, the Central Government raised money through taxes, paid salaries to the employees, and spent on various developmental activities. Whenever receipts of the Government are more than expenses it has surplus, but if expenses are more than receipts it runs in deficit. Here raising money through various sources can be termed as transaction and surplus or deficit at the end of the accounting year can be termed as an event., Style: Normal\n",
      "Text: A telecom company would need to ensure that it is providing the services for its millions of users for post-paid and pre-paid connections. Each activity done by a user (call, message, data usage) results into an economic event. The entity needs to keep appropriate and timely records to be able to collect money from post-paid connection users for the services availed by them. Likewise, the company will need to ensure that pre-paid connection customers are provided the support and the records confirm how much balance still remains to be utilized., Style: Normal\n",
      "Text: So, everybody wants to keep records of all transactions and events and to have adequate information about the economic activity as an aid to decision-making. Accounting discipline has been developed to serve this purpose as it deals with the measurement of economic\n",
      "activities involving inflow and outflow of economic resources, which helps to develop useful information for decision-making process., Style: Normal\n",
      "Text: Accounting has universal application for recording transactions and events and presenting suitable information to aid decision-making regarding any type of economic activity ranging from a family function to functions of the national government. But hereinafter we shall concentrate only on business activities and their accounting because the objective of this study material is to provide a basic understanding on accounting for business activities. Nevertheless, it will give adequate knowledge to think coherently of accounting as a field of study for universal application., Style: Normal\n",
      "Text: The growth of accounting discipline is closely associated with the development of the business world. Thus, to understand accounting as a field of study for universal application, it is best identified with recording of business transactions and communication of financial information about business enterprise to facilitate decision-making. The aim of accounting is to meet the information needs of the rational and sound decision- makers, and thus, called the language of business., Style: Normal\n",
      "Text: ****, Style: Normal\n",
      "Text: 1.2 MEANING OF ACCOUNTING, Style: Normal\n",
      "Text: The Committee on Terminology set up by the American Institute of Certified Public Accountants formulated the following definition of accounting in 1961:, Style: Normal\n",
      "Text: \"Accounting is the art of recording, classifying, and summarising in a significant manner and in terms of money, transactions and events which are, in part at least, of a financial character, and interpreting the result thereof.\", Style: Normal\n",
      "Text: As per this definition, accounting is simply an art of record keeping. The process of accounting starts by first identifying the events and transactions which are of financial character and then be recorded in the books of account. Continuing with the same example of the telecom company, which needs to capture all transactions (transactions made by the user, raising invoice to the customer, receipt of money, payment towards salaries, marketing etc.). Likewise, the individual running the stationery business, would need to record all business transactions., Style: Normal\n",
      "Text: This recording is done in Journal or subsidiary books, also known as primary books. Every good record keeping system includes suitable classification of transactions and events as well as their summarisation for ready reference. For example, the telecom company performing thousands of transactions on a daily basis, is not expected to publish all those transactions for the users to be able to make a decision. Surely, those transactions need to be summarized appropriately., Style: Normal\n",
      "Text: After the transactions and events are recorded, they are transferred to secondary books, i.e., Ledger. In ledger, transactions and events are classified in terms of income, expense, assets and liabilities according to their characteristics and summarised in profit and loss account and balance sheet., Style: Normal\n",
      "Text: Essentially the transactions and events are to be measured in terms of money. Measurement in terms of money means measuring at the ruling currency of a country, for example, rupee in India, dollar in U.S.A. and like. The transactions and events must have at least in part, financial characteristics. The inauguration of a new branch of a bank is an event without having financial character, while the business disposed of by the branch is an event having financial character. Accounting also interprets the recorded, classified and summarized transactions and events. However, the above-mentioned definition does not reflect the present day accounting function. According to the above definition, accounting ends with interpretation of the results of the financial transactions and events but in the modern world with the diversification of management and ownership, globalization of business and society gaining more interest in the functioning of the enterprises, the importance of communicating the accounting results has increased., Style: Normal\n",
      "Text: Therefore, this requirement of communicating and motivating informed judgement has also become the part of accounting as defined in the widely accepted definition of accounting, given by the American Accounting Association in 1966 which treated accounting as:, Style: Normal\n",
      "Text: \"The process of identifying, measuring and communicating economic information to permit informed judgments and decisions by the users of accounts.\", Style: Normal\n",
      "Text: In 1970, the Accounting Principles Board (APB) of American Institute of Certified Public Accountants (AICPA) enumerated the functions of accounting as follows:, Style: Normal\n",
      "Text: \"The function of accounting is to provide quantitative information, primarily of financial nature, about economic entities, that is needed to be useful in making economic decisions.\", Style: Normal\n",
      "Text: Thus, accounting may be defined as the process of recording, classifying, summarising, analysing and interpreting the financial transactions and communicating the results thereof to the persons interested in such information., Style: Normal\n",
      "Text: The above definition requires accountants to assume a bigger responsibility than to merely do book-keeping. Accountants need to be ready to provide the information ready for the intended users to be able to make economic decisions., Style: Normal\n",
      "Text: ****, Style: Normal\n",
      "Text: 1.2.1 Procedural aspects of Accounting, Style: Normal\n",
      "Text: On the basis of the above definitions, procedure of accounting can be basically divided into two parts:, Style: Normal\n",
      "Text: (i) Generating financial information and, Style: Normal\n",
      "Text: (ii) Using the financial information., Style: Normal\n",
      "Text: Generating Financial Information, Style: Normal\n",
      "Text: Recording - This is the basic function of accounting. All business transactions of a financial character, as evidenced by some documents such as sales bill, pass book, salary slip etc. are recorded in the books of account. Recording is done in a book called \"Journal.\" This book may further be divided into several subsidiary books according to the nature and size of the business. Students will learn how to prepare journal and various subsidiary books in chapter 2., Style: Normal\n",
      "Text: Classifying - Classification is concerned with the systematic analysis of the recorded data, with a view to group transactions or entries of one nature at one place so as to put information in compact and usable form. The book containing classified information is called \"Ledger\". This book contains on different pages, individual account heads under which, all financial transactions of similar nature are collected. For example, there may be separate account heads for Salaries, Rent, Printing and Stationeries, Advertisement etc. All expenses under these heads, after being recorded in the Journal, will be classified under separate heads in the Ledger. This will help in finding out the total expenditure incurred under each of the above heads. Students will learn how to prepare ledger books in chapter 2., Style: Normal\n",
      "Text: Summarising - It is concerned with the preparation and presentation of the classified data in a manner useful to the internal as well as the external users of financial statements. This process leads to the preparation of the financial statements., Style: Normal\n",
      "Text: Analysing - The term 'Analysis' means methodical classification of the data given in the financial statements. The figures given in the financial statements will not help anyone unless they are in a simplified form. For example, all items relating to fixed assets are put at one place while all items relating to current assets are put at another place. It is concerned with the establishment of relationship between the items of the Profit and Loss Account and Balance Sheet i.e. it provides the basis for interpretation. Students will learn this aspect of financial statements in the later stages of the Chartered Accountancy Course., Style: Normal\n",
      "Text: Interpreting - This is the final function of accounting. It is concerned with explaining the meaning and significance of the relationship as established by the analysis of accounting data. The recorded financial data is analysed and interpreted in a manner that will\n",
      "enable the end-users to make a meaningful judgement about the financial condition and profitability of the business operations. The financial statement should explain not only what had happened but also why it happened and what is likely to happen under specified conditions., Style: Normal\n",
      "Text: Communicating - It is concerned with the transmission of summarised, analysed and interpreted information to the end-users to enable them to make rational decisions. This is done through preparation and distribution of accounting reports, which include besides the usual profit and loss account and the balance sheet, additional information in the form of accounting ratios, graphs, diagrams, fund flow statements etc. Students will learn this aspect of financial statements in the later stages of the Chartered Accountancy Course., Style: Normal\n",
      "Text: The first two procedural stages of the process of generating financial information along with the preparation of trial balance are covered under book-keeping while the preparation of financial statements and its analysis, interpretation and also its communication to the various users are considered as accounting stages. Students will learn the term book-keeping and its distinction with accounting, in the coming topics of this unit., Style: Normal\n",
      "Text: ****, Style: Normal\n",
      "Text: , Style: Normal\n",
      "Text: Using the Financial Information, Style: Normal\n",
      "Text: There are certain users of accounts. Earlier it was viewed that accounting is meant for the proprietor or owner of the business, but changing social relationships diluted the earlier thinking. Since earlier businesses were simple and not scaled, probably that view could hold true for those., Style: Normal\n",
      "Text: It is now believed that besides the owner or the management of the business enterprise, users of accounts include the investors, employees, lenders, suppliers, customers, government and other agencies and the public at large. For example, if an airlines company borrows money from a bank, buys oil from oil companies, sells tickets to the customers, has staff to be paid salaries to, all these group of people and entities are key stakeholders in that airlines business. They would like to know and understand whether the business of the company is going well or there are challenges for the company to run the business. Accounting provides the art of presenting information systematically to the users of accounts., Style: Normal\n",
      "Text: Accounting data is more useful if it stresses economic substance rather than technical form. Information is useless and meaningless unless it is relevant and material to a user's decision. The information should also be free of any biases. The users should understand not only the financial results depicted by the accounting figures, but also should be able to assess its reliability and compare it with information about alternative opportunities and the past experience. The owners or the management of the enterprise, commonly known as internal users, use the accounting information in an analytical manner to take the valuable decisions for\n",
      "the business. So the information served to them is presented in a manner different to the information presented to the external users. Even the small details which can affect the internal working of the business are given in the management report while financial statements presented to the external users contains key information regarding assets, liabilities and capital which are summarised in a logical manner that helps them in their respective decision-making., Style: Normal\n",
      "Text: ****, Style: Normal\n",
      "Text: 1.3 EVOLUTION OF ACCOUNTING AS A SOCIAL SCIENCE, Style: Normal\n",
      "Text: History & Development of Accounting, Style: Normal\n",
      "Text: Accounting finds its roots as early as around 4000 BC, where Egyptians used some form of accounting for their treasuries. The in-charge of treasuries had to send day wise reports to their superiors known as Wazirs and monthly reports were sent to kings. Babylonia, known as the city of commerce, used accounting for business to identify the losses that took place due to frauds and lack of efficiency. Greece used accounting to divide the revenues received among treasuries, maintaining receipts, payments and balance of government financial transactions. Romans used memorandum or daybook where in receipts and payments were recorded. (700 B.C to 400 A.D)., Style: Normal\n",
      "Text: China used sophisticated form of government accounting as early as 2000 B.C. Accounting practices in India could be traced back to a period where, Kautilya, a minister in Chandragupta's kingdom wrote a book named Arthashasthra, which also described how accounting records had to be maintained., Style: Normal\n",
      "Text: Luca Pacioli's, a Franciscan friar (merchant class), book Summa de Arithmetica, Geometria, Proportion at Proportionality (Review of Arithmetic and Geometric proportions) in Venice (1494) is considered as the first book on double entry bookkeeping. A portion of this book contains knowledge of business and book-keeping. He used the terms Debit (Dr.) and Credit (Cr.) in his books. These were the concepts used in Italian terminology. Debit comes from the Italian debito which comes from the Latin debita and debeo which means owed to the proprietor. Credit comes from the Italian credito which comes from the Latin 'credo' which means trust or belief (in the proprietor or owed by the proprietor., Style: Normal\n",
      "Text: In explaining double entry system, Pacioli wrote that 'All entries... have to be double entries, that is if you make one creditor, you must make some debtor'. He also mentioned that a merchant's responsibility is to give glory to God in their enterprises, to be ethical in all business activities and to earn a profit. He discussed the details of memorandum, journal, ledger and specialised accounting procedures., Style: Normal\n",
      "Text: In its oldest form, accounting aided the stewards to discharge their stewardship function. The wealthy men employed stewards to manage their property; the stewards in turn rendered an account periodically of their stewardship. This 'Stewardship Accounting' was the root of financial accounting system. Although double-entry system was followed, 'stewardship accounting' served the purpose of businessmen and wealthy persons at that time. In most of the countries, stewardship accounting was prevalent till the emergence of large-scale enterprises in the form of public limited companies., Style: Normal\n",
      "Text: In the second phase, the idea of financial accounting emerged with the concept of joint stock company and divorce of ownership from the management. To safeguard the interest of the shareholders and investors, disclosure of financial statements (mainly, profit and loss account and balance sheet) and other accounting information was moulded by law. Financial statements give periodic performance report by way of profit and loss account and financial position at the end of the period by way of Balance Sheet. It got the legal status due to changing relationships between the owners, economic entity and the managers. With the democratisation of society, the relationships between the enterprise on the one hand, the investors, employees, managers and governments on the other, have also undergone a seachange. Also, the prospective investors and other business contact groups want to know a lot about the business before entering into transactions. Thus, financial accounting emerged as an information system to identify, measure and communicate useful information for informed judgements and decisions by a broad group of users. In the third phase, accounting information was generated to aid management decision- making in particular. It contributed a lot to improve the quality of management decisions. This new dimension of accounting is called Management Accounting and it is the development of 20th Century only. It is pervasive enough to cover all spheres of management decisions., Style: Normal\n",
      "Text: Lastly, Social Responsibility Accounting is in the formative process, which aims at accounting for the social cost incurred by business as well as the social benefit, created by it. It emerges from the growing social awareness about the undesirable by-products of economic activities. While earning profit, an enterprise incurs numerous social costs like pollution, using the resources of society like materials, land, labour etc. To compensate for this social cost, in today's world, an enterprise is expected to generate some social benefits also like employment opportunities, recreation activities, more choice to customers at reasonable price, better quality products etc. Therefore, it is demanded that the accounting system should produce a report measuring the social cost incurred and social benefits generated., Style: Normal\n",
      "Text: Social Science study man as a member of society; they concern about social processes and the results and consequences of social relationships. The usefulness of accounting to society as a whole is the fundamental criterion to treat it as a social science. Although individuals may\n",
      "benefit from the availability of accounting information, the accounting system generates information for social good. It serves social purpose, it contributes for social progress; also it is being adapted to keep pace with social progress. So, accounting is treated as a social science., Style: Normal\n",
      "Text: ****, Style: Normal\n",
      "Text: (O) 1.4 OBJECTIVES OF ACCOUNTING, Style: Normal\n",
      "Text: The objectives of accounting can be given as follows:, Style: Normal\n",
      "Text: Systematic recording of transactions - Basic objective of accounting is to systematically record the financial aspects of business transactions, i.e., book-keeping. These recorded transactions are later on classified and summarized logically for the preparation of financial statements and for their analysis and interpretation., Style: Normal\n",
      "Text: Ascertainment of results of above recorded transactions - Accountant prepares profit and loss account to know the results of business operations for a particular period of time. If revenue (Sales) exceeds expenses then it is said that business is running profitably but if expenses exceed revenue, then it can be said that business is running under loss. The profit and loss account helps the management and different stakeholders in taking rational decisions. For example, if business is not proved to be remunerative or profitable, the cause of such a state of affair can be investigated by the management for taking remedial steps., Style: Normal\n",
      "Text: Ascertainment of the financial position of the business - A businessman is not only interested in knowing the results of the business in terms of profits or loss for a particular period but is also anxious to know that what he owes (liability) to the outsiders and what he owns (assets) on a certain date. To know this, accountant prepares a financial position statement popularly known as Balance Sheet. The balance sheet is a statement of assets and liabilities of the business at a particular point of time and helps in ascertaining the financial health of the business., Style: Normal\n",
      "Text: Providing information to the users for rational decision-making - Accounting as a 'language of business' communicates the financial results of an enterprise to various stakeholders by means of financial statements. Accounting aims to meet the information needs of the decision-makers and helps them in rational decision-making., Style: Normal\n",
      "Text: To know the solvency position - By preparing the balance sheet, management not only reveals what is owned and owed by the enterprise, but also it gives the information regarding concern's ability to meet its liabilities in the short run (liquidity position) and also in the long-run (solvency position) as and when they fall due., Style: Normal\n",
      "Text: ****, Style: Normal\n",
      "Text: , Style: Normal\n",
      "Text: 1.5 FUNCTIONS OF ACCOUNTING, Style: Normal\n",
      "Text: The main functions of accounting are as follows:, Style: Normal\n",
      "Text: (a) Measurement: Accounting measures past performance of the business entity and depicts its current financial position., Style: Normal\n",
      "Text: (b) Forecasting: Accounting helps in forecasting future performance and financial position of the enterprise using past data and analysing trends., Style: Normal\n",
      "Text: (c) Decision-making: Accounting provides relevant information to the users of accounts to aid rational decision-making., Style: Normal\n",
      "Text: (d) Comparison & Evaluation: Accounting assesses performance achieved in relation to targets and discloses information regarding accounting policies and contingent liabilities which play an important role in predicting, comparing and evaluating the financial results., Style: Normal\n",
      "Text: (e) Control: Accounting also identifies weaknesses of the operational system and provides feedbacks regarding effectiveness of measures adopted to check such weaknesses., Style: Normal\n",
      "Text: (f) Government Regulation and Taxation: Accounting provides necessary information to the government to exercise control on the entity as well as in collection of tax revenues., Style: Normal\n",
      "Text: ****, Style: Normal\n",
      "Text: 1.6 BOOK-KEEPING, Style: Normal\n",
      "Text: Book-keeping is an activity concerned with the recording of financial data relating to business operations in a significant and orderly manner. It covers procedural aspects of accounting work and embraces record keeping function. Obviously, book-keeping procedures are governed by the end product, the financial statements. The term 'financial statements' means Profit and Loss Account, Balance Sheet and cash flow statements including Schedules and Notes forming part of Accounts., Style: Normal\n",
      "Text: Book-keeping also requires suitable classification of transactions and events. This is also determined with reference to the requirement of financial statements. A book-keeper may be responsible for keeping all the records of a business or only of a minor segment, such as position of the customers' accounts in a departmental store. Accounting is based on a careful and efficient book-keeping system., Style: Normal\n",
      "Text: The essential idea behind maintaining book-keeping records is to show correct position regarding each head of income and expenditure. A business may purchase goods on credit as well as in cash. When the goods are bought on credit, a record must be kept of the person to whom money is owed. The proprietor of the business may like to know, from time to time, what amount is due on credit purchase and to whom. If proper record is not maintained, it is not possible to get details of the transactions in regard to the income and expenses. At the end of the accounting period, the proprietor wants to know how much profit has been earned or loss has been incurred during the course of the period. For this lot of information is needed which can be gathered from a proper record of the transactions. Therefore, in book-keeping, the proper maintenance of books of account is indispensable for any business., Style: Normal\n",
      "Text: At this level, the major concern of the curriculum is with book-keeping and preparation of financial statements. It seems important to mention at this point that book-keeping and preparation of financial statements have legal implications also. Maintenance of books of accounts and the preparation of financial statements of a company are guided by the Companies Act, banks and insurance companies by special Acts governing these institutions and so on. However, for sole-proprietorship and partnership business, there is no specific legislation regarding maintenance of books of accounts and preparation of financial statements., Style: Normal\n",
      "Text: ****, Style: Normal\n",
      "Text: , Style: Normal\n",
      "Text: 1.6.1 Objectives of Book-keeping, Style: Normal\n",
      "Text: Complete Recording of Transactions - It is concerned with complete and permanent record of all transactions in a systematic and logical manner to show its financial effect on the business., Style: Normal\n",
      "Text: Ascertainment of financial Effect on the Business - It is concerned with the combined effect of all the transactions made during the accounting period upon the financial position of the business as a whole., Style: Normal\n",
      "Text: ****, Style: Normal\n",
      "Text: , Style: Normal\n",
      "Text: O) 1.7 DISTINCTION BETWEEN BOOK-KEEPING AND ACCOUNTING, Style: Normal\n",
      "Text: Some people mistake book-keeping and accounting to be synonymous terms, but in fact they are different from each other. Accounting is a broad subject. It calls for a greater understanding of records obtained from book-keeping and an ability to analyse and interpret the information provided by book-keeping records. Book-keeping is the recording phase while accounting is\n",
      "concerned with the summarising phase of an accounting system. Book-keeping provides necessary data for accounting and accounting starts where book-keeping ends., Style: Normal\n",
      "Text: , Style: Normal\n",
      "Text: ****, Style: Normal\n",
      "Text: , Style: Normal\n",
      "Text: 1.8 SUB-FIELDS OF ACCOUNTING, Style: Normal\n",
      "Text: The various sub-fields of accounting are:, Style: Normal\n",
      "Text: (i) Financial Accounting - It covers the preparation and interpretation of financial statements and communication to the users of accounts. It is historical in nature as it records transactions which had already been occurred. The final step of financial accounting is the preparation of Profit and Loss Account and the Balance Sheet. It primarily helps in determination of the net result for an accounting period and the financial position as on the given date., Style: Normal\n",
      "Text: (ii) Management Accounting - It is concerned with internal reporting to the managers of a business unit. To discharge the functions of stewardship, planning, control and decision- making, the management needs variety of information. The different ways of grouping information and preparing reports as desired by managers for discharging their functions are referred to as management accounting. A very important component of the management accounting is cost accounting which deals with cost ascertainment and cost control. Management Accounting will be dealt with at higher levels of the Chartered Accountancy Course., Style: Normal\n",
      "Text: (iii) Cost Accounting - The terminology of Cost Accounting published by the Institute of Cost and Management Accountants of England defines cost accounting as:, Style: Normal\n",
      "Text: \"the process of accounting for cost which begins with the recording of income and expenditure or the bases on which they are calculated and ends with the preparation of periodical statements and reports for ascertaining and controlling costs.\", Style: Normal\n",
      "Text: (iv) Social Responsibility Accounting - The demand for social responsibility accounting stems from increasing social awareness about the undesirable by-products of economic activities. As already discussed earlier, social responsibility accounting is concerned with accounting for social costs incurred by the enterprise and social benefits created., Style: Normal\n",
      "Text: (v) Human Resource Accounting - Human resource accounting is an attempt to identify, quantify and report investments made in human resources of an organisation that are not presently accounted for under conventional accounting practice., Style: Normal\n",
      "Text: ****, Style: Normal\n",
      "Text: , Style: Normal\n",
      "Text: 1.9 USERS OF ACCOUNTING INFORMATION, Style: Normal\n",
      "Text: Generally users of accounts are classified into two categories, (a) internal users and (b) external users. Management accounting is concerned with identifying information requirements as well as methods of providing such information to management while information requirements of the outside users are generally served by financial statements. Following are the various users of accounting information:\n",
      "(i) Investors: They provide risk capital to the business. They need information to assess whether to buy, hold or sell their investment. Also they are interested to know the ability of the business to survive, prosper and to pay dividend. In non-corporate sector, where ownership and management are not essentially separated, the owners still need information about performance of the business and its financial position to decide whether to continue or shut down., Style: Normal\n",
      "Text: (ii) Employees: Growth of the employees is directly related to the growth of the organisation and therefore, they are interested to know the stability, continuity and growth of the enterprise and its ability to provide remuneration, retirement and other benefits and to enhance employment opportunities., Style: Normal\n",
      "Text: (iii) Lenders: They are interested to know whether their loan-principal and interest will be paid back when due., Style: Normal\n",
      "Text: (iv) Suppliers and Creditors: They are also interested to know the ability of the enterprise to pay their dues, that helps them to decide the credit policy for the relevant concern, rates to be charged and so on. Sometimes, they also become interested in long-term continuation of the enterprise if their existence becomes dependent on the survival of that business., Style: Normal\n",
      "Text: (v) Customers: Customers are also concerned with the stability and profitability of the enterprise because their functioning is more or less dependent on the supply of goods, suppose, a company produces some chemicals used by pharmaceutical companies and supplies chemicals on three month's credit. If all of a sudden it faces some trouble and is unable to supply the chemical, the customers will also be in trouble., Style: Normal\n",
      "Text: (vi) Government and their agencies: They regulate the functioning of business enterprises for public good, allocate scarce resources among competing enterprises, control prices, charge excise duties and taxes, and so they have continued interest in the business enterprise., Style: Normal\n",
      "Text: (vii) Public: The public at large is interested in the functioning of the enterprise because it may make a substantial contribution to the local economy in many ways including the number of people employed and their patronage to local suppliers., Style: Normal\n",
      "Text: (viii) Management: Management as whole is also interested in the accounts for various managerial decisions. On the basis of the accounts, management determines the effects of their various decisions on the functioning of the organisation. This helps them to make further managerial decisions., Style: Normal\n",
      "Text: ****, Style: Normal\n",
      "Text: , Style: Normal\n",
      "Text: 1.10 RELATIONSHIP OF ACCOUNTING WITH OTHER DISCIPLINES, Style: Normal\n",
      "Text: Accounting is closely related with several other disciplines and thus to acquire a good knowledge in accounting one should be conversant with the relevant portions of such disciplines. In many cases they overlap accounting. The accountant should have a working knowledge of the related disciplines so that he can understand such overlapping areas and apply the knowledge of other disciplines in his own work wherever possible, or he can take the expert advice., Style: Normal\n",
      "Text: (a) Accounting and Economics: Economics is viewed as a science of rational decisionmaking about the use of scarce resources. It is concerned with the analysis of efficient use of scarce resources for satisfying human wants. This may be viewed either from the perspective of a single firm or of the country as a whole., Style: Normal\n",
      "Text: Accounting is viewed as a system, which provides data to the users to permit informed judgement and decisions. Some non-accounting data are also relevant for decisionmaking., Style: Normal\n",
      "Text: Accounting overlaps economics in many respects. It contributed a lot in improving the management decision-making process. But, economic theories influenced the development of the decision-making tools used in accounting., Style: Normal\n",
      "Text: However, there exists a wide gulf between economists' and accountants' concepts of income and capital. Accountants got the ideas of value, income and capital maintenance from economists, but brushed suitably to make them usable in practical circumstances. Accountants developed the valuation, measurement and decisionmaking techniques which may owe to the economic theorems for origin but these are moulded in the work environment and suitably tempered with reference to relevance, verifiability, freedom from bias, timeliness, comparability, reliability and understandability., Style: Normal\n",
      "Text: An example may be given to explain the nexus between accounting and economics. Economists think that value of an asset is the present value of all future earnings which can be derived from such assets. Now think about a plant whose working life is more than one hundred years. How can you estimate future stream of earnings? So accountants developed the workable valuation base - the acquisition cost i.e., the price paid to acquire the assets., Style: Normal\n",
      "Text: At the macro-level, accounting provides the database over which the economic decision models have been developed; micro-level data arranged by the accounting system is summed up to get macro-level database., Style: Normal\n",
      "Text: Non-overlapping zones of accounting are not negligible. Development of the systems of recording, classifying and summarising transactions and events, harmonising the systems by uniform rules and communicating the data is essentially a non-overlapping area of accounting., Style: Normal\n",
      "Text: (b) Accounting and Statistics: The use of statistics in accounting can be appreciated better in the context of the nature of accounting records. Accounting information is very precise; it is exact to the last paisa. But, for decision-making purposes such precision is not necessary and hence, the statistical approximations are sought., Style: Normal\n",
      "Text: In accounts, all values are important individually because they relate to business transactions. As against this, statistics is concerned with the typical value, behaviour or trend over a period of time or the degree of variation over a series of observations. Therefore, wherever a need arises for only broad generalisations or the average of relationships, statistical methods have to be applied in accounting data., Style: Normal\n",
      "Text: Further, in accountancy, the classification of assets and liabilities as well as the heads of income and expenditure has been done as per the needs of financial recording to ascertain financial results of various operations. Other types of classification like the geographical and historical ones and ad hoc classification are done depending on the purpose to make such classification meaningful., Style: Normal\n",
      "Text: Accounting records generally take a short-term view of events and are confined to a year while statistical analysis is more useful if a longer view is taken for the purpose. For example, to fit the trend line a longer period will be required. However, statistical methods do use past accounting records maintained on a consistent basis., Style: Normal\n",
      "Text: The functional relations showing mathematical relations of one variable with one or more other variables are based on statistical work. These relations are used widely in making cost or price estimates for some estimated future values assigned to the given independent variables. For example, given the functional relation of total cost to the price of an input, the effect of changes in future prices on the cost of production can be calculated., Style: Normal\n",
      "Text: In accountancy, a number of financial and other ratios are based on statistical methods, which help in averaging them over a period of time. Several accounting and financial calculations are based on statistical formulae., Style: Normal\n",
      "Text: Statistical methods are helpful in developing accounting data and in their interpretation. For example, time series and cross-sectional comparison of accounting data is based on statistical techniques. Now- a-days multiple discriminate analysis is popularly used to identify symptoms of sickness of a business firm. Therefore, the study and application of statistical methods would add extra edge to the accounting data.\n",
      "(c) Accounting and Mathematics: Double Entry book-keeping can be converted in algebraic form; in fact the first known book on this subject was part of a treatise on algebra. The fundamental accounting equation will be discussed in detail under 'Dual Aspect Concept' of this chapter., Style: Normal\n",
      "Text: Knowledge of arithmetic and algebra is a pre-requisite for accounting computations and measurements. Calculations of interest and annuity are the examples of such fundamental uses. While computing depreciation, finding out installments in hirepurchase and instalments payment transactions, calculating amount to be set aside for repayment of loan and replacement of assets and calculating lease rentals, mathematical techniques are frequently used. Accounting data are also presented in ratio form., Style: Normal\n",
      "Text: With the advent of the computer, mathematics is becoming a vital part of accounting. Instead of writing accounts in traditional fashion, the transactions and events can be recorded in the matrix form and the rules of matrix algebra can be applied for classifying and summarising data., Style: Normal\n",
      "Text: Now-a-days statistics and econometric models are largely used for developing decision models for the users of accounts. Also, Operations Research Techniques provide lot of decision models. Since accounting is meant for providing information to the users, to be effective, accounting data should feed the information requirements of such statistical, econometric and operations research models. Understanding mathematics has become a must to grasp the decision models framed by statisticians, econometricians and the O.R. experts., Style: Normal\n",
      "Text: Presently graphs and charts are being extensively used for communicating accounting information. In addition to statistical knowledge, knowledge in geometry and trigonometry seems to be essential to have a better understanding about the accounting communications system., Style: Normal\n",
      "Text: (d) Accounting and Law: An economic entity operates within a legal environment. All transactions with suppliers and customers are governed by the Contract Act, the Sale of Goods Act, the Negotiable Instruments Act, etc. The entity itself is created and controlled by laws. For example, a company is created by the Companies Act and also controlled by Companies Act., Style: Normal\n",
      "Text: Similarly, every country has a set of economic, fiscal and labour laws. Transactions and events are always guided by laws of the land. Very often the accounting system to be followed has been prescribed by the law. For example, the Companies Act has prescribed the format of financial statements for companies., Style: Normal\n",
      "Text: Banking, insurance and electric supply undertakings may also have to produce financial statements as prescribed by the respective legislations controlling such entities., Style: Normal\n",
      "Text: However, legal prescription about the accounting system is the product of developments in accounting knowledge. That is to say, legislation about accounting system cannot be enacted unless there is a corresponding development in the accounting discipline. In that way accounting influences law and is also influenced by law., Style: Normal\n",
      "Text: (e) Accounting and Management: Management is a broad occupational field, which comprises many functions and encompasses application of many disciplines including those mentioned above. Accountants are well placed in the management and play a key role in the management team. A large portion of accounting information is prepared for management decision-making. Although management relies on other data sources, accounting data are used as basic source documents. In the management team, an accountant is in a better position to understand and use such data. In other words, since an accountant plays an active role in management, he understands the data requirements. So the accounting system can be moulded to serve the management purpose., Style: Normal\n",
      "Text: ****, Style: Normal\n",
      "Text: , Style: Normal\n",
      "Text: 1.11 LIMITATIONS OF ACCOUNTING, Style: Normal\n",
      "Text: There are certain misconceptions regarding financial statements. A common man presumes that an income statement shows the correct income or loss of the enterprise and that a balance sheet depicts a perfectly true and fair picture of financial standing of that enterprise. It must be recognised that the accounting as a language has its own limitations. The figures of profit or loss generated by the accounting process are subject to various constraints within which the accounting works. The assumptions and conventions, on which the accounting is based, become the limitations of accounting. The financial statements are never free from subjectivity factor as these are largely the outcome of personal judgement of the accountant with regard to the adoption of the accounting policies. Following are certain instances:, Style: Normal\n",
      "Text: The factors which may be relevant in assessing the worth of the enterprise don't find place in the accounts as they cannot be measured in terms of money. The Balance sheet cannot reflect the value of certain factors like loyalty and skill of the personnel which may be the most valuable asset of an enterprise these days., Style: Normal\n",
      "Text: Balance Sheet shows the position of the business on the day of its preparation and not on the future date while the users of the accounts are interested in knowing the position of the business in the near future and also in long run and not for the past date., Style: Normal\n",
      "Text: Accounting ignores changes in some money factors like inflation etc., Style: Normal\n",
      "Text: ****, Style: Normal\n",
      "Text: , Style: Normal\n",
      "Text: 1.12.1 Areas of Service, Style: Normal\n",
      "Text: The practice of accountancy has crossed its usual domain of preparation of financial statements, interpretation of such statements and audit thereof. Accountants are presently taking active role in company laws and other corporate legislation matters, in taxation laws matters (both direct and indirect) and in general management problems. Some of the services rendered by accountants to the society are briefly mentioned hereunder:, Style: Normal\n",
      "Text: (i) Maintenance of Books of Accounts: An accountant is able to maintain a systematic record of financial transactions in order to establish the net result of the transactions entered into during a period and to state the financial position of the concern as at a particular date., Style: Normal\n",
      "Text: For the fulfillment of the twin objective of ascertaining the profit earned or loss suffered and the financial position, it is necessary that all transactions be recorded in a systematic manner, which can be done only by an accountant. Proper maintenance of books of accounts assists management in planning, decision-making, controlling functions., Style: Normal\n",
      "Text: (ii) Statutory Audit: Every limited company is required to appoint a chartered accountant or a firm of chartered accountants as their auditor who are statutorily required to report each year whether in their opinion the balance sheet shows a true and fair view of the state of affairs on the balance sheet date, and the profit and loss account shows a true and fair view of the profit or loss for the year., Style: Normal\n",
      "Text: Auditing is not confined to the accounts of companies; other organisations may also have their accounts audited, either because the law so requires (for example, the Co-operative Societies Act, the Income-tax Act, etc.) or because the proprietors wisely decided so (for example, a partnership firm or an individual trader)., Style: Normal\n",
      "Text: (iii) Internal Audit: It is a management tool whereby an internal auditor thoroughly examines the accounting transactions and also the system, according to which these have been recorded with a view to ensure the management that the accounts are being properly maintained and the system contains adequate safeguards to check any leakage of revenue or misappropriation of property or assets and the operations have been carried out in conformity with the plans of management., Style: Normal\n",
      "Text: Now-a-days internal auditing has developed as a service to management. The internal auditor constructively contributes in improving the operational efficiency of the business through an independent review and appraisal of all business operations., Style: Normal\n",
      "Text: (iv) Taxation: An accountant can handle taxation matters of a business or a person and he can represent that business or person before the tax authorities and settle the tax liability\n",
      "under the statute prevailing. He can also assist in avoiding or reducing tax burden by proper planning of tax affairs., Style: Normal\n",
      "Text: Accountants also have a social obligation to express their views on broad tax policy, on the effect of tax rate on business and the economy in general and on all other aspects of taxation in which they have knowledge superior to that of the general public., Style: Normal\n",
      "Text: (v) Management Accounting and Consultancy Services: Management accountant performs an advisory function. He is largely responsible for internal reporting to the management for planning and controlling current operations, decision-making on special matters and for formulating long-range plans. His job is to collect, analyse, interpret and present all accounting information which is useful to the management. Accountant provides management consultancy services in the areas of management information system, expenditure control and evaluation of appraisal techniques for new investments and divestments, working capital management, corporate planning etc., Style: Normal\n",
      "Text: (vi) Financial Advice: Many people need help and guidance in planning their personal financial affairs. An accountant who knows about finances, taxation and family problems is well placed to give such advice. Some of the areas in which an accountant can render financial advice are:, Style: Normal\n",
      "Text: (a) Investments: An accountant can explain the significance of the formidable documents which shareholders receive from companies and help in making decisions relating to their investments., Style: Normal\n",
      "Text: (b) Insurance: An accountant can provide information to his clients on various insurance policies and helps in choosing appropriate policy., Style: Normal\n",
      "Text: (c) Business Expansion: As businesses grow in size and complexity and mergers are being considered, accountants are in the forefront in interpreting accounts, making suggestions as to the form of schemes and the fairness of proposals considering cost and financial consequences and generally advising their clients. They also advise on how to set about the problem of borrowing money or whether this is an appropriate method of finance. Accountants can render extremely useful service in connection of negotiations with foreign collaborators., Style: Normal\n",
      "Text: (d) Investigations: Financial investigations are required for a variety of purposes. Examples are:, Style: Normal\n",
      "Text: (i) To ascertain the financial position of a business, for the information of interested parties in connection with an issue of capital, the purchase or sale of the business or a reconstruction or amalgamation.\n",
      "(ii) To help the management to decide whether it is cheaper to manufacture an article or to buy out., Style: Normal\n",
      "Text: (iii) To ascertain why profits have fallen., Style: Normal\n",
      "Text: (iv) To achieve greater efficiency in management., Style: Normal\n",
      "Text: (v) To ascertain whether fraud has occurred and if so, its nature and extent and to make suggestions which will help to prevent a recurrence., Style: Normal\n",
      "Text: (vi) To value businesses and shares in private companies for purposes such as purchase, sale, estate duty or wealth tax etc., Style: Normal\n",
      "Text: For such problems requiring financial investigation, you need an accountant. His task as an independent professional is to establish the facts fairly and clearly for the benefit of those who have to make decisions and to give advice in many areas in which he has competence and experience., Style: Normal\n",
      "Text: (e) Pension schemes: Specialist advice from actuaries, insurance agents or insurance company is needed before launching or amending a provident fund or pension scheme in a business. But before making a final decision, an accountant has to be consulted. Later on, his help may be needed for managing the scheme or obtaining tax relief., Style: Normal\n",
      "Text: ****, Style: Normal\n",
      "Text: , Style: Normal\n",
      "Text: (vii) Other Services, Style: Normal\n",
      "Text: (a) Secretarial Work: Companies, clubs, and associations indeed, virtually all organisations involve secretarial work. Accountants frequently do this work., Style: Normal\n",
      "Text: (b) Share Registration Work: Accountants are often used by many companies to undertake the work involved in registering share transfers and new issues., Style: Normal\n",
      "Text: (c) Company Formation: In conjunction with legal advisers, accountants help in the formation of a company or advise against doing so., Style: Normal\n",
      "Text: (d) Receiverships, Liquidations, etc.: An accountant has to sometimes take on the onerous duties of liquidator when a company is being wound up or receiver when a debenture holder exercises a right to recover a loan on which the borrower has defaulted. Accountant is just the man for the job. He is also just the man to help you to keep insolvency away if you consult him in time., Style: Normal\n",
      "Text: (e) Arbitrations: At times, accountants are invited by parties to act as arbitrators in a dispute or settle disputes of various kinds., Style: Normal\n",
      "Text: (f) As regards the Cost Accounts: A cost accountant's job is to continuously report cost data and related information at frequent intervals to the management.\n",
      "(g) Accountant and Information Services: An accountant will be effective in his role if he supplies the information promptly and in an unambiguous language. He should develop a system by which there is a regular flow of information both horizontally and vertically., Style: Normal\n",
      "Text: The information system should be such that comparability of financial statement is possible both business-wise and year-wise so that it benefits both the management and the investors. Dependence on data from the computerised information system will put new responsibilities on an accountant but his product will command greater attention and respect., Style: Normal\n",
      "Text: ****, Style: Normal\n",
      "Text: , Style: Normal\n",
      "Text: 1.12.2 Chartered Accountant in Industry, Style: Normal\n",
      "Text: An accountant, though he is a part of the highest planning team is not a planner in an industry. He works with the functional departments and translates the organisation's aims in terms of financial expectations. Therefore, he has to make a thorough study of the business and of individuals in the functional departments, whether they are engineers or salesmen. A qualified accountant will be able to play an important role in performing important functions of a business relating to accounting, costing and budgetary control, estimating and treasury., Style: Normal\n",
      "Text: 1.12.3 Chartered Accountant in Public Sector Enterprises, Style: Normal\n",
      "Text: Both in the developed and developing countries, public sector enterprises have become a special feature of the national economy. The system of financial and budgetary control and of accounting, auditing and reporting has, therefore, become a matter of interest and concern to the nation, and does not remain confined merely to a limited number of shareholders. The form of accounting followed by these corporations or companies is different from that of ordinary government accounting. It is the duty of the accountants to prepare the accounts and reports of these public corporations in such a way that they enable the general public to know how far the items appearing in the various types of records and financial statements justify their existence., Style: Normal\n",
      "Text: 1.12.4 Chartered Accountant in Framing Fiscal Policies, Style: Normal\n",
      "Text: Accountants have a positive role to play in the determination of proper fiscal policies and advancement of trade, commerce and industry. They should develop new techniques and prepare themselves for new fields of service towards their commitment to the concept of the public goods and services. A business enterprise can be successful in the commercial sense only if accounting and business knowledge are pooled together. It is a social obligation for both accountants in industry and in practice to disclose greater information regarding the corporate results. The state of affairs of the economy can be ascertained only when such consolidated corporate information is disclosed., Style: Normal\n",
      "Text: 1.12.5 Chartered Accountant and Economic Growth, Style: Normal\n",
      "Text: In the present times accountants should conceive their duties as broadly as the conditions might require and do not restrict them to only literal compliance of the law. Their aim should be not to allow any individual to gain at the cost of the nation. Accountants have to accept a positive role and do their best to encourage efficiency in individual business units and encourage those social objectives which form the main foundation of a welfare state., Style: Normal\n",
      "Text: ****, Style: Normal\n",
      "Text: , Style: Normal\n",
      "Text: SUMMARY, Style: Normal\n",
      "Text: \"Accounting is the art of recording, classifying, and summarising in a significant manner and in terms of money, transactions and events which are, in part at least, of a financial character, and interpreting the result thereof.\", Style: Normal\n",
      "Text: Accounting procedure can be basically divided into two parts:, Style: Normal\n",
      "Text: (i) Generating financial information and, Style: Normal\n",
      "Text: (ii) Using the financial information., Style: Normal\n",
      "Text: The objectives of accounting can be given as follows:, Style: Normal\n",
      "Text: (i) Systematic recording of transactions, Style: Normal\n",
      "Text: (ii) Ascertainment of results of above recorded transactions, Style: Normal\n",
      "Text: (iii) Ascertainment of the financial position of the business, Style: Normal\n",
      "Text: (iv) Providing information to the users for rational decision-making, Style: Normal\n",
      "Text: (v) To know the solvency position, Style: Normal\n",
      "Text: The main functions of accounting are as follows:\n",
      "(i) Measurement\n",
      "(ii) Forecasting\n",
      "(iii) Decision-making\n",
      "(iv) Comparison & Evaluation\n",
      "(v) Control\n",
      "(vi) Government Regulation and Taxation, Style: Normal\n",
      "Text: Objectives of Book-keeping:, Style: Normal\n",
      "Text: (i) Complete Recording of Transactions and, Style: Normal\n",
      "Text: (ii) Ascertainment of Financial Effect on the Business, Style: Normal\n",
      "Text: The various sub-fields of accounting are:\n",
      "(i) Financial Accounting\n",
      "(ii) Management Accounting\n",
      "(iii) Cost Accounting, Style: Normal\n",
      "Text: (iv) Social Responsibility Accounting, Style: Normal\n",
      "Text: (v) Human Resource Accounting, Style: Normal\n",
      "Text: The various users of accounting information:, Style: Normal\n",
      "Text: (i) Investors, Style: Normal\n",
      "Text: (iii) Lenders, Style: Normal\n",
      "Text: (v) Customers, Style: Normal\n",
      "Text: (vii) Public (ii) Employees, Style: Normal\n",
      "Text: (iv) Suppliers and Creditors, Style: Normal\n",
      "Text: (vi) Government and their agencies, Style: Normal\n",
      "Text: (viii) Management, Style: Normal\n",
      "Text: Accounting is closely related with several other disciplines and thus to acquire a good knowledge in accounting one should be conversant with the relevant portions of such disciplines., Style: Normal\n",
      "Text: An accountant with his education, training, analytical mind and experience is best qualified to provide multiple need-based services to the ever growing society. The accountants of today can do full justice not only to matters relating to taxation, costing, management accounting, financial lay-out, company legislation and procedures but they can delve deep into the fields relating to financial policies, budgetary policies and even economic principles., Style: Normal\n",
      "Text: ****, Style: Normal\n",
      "Text: , Style: Normal\n"
     ]
    }
   ],
   "source": [
    "# Initialize a dictionary to store content by headings and subheadings\n",
    "content_by_section = {}\n",
    "current_heading = None\n",
    "current_subheading = None\n",
    "\n",
    "# Debugging: Print the style of each paragraph to check style names\n",
    "for para in doc.paragraphs:\n",
    "    print(f\"Text: {para.text}, Style: {para.style.name}\")\n",
    "\n",
    "# Iterate through all paragraphs in the document\n",
    "for para in doc.paragraphs:\n",
    "    # Check if the paragraph is a heading\n",
    "    if para.style.name.startswith(\"Heading 1\"):  # Main Heading\n",
    "        current_heading = para.text.strip()\n",
    "        content_by_section[current_heading] = {}\n",
    "        current_subheading = None  # Reset subheading\n",
    "    elif para.style.name.startswith(\"Heading 2\"):  # Subheading\n",
    "        if current_heading:\n",
    "            current_subheading = para.text.strip()\n",
    "            content_by_section[current_heading][current_subheading] = []\n",
    "    else:\n",
    "        # If it's normal text, add it under the current heading/subheading\n",
    "        if current_heading and current_subheading:\n",
    "            content_by_section[current_heading][current_subheading].append(\n",
    "                para.text.strip()\n",
    "            )\n",
    "        elif current_heading:\n",
    "            # If no subheading, add it directly under the main heading\n",
    "            if current_heading not in content_by_section:\n",
    "                content_by_section[current_heading] = []\n",
    "            content_by_section[current_heading].append(para.text.strip())\n",
    "\n",
    "# Print the structured content\n",
    "for heading, subcontent in content_by_section.items():\n",
    "    print(f\"\\nHeading: {heading}\")\n",
    "    if isinstance(subcontent, dict):\n",
    "        for subheading, content in subcontent.items():\n",
    "            print(f\"  Subheading: {subheading}\")\n",
    "            for line in content:\n",
    "                print(f\"    {line}\")\n",
    "    else:\n",
    "        for line in subcontent:\n",
    "            print(f\"  {line}\")\n"
   ]
  },
  {
   "cell_type": "markdown",
   "metadata": {},
   "source": [
    "## Connect with MongoDB"
   ]
  },
  {
   "cell_type": "code",
   "execution_count": 173,
   "metadata": {},
   "outputs": [],
   "source": [
    "from pymongo import MongoClient\n",
    "\n",
    "client = MongoClient(host=\"localhost\", port=27017)\n",
    "courses_db = client[\"courses\"]"
   ]
  },
  {
   "cell_type": "code",
   "execution_count": 174,
   "metadata": {},
   "outputs": [
    {
     "data": {
      "text/plain": [
       "['admin', 'config', 'local', 'my_store', 'subrata', 'test']"
      ]
     },
     "execution_count": 174,
     "metadata": {},
     "output_type": "execute_result"
    }
   ],
   "source": [
    "client.list_database_names()"
   ]
  },
  {
   "cell_type": "code",
   "execution_count": 175,
   "metadata": {},
   "outputs": [
    {
     "data": {
      "text/plain": [
       "[]"
      ]
     },
     "execution_count": 175,
     "metadata": {},
     "output_type": "execute_result"
    }
   ],
   "source": [
    "courses_db.list_collection_names()"
   ]
  },
  {
   "cell_type": "code",
   "execution_count": 176,
   "metadata": {},
   "outputs": [
    {
     "data": {
      "text/plain": [
       "Collection(Database(MongoClient(host=['localhost:27017'], document_class=dict, tz_aware=False, connect=True), 'courses'), 'CA-P1-M1-C1-U1-Theory')"
      ]
     },
     "execution_count": 176,
     "metadata": {},
     "output_type": "execute_result"
    }
   ],
   "source": [
    "cap1_collection = courses_db[\"CA-P1-M1-C1-U1-Theory\"]\n",
    "\n",
    "cap1_collection\n"
   ]
  },
  {
   "cell_type": "code",
   "execution_count": 194,
   "metadata": {},
   "outputs": [
    {
     "data": {
      "text/plain": [
       "dict"
      ]
     },
     "execution_count": 194,
     "metadata": {},
     "output_type": "execute_result"
    }
   ],
   "source": [
    "type(text_blocks)"
   ]
  },
  {
   "cell_type": "code",
   "execution_count": 196,
   "metadata": {},
   "outputs": [
    {
     "data": {
      "text/plain": [
       "[{'key': 'title', 'value': 'UNIT - 1 MEANING AND SCOPE OF ACCOUNTING'},\n",
       " {'key': '1.1 INTRODUCTION',\n",
       "  'value': \"O) 1.1 INTRODUCTION\\nEvery individual performs some kind of economic activity. A salaried person gets salary and spends to buy provisions and clothing, for children's education, construction of house, etc. A sports club formed by a group of individuals, a business run by an individual or a group of individuals, a company running a business in telecom sector, a local authority like Calcutta Municipal Corporation, Delhi Development Authority, Governments, either Central or State, all are carrying some kind of economic activities. Not necessarily all the economic activities are run for any individual benefit; such economic activities may create social benefit i.e. benefit for the public, at large. Anyway, such economic activities are performed through 'transactions and events'. Transaction is used to mean 'a business, performance of an act, an agreement' while event is used to mean 'a happening, as a consequence of transaction(s), a result.'\\nExample 1\\nAn individual invests ₹ 2,00,000 for running a stationery business. On 1st January, he purchases goods for  and sells for  during the month of January. He pays shop rent for the month  and finds that still he has goods worth  in hand. The individual performs an economic activity. He carries on a few transactions and encounters with some events. Is it not logical that he will want to know the result of his activity?\\nWe see that the individual, who runs the stationery business, earns a surplus of ₹ 42,000.\\n\\nEarning of ₹ 42,000 surplus is an event; also having the inventories in hand is another event, while purchase and sale of goods, investment of money and payment of rent are transactions.\\nSimilarly, a municipal corporation got government grant ₹ 500 lakhs for adult education; it spent ₹ 250 lakhs for purchasing literacy kits, paid ₹ 200 lakhs to the tutors and is left with a balance of ₹ 50 lakhs. These are also transactions and events.\\nSimilarly, the Central Government raised money through taxes, paid salaries to the employees, and spent on various developmental activities. Whenever receipts of the Government are more than expenses it has surplus, but if expenses are more than receipts it runs in deficit. Here raising money through various sources can be termed as transaction and surplus or deficit at the end of the accounting year can be termed as an event.\\nA telecom company would need to ensure that it is providing the services for its millions of users for post-paid and pre-paid connections. Each activity done by a user (call, message, data usage) results into an economic event. The entity needs to keep appropriate and timely records to be able to collect money from post-paid connection users for the services availed by them. Likewise, the company will need to ensure that pre-paid connection customers are provided the support and the records confirm how much balance still remains to be utilized.\\nSo, everybody wants to keep records of all transactions and events and to have adequate information about the economic activity as an aid to decision-making. Accounting discipline has been developed to serve this purpose as it deals with the measurement of economic\\nactivities involving inflow and outflow of economic resources, which helps to develop useful information for decision-making process.\\nAccounting has universal application for recording transactions and events and presenting suitable information to aid decision-making regarding any type of economic activity ranging from a family function to functions of the national government. But hereinafter we shall concentrate only on business activities and their accounting because the objective of this study material is to provide a basic understanding on accounting for business activities. Nevertheless, it will give adequate knowledge to think coherently of accounting as a field of study for universal application.\\nThe growth of accounting discipline is closely associated with the development of the business world. Thus, to understand accounting as a field of study for universal application, it is best identified with recording of business transactions and communication of financial information about business enterprise to facilitate decision-making. The aim of accounting is to meet the information needs of the rational and sound decision- makers, and thus, called the language of business.\"},\n",
       " {'key': '1.2.1 Procedural aspects of Accounting',\n",
       "  'value': '1.2.1 Procedural aspects of Accounting\\nOn the basis of the above definitions, procedure of accounting can be basically divided into two parts:\\n(i) Generating financial information and\\n(ii) Using the financial information.\\nGenerating Financial Information\\nRecording - This is the basic function of accounting. All business transactions of a financial character, as evidenced by some documents such as sales bill, pass book, salary slip etc. are recorded in the books of account. Recording is done in a book called \"Journal.\" This book may further be divided into several subsidiary books according to the nature and size of the business. Students will learn how to prepare journal and various subsidiary books in chapter 2.\\nClassifying - Classification is concerned with the systematic analysis of the recorded data, with a view to group transactions or entries of one nature at one place so as to put information in compact and usable form. The book containing classified information is called \"Ledger\". This book contains on different pages, individual account heads under which, all financial transactions of similar nature are collected. For example, there may be separate account heads for Salaries, Rent, Printing and Stationeries, Advertisement etc. All expenses under these heads, after being recorded in the Journal, will be classified under separate heads in the Ledger. This will help in finding out the total expenditure incurred under each of the above heads. Students will learn how to prepare ledger books in chapter 2.\\nSummarising - It is concerned with the preparation and presentation of the classified data in a manner useful to the internal as well as the external users of financial statements. This process leads to the preparation of the financial statements.\\nAnalysing - The term \\'Analysis\\' means methodical classification of the data given in the financial statements. The figures given in the financial statements will not help anyone unless they are in a simplified form. For example, all items relating to fixed assets are put at one place while all items relating to current assets are put at another place. It is concerned with the establishment of relationship between the items of the Profit and Loss Account and Balance Sheet i.e. it provides the basis for interpretation. Students will learn this aspect of financial statements in the later stages of the Chartered Accountancy Course.\\nInterpreting - This is the final function of accounting. It is concerned with explaining the meaning and significance of the relationship as established by the analysis of accounting data. The recorded financial data is analysed and interpreted in a manner that will\\nenable the end-users to make a meaningful judgement about the financial condition and profitability of the business operations. The financial statement should explain not only what had happened but also why it happened and what is likely to happen under specified conditions.\\nCommunicating - It is concerned with the transmission of summarised, analysed and interpreted information to the end-users to enable them to make rational decisions. This is done through preparation and distribution of accounting reports, which include besides the usual profit and loss account and the balance sheet, additional information in the form of accounting ratios, graphs, diagrams, fund flow statements etc. Students will learn this aspect of financial statements in the later stages of the Chartered Accountancy Course.\\nThe first two procedural stages of the process of generating financial information along with the preparation of trial balance are covered under book-keeping while the preparation of financial statements and its analysis, interpretation and also its communication to the various users are considered as accounting stages. Students will learn the term book-keeping and its distinction with accounting, in the coming topics of this unit.'},\n",
       " {'key': '1.3 EVOLUTION OF ACCOUNTING AS A SOCIAL SCIENCE',\n",
       "  'value': \"1.3 EVOLUTION OF ACCOUNTING AS A SOCIAL SCIENCE\\nHistory & Development of Accounting\\nAccounting finds its roots as early as around 4000 BC, where Egyptians used some form of accounting for their treasuries. The in-charge of treasuries had to send day wise reports to their superiors known as Wazirs and monthly reports were sent to kings. Babylonia, known as the city of commerce, used accounting for business to identify the losses that took place due to frauds and lack of efficiency. Greece used accounting to divide the revenues received among treasuries, maintaining receipts, payments and balance of government financial transactions. Romans used memorandum or daybook where in receipts and payments were recorded. (700 B.C to 400 A.D).\\nChina used sophisticated form of government accounting as early as 2000 B.C. Accounting practices in India could be traced back to a period where, Kautilya, a minister in Chandragupta's kingdom wrote a book named Arthashasthra, which also described how accounting records had to be maintained.\\nLuca Pacioli's, a Franciscan friar (merchant class), book Summa de Arithmetica, Geometria, Proportion at Proportionality (Review of Arithmetic and Geometric proportions) in Venice (1494) is considered as the first book on double entry bookkeeping. A portion of this book contains knowledge of business and book-keeping. He used the terms Debit (Dr.) and Credit (Cr.) in his books. These were the concepts used in Italian terminology. Debit comes from the Italian debito which comes from the Latin debita and debeo which means owed to the proprietor. Credit comes from the Italian credito which comes from the Latin 'credo' which means trust or belief (in the proprietor or owed by the proprietor.\\nIn explaining double entry system, Pacioli wrote that 'All entries... have to be double entries, that is if you make one creditor, you must make some debtor'. He also mentioned that a merchant's responsibility is to give glory to God in their enterprises, to be ethical in all business activities and to earn a profit. He discussed the details of memorandum, journal, ledger and specialised accounting procedures.\\nIn its oldest form, accounting aided the stewards to discharge their stewardship function. The wealthy men employed stewards to manage their property; the stewards in turn rendered an account periodically of their stewardship. This 'Stewardship Accounting' was the root of financial accounting system. Although double-entry system was followed, 'stewardship accounting' served the purpose of businessmen and wealthy persons at that time. In most of the countries, stewardship accounting was prevalent till the emergence of large-scale enterprises in the form of public limited companies.\\nIn the second phase, the idea of financial accounting emerged with the concept of joint stock company and divorce of ownership from the management. To safeguard the interest of the shareholders and investors, disclosure of financial statements (mainly, profit and loss account and balance sheet) and other accounting information was moulded by law. Financial statements give periodic performance report by way of profit and loss account and financial position at the end of the period by way of Balance Sheet. It got the legal status due to changing relationships between the owners, economic entity and the managers. With the democratisation of society, the relationships between the enterprise on the one hand, the investors, employees, managers and governments on the other, have also undergone a seachange. Also, the prospective investors and other business contact groups want to know a lot about the business before entering into transactions. Thus, financial accounting emerged as an information system to identify, measure and communicate useful information for informed judgements and decisions by a broad group of users. In the third phase, accounting information was generated to aid management decision- making in particular. It contributed a lot to improve the quality of management decisions. This new dimension of accounting is called Management Accounting and it is the development of 20th Century only. It is pervasive enough to cover all spheres of management decisions.\\nLastly, Social Responsibility Accounting is in the formative process, which aims at accounting for the social cost incurred by business as well as the social benefit, created by it. It emerges from the growing social awareness about the undesirable by-products of economic activities. While earning profit, an enterprise incurs numerous social costs like pollution, using the resources of society like materials, land, labour etc. To compensate for this social cost, in today's world, an enterprise is expected to generate some social benefits also like employment opportunities, recreation activities, more choice to customers at reasonable price, better quality products etc. Therefore, it is demanded that the accounting system should produce a report measuring the social cost incurred and social benefits generated.\\nSocial Science study man as a member of society; they concern about social processes and the results and consequences of social relationships. The usefulness of accounting to society as a whole is the fundamental criterion to treat it as a social science. Although individuals may\\nbenefit from the availability of accounting information, the accounting system generates information for social good. It serves social purpose, it contributes for social progress; also it is being adapted to keep pace with social progress. So, accounting is treated as a social science.\"},\n",
       " {'key': '1.5 FUNCTIONS OF ACCOUNTING',\n",
       "  'value': '1.5 FUNCTIONS OF ACCOUNTING\\nThe main functions of accounting are as follows:\\n(a) Measurement: Accounting measures past performance of the business entity and depicts its current financial position.\\n(b) Forecasting: Accounting helps in forecasting future performance and financial position of the enterprise using past data and analysing trends.\\n(c) Decision-making: Accounting provides relevant information to the users of accounts to aid rational decision-making.\\n(d) Comparison & Evaluation: Accounting assesses performance achieved in relation to targets and discloses information regarding accounting policies and contingent liabilities which play an important role in predicting, comparing and evaluating the financial results.\\n(e) Control: Accounting also identifies weaknesses of the operational system and provides feedbacks regarding effectiveness of measures adopted to check such weaknesses.\\n(f) Government Regulation and Taxation: Accounting provides necessary information to the government to exercise control on the entity as well as in collection of tax revenues.'},\n",
       " {'key': '1.6.1 Objectives of Book-keeping',\n",
       "  'value': '1.6.1 Objectives of Book-keeping\\nComplete Recording of Transactions - It is concerned with complete and permanent record of all transactions in a systematic and logical manner to show its financial effect on the business.\\nAscertainment of financial Effect on the Business - It is concerned with the combined effect of all the transactions made during the accounting period upon the financial position of the business as a whole.'},\n",
       " {'key': '1.8 SUB-FIELDS OF ACCOUNTING',\n",
       "  'value': '1.8 SUB-FIELDS OF ACCOUNTING\\nThe various sub-fields of accounting are:\\n(i) Financial Accounting - It covers the preparation and interpretation of financial statements and communication to the users of accounts. It is historical in nature as it records transactions which had already been occurred. The final step of financial accounting is the preparation of Profit and Loss Account and the Balance Sheet. It primarily helps in determination of the net result for an accounting period and the financial position as on the given date.\\n(ii) Management Accounting - It is concerned with internal reporting to the managers of a business unit. To discharge the functions of stewardship, planning, control and decision- making, the management needs variety of information. The different ways of grouping information and preparing reports as desired by managers for discharging their functions are referred to as management accounting. A very important component of the management accounting is cost accounting which deals with cost ascertainment and cost control. Management Accounting will be dealt with at higher levels of the Chartered Accountancy Course.\\n(iii) Cost Accounting - The terminology of Cost Accounting published by the Institute of Cost and Management Accountants of England defines cost accounting as:\\n\"the process of accounting for cost which begins with the recording of income and expenditure or the bases on which they are calculated and ends with the preparation of periodical statements and reports for ascertaining and controlling costs.\"\\n(iv) Social Responsibility Accounting - The demand for social responsibility accounting stems from increasing social awareness about the undesirable by-products of economic activities. As already discussed earlier, social responsibility accounting is concerned with accounting for social costs incurred by the enterprise and social benefits created.\\n(v) Human Resource Accounting - Human resource accounting is an attempt to identify, quantify and report investments made in human resources of an organisation that are not presently accounted for under conventional accounting practice.'},\n",
       " {'key': '1.10 RELATIONSHIP OF ACCOUNTING WITH OTHER DISCIPL',\n",
       "  'value': \"1.10 RELATIONSHIP OF ACCOUNTING WITH OTHER DISCIPLINES\\nAccounting is closely related with several other disciplines and thus to acquire a good knowledge in accounting one should be conversant with the relevant portions of such disciplines. In many cases they overlap accounting. The accountant should have a working knowledge of the related disciplines so that he can understand such overlapping areas and apply the knowledge of other disciplines in his own work wherever possible, or he can take the expert advice.\\n(a) Accounting and Economics: Economics is viewed as a science of rational decisionmaking about the use of scarce resources. It is concerned with the analysis of efficient use of scarce resources for satisfying human wants. This may be viewed either from the perspective of a single firm or of the country as a whole.\\nAccounting is viewed as a system, which provides data to the users to permit informed judgement and decisions. Some non-accounting data are also relevant for decisionmaking.\\nAccounting overlaps economics in many respects. It contributed a lot in improving the management decision-making process. But, economic theories influenced the development of the decision-making tools used in accounting.\\nHowever, there exists a wide gulf between economists' and accountants' concepts of income and capital. Accountants got the ideas of value, income and capital maintenance from economists, but brushed suitably to make them usable in practical circumstances. Accountants developed the valuation, measurement and decisionmaking techniques which may owe to the economic theorems for origin but these are moulded in the work environment and suitably tempered with reference to relevance, verifiability, freedom from bias, timeliness, comparability, reliability and understandability.\\nAn example may be given to explain the nexus between accounting and economics. Economists think that value of an asset is the present value of all future earnings which can be derived from such assets. Now think about a plant whose working life is more than one hundred years. How can you estimate future stream of earnings? So accountants developed the workable valuation base - the acquisition cost i.e., the price paid to acquire the assets.\\nAt the macro-level, accounting provides the database over which the economic decision models have been developed; micro-level data arranged by the accounting system is summed up to get macro-level database.\\nNon-overlapping zones of accounting are not negligible. Development of the systems of recording, classifying and summarising transactions and events, harmonising the systems by uniform rules and communicating the data is essentially a non-overlapping area of accounting.\\n(b) Accounting and Statistics: The use of statistics in accounting can be appreciated better in the context of the nature of accounting records. Accounting information is very precise; it is exact to the last paisa. But, for decision-making purposes such precision is not necessary and hence, the statistical approximations are sought.\\nIn accounts, all values are important individually because they relate to business transactions. As against this, statistics is concerned with the typical value, behaviour or trend over a period of time or the degree of variation over a series of observations. Therefore, wherever a need arises for only broad generalisations or the average of relationships, statistical methods have to be applied in accounting data.\\nFurther, in accountancy, the classification of assets and liabilities as well as the heads of income and expenditure has been done as per the needs of financial recording to ascertain financial results of various operations. Other types of classification like the geographical and historical ones and ad hoc classification are done depending on the purpose to make such classification meaningful.\\nAccounting records generally take a short-term view of events and are confined to a year while statistical analysis is more useful if a longer view is taken for the purpose. For example, to fit the trend line a longer period will be required. However, statistical methods do use past accounting records maintained on a consistent basis.\\nThe functional relations showing mathematical relations of one variable with one or more other variables are based on statistical work. These relations are used widely in making cost or price estimates for some estimated future values assigned to the given independent variables. For example, given the functional relation of total cost to the price of an input, the effect of changes in future prices on the cost of production can be calculated.\\nIn accountancy, a number of financial and other ratios are based on statistical methods, which help in averaging them over a period of time. Several accounting and financial calculations are based on statistical formulae.\\nStatistical methods are helpful in developing accounting data and in their interpretation. For example, time series and cross-sectional comparison of accounting data is based on statistical techniques. Now- a-days multiple discriminate analysis is popularly used to identify symptoms of sickness of a business firm. Therefore, the study and application of statistical methods would add extra edge to the accounting data.\\n(c) Accounting and Mathematics: Double Entry book-keeping can be converted in algebraic form; in fact the first known book on this subject was part of a treatise on algebra. The fundamental accounting equation will be discussed in detail under 'Dual Aspect Concept' of this chapter.\\nKnowledge of arithmetic and algebra is a pre-requisite for accounting computations and measurements. Calculations of interest and annuity are the examples of such fundamental uses. While computing depreciation, finding out installments in hirepurchase and instalments payment transactions, calculating amount to be set aside for repayment of loan and replacement of assets and calculating lease rentals, mathematical techniques are frequently used. Accounting data are also presented in ratio form.\\nWith the advent of the computer, mathematics is becoming a vital part of accounting. Instead of writing accounts in traditional fashion, the transactions and events can be recorded in the matrix form and the rules of matrix algebra can be applied for classifying and summarising data.\\nNow-a-days statistics and econometric models are largely used for developing decision models for the users of accounts. Also, Operations Research Techniques provide lot of decision models. Since accounting is meant for providing information to the users, to be effective, accounting data should feed the information requirements of such statistical, econometric and operations research models. Understanding mathematics has become a must to grasp the decision models framed by statisticians, econometricians and the O.R. experts.\\nPresently graphs and charts are being extensively used for communicating accounting information. In addition to statistical knowledge, knowledge in geometry and trigonometry seems to be essential to have a better understanding about the accounting communications system.\\n(d) Accounting and Law: An economic entity operates within a legal environment. All transactions with suppliers and customers are governed by the Contract Act, the Sale of Goods Act, the Negotiable Instruments Act, etc. The entity itself is created and controlled by laws. For example, a company is created by the Companies Act and also controlled by Companies Act.\\nSimilarly, every country has a set of economic, fiscal and labour laws. Transactions and events are always guided by laws of the land. Very often the accounting system to be followed has been prescribed by the law. For example, the Companies Act has prescribed the format of financial statements for companies.\\nBanking, insurance and electric supply undertakings may also have to produce financial statements as prescribed by the respective legislations controlling such entities.\\nHowever, legal prescription about the accounting system is the product of developments in accounting knowledge. That is to say, legislation about accounting system cannot be enacted unless there is a corresponding development in the accounting discipline. In that way accounting influences law and is also influenced by law.\\n(e) Accounting and Management: Management is a broad occupational field, which comprises many functions and encompasses application of many disciplines including those mentioned above. Accountants are well placed in the management and play a key role in the management team. A large portion of accounting information is prepared for management decision-making. Although management relies on other data sources, accounting data are used as basic source documents. In the management team, an accountant is in a better position to understand and use such data. In other words, since an accountant plays an active role in management, he understands the data requirements. So the accounting system can be moulded to serve the management purpose.\"},\n",
       " {'key': '1.12.1 Areas of Service',\n",
       "  'value': '1.12.1 Areas of Service\\nThe practice of accountancy has crossed its usual domain of preparation of financial statements, interpretation of such statements and audit thereof. Accountants are presently taking active role in company laws and other corporate legislation matters, in taxation laws matters (both direct and indirect) and in general management problems. Some of the services rendered by accountants to the society are briefly mentioned hereunder:\\n(i) Maintenance of Books of Accounts: An accountant is able to maintain a systematic record of financial transactions in order to establish the net result of the transactions entered into during a period and to state the financial position of the concern as at a particular date.\\nFor the fulfillment of the twin objective of ascertaining the profit earned or loss suffered and the financial position, it is necessary that all transactions be recorded in a systematic manner, which can be done only by an accountant. Proper maintenance of books of accounts assists management in planning, decision-making, controlling functions.\\n(ii) Statutory Audit: Every limited company is required to appoint a chartered accountant or a firm of chartered accountants as their auditor who are statutorily required to report each year whether in their opinion the balance sheet shows a true and fair view of the state of affairs on the balance sheet date, and the profit and loss account shows a true and fair view of the profit or loss for the year.\\nAuditing is not confined to the accounts of companies; other organisations may also have their accounts audited, either because the law so requires (for example, the Co-operative Societies Act, the Income-tax Act, etc.) or because the proprietors wisely decided so (for example, a partnership firm or an individual trader).\\n(iii) Internal Audit: It is a management tool whereby an internal auditor thoroughly examines the accounting transactions and also the system, according to which these have been recorded with a view to ensure the management that the accounts are being properly maintained and the system contains adequate safeguards to check any leakage of revenue or misappropriation of property or assets and the operations have been carried out in conformity with the plans of management.\\nNow-a-days internal auditing has developed as a service to management. The internal auditor constructively contributes in improving the operational efficiency of the business through an independent review and appraisal of all business operations.\\n(iv) Taxation: An accountant can handle taxation matters of a business or a person and he can represent that business or person before the tax authorities and settle the tax liability\\nunder the statute prevailing. He can also assist in avoiding or reducing tax burden by proper planning of tax affairs.\\nAccountants also have a social obligation to express their views on broad tax policy, on the effect of tax rate on business and the economy in general and on all other aspects of taxation in which they have knowledge superior to that of the general public.\\n(v) Management Accounting and Consultancy Services: Management accountant performs an advisory function. He is largely responsible for internal reporting to the management for planning and controlling current operations, decision-making on special matters and for formulating long-range plans. His job is to collect, analyse, interpret and present all accounting information which is useful to the management. Accountant provides management consultancy services in the areas of management information system, expenditure control and evaluation of appraisal techniques for new investments and divestments, working capital management, corporate planning etc.\\n(vi) Financial Advice: Many people need help and guidance in planning their personal financial affairs. An accountant who knows about finances, taxation and family problems is well placed to give such advice. Some of the areas in which an accountant can render financial advice are:\\n(a) Investments: An accountant can explain the significance of the formidable documents which shareholders receive from companies and help in making decisions relating to their investments.\\n(b) Insurance: An accountant can provide information to his clients on various insurance policies and helps in choosing appropriate policy.\\n(c) Business Expansion: As businesses grow in size and complexity and mergers are being considered, accountants are in the forefront in interpreting accounts, making suggestions as to the form of schemes and the fairness of proposals considering cost and financial consequences and generally advising their clients. They also advise on how to set about the problem of borrowing money or whether this is an appropriate method of finance. Accountants can render extremely useful service in connection of negotiations with foreign collaborators.\\n(d) Investigations: Financial investigations are required for a variety of purposes. Examples are:\\n(i) To ascertain the financial position of a business, for the information of interested parties in connection with an issue of capital, the purchase or sale of the business or a reconstruction or amalgamation.\\n(ii) To help the management to decide whether it is cheaper to manufacture an article or to buy out.\\n(iii) To ascertain why profits have fallen.\\n(iv) To achieve greater efficiency in management.\\n(v) To ascertain whether fraud has occurred and if so, its nature and extent and to make suggestions which will help to prevent a recurrence.\\n(vi) To value businesses and shares in private companies for purposes such as purchase, sale, estate duty or wealth tax etc.\\nFor such problems requiring financial investigation, you need an accountant. His task as an independent professional is to establish the facts fairly and clearly for the benefit of those who have to make decisions and to give advice in many areas in which he has competence and experience.\\n(e) Pension schemes: Specialist advice from actuaries, insurance agents or insurance company is needed before launching or amending a provident fund or pension scheme in a business. But before making a final decision, an accountant has to be consulted. Later on, his help may be needed for managing the scheme or obtaining tax relief.'},\n",
       " {'key': '1.12.2 Chartered Accountant in Industry',\n",
       "  'value': \"1.12.2 Chartered Accountant in Industry\\nAn accountant, though he is a part of the highest planning team is not a planner in an industry. He works with the functional departments and translates the organisation's aims in terms of financial expectations. Therefore, he has to make a thorough study of the business and of individuals in the functional departments, whether they are engineers or salesmen. A qualified accountant will be able to play an important role in performing important functions of a business relating to accounting, costing and budgetary control, estimating and treasury.\\n1.12.3 Chartered Accountant in Public Sector Enterprises\\nBoth in the developed and developing countries, public sector enterprises have become a special feature of the national economy. The system of financial and budgetary control and of accounting, auditing and reporting has, therefore, become a matter of interest and concern to the nation, and does not remain confined merely to a limited number of shareholders. The form of accounting followed by these corporations or companies is different from that of ordinary government accounting. It is the duty of the accountants to prepare the accounts and reports of these public corporations in such a way that they enable the general public to know how far the items appearing in the various types of records and financial statements justify their existence.\\n1.12.4 Chartered Accountant in Framing Fiscal Policies\\nAccountants have a positive role to play in the determination of proper fiscal policies and advancement of trade, commerce and industry. They should develop new techniques and prepare themselves for new fields of service towards their commitment to the concept of the public goods and services. A business enterprise can be successful in the commercial sense only if accounting and business knowledge are pooled together. It is a social obligation for both accountants in industry and in practice to disclose greater information regarding the corporate results. The state of affairs of the economy can be ascertained only when such consolidated corporate information is disclosed.\\n1.12.5 Chartered Accountant and Economic Growth\\nIn the present times accountants should conceive their duties as broadly as the conditions might require and do not restrict them to only literal compliance of the law. Their aim should be not to allow any individual to gain at the cost of the nation. Accountants have to accept a positive role and do their best to encourage efficiency in individual business units and encourage those social objectives which form the main foundation of a welfare state.\"}]"
      ]
     },
     "execution_count": 196,
     "metadata": {},
     "output_type": "execute_result"
    }
   ],
   "source": [
    "# Convert text_blocks dictionary to a list of documents\n",
    "documents = [{\"key\": key, \"value\": value} for key, value in text_blocks.items()]\n",
    "\n",
    "documents\n"
   ]
  },
  {
   "cell_type": "code",
   "execution_count": 198,
   "metadata": {},
   "outputs": [
    {
     "data": {
      "text/plain": [
       "InsertManyResult([ObjectId('673b495cdebef72274e978ab'), ObjectId('673b495cdebef72274e978ac'), ObjectId('673b495cdebef72274e978ad'), ObjectId('673b495cdebef72274e978ae'), ObjectId('673b495cdebef72274e978af'), ObjectId('673b495cdebef72274e978b0'), ObjectId('673b495cdebef72274e978b1'), ObjectId('673b495cdebef72274e978b2'), ObjectId('673b495cdebef72274e978b3'), ObjectId('673b495cdebef72274e978b4')], acknowledged=True)"
      ]
     },
     "execution_count": 198,
     "metadata": {},
     "output_type": "execute_result"
    }
   ],
   "source": [
    "cap1_collection.insert_many(documents=documents)"
   ]
  },
  {
   "cell_type": "code",
   "execution_count": 199,
   "metadata": {},
   "outputs": [
    {
     "data": {
      "text/plain": [
       "<pymongo.synchronous.cursor.Cursor at 0x10a7d0170>"
      ]
     },
     "execution_count": 199,
     "metadata": {},
     "output_type": "execute_result"
    }
   ],
   "source": [
    "cap1_collection.find({})"
   ]
  },
  {
   "cell_type": "code",
   "execution_count": null,
   "metadata": {},
   "outputs": [],
   "source": []
  }
 ],
 "metadata": {
  "kernelspec": {
   "display_name": "learn-fastapi-9ibX4H3i-py3.12",
   "language": "python",
   "name": "python3"
  },
  "language_info": {
   "codemirror_mode": {
    "name": "ipython",
    "version": 3
   },
   "file_extension": ".py",
   "mimetype": "text/x-python",
   "name": "python",
   "nbconvert_exporter": "python",
   "pygments_lexer": "ipython3",
   "version": "3.12.5"
  }
 },
 "nbformat": 4,
 "nbformat_minor": 2
}
