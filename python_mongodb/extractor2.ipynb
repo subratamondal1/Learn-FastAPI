{
 "cells": [
  {
   "cell_type": "markdown",
   "metadata": {},
   "source": [
    "# Extractor"
   ]
  },
  {
   "cell_type": "markdown",
   "metadata": {},
   "source": [
    "## Setup MongoDB"
   ]
  },
  {
   "cell_type": "code",
   "execution_count": 2,
   "metadata": {},
   "outputs": [],
   "source": [
    "from pymongo import MongoClient"
   ]
  },
  {
   "cell_type": "code",
   "execution_count": 3,
   "metadata": {},
   "outputs": [
    {
     "data": {
      "text/plain": [
       "['admin', 'ca', 'config', 'courses', 'local', 'my_store', 'subrata', 'test']"
      ]
     },
     "execution_count": 3,
     "metadata": {},
     "output_type": "execute_result"
    }
   ],
   "source": [
    "client = MongoClient(host=\"localhost\", port=27017)\n",
    "client.list_database_names()"
   ]
  },
  {
   "cell_type": "code",
   "execution_count": 4,
   "metadata": {},
   "outputs": [
    {
     "name": "stdout",
     "output_type": "stream",
     "text": [
      "['CA-Inter-P5 - Chapter 2 - Audit Strategy, Audit Planning and Audit Programme', 'CA-P1-M1-C1-U1-Theory']\n"
     ]
    }
   ],
   "source": [
    "courses_db = client.get_database(\"courses\")\n",
    "\n",
    "print(courses_db.list_collection_names())"
   ]
  },
  {
   "cell_type": "code",
   "execution_count": 5,
   "metadata": {},
   "outputs": [
    {
     "data": {
      "text/plain": [
       "{'ok': 1.0}"
      ]
     },
     "execution_count": 5,
     "metadata": {},
     "output_type": "execute_result"
    }
   ],
   "source": [
    "courses_db.drop_collection(\n",
    "    name_or_collection=\"CA-Inter-P5 - Chapter 1 - Nature, Objective and Scope of Audit\"\n",
    ")"
   ]
  },
  {
   "cell_type": "code",
   "execution_count": 6,
   "metadata": {},
   "outputs": [
    {
     "data": {
      "text/plain": [
       "{'ok': 1.0}"
      ]
     },
     "execution_count": 6,
     "metadata": {},
     "output_type": "execute_result"
    }
   ],
   "source": [
    "courses_db.drop_collection(\n",
    "    name_or_collection=\"CA-Inter-P5 - Chapter 1 - Nature, Objective and Scope of Audit\"\n",
    ")"
   ]
  },
  {
   "cell_type": "code",
   "execution_count": 7,
   "metadata": {},
   "outputs": [
    {
     "name": "stdout",
     "output_type": "stream",
     "text": [
      "['CA-Inter-P5 - Chapter 2 - Audit Strategy, Audit Planning and Audit Programme', 'CA-P1-M1-C1-U1-Theory']\n"
     ]
    }
   ],
   "source": [
    "print(courses_db.list_collection_names())"
   ]
  },
  {
   "cell_type": "code",
   "execution_count": 8,
   "metadata": {},
   "outputs": [],
   "source": [
    "ca_inter_p5_c1_collection = courses_db.get_collection(\n",
    "    name=\"CA-Inter-P5 - Chapter 1 - Nature, Objective and Scope of Audit\"\n",
    ")"
   ]
  },
  {
   "cell_type": "code",
   "execution_count": 9,
   "metadata": {},
   "outputs": [
    {
     "data": {
      "text/plain": [
       "<pymongo.synchronous.cursor.Cursor at 0x10445aba0>"
      ]
     },
     "execution_count": 9,
     "metadata": {},
     "output_type": "execute_result"
    }
   ],
   "source": [
    "ca_inter_p5_c1_cursor = ca_inter_p5_c1_collection.find({})\n",
    "ca_inter_p5_c1_cursor"
   ]
  },
  {
   "cell_type": "code",
   "execution_count": 11,
   "metadata": {},
   "outputs": [],
   "source": [
    "for document in ca_inter_p5_c1_cursor:\n",
    "    print(document)"
   ]
  },
  {
   "cell_type": "code",
   "execution_count": 10,
   "metadata": {},
   "outputs": [],
   "source": [
    "from docx import Document\n",
    "from typing import List, Dict\n",
    "\n",
    "\n",
    "class DocxExtractor:\n",
    "    def __init__(self, file_path: str):\n",
    "        self.file_path = file_path\n",
    "        self.document = Document(docx=file_path)\n",
    "\n",
    "    def extract_full_text(self) -> str:\n",
    "        return \"\\n\".join([para.text for para in self.document.paragraphs])\n",
    "\n",
    "    def split_into_blocks(self, full_text: str) -> List[str]:\n",
    "        return full_text.split(\"****\")\n",
    "\n",
    "\n",
    "class TextBlockProcessor:\n",
    "    @staticmethod\n",
    "    def process_blocks(blocks: List[str]) -> Dict[str, str]:\n",
    "        text_blocks = {}\n",
    "\n",
    "        # Skip the first empty block (before the first '****')\n",
    "        blocks = [block.strip() for block in blocks if block.strip()]\n",
    "\n",
    "        if blocks:\n",
    "            # Extract chapter name up to the first newline\n",
    "            first_block = blocks[0]\n",
    "            chapter_name, _, remaining = first_block.partition(\"\\n\")\n",
    "            text_blocks[\"chapter_name\"] = chapter_name.strip()\n",
    "\n",
    "            # Add the remaining content of the first block as the first section\n",
    "            if remaining:\n",
    "                text_blocks[\"1\"] = remaining.strip()\n",
    "\n",
    "            # Process the rest of the blocks\n",
    "            for i, block in enumerate(blocks[1:], start=2):\n",
    "                text_blocks[str(i)] = block\n",
    "\n",
    "        return text_blocks\n",
    "\n",
    "\n",
    "def extract_text_blocks(file_path: str) -> Dict[str, str]:\n",
    "    extractor = DocxExtractor(file_path=file_path)\n",
    "    full_text = extractor.extract_full_text()\n",
    "    blocks = extractor.split_into_blocks(full_text=full_text)\n",
    "    return TextBlockProcessor.process_blocks(blocks=blocks)\n"
   ]
  },
  {
   "cell_type": "code",
   "execution_count": 12,
   "metadata": {},
   "outputs": [],
   "source": [
    "ca_inter_p5_c1_docx = extract_text_blocks(\n",
    "    file_path=\"CA-Inter-P5 - Chapter 1 - Nature, Objective and Scope of Audit.docx\"\n",
    ")"
   ]
  },
  {
   "cell_type": "code",
   "execution_count": null,
   "metadata": {},
   "outputs": [],
   "source": []
  },
  {
   "cell_type": "code",
   "execution_count": 14,
   "metadata": {},
   "outputs": [],
   "source": [
    "ANSWERS_PROMPT = \"\"\"Given the following text and a set of questions, generate detailed answers to each question based exclusively on the content provided in the text. Your answers should:\n",
    " \n",
    "- Be accurate and directly reference information from the text.\n",
    "- Avoid using any external knowledge or information not present in the text.\n",
    "- Be clear and concise.\n",
    " \n",
    "Your output must be in JSON format, structured as an array of objects. Each object should contain the following two fields:\n",
    " \n",
    "- \"question\": The question text.\n",
    "- \"answer\": The answer to the question based on the input text.\n",
    " \n",
    "**Requirements:**\n",
    " \n",
    "- Answer each question thoroughly using only the information from the input text.\n",
    "- Do not include any introductions, explanations, or conclusions in your output.\n",
    "- The output should be strictly in JSON format without any additional text.\n",
    " \n",
    "**Input Text:**\n",
    " \n",
    "[Insert the study material text here.]\n",
    " \n",
    "**Questions:**\n",
    " \n",
    "[Insert 4-5 questions here.]\"\"\""
   ]
  },
  {
   "cell_type": "markdown",
   "metadata": {},
   "source": [
    "```json\n",
    "{\n",
    "  \"_id\": ObjectId(),\n",
    "  \"chapterName\": \"Chapter Name\",\n",
    "  \"sections\": [\n",
    "    {\n",
    "      \"sectionNumber\": \"1\",\n",
    "      \"content\": \"Section content\",\n",
    "      \"questions\": [],\n",
    "      \"questionAnswerPairs\": []\n",
    "    },\n",
    "    {\n",
    "      \"sectionNumber\": \"2\",\n",
    "      \"content\": \"Section content\",\n",
    "      \"questions\": [],\n",
    "      \"questionAnswerPairs\": []\n",
    "    },\n",
    "    // More sections...\n",
    "  ]\n",
    "}\n",
    "````"
   ]
  },
  {
   "cell_type": "markdown",
   "metadata": {},
   "source": [
    "```python\n",
    "from pymongo import MongoClient\n",
    "from bson import ObjectId\n",
    "\n",
    "# Connect to MongoDB\n",
    "client = MongoClient(\"mongodb://localhost:27017/\")\n",
    "db = client[\"course_database\"]\n",
    "\n",
    "\n",
    "def create_chapter_collection(chapter_name):\n",
    "    \"\"\"Create a new collection for a chapter.\"\"\"\n",
    "    collection_name = f\"chapter_{chapter_name.replace(' ', '_').lower()}\"\n",
    "    return db[collection_name]\n",
    "\n",
    "\n",
    "def insert_initial_chapter(collection, chapter_data):\n",
    "    \"\"\"Insert the initial chapter data extracted from DOCX.\"\"\"\n",
    "    chapter_document = {\n",
    "        \"chapterName\": chapter_data[\"chapter_name\"],\n",
    "        \"sections\": [\n",
    "            {\n",
    "                \"sectionNumber\": str(k),\n",
    "                \"content\": v,\n",
    "                \"questions\": [],\n",
    "                \"questionAnswerPairs\": [],\n",
    "            }\n",
    "            for k, v in chapter_data.items()\n",
    "            if k != \"chapter_name\"\n",
    "        ],\n",
    "    }\n",
    "    result = collection.insert_one(chapter_document)\n",
    "    return result.inserted_id\n",
    "\n",
    "\n",
    "def get_chapter(collection, chapter_id):\n",
    "    \"\"\"Retrieve a chapter document.\"\"\"\n",
    "    return collection.find_one({\"_id\": chapter_id})\n",
    "\n",
    "\n",
    "def update_section_questions(collection, chapter_id, section_number, questions):\n",
    "    \"\"\"Update a section with generated questions.\"\"\"\n",
    "    collection.update_one(\n",
    "        {\"_id\": chapter_id, \"sections.sectionNumber\": section_number},\n",
    "        {\"$set\": {\"sections.$.questions\": questions}},\n",
    "    )\n",
    "\n",
    "\n",
    "def update_section_qa_pairs(collection, chapter_id, section_number, qa_pairs):\n",
    "    \"\"\"Update a section with generated question-answer pairs.\"\"\"\n",
    "    collection.update_one(\n",
    "        {\"_id\": chapter_id, \"sections.sectionNumber\": section_number},\n",
    "        {\"$set\": {\"sections.$.questionAnswerPairs\": qa_pairs}},\n",
    "    )\n",
    "\n",
    "\n",
    "def generate_questions(section_content):\n",
    "    \"\"\"Placeholder for question generation logic.\"\"\"\n",
    "    # Implement your question generation logic here\n",
    "    return [\"Generated Question 1\", \"Generated Question 2\"]\n",
    "\n",
    "\n",
    "def generate_qa_pairs(questions):\n",
    "    \"\"\"Placeholder for question-answer pair generation logic.\"\"\"\n",
    "    # Implement your QA pair generation logic here\n",
    "    return [{\"question\": q, \"answer\": f\"Answer to {q}\"} for q in questions]\n",
    "```"
   ]
  },
  {
   "cell_type": "code",
   "execution_count": 15,
   "metadata": {},
   "outputs": [
    {
     "data": {
      "text/plain": [
       "['admin', 'ca', 'config', 'courses', 'local', 'my_store', 'subrata', 'test']"
      ]
     },
     "execution_count": 15,
     "metadata": {},
     "output_type": "execute_result"
    }
   ],
   "source": [
    "ca_db = client[\"ca\"]\n",
    "client.list_database_names()"
   ]
  },
  {
   "cell_type": "code",
   "execution_count": 16,
   "metadata": {},
   "outputs": [
    {
     "data": {
      "text/plain": [
       "['ca_inter_p5_c1']"
      ]
     },
     "execution_count": 16,
     "metadata": {},
     "output_type": "execute_result"
    }
   ],
   "source": [
    "ca_inter_p5_c1_collection = ca_db[\"ca_inter_p5_c1\"]\n",
    "ca_db.list_collection_names()"
   ]
  },
  {
   "cell_type": "code",
   "execution_count": 17,
   "metadata": {},
   "outputs": [
    {
     "data": {
      "text/plain": [
       "'CHAPTER 1 -  NATURE, OBJECTIVE AND SCOPE OF ADULT'"
      ]
     },
     "execution_count": 17,
     "metadata": {},
     "output_type": "execute_result"
    }
   ],
   "source": [
    "ca_inter_p5_c1_docx[\"chapter_name\"]"
   ]
  },
  {
   "cell_type": "code",
   "execution_count": 18,
   "metadata": {},
   "outputs": [],
   "source": [
    "def insert_initial_chapter(collection, chapter_data):\n",
    "    \"\"\"Insert the initial chapter data extracted from DOCX.\"\"\"\n",
    "    chapter_document = {\n",
    "        \"chapter_name\": chapter_data[\"chapter_name\"],\n",
    "        \"sections\": [\n",
    "            {\n",
    "                \"section_number\": str(key),\n",
    "                \"content\": value,\n",
    "                \"questions\": [],\n",
    "                \"question_answer_pairs\": [],\n",
    "            }\n",
    "            for key, value in chapter_data.items()\n",
    "            if key != \"chapter_name\"\n",
    "        ],\n",
    "    }\n",
    "    result = collection.insert_one(chapter_document)\n",
    "    return result.inserted_id"
   ]
  },
  {
   "cell_type": "code",
   "execution_count": 19,
   "metadata": {},
   "outputs": [
    {
     "data": {
      "text/plain": [
       "ObjectId('67446637a238f1fdec0eff32')"
      ]
     },
     "execution_count": 19,
     "metadata": {},
     "output_type": "execute_result"
    }
   ],
   "source": [
    "insert_initial_chapter(\n",
    "    collection=ca_inter_p5_c1_collection,\n",
    "    chapter_data=ca_inter_p5_c1_docx,\n",
    ")"
   ]
  },
  {
   "cell_type": "code",
   "execution_count": 80,
   "metadata": {},
   "outputs": [
    {
     "name": "stdout",
     "output_type": "stream",
     "text": [
      "{'_id': ObjectId('67446637a238f1fdec0eff32'), 'chapter_name': 'CHAPTER 1 -  NATURE, OBJECTIVE AND SCOPE OF ADULT', 'sections': [{'section_number': '1', 'content': \"INTRODUCTION\\nWhat do such real-life situations highlight? Such instances underline importance of auditing in today's complex business environment. Be it investors desirous of investing their money in companies, shareholders anxious to know financial position of companies they have invested in, banks or financial institutions willing to lend funds to credit-worthy organizations, governments desirous of collecting taxes from trade and industry in accordance with applicable laws, trade unions negotiating with corporate managements for better wages or insurance companies wanting to settle property claims caused by fire or other disasters - range of diverse users in equally diverse fields rely upon audited financial statements.\\nCan you figure out reason behind such reliance? It is due to the fact that audited financial statements provide confidence to users of financial statements; audited financial statements provide assurance to users who may take their decisions on the basis of such audited financial statements. Herein lies the importance of auditing. You can very well understand how significant is role of auditing profession and auditors in modern world involving multitude of economic activities being carried out in equally dynamic legal and regulatory environments.\\nHere, comes a vital question. What do we mean by auditing? What is its nature and scope? What it includes and What it does not? What are its limitations? We shall try to find out answers to these questions in succeeding paras.\", 'questions': [], 'question_answer_pairs': []}, {'section_number': '2', 'content': 'ORIGIN OF AUDITING\\nBefore we get to understand meaning and nature of auditing, let\\'s travel back in time to know about origin of auditing. Auditing has existed even in ancient times in many societies of world including India. The reference to auditing is found in Kautilya\\'s Arthshastra even in  century BC. It talks about fixed accounting year, a process for closure of accounts and audit for the same. Concepts of periodical checking and verification existed even in those times. Even there are references in his monumental work to misstatements in financial statements due to abuse of power. Wasn\\'t he far ahead of his times?\\nThe word \"audit\" originates from Latin word \"audire\" meaning \"to hear\". In medieval times, auditors used to hear the accounts read out to them to check that employees were not careless and negligent. Industrial revolution in Europe led to astronomical expansion in volume of trade and consequently demand of auditors.\\nComing to more recent history, the first Auditor General of India was appointed in British India in 1860 having both accounting and auditing functions. Later on, office of Auditor General was given statutory recognition. Presently, Comptroller and Auditor General of India is an independent constitutional authority responsible for auditing government receipts and expenditures.\\nThe Institute of Chartered Accountants of India was established as a statutory body under an Act of Parliament in 1949 for regulating the profession of Chartered Accountancy in the country.', 'questions': [], 'question_answer_pairs': []}, {'section_number': '3', 'content': 'MEANING AND NATURE OF AUDITING\\n\"An audit is an independent examination of financial information of any entity, whether profit oriented or not, and irrespective of its size or legal form, when such an examination is conducted with a view to expressing an opinion thereon\".\\nAn incisive analysis of above meaning of auditing brings out following points clearly: -\\nAudit is an independent examination of financial information.\\nIndependence, here, implies that the judgement of a person is not subordinate to \\tthe wishes or direction of another person who might have engaged him. The \\tauditor should be independent of entity whose financial statements are subject to \\taudit so that he can form an opinion without being affected by any influence. \\tIndependence increases auditor\\'s ability to act objectively without creeping in of \\tany biases.\\nConsider, for example, a person who requests his brother, a Chartered Accountant,to audit accounts of his proprietary concern and issue a report. Can CA audit accounts of concern in which his brother is sole proprietor? No, he cannot. It is due to the fact that there would be no independence in such a case due to relationship by birth between CA and his brother. He would be subject to influence from his brother.\\nTake another case where a CA has invested in shares of a company. Can he audit \\taccounts of such a company in which he holds shares? The answer is resounding \\tNO. It is due to the fact that by holding shares of the company, his own self-\\tinterest gets involved. His own money is invested in the company and he may not \\tbe able to form judgment independently on the financial statements of the \\tcompany.\\nThe entity whose financial information is examined need not necessarily be profit oriented like in case of a business. It can be a non-profit organization like an NGO or a charitable trust. Audit can be undertaken in respect of any organization be it a small, medium or large. Further, it can be conducted for any entity irrespective of its legal structure i.e. such an entity may be a proprietary concern, a partnership firm, a LLP, a private company, a public company, a society or a trust.\\nThe purpose of audit is to express an opinion on the financial statements.\\nUnderstand that preparation and presentation of financial statements of an entity is responsibility of management of entity. The auditor expresses an opinion on financial statements by means of written audit report.\\nIn doing so, he has to see that financial statements would not mislead anybody by ensuring that: -\\nthe accounts have been drawn up with reference to entries in the books of account;\\nthe entries in the books of account are adequately supported by sufficient and appropriate evidence;\\nnone of the entries in the books of account has been omitted in the process of compilation;\\nthe information conveyed by the statements is clear and unambiguous;\\nthe financial statement amounts are properly classified, described and disclosed in conformity with accounting standards; and\\nthe statement of accounts presents a true and fair picture of the operational results and of the assets and liabilities.\\nAuditing provides assurance. Its basic nature lies in providing assurance to users providing confidence to users of financial statements. Such an assurance lends credibility to financial statements. Audited financial statements provide confidence to users that financial information reflected in financial statements can be relied upon.', 'questions': [], 'question_answer_pairs': []}, {'section_number': '4', 'content': 'INTERDISCIPLINARY NATURE OF AUDITING         RELATIONSHIP WITH DIVERSE SUBJECTS\\nAuditing is interdisciplinary in nature. It draws from diverse subjects including accountancy, law, behavioural science, statistics, economics and financial management and makes use of these subjects. Since audit of financial statements is concerned with financial information, a sound knowledge of accounting principles is a fundamental requirement for an auditor of financial statements to conduct audit and express an opinion. Similarly, good knowledge of business laws and various taxation laws helps auditor to understand financial statements in a better way in accordance with applicable laws.\\nDuring course of audit, auditor has to interact with lot of persons for seeking information and making inquiries. This can be done only if one has knowledge of human behaviour. Auditors use statistical methods to draw samples in a scientific manner. It is not possible for an auditor to check each and every transaction. So, use of statistical methods to draw samples for conducting audit is made.\\nKnowledge of subject like economics helps auditor to be familiar with overall economic environment in which specific business is operating. Financial management deals with issues such as funds flow, working capital management, ratio analysis etc. and an auditor is expected to be knowledgeable about these for applying some of audit procedures and carrying out audit effectively. Besides, knowledge of financial markets comprised in study of financial management is expected from a professional auditor.\\nAuditing and Accounting: Auditing reviews the financial statements which are nothing but a result of the overall accounting process.\\nAuditing and Law: An auditor should have a good knowledge of business laws affecting the entity.\\nAuditing and Economics: Auditor is expected to be familiar with the overall economic environment of the client.\\nAuditing and Behavioural Science: Knowledge of human behaviour is essential for an auditor to effectively discharge his duties.\\nAuditing and Statistics & Mathematics: Auditor is also expected to have the knowledge of statistical sampling for meaningful conclusions and mathematics for verification of inventories.\\nAuditing and Data Processing: EDP auditing in itself is developing as a discipline in itself.\\nAuditing and Financial Management : Auditor is expected to have knowledge about various financial techniques such as working capital management, funds flow, ratio analysis, capital budgeting etc.\\nAuditing and Production: Good auditor is one who understands the client and his business functions such as production, cost system, marketing etc.', 'questions': [], 'question_answer_pairs': []}, {'section_number': '5', 'content': 'OBJECTIVES OF AUDIT\\nIn conducting audit of financial statements, objectives of auditor in accordance with SA-200 \"Overall Objectives of the Independent auditor and the conduct of an audit in accordance with Standards on Auditing\" are: -\\nTo obtain reasonable assurance about whether the financial statements as a whole are free from material misstatement, whether due to fraud or error, thereby enabling the auditor to express an opinion on whether the financial statements are prepared, in all material respects, in accordance with an applicable financial reporting framework; and\\nTo report on the financial statements, and communicate as required by the SAs, in accordance with the auditor\\'s findings.\\nAn analysis of above brings out following points clearly: -\\nAuditor\\'s objective is to obtain a reasonable assurance whether financial statements as a whole are free from material misstatement whether due to fraud or error.\\nReasonable assurance is to be distinguished from absolute assurance. Absolute assurance is a complete assurance or a guarantee that financial statements are free from material misstatements. However, reasonable assurance is not a complete guarantee. Although it is a high-level of assurance but it is not complete assurance.\\nAudit of financial statements is carried out by the auditor with professional competence and skills in accordance with Standards on Auditing. Audit procedures are applied in accordance with SAs, audit evidence is obtained and evaluated. On basis of that, conclusions are drawn and opinion is formed. It leads to high level of assurance which is called as reasonable assurance but it is not absolute assurance.\\nMisstatements in financial statements can occur due to fraud or error or both. The auditor seeks to obtain reasonable assurance whether financial statements as a whole are free from material misstatements caused by fraud or error. He has to see effect of misstatements on financial statements as a whole, in totality.\\nObtaining reasonable assurance that financial statements as a whole are free from material misstatements enables the auditor to express an opinion on whether the financial statements are prepared, in all material respects, in accordance with an applicable financial reporting framework.\\nThe opinion is reported and communicated in accordance with audit findings through a written report as required by Standards on Auditing. (You would be studying about these in subsequent parts of this (hapter).', 'questions': [], 'question_answer_pairs': []}, {'section_number': '6', 'content': \"An Overview of Objectives of Audit \\n- The primary objective of an audit is to obtain reasonable assurance that the financial statements are free from material misstatement, whether caused by fraud or error.\\n- An auditor aims to gain reasonable assurance to form an opinion on whether the financial statements are prepared, in all material respects, in accordance with the applicable financial reporting framework.\\n- It is an auditor's responsibility to report on the financial statements based on the conclusion of the audit.\\n- Auditors must express an opinion that accurately reflects their audit findings.\\n- Effective communication of the audit findings is an essential component of an auditor's responsibilities.\\n- The audit report should be prepared and communicated in accordance with the Standards on Auditing.\", 'questions': [], 'question_answer_pairs': []}, {'section_number': '7', 'content': 'SCOPE OF AUDIT-WHAT IT INCLUDES\\nScope refers to range or reach of something. The purpose of an audit is to enhance the degree of confidence of intended users in the financial statements. Users of financial statements may be shareholders, employees, customers, government and regulatory authorities, bankers etc. Enhancing of degree of confidence is achieved by the expression of an opinion by the auditor on whether the financial statements are prepared, in all material respects, in accordance with an applicable financial reporting framework.\\n(Applicable financial reporting framework means a framework adopted in the preparation and presentation of the financial statements that is acceptable in view of the nature of the entity and the objective of the financial statements, or that is required by law or regulation.)\\nFor example, in case of companies in India, financial reporting framework is provided under Schedule III of Companies Act,2013.\\n\\nThe following points are included in scope of audit of financial statements: -\\nCoverage of all aspects of entity\\nAudit of financial statements should be organized adequately to cover all aspects of the entity relevant to the financial statements being audited.\\nReliability and sufficiency of financial information\\nThe auditor should be reasonably satisfied that information contained in underlying accounting records and other source data (like bills, vouchers, documents etc.) is reliable and sufficient basis for preparation of financial statements.\\nThe auditor makes a judgment of reliability and sufficiency of financial information by making a study and assessment of accounting systems and internal controls and by carrying out appropriate tests, enquiries and procedures.\\nProper disclosure of financial information\\nThe auditor should also decide whether relevant information is properly disclosed in the financial statements. He should also keep in mind applicable statutory requirements in this regard.\\nIt is done by ensuring that financial statements properly summarize transactions and events recorded therein and by considering the judgments made by management in preparation of financial statements.\\nThe management responsible for preparation and presentation of financial statements makes many judgments in this process of preparing and presenting financial statements. For example, choosing of appropriate accounting policies in relation to various accounting issues like choosing method of charging depreciation on fixed assets or choosing appropriate method for valuation of inventories.\\nThe auditor evaluates selection and consistent application of accounting policies by management; whether such a selection is proper and whether chosen policy has been applied consistently on a period-to-period basis.\\nUnderstand that financial statements of an entity are prepared on historical financial information basis. \"Historical financial information\" means information expressed in financial terms in relation to a particular entity, derived primarily from that entity\\'s accounting system, about economic events occurring in past time periods or about economic conditions or circumstances at points in time in the past.\\nFor example, when purchases and sales are reflected in financial statements of an entity, these are examples of historical financial information. These are about transactions which have occurred in past.\\nSince financial statements are prepared on the basis of historical financial information, it is logical that audit of financial statements is also based upon such historical financial information. Therefore, audit of financial statements is based upon historical financial information.', 'questions': [], 'question_answer_pairs': []}, {'section_number': '8', 'content': \"Scope of audit-What it does not include\\nAuditor is not expected to perform duties which fall outside domain of his competence. For example, physical condition of certain assets like that of sophisticated machinery cannot be determined by him. Similarly, it is not expected from an auditor to determine suitability and life of civil structures like buildings. These require different skillsets which may be performed by qualified engineers in their respective fields.\\nAn auditor is not an expert in authentication of documents. The genuineness of documents cannot be authenticated by him because he is not an expert in this field.\\nAn audit is not an official investigation into alleged wrong doing. He does not have any specific legal powers of search or recording statements of witness on oath which may be necessary for carrying out an official investigation.\\nAudit is distinct from investigation. Investigation is a critical examination of the accounts with a special purpose. For example, if fraud is suspected and it is specifically called upon to check the accounts whether fraud really exists, it takes character of investigation.\\nThe objective of audit, on the other hand, as has already been discussed, is to obtain reasonable assurance about whether the financial statements as a whole are free from material misstatement, whether due to fraud or error, thereby enabling the auditor to express an opinion.\\nThe scope of audit is general and broad whereas scope of investigation is specific and narrow.\\nAn Overview of Scope of Audit\\n- The scope of an audit of financial statements includes the comprehensive examination of all aspects of the entity that are relevant to the financial statements being audited.\\n- It encompasses assessing the reliability and sufficiency of the financial information presented in the statements.\\n- Ensuring proper disclosure of all pertinent financial information in the statements is a key part of the audit scope.\\n- The auditor is responsible for expressing an opinion on the financial statements based on the audit evidence obtained.\\n- The preparation and presentation of financial statements fall outside the auditor's responsibilities; this is the management's duty.\\n- Actions beyond the auditor's professional competence are not within the scope of the audit.\\n- The auditor is not required to possess expertise in the authentication of documents; such expertise lies beyond the typical scope of auditing.\\n- Conducting investigations is not typically within the scope of a standard financial statement audit.\", 'questions': [], 'question_answer_pairs': []}, {'section_number': '9', 'content': 'INHERENT LIMITATIONS OF AUDIT\\nThe process of audit suffers from certain inbuilt limitations due to which an auditor cannot obtain an absolute assurance that financial statements are free from misstatement due to fraud or error. These fundamental limitations arise due to the following factors: -\\nNature of financial reporting\\nPreparation of financial statements involves making many judgments by management. These judgments may involve subjective decisions or a degree of uncertainty. Therefore, auditor may not be able to obtain absolute assurance that financial statements are free from material misstatements due to frauds or errors.\\nOne of the premises for conducting an audit is that management acknowledges its responsibility of preparation of financial statements in accordance with applicable financial reporting framework and for devising suitable internal controls. However, such controls may not have operated to produce reliable financial information due to their own limitations.\\nConsider, for example, that management of a company has devised a control that all purchase bills should reflect stamp and signatures of an authorised person in \"Goods Receiving Section\" of the company stating the date and time of receiving goods in premises. It is an example of internal control devised by the company to ensure that only those purchase bills are produced for payment for which goods have been actually received. Now, what happens if concerned accountant and authorised person in \"Goods Receiving Section\" collude. It is a case of overriding of internal controls devised by the company due to collusion between two persons. Such a probable collusion is one of limitations of internal controls itself.', 'questions': [], 'question_answer_pairs': []}, {'section_number': '10', 'content': \"Nature of Audit procedures\\nThe auditor carries out his work by obtaining audit evidence through performance of audit procedures. However, there are practical and legal limitations on ability of auditor to obtain audit evidence. For example, an auditor does not test all transactions and balances. He forms his opinion only by testing samples. It is an example of practical limitation on auditor's ability to obtain audit evidence.\\nManagement may not provide complete information as requested by auditor. There is no way by which auditor can force management to provide complete information as may be requested by auditor. In case he is not provided with required information, he can only report. It is an example of legal limitation on auditor's ability to obtain audit evidence.\\nThe management may consist of dishonest and unscrupulous people and may be, itself, involved in fraud. It may be engaged in concealing fraud by designing sophisticated and carefully organized schemes which may be hard to detect by the auditor. It may produce fabricated documents before auditor to lead him to believe that audit evidence is valid. However, in reality, such documents could be fake or non-genuine.\\nWe have already discussed under section on scope of audit that an auditor is not an expert in authentication of documents. Therefore, he may be led to accept invalid audit evidence on the basis of unauthentic documents.\\nIt is quite possible that entity may have entered into some transactions with related parties. Such transactions may be only paper transactions and may not have actually occurred. The auditor may not be aware of such related party relationships or audit procedures may not be able to detect probable wrong doings in such transactions.\", 'questions': [], 'question_answer_pairs': []}, {'section_number': '11', 'content': 'Not in nature of investigation\\nAs already discussed, audit is not an official investigation. Hence, auditor cannot obtain absolute assurance that financial statements are free from material misstatements due to frauds or errors.\\nTimeliness of financial reporting and decrease in relevance of information over time\\nThe relevance of information decreases over time and auditor cannot verify each and every matter. Therefore, a balance has to be struck between reliability of information and cost of obtaining it.\\nConsider, for example, an auditor who is conducting audit of a company since last two years. During these two years, he has sought detailed information from management of company regarding various matters. During his thirdyear stint, he chooses to rely upon some information obtained as part of audit procedures of second year. However, it could be possible that something new has happened and that information is not relevant. So, the information being relied upon by auditor is not timely and may have lost its reliability.\\nFuture events\\nFuture events or conditions may affect an entity adversely. Adverse events may seriously affect ability of an entity to continue its business. The business may cease to exist in future due to change in market conditions, emergence of new business models or products or due to onset of some adverse events.\\nTherefore, it is in view of above factors, that an auditor cannot provide a guarantee that financial statements are free from material misstatements due to frauds or errors.\\nInherent Limitations of Audit (SA 200 \"Overall Objectives of the Independent Auditor and the Conduct of an Audit in Accordance with Standards on Auditing\"): The auditor is not expected to, and cannot, reduce audit risk to zero because there are inherent limitations of an audit. The inherent limitations of an audit arise from:\\nThe Nature of Financial Reporting: The preparation of financial statements involves judgment by management.\\nThe Nature of Audit Procedures: There are practical and legal limitations on the auditor\\'s ability to obtain audit evidence such as:\\nPossibility that management or others may  not provide, intentionally or unintentionally, the complete information relevant for preparation and presentation of FS.\\nFraud may involve sophisticated and carefully organised schemes.\\nNot in the nature of Investigation: An audit is not an official investigation into alleged wrongdoing.\\nTimeliness of financial reporting and decrease in relevance of information\\n over time: Relevance of information, and thereby its value, tends to diminish over time, and there is a balance to be struck between the reliability of information and its cost.\\nFuture events: Future events or conditions may affect an entity adversely. Adverse events may seriously affect ability of an entity to continue its Business.', 'questions': [], 'question_answer_pairs': []}, {'section_number': '12', 'content': 'WHAT IS AN ENGAGEMENT?\\nEngagement means an arrangement to do something. In the context of auditing, it means a formal agreement between auditor and client under which auditor agrees to provide auditing services. It takes the shape of engagement letter.\\n8.1 External audit engagements\\nThe purpose of external audit engagements is to enhance the degree of confidence of intended users of financial statements. Such engagements are also reasonable assurance engagements. For example, in India, companies are required to get their annual accounts audited by an external auditor. Even non-corporate entities may choose to have their accounts audited by an external auditor because of benefits of such an audit.', 'questions': [], 'question_answer_pairs': []}, {'section_number': '13', 'content': 'BENEFITS OF AUDIT-WHY AUDIT IS NEEDED?\\nAudited accounts provide high quality information. It gives confidence to users that information on which they are relying is qualitative and it is the outcome of an exercise carried out by following Auditing Standards recognized globally.\\nIn case of companies, shareholders may or may not be involved in daily affairs of the company. The financial statements are prepared by management consisting of directors. As shareholders are owners of the company, they need an independent mechanism so that financial information is qualitative and reliable. Hence, their interest is safeguarded by an audit.\\nAn audit acts as a moral check on employees from committing frauds for the fear of being discovered by audit.\\nAudited financial statements are helpful to government authorities for determining tax liabilities.\\nAudited financial statements can be relied upon by lenders, bankers for making their credit decisions i.e. whether to lend or not to lend to a particular entity.\\nAn audit may also detect fraud or error or both.\\nAn audit reviews existence and operations of various controls operating in any entity. Hence, it is useful at pointing out deficiencies.', 'questions': [], 'question_answer_pairs': []}, {'section_number': '14', 'content': 'AUDIT- MANDATORY OR VOLUNTARY?\\nIt is not necessary that audit is always legally mandatory. There are entities like companies who are compulsorily required to get their accounts audited under law. Even non-corporate entities may be compulsorily requiring audit of their accounts under tax laws. For example, in India, every person is required to get accounts audited if turnover crosses certain threshold limit under income tax law.\\nIt is also possible that some entities like schools may be required to get their accounts audited for the purpose of obtaining grant or assistance from the Government.\\nAudit is not always mandatory. Many entities may get their accounts audited voluntarily because of benefits from the process of audit. Many such concerns have their internal rules requiring audit due to advantages flowing from an audit.', 'questions': [], 'question_answer_pairs': []}, {'section_number': '15', 'content': 'WHO APPOINTS AN AUDITOR?\\nGenerally, an auditor is appointed by owners or in some cases by constitutional or government authorities in accordance with applicable laws and regulations. For example, in case of companies, auditor is appointed by members (shareholders) in Annual General Meeting (AGM). Shareholders are owners of a company and auditor is appointed by them in AGM.\\nHowever, in case of government companies in India, auditor is appointed by Comptroller and Auditor General of India (CAG), an independent constitutional authority.\\nTake case of a firm who engages an auditor to audit its accounts. In such a case, auditor is appointed by partners of firm.\\nThere may be a situation in which auditor may be appointed by a government authority in accordance with some law or regulation. For example, an auditor may be appointed under tax laws by a government authority.', 'questions': [], 'question_answer_pairs': []}, {'section_number': '16', 'content': 'TO WHOM REPORT IS SUBMITTED BY AN AUDITOR?\\nThe outcome of an audit is written audit report in which auditor expresses an opinion. The report is submitted to person making the appointment. In case of companies, these are shareholders- in case of a firm, to partners who have engaged him.\\nWe shall now discuss understanding reached so far from a case study involving discussion among students regarding nature, scope, limitations, benefits of auditing and other related matters.\\nCASE STUDY-1\\nRohit, Gurpreet, Ali and Goreti are friends since their school days based in Mumbai. They have cleared CA foundation exams in the same attempt and now plan to appear for CA Intermediate exams. All of them are avid news listeners and regularly keep track of business news even on social media.\\nThey are trying to understand new subjects including auditing. Rohit, Gurpreet and Ali have also started attending Live Coaching Classes (LCC) being conducted by Board of studies of ICAI. Goreti has not been able to join Live Coaching Classes yet as she was away on a holiday with her parents. However, she plans to catch it up with her friends very soon. Ali had also joined the classes but he had skipped some lectures.\\nDuring one informal get together, their discussions centred around new subject of auditing. They discussed many things regarding its nature, scope, benefits and other general practical issues. Goreti was regular in keeping track of audited results of companies being published in leading newspapers. Her view was that audited financial statements of companies give  guarantee to different stake holders. It is the main reason behind so much reliance upon auditing. But she could not understand why wrong doings in financial matters are being discovered after many years have gone by.\\nAli also concurred with her view and added that when financial statements are audited, each and every transaction appearing in books of accounts is verified. However, he could not give clarity to Goreti.\\nGurpreet was of the opinion that audit was conducted on the basis of sample checking. He was also of the view that audited financial statements are not a guarantee against probable wrong doings in financial matters of the companies.\\nNot to be left behind, Rohit also jumped in the fray. He supported Gurpreet and also added something of his own.', 'questions': [], 'question_answer_pairs': []}, {'section_number': '17', 'content': 'MEANING OF ASSURANCE ENGAGEMENT\\n\"Assurance engagement\" means an engagement in which a practitioner expresses a conclusion designed to enhance the degree of confidence of the intended users other than the responsible party about the outcome of the evaluation or measurement of a subject matter against criteria.\\nIt means that the practitioner gives an opinion about specific information due to which users of information are able to make confident decisions knowing well that chance of information being incorrect is diminished.\\n Elements of an Assurance Engagement\\nFollowing elements comprise an assurance engagement: -\\nA three party relationship involving a practitioner, a responsible party, and intended users\\nAn assurance engagement involves abovesaid three parties. A practitioner is a person who provides the assurance. The term practitioner is broader than auditor. Audit is related to historical information whereas practitioner may provide assurance not necessarily related to historical financial information.\\nA responsible party is the party responsible for preparation of subject matter.\\nIntended users are the persons for whom an assurance report is prepared. These persons may use the report in making decisions.\\nAn appropriate subject matter\\nIt refers to the information to be examined by the practitioner. For example, financial information contained in financial statements while conducting audit of financial statements.\\nSuitable criteria\\nThese refer to benchmarks used to evaluate the subject matter like standards, guidance, laws, rules and regulations.\\nSufficient appropriate evidence\\nThe practitioner performs an assurance engagement to obtain sufficient appropriate evidence. It is on the basis of evidence that conclusions are arrived and an opinion is formed by auditor.\\n\"Sufficient\" relates to quantity of evidence obtained by auditor. \"Appropriate\" relates to quality of evidence obtained by auditor. One evidence may be providing more comfort to auditor than the other evidence. The evidence providing more comfort is qualitative and, therefore, appropriate. Evidence should be both sufficient and appropriate.\\nA written assurance report in appropriate form\\nA written report is provided containing conclusion that conveys the assurance about the subject matter. A written assurance report is the outcome of an assurance engagement.\\nOverview of Elements of assurance engagement\\n- An assurance engagement involves a three-party relationship consisting of the responsible party, the practitioner, and the intended users.\\n- The subject matter of an assurance engagement must be appropriate, meaning it is capable of evaluation against suitable criteria and available for the practitioner to obtain evidence.\\n- Suitable criteria are standards or benchmarks applied to the subject matter of the assurance engagement against which the practitioner evaluates the information.\\n- Sufficient appropriate evidence is necessary to support the practitioner\\'s conclusion and is obtained through the assurance engagement process.\\n- A written assurance report is provided in an appropriate form to communicate the conclusion of the assurance engagement to its intended users.', 'questions': [], 'question_answer_pairs': []}, {'section_number': '18', 'content': 'Meaning of Review; Audit Vs. Review\\nWe have learnt that audit is a reasonable assurance engagement. It provides reasonable assurance. However, review is a limited assurance engagement. It provides lower level of assurance than audit. Further, review involves fewer procedures and gathers sufficient appropriate evidence on the basis of which limited conclusions can be drawn up. However, both \"audit\" and \"review\" are related to financial statements prepared on the basis of historical financial information.', 'questions': [], 'question_answer_pairs': []}, {'section_number': '19', 'content': 'Types of Assurance Engagements- Reasonable assurance engagement vs. Limited assurance engagement\\nAs already discussed, assurance engagements provide assurance to users. The difference is of degree. Reasonable assurance engagement like audit provides reasonable assurance which is a high level of assurance. Limited assurance engagement like review provides lower level of assurance than audit. It is only a moderate level of assurance.\\n- Reasonable assurance engagement is a process that provides a high level of assurance through the performance of extensive procedures to obtain sufficient appropriate evidence.\\n- In contrast, limited assurance engagement offers a lower level of assurance, performing fewer procedures than a reasonable assurance engagement.\\n- A reasonable assurance engagement results in conclusions based on the adequacy of the evidence gathered during the process.\\n- An example of reasonable assurance engagement is an audit, which involves a thorough examination and provides a high level of assurance.\\n- Conversely, an example of limited assurance engagement is a review, which provides a moderate level of assurance and involves less detailed procedures.\\nBesides reasonable assurance engagements and limited assurance engagements, there is another kind of assurance which is related to matters other than historical financial information. Such an assurance may relate to prospective financial information and not to historical financial information. It may relate to providing assurance on internal controls in an entity.\\n\"Prospective financial information\" means financial information based on assumptions about events that may occur in the future and possible actions by an entity. It can be in the form of a forecast or projection or combination of both.\\nIt is to be noted that in such type of assurance engagements, examination is not of historical financial information.\\nHere, it is important to note the difference between \"Historical financial information\" and \"Prospective financial information.\" The former relates to information expressed in financial terms of an entity about economic events, conditions or circumstances occurring in past periods. The latter relates to financial information based on assumptions about occurrence of future events and possible actions by an entity.\\nTherefore, historical financial information is rooted in past events which have already occurred whereas prospective financial information is related to future events.\\nIn assurance reports involving prospective financial information, the practitioner obtains sufficient appropriate evidence to the effect that management\\'s assumptions on which the prospective financial information is based are not unreasonable, the prospective financial information is properly prepared on the basis of the assumptions and it is properly presented and all material assumptions are adequately disclosed.\\nProspective financial information relates to future events. While evidence may be available to support the assumptions on which the prospective financial information is based, such evidence is itself generally future- oriented. The auditor is, therefore, not in a position to express an opinion as to whether the results shown in the prospective financial information will be achieved.\\nTherefore, in such assurance engagements, practitioner provides a report assuring that nothing has come to practitioner\\'s attention to suggest that these assumptions do not provide a reasonable basis for the projection.\\nHence, such type of assurance engagement provides only a \"moderate\" level of assurance.\\nExamples of assurance engagements\\n- An audit of financial statements is classified as a reasonable assurance engagement, aiming to provide a high assurance level that financial statements are free from material misstatement.\\n- A review of financial statements is considered a limited assurance engagement, which offers a moderate assurance level that no material modifications need to be made to the financial statements.\\n- The examination of prospective financial information is an assurance engagement that assesses the reasonableness of assumptions used in projections and related matters.\\n- Reporting on controls operating at an organization is an assurance engagement that evaluates the design and operation of an organization’s controls.\\nThe various categories of assurance engagements, which are professional services typically provided by certified accountants. The three main branches, originating from the overarching category of \"Assurance Engagements.\" Each branch is detailed below:\\n\\nReasonable Assurance Engagement:\\n\\nThis branch represents a high level of assurance provided by the auditor or accountant. It bifurcates into one sub-category:\\n\\nAudit: This is a type of reasonable assurance engagement where the auditor expresses an opinion on whether the financial statements are prepared, in all material respects, in accordance with an applicable financial reporting framework.\\n\\nLimited Assurance Engagement:\\n\\nThis type of engagement provides a moderate level of assurance, less than that of a reasonable assurance engagement, but more than the level of assurance that would be provided by a compilation. It has one sub-category:\\n\\nReview: A review engagement is where the accountant performs procedures, primarily consisting of making inquiries of management and performing analytical procedures, to express a conclusion that provides a limited level of assurance on the financial statements.\\n\\nAssurance Engagements dealing with matters other than historical financial information:\\n\\nThis branch indicates assurance services that do not focus on historical financial data. It includes:\\n\\nExamination of prospective financial information (like forecast): This involves engagements where auditors evaluate the preparation and presentation of financial forecasts and projections.\\n\\nAssurance regarding operations of controls: Here, the assurance practitioner provides an opinion on the design, implementation, and/or effectiveness of the controls at a service organization.\\n\\nEach of these branches indicates a different scope of work, level of assurance, and purpose within the realm of assurance engagements, offering various options depending on the needs of the users of the financial information.', 'questions': [], 'question_answer_pairs': []}, {'section_number': '20', 'content': 'QUALITIES OF AUDITOR\\nAn auditor is concerned with the reporting on financial matters of business and other institutions. Financial matters inherently are to be set with the problems of human fallibility; errors and frauds are frequent.\\nTact, caution, firmness, good temper, integrity, discretion, industry, judgement, patience, clear headedness and reliability are some of qualities which an auditor\\nshould have. In short, all those personal qualities that go to make a good businessman contribute to the making of a good auditor.\\nIn addition, he must have the shine of culture for attaining a great height. He must have the highest degree of integrity backed by adequate independence.\\nThe auditor, who holds a position of trust, must have the basic human qualities apart from the technical requirement of professional training and education. He is called upon constantly to critically review financial statements and it is obviously useless for him to attempt that task unless his own knowledge is that of an expert. An exhaustive knowledge of accounting in all its branches is the sine qua non of the practice of auditing. He must know thoroughly all accounting principles and techniques.', 'questions': [], 'question_answer_pairs': []}, {'section_number': '21', 'content': 'ENGAGEMENT AND QUALITY CONTROL STANDARDS: AN OVERVIEW\\nThe following Standards issued under authority of ICAI Council are collectively known as Engagement Standards: -\\nStandards on auditing (SAs) which apply in audit of historical financial information.\\nStandards on review engagements (SREs) which apply in review of historical financial information.\\nStandards on Assurance engagements (SAEs) which apply in assurance engagements other than audits and review of historical financial information.\\nStandards on Related Services (SRSs) which apply in agreed upon procedures to information, compilation engagements and other related service engagements.\\nThe purpose of issue of these standards is to establish high quality standards and guidance in the areas of financial statement audits and in other types of assurance services.\\n Standards on Auditing\\nStandards on Auditing apply in the context of an audit of financial statements by an independent auditor. It is important to remember that Standards on Auditing apply in audit of historical information. These establish high quality benchmarks and are followed by auditors in conducting audit of financial statements.\\nStandards on Auditing have been issued on wide spectrum of issues in the field of auditing ranging from overall objectives of independent auditor, audit documentation, planning an audit of financial statements, identifying and assessing risk of material misstatement, audit sampling, audit evidence and forming an opinion and reporting on financial statements. These cover all significant aspects of audit of financial statements.\\nSome examples of Standards on Auditing are: -\\nSA 200 Overall Objectives of the Independent Auditor and the Conduct of an Audit in accordance with Standards on Auditing\\nSA 230 Audit Documentation\\nSA 315 Identifying and Assessing the Risks of Material Misstatement through Understanding the Entity and its Environment\\nSA 500 Audit Evidence\\nRevised SA 700 Forming an Opinion and Reporting on Financial Statements', 'questions': [], 'question_answer_pairs': []}, {'section_number': '22', 'content': 'Standards on Review Engagements\\nStandards on review engagements apply in the context of review of financial statements. We have already understood that review is a limited assurance engagement and it provides assurance which is lower than that provided by audit. It is due to the fact that review involves fewer procedures as compared to audit. Since a review also provides assurance to users, it also involves obtaining sufficient appropriate evidence. For example, when an auditor performs review of interim financial information of an entity.\\nExamples of Standards on Review engagements are:\\nSRE 2400 (Revised) Engagements to Review Historical Financial Statements\\nSRE 2410 Review of Interim Financial Information Performed by the Independent Auditor of the Entity\\nIt is to be noted that both Standards on auditing and Standards on review engagements apply to engagements involving historical financial information.', 'questions': [], 'question_answer_pairs': []}, {'section_number': '23', 'content': 'Standards on Assurance Engagements\\nThere is another set of standards which apply in assurance engagements dealing with subject matters other than historical financial information. Such assurance engagements do not include \"audit\" or \"review\" of historical financial information. These standards are known as Standards on Assurance Engagements. For example, an assurance engagement relating to examination of prospective financial information.\\nIt is to be noted that in such type of assurance engagements, examination is not of historical financial information or engagement may relate to providing assurance regarding non-financial matters like design and operation of internal control in an entity.\\nExamples of Standards on Assurance Engagements are:\\nSAE 3400 The Examination of Prospective Financial Information\\nSAE 3420 Assurance Engagements to Report on the Compilation of Pro Forma Financial Information Included in a Prospectus', 'questions': [], 'question_answer_pairs': []}, {'section_number': '24', 'content': \"Standards on Related Services\\nLastly, there are standards on related services. These standards apply in engagements to perform agreed-upon procedures regarding financial information.\\nFor example, an engagement to perform agreed-upon procedures may require the auditor to perform certain procedures concerning individual items of financial data, say, accounts payable, accounts receivable, purchases from related parties and sales and profits of a segment of an entity, or a financial statement, say, a balance sheet or even a complete set of financial statements.\\nAn engagement in which practitioner may be called upon to assist management with the preparation and presentation of historical financial information without obtaining assurance on that information. Such type of compilation engagements fall in the category of related services and practitioner issues a report clearly stating that it is not an assurance engagement and no opinion is being expressed.\\nThese types of services are called related services and standards have been issued to deal with practitioner's responsibilities in this regard.\\nExamples of Standards on related services are:\\nSRS 4400 Engagements to perform agreed-upon procedures regarding financial information\\nSRS 4410 (Revised) Compilation engagements\\n\\nIt is to be clearly understood that all the above standards i.e., Standards on Auditing (SAs), Standards on Review Engagements (SREs), Standards on Assurance Engagements (SAEs) and Standards on related services (SRSs) are collectively known as the Engagement Standards.\\nEngagement Standards issued under the authority of Council of ICAI deal with responsibilities of auditor/practitioner.\", 'questions': [], 'question_answer_pairs': []}, {'section_number': '25', 'content': \"Standards on Quality Control\\nStandards on Quality Control (SQCs) have been issued to establish standards and provide guidance regarding a firm's responsibilities for its system of quality control for the conduct of audit and review of historical financial information and for other assurance and related service engagements.\\nSQC 1 has been issued in this regard. It requires auditors/practitioners to establish system of quality control so that firm and its personnel comply with professional standards and regulatory & legal requirements and reports issued are appropriate.\\nIts basic objective is that while rendering services, to which engagement standards apply, there should be a system of quality control with in firms to ensure complying with professional standards/legal requirements. System of quality control ensures issuing of appropriate reports in the circumstances.\\nFurther, it is also to be remembered that Standards on Quality Control (SQCs) are to be applied for all services covered by Engagement Standards.\", 'questions': [], 'question_answer_pairs': []}, {'section_number': '26', 'content': 'Why are Standards needed?\\nStandards ensure carrying out of audit against established benchmarks at par with global practices.\\nStandards improve quality of financial reporting thereby helping users to make diligent decisions.\\nStandards promote uniformity as audit of financial statements is carried out following these Standards.\\nStandards equip professional accountants with professional knowledge and skill.\\nStandards ensure audit quality.', 'questions': [], 'question_answer_pairs': []}, {'section_number': '27', 'content': 'Duties in relation to Engagement and Quality Control Standards\\nIt is the duty of professional accountants to see that Standards are followed in engagements undertaken by them. Ordinarily, these are to be followed by professional accountants. However, a situation may arise when a specific procedure as required in Standards would be ineffective in a particular engagement. In such a case, he is required to document how alternative procedures performed achieve the purpose of required procedure. Also, reason for departure has also to be documented unless it is clear. Further, his report should draw attention to such departures. It is also to be noted that a mere disclosure in the report does not absolve a professional accountant from complying with applicable Standards.\\nOverview of Engagement and Quality Control Standards\\n- Standards on Auditing (SAs) are applicable to audits of historical financial information, guiding the audit process to ensure reliability and credibility.\\n- Standards on Review Engagements (SREs) govern the review of historical financial information to provide a limited assurance that no material modifications are needed.\\n- Standards on Assurance Engagements (SAEs) are relevant for engagements that involve assurance on matters other than historical financial information.\\n- Standards on Related Services (SRSs) apply to engagements where agreed-upon procedures regarding financial information are performed, including assisting management in the preparation and presentation of financial statements.\\n- Standards on Quality Control (SQC) are comprehensive and apply to all services covered by engagement standards, including SAs, SREs, SAEs, and SRSs.\\n- Professional accountants have a duty to adhere to these Standards; any deviation must be clearly stated and explained in their reports.', 'questions': [], 'question_answer_pairs': []}]}\n"
     ]
    }
   ],
   "source": [
    "ca_inter_p5_c1_cursor = ca_inter_p5_c1_collection.find({})\n",
    "\n",
    "for document in ca_inter_p5_c1_cursor:\n",
    "    print(document)"
   ]
  },
  {
   "cell_type": "code",
   "execution_count": 83,
   "metadata": {},
   "outputs": [
    {
     "name": "stdout",
     "output_type": "stream",
     "text": [
      "3\n"
     ]
    },
    {
     "data": {
      "text/plain": [
       "{'section_number': '1',\n",
       " 'content': \"INTRODUCTION\\nWhat do such real-life situations highlight? Such instances underline importance of auditing in today's complex business environment. Be it investors desirous of investing their money in companies, shareholders anxious to know financial position of companies they have invested in, banks or financial institutions willing to lend funds to credit-worthy organizations, governments desirous of collecting taxes from trade and industry in accordance with applicable laws, trade unions negotiating with corporate managements for better wages or insurance companies wanting to settle property claims caused by fire or other disasters - range of diverse users in equally diverse fields rely upon audited financial statements.\\nCan you figure out reason behind such reliance? It is due to the fact that audited financial statements provide confidence to users of financial statements; audited financial statements provide assurance to users who may take their decisions on the basis of such audited financial statements. Herein lies the importance of auditing. You can very well understand how significant is role of auditing profession and auditors in modern world involving multitude of economic activities being carried out in equally dynamic legal and regulatory environments.\\nHere, comes a vital question. What do we mean by auditing? What is its nature and scope? What it includes and What it does not? What are its limitations? We shall try to find out answers to these questions in succeeding paras.\",\n",
       " 'questions': {'questions': [{'question': \"What is the primary importance of auditing in today's complex business environment?\",\n",
       "    'type': 'definition'},\n",
       "   {'question': 'Who are the diverse users that rely on audited financial statements?',\n",
       "    'type': 'fact'},\n",
       "   {'question': 'Why do investors rely on audited financial statements?',\n",
       "    'type': 'logic'},\n",
       "   {'question': 'How do audited financial statements provide assurance to users?',\n",
       "    'type': 'logic'},\n",
       "   {'question': 'What roles do banks and financial institutions play in relation to audited financial statements?',\n",
       "    'type': 'fact'},\n",
       "   {'question': 'In what ways do governments use audited financial statements?',\n",
       "    'type': 'fact'},\n",
       "   {'question': 'Why might trade unions be interested in audited financial statements?',\n",
       "    'type': 'logic'},\n",
       "   {'question': 'How do insurance companies utilize audited financial statements?',\n",
       "    'type': 'fact'},\n",
       "   {'question': \"What is meant by the term 'auditing'?\", 'type': 'definition'},\n",
       "   {'question': 'What aspects of auditing will be explored in the subsequent paragraphs?',\n",
       "    'type': 'fact'},\n",
       "   {'question': 'What questions arise about the nature and scope of auditing?',\n",
       "    'type': 'steps'},\n",
       "   {'question': 'What limitations of auditing need to be considered?',\n",
       "    'type': 'logic'},\n",
       "   {'question': 'Why is the role of auditors significant in the modern world?',\n",
       "    'type': 'logic'}]},\n",
       " 'question_answer_pairs': []}"
      ]
     },
     "execution_count": 83,
     "metadata": {},
     "output_type": "execute_result"
    }
   ],
   "source": [
    "sections = ca_inter_p5_c1_collection.find_one(\n",
    "    {\"chapter_name\": \"CHAPTER 1 -  NATURE, OBJECTIVE AND SCOPE OF ADULT\"}\n",
    ")\n",
    "\n",
    "print(len(sections))\n",
    "sections[\"sections\"][0]"
   ]
  },
  {
   "cell_type": "code",
   "execution_count": 87,
   "metadata": {},
   "outputs": [
    {
     "name": "stdout",
     "output_type": "stream",
     "text": [
      "27\n"
     ]
    }
   ],
   "source": [
    "print(len(sections[\"sections\"]))"
   ]
  },
  {
   "cell_type": "code",
   "execution_count": null,
   "metadata": {},
   "outputs": [
    {
     "name": "stdout",
     "output_type": "stream",
     "text": [
      "INTRODUCTION\n",
      "What do such real-life situations highlight? Such instances underline importance of auditing in today's complex business environment. Be it investors desirous of investing their money in companies, shareholders anxious to know financial position of companies they have invested in, banks or financial institutions willing to lend funds to credit-worthy organizations, governments desirous of collecting taxes from trade and industry in accordance with applicable laws, trade unions negotiating with corporate managements for better wages or insurance companies wanting to settle property claims caused by fire or other disasters - range of diverse users in equally diverse fields rely upon audited financial statements.\n",
      "Can you figure out reason behind such reliance? It is due to the fact that audited financial statements provide confidence to users of financial statements; audited financial statements provide assurance to users who may take their decisions on the basis of such audited financial statements. Herein lies the importance of auditing. You can very well understand how significant is role of auditing profession and auditors in modern world involving multitude of economic activities being carried out in equally dynamic legal and regulatory environments.\n",
      "Here, comes a vital question. What do we mean by auditing? What is its nature and scope? What it includes and What it does not? What are its limitations? We shall try to find out answers to these questions in succeeding paras.\n",
      "ORIGIN OF AUDITING\n",
      "Before we get to understand meaning and nature of auditing, let's travel back in time to know about origin of auditing. Auditing has existed even in ancient times in many societies of world including India. The reference to auditing is found in Kautilya's Arthshastra even in  century BC. It talks about fixed accounting year, a process for closure of accounts and audit for the same. Concepts of periodical checking and verification existed even in those times. Even there are references in his monumental work to misstatements in financial statements due to abuse of power. Wasn't he far ahead of his times?\n",
      "The word \"audit\" originates from Latin word \"audire\" meaning \"to hear\". In medieval times, auditors used to hear the accounts read out to them to check that employees were not careless and negligent. Industrial revolution in Europe led to astronomical expansion in volume of trade and consequently demand of auditors.\n",
      "Coming to more recent history, the first Auditor General of India was appointed in British India in 1860 having both accounting and auditing functions. Later on, office of Auditor General was given statutory recognition. Presently, Comptroller and Auditor General of India is an independent constitutional authority responsible for auditing government receipts and expenditures.\n",
      "The Institute of Chartered Accountants of India was established as a statutory body under an Act of Parliament in 1949 for regulating the profession of Chartered Accountancy in the country.\n",
      "MEANING AND NATURE OF AUDITING\n",
      "\"An audit is an independent examination of financial information of any entity, whether profit oriented or not, and irrespective of its size or legal form, when such an examination is conducted with a view to expressing an opinion thereon\".\n",
      "An incisive analysis of above meaning of auditing brings out following points clearly: -\n",
      "Audit is an independent examination of financial information.\n",
      "Independence, here, implies that the judgement of a person is not subordinate to \tthe wishes or direction of another person who might have engaged him. The \tauditor should be independent of entity whose financial statements are subject to \taudit so that he can form an opinion without being affected by any influence. \tIndependence increases auditor's ability to act objectively without creeping in of \tany biases.\n",
      "Consider, for example, a person who requests his brother, a Chartered Accountant,to audit accounts of his proprietary concern and issue a report. Can CA audit accounts of concern in which his brother is sole proprietor? No, he cannot. It is due to the fact that there would be no independence in such a case due to relationship by birth between CA and his brother. He would be subject to influence from his brother.\n",
      "Take another case where a CA has invested in shares of a company. Can he audit \taccounts of such a company in which he holds shares? The answer is resounding \tNO. It is due to the fact that by holding shares of the company, his own self-\tinterest gets involved. His own money is invested in the company and he may not \tbe able to form judgment independently on the financial statements of the \tcompany.\n",
      "The entity whose financial information is examined need not necessarily be profit oriented like in case of a business. It can be a non-profit organization like an NGO or a charitable trust. Audit can be undertaken in respect of any organization be it a small, medium or large. Further, it can be conducted for any entity irrespective of its legal structure i.e. such an entity may be a proprietary concern, a partnership firm, a LLP, a private company, a public company, a society or a trust.\n",
      "The purpose of audit is to express an opinion on the financial statements.\n",
      "Understand that preparation and presentation of financial statements of an entity is responsibility of management of entity. The auditor expresses an opinion on financial statements by means of written audit report.\n",
      "In doing so, he has to see that financial statements would not mislead anybody by ensuring that: -\n",
      "the accounts have been drawn up with reference to entries in the books of account;\n",
      "the entries in the books of account are adequately supported by sufficient and appropriate evidence;\n",
      "none of the entries in the books of account has been omitted in the process of compilation;\n",
      "the information conveyed by the statements is clear and unambiguous;\n",
      "the financial statement amounts are properly classified, described and disclosed in conformity with accounting standards; and\n",
      "the statement of accounts presents a true and fair picture of the operational results and of the assets and liabilities.\n",
      "Auditing provides assurance. Its basic nature lies in providing assurance to users providing confidence to users of financial statements. Such an assurance lends credibility to financial statements. Audited financial statements provide confidence to users that financial information reflected in financial statements can be relied upon.\n",
      "INTERDISCIPLINARY NATURE OF AUDITING         RELATIONSHIP WITH DIVERSE SUBJECTS\n",
      "Auditing is interdisciplinary in nature. It draws from diverse subjects including accountancy, law, behavioural science, statistics, economics and financial management and makes use of these subjects. Since audit of financial statements is concerned with financial information, a sound knowledge of accounting principles is a fundamental requirement for an auditor of financial statements to conduct audit and express an opinion. Similarly, good knowledge of business laws and various taxation laws helps auditor to understand financial statements in a better way in accordance with applicable laws.\n",
      "During course of audit, auditor has to interact with lot of persons for seeking information and making inquiries. This can be done only if one has knowledge of human behaviour. Auditors use statistical methods to draw samples in a scientific manner. It is not possible for an auditor to check each and every transaction. So, use of statistical methods to draw samples for conducting audit is made.\n",
      "Knowledge of subject like economics helps auditor to be familiar with overall economic environment in which specific business is operating. Financial management deals with issues such as funds flow, working capital management, ratio analysis etc. and an auditor is expected to be knowledgeable about these for applying some of audit procedures and carrying out audit effectively. Besides, knowledge of financial markets comprised in study of financial management is expected from a professional auditor.\n",
      "Auditing and Accounting: Auditing reviews the financial statements which are nothing but a result of the overall accounting process.\n",
      "Auditing and Law: An auditor should have a good knowledge of business laws affecting the entity.\n",
      "Auditing and Economics: Auditor is expected to be familiar with the overall economic environment of the client.\n",
      "Auditing and Behavioural Science: Knowledge of human behaviour is essential for an auditor to effectively discharge his duties.\n",
      "Auditing and Statistics & Mathematics: Auditor is also expected to have the knowledge of statistical sampling for meaningful conclusions and mathematics for verification of inventories.\n",
      "Auditing and Data Processing: EDP auditing in itself is developing as a discipline in itself.\n",
      "Auditing and Financial Management : Auditor is expected to have knowledge about various financial techniques such as working capital management, funds flow, ratio analysis, capital budgeting etc.\n",
      "Auditing and Production: Good auditor is one who understands the client and his business functions such as production, cost system, marketing etc.\n",
      "OBJECTIVES OF AUDIT\n",
      "In conducting audit of financial statements, objectives of auditor in accordance with SA-200 \"Overall Objectives of the Independent auditor and the conduct of an audit in accordance with Standards on Auditing\" are: -\n",
      "To obtain reasonable assurance about whether the financial statements as a whole are free from material misstatement, whether due to fraud or error, thereby enabling the auditor to express an opinion on whether the financial statements are prepared, in all material respects, in accordance with an applicable financial reporting framework; and\n",
      "To report on the financial statements, and communicate as required by the SAs, in accordance with the auditor's findings.\n",
      "An analysis of above brings out following points clearly: -\n",
      "Auditor's objective is to obtain a reasonable assurance whether financial statements as a whole are free from material misstatement whether due to fraud or error.\n",
      "Reasonable assurance is to be distinguished from absolute assurance. Absolute assurance is a complete assurance or a guarantee that financial statements are free from material misstatements. However, reasonable assurance is not a complete guarantee. Although it is a high-level of assurance but it is not complete assurance.\n",
      "Audit of financial statements is carried out by the auditor with professional competence and skills in accordance with Standards on Auditing. Audit procedures are applied in accordance with SAs, audit evidence is obtained and evaluated. On basis of that, conclusions are drawn and opinion is formed. It leads to high level of assurance which is called as reasonable assurance but it is not absolute assurance.\n",
      "Misstatements in financial statements can occur due to fraud or error or both. The auditor seeks to obtain reasonable assurance whether financial statements as a whole are free from material misstatements caused by fraud or error. He has to see effect of misstatements on financial statements as a whole, in totality.\n",
      "Obtaining reasonable assurance that financial statements as a whole are free from material misstatements enables the auditor to express an opinion on whether the financial statements are prepared, in all material respects, in accordance with an applicable financial reporting framework.\n",
      "The opinion is reported and communicated in accordance with audit findings through a written report as required by Standards on Auditing. (You would be studying about these in subsequent parts of this (hapter).\n",
      "An Overview of Objectives of Audit \n",
      "- The primary objective of an audit is to obtain reasonable assurance that the financial statements are free from material misstatement, whether caused by fraud or error.\n",
      "- An auditor aims to gain reasonable assurance to form an opinion on whether the financial statements are prepared, in all material respects, in accordance with the applicable financial reporting framework.\n",
      "- It is an auditor's responsibility to report on the financial statements based on the conclusion of the audit.\n",
      "- Auditors must express an opinion that accurately reflects their audit findings.\n",
      "- Effective communication of the audit findings is an essential component of an auditor's responsibilities.\n",
      "- The audit report should be prepared and communicated in accordance with the Standards on Auditing.\n",
      "SCOPE OF AUDIT-WHAT IT INCLUDES\n",
      "Scope refers to range or reach of something. The purpose of an audit is to enhance the degree of confidence of intended users in the financial statements. Users of financial statements may be shareholders, employees, customers, government and regulatory authorities, bankers etc. Enhancing of degree of confidence is achieved by the expression of an opinion by the auditor on whether the financial statements are prepared, in all material respects, in accordance with an applicable financial reporting framework.\n",
      "(Applicable financial reporting framework means a framework adopted in the preparation and presentation of the financial statements that is acceptable in view of the nature of the entity and the objective of the financial statements, or that is required by law or regulation.)\n",
      "For example, in case of companies in India, financial reporting framework is provided under Schedule III of Companies Act,2013.\n",
      "\n",
      "The following points are included in scope of audit of financial statements: -\n",
      "Coverage of all aspects of entity\n",
      "Audit of financial statements should be organized adequately to cover all aspects of the entity relevant to the financial statements being audited.\n",
      "Reliability and sufficiency of financial information\n",
      "The auditor should be reasonably satisfied that information contained in underlying accounting records and other source data (like bills, vouchers, documents etc.) is reliable and sufficient basis for preparation of financial statements.\n",
      "The auditor makes a judgment of reliability and sufficiency of financial information by making a study and assessment of accounting systems and internal controls and by carrying out appropriate tests, enquiries and procedures.\n",
      "Proper disclosure of financial information\n",
      "The auditor should also decide whether relevant information is properly disclosed in the financial statements. He should also keep in mind applicable statutory requirements in this regard.\n",
      "It is done by ensuring that financial statements properly summarize transactions and events recorded therein and by considering the judgments made by management in preparation of financial statements.\n",
      "The management responsible for preparation and presentation of financial statements makes many judgments in this process of preparing and presenting financial statements. For example, choosing of appropriate accounting policies in relation to various accounting issues like choosing method of charging depreciation on fixed assets or choosing appropriate method for valuation of inventories.\n",
      "The auditor evaluates selection and consistent application of accounting policies by management; whether such a selection is proper and whether chosen policy has been applied consistently on a period-to-period basis.\n",
      "Understand that financial statements of an entity are prepared on historical financial information basis. \"Historical financial information\" means information expressed in financial terms in relation to a particular entity, derived primarily from that entity's accounting system, about economic events occurring in past time periods or about economic conditions or circumstances at points in time in the past.\n",
      "For example, when purchases and sales are reflected in financial statements of an entity, these are examples of historical financial information. These are about transactions which have occurred in past.\n",
      "Since financial statements are prepared on the basis of historical financial information, it is logical that audit of financial statements is also based upon such historical financial information. Therefore, audit of financial statements is based upon historical financial information.\n",
      "Scope of audit-What it does not include\n",
      "Auditor is not expected to perform duties which fall outside domain of his competence. For example, physical condition of certain assets like that of sophisticated machinery cannot be determined by him. Similarly, it is not expected from an auditor to determine suitability and life of civil structures like buildings. These require different skillsets which may be performed by qualified engineers in their respective fields.\n",
      "An auditor is not an expert in authentication of documents. The genuineness of documents cannot be authenticated by him because he is not an expert in this field.\n",
      "An audit is not an official investigation into alleged wrong doing. He does not have any specific legal powers of search or recording statements of witness on oath which may be necessary for carrying out an official investigation.\n",
      "Audit is distinct from investigation. Investigation is a critical examination of the accounts with a special purpose. For example, if fraud is suspected and it is specifically called upon to check the accounts whether fraud really exists, it takes character of investigation.\n",
      "The objective of audit, on the other hand, as has already been discussed, is to obtain reasonable assurance about whether the financial statements as a whole are free from material misstatement, whether due to fraud or error, thereby enabling the auditor to express an opinion.\n",
      "The scope of audit is general and broad whereas scope of investigation is specific and narrow.\n",
      "An Overview of Scope of Audit\n",
      "- The scope of an audit of financial statements includes the comprehensive examination of all aspects of the entity that are relevant to the financial statements being audited.\n",
      "- It encompasses assessing the reliability and sufficiency of the financial information presented in the statements.\n",
      "- Ensuring proper disclosure of all pertinent financial information in the statements is a key part of the audit scope.\n",
      "- The auditor is responsible for expressing an opinion on the financial statements based on the audit evidence obtained.\n",
      "- The preparation and presentation of financial statements fall outside the auditor's responsibilities; this is the management's duty.\n",
      "- Actions beyond the auditor's professional competence are not within the scope of the audit.\n",
      "- The auditor is not required to possess expertise in the authentication of documents; such expertise lies beyond the typical scope of auditing.\n",
      "- Conducting investigations is not typically within the scope of a standard financial statement audit.\n",
      "INHERENT LIMITATIONS OF AUDIT\n",
      "The process of audit suffers from certain inbuilt limitations due to which an auditor cannot obtain an absolute assurance that financial statements are free from misstatement due to fraud or error. These fundamental limitations arise due to the following factors: -\n",
      "Nature of financial reporting\n",
      "Preparation of financial statements involves making many judgments by management. These judgments may involve subjective decisions or a degree of uncertainty. Therefore, auditor may not be able to obtain absolute assurance that financial statements are free from material misstatements due to frauds or errors.\n",
      "One of the premises for conducting an audit is that management acknowledges its responsibility of preparation of financial statements in accordance with applicable financial reporting framework and for devising suitable internal controls. However, such controls may not have operated to produce reliable financial information due to their own limitations.\n",
      "Consider, for example, that management of a company has devised a control that all purchase bills should reflect stamp and signatures of an authorised person in \"Goods Receiving Section\" of the company stating the date and time of receiving goods in premises. It is an example of internal control devised by the company to ensure that only those purchase bills are produced for payment for which goods have been actually received. Now, what happens if concerned accountant and authorised person in \"Goods Receiving Section\" collude. It is a case of overriding of internal controls devised by the company due to collusion between two persons. Such a probable collusion is one of limitations of internal controls itself.\n",
      "Nature of Audit procedures\n",
      "The auditor carries out his work by obtaining audit evidence through performance of audit procedures. However, there are practical and legal limitations on ability of auditor to obtain audit evidence. For example, an auditor does not test all transactions and balances. He forms his opinion only by testing samples. It is an example of practical limitation on auditor's ability to obtain audit evidence.\n",
      "Management may not provide complete information as requested by auditor. There is no way by which auditor can force management to provide complete information as may be requested by auditor. In case he is not provided with required information, he can only report. It is an example of legal limitation on auditor's ability to obtain audit evidence.\n",
      "The management may consist of dishonest and unscrupulous people and may be, itself, involved in fraud. It may be engaged in concealing fraud by designing sophisticated and carefully organized schemes which may be hard to detect by the auditor. It may produce fabricated documents before auditor to lead him to believe that audit evidence is valid. However, in reality, such documents could be fake or non-genuine.\n",
      "We have already discussed under section on scope of audit that an auditor is not an expert in authentication of documents. Therefore, he may be led to accept invalid audit evidence on the basis of unauthentic documents.\n",
      "It is quite possible that entity may have entered into some transactions with related parties. Such transactions may be only paper transactions and may not have actually occurred. The auditor may not be aware of such related party relationships or audit procedures may not be able to detect probable wrong doings in such transactions.\n",
      "Not in nature of investigation\n",
      "As already discussed, audit is not an official investigation. Hence, auditor cannot obtain absolute assurance that financial statements are free from material misstatements due to frauds or errors.\n",
      "Timeliness of financial reporting and decrease in relevance of information over time\n",
      "The relevance of information decreases over time and auditor cannot verify each and every matter. Therefore, a balance has to be struck between reliability of information and cost of obtaining it.\n",
      "Consider, for example, an auditor who is conducting audit of a company since last two years. During these two years, he has sought detailed information from management of company regarding various matters. During his thirdyear stint, he chooses to rely upon some information obtained as part of audit procedures of second year. However, it could be possible that something new has happened and that information is not relevant. So, the information being relied upon by auditor is not timely and may have lost its reliability.\n",
      "Future events\n",
      "Future events or conditions may affect an entity adversely. Adverse events may seriously affect ability of an entity to continue its business. The business may cease to exist in future due to change in market conditions, emergence of new business models or products or due to onset of some adverse events.\n",
      "Therefore, it is in view of above factors, that an auditor cannot provide a guarantee that financial statements are free from material misstatements due to frauds or errors.\n",
      "Inherent Limitations of Audit (SA 200 \"Overall Objectives of the Independent Auditor and the Conduct of an Audit in Accordance with Standards on Auditing\"): The auditor is not expected to, and cannot, reduce audit risk to zero because there are inherent limitations of an audit. The inherent limitations of an audit arise from:\n",
      "The Nature of Financial Reporting: The preparation of financial statements involves judgment by management.\n",
      "The Nature of Audit Procedures: There are practical and legal limitations on the auditor's ability to obtain audit evidence such as:\n",
      "Possibility that management or others may  not provide, intentionally or unintentionally, the complete information relevant for preparation and presentation of FS.\n",
      "Fraud may involve sophisticated and carefully organised schemes.\n",
      "Not in the nature of Investigation: An audit is not an official investigation into alleged wrongdoing.\n",
      "Timeliness of financial reporting and decrease in relevance of information\n",
      " over time: Relevance of information, and thereby its value, tends to diminish over time, and there is a balance to be struck between the reliability of information and its cost.\n",
      "Future events: Future events or conditions may affect an entity adversely. Adverse events may seriously affect ability of an entity to continue its Business.\n",
      "WHAT IS AN ENGAGEMENT?\n",
      "Engagement means an arrangement to do something. In the context of auditing, it means a formal agreement between auditor and client under which auditor agrees to provide auditing services. It takes the shape of engagement letter.\n",
      "8.1 External audit engagements\n",
      "The purpose of external audit engagements is to enhance the degree of confidence of intended users of financial statements. Such engagements are also reasonable assurance engagements. For example, in India, companies are required to get their annual accounts audited by an external auditor. Even non-corporate entities may choose to have their accounts audited by an external auditor because of benefits of such an audit.\n",
      "BENEFITS OF AUDIT-WHY AUDIT IS NEEDED?\n",
      "Audited accounts provide high quality information. It gives confidence to users that information on which they are relying is qualitative and it is the outcome of an exercise carried out by following Auditing Standards recognized globally.\n",
      "In case of companies, shareholders may or may not be involved in daily affairs of the company. The financial statements are prepared by management consisting of directors. As shareholders are owners of the company, they need an independent mechanism so that financial information is qualitative and reliable. Hence, their interest is safeguarded by an audit.\n",
      "An audit acts as a moral check on employees from committing frauds for the fear of being discovered by audit.\n",
      "Audited financial statements are helpful to government authorities for determining tax liabilities.\n",
      "Audited financial statements can be relied upon by lenders, bankers for making their credit decisions i.e. whether to lend or not to lend to a particular entity.\n",
      "An audit may also detect fraud or error or both.\n",
      "An audit reviews existence and operations of various controls operating in any entity. Hence, it is useful at pointing out deficiencies.\n",
      "AUDIT- MANDATORY OR VOLUNTARY?\n",
      "It is not necessary that audit is always legally mandatory. There are entities like companies who are compulsorily required to get their accounts audited under law. Even non-corporate entities may be compulsorily requiring audit of their accounts under tax laws. For example, in India, every person is required to get accounts audited if turnover crosses certain threshold limit under income tax law.\n",
      "It is also possible that some entities like schools may be required to get their accounts audited for the purpose of obtaining grant or assistance from the Government.\n",
      "Audit is not always mandatory. Many entities may get their accounts audited voluntarily because of benefits from the process of audit. Many such concerns have their internal rules requiring audit due to advantages flowing from an audit.\n",
      "WHO APPOINTS AN AUDITOR?\n",
      "Generally, an auditor is appointed by owners or in some cases by constitutional or government authorities in accordance with applicable laws and regulations. For example, in case of companies, auditor is appointed by members (shareholders) in Annual General Meeting (AGM). Shareholders are owners of a company and auditor is appointed by them in AGM.\n",
      "However, in case of government companies in India, auditor is appointed by Comptroller and Auditor General of India (CAG), an independent constitutional authority.\n",
      "Take case of a firm who engages an auditor to audit its accounts. In such a case, auditor is appointed by partners of firm.\n",
      "There may be a situation in which auditor may be appointed by a government authority in accordance with some law or regulation. For example, an auditor may be appointed under tax laws by a government authority.\n",
      "TO WHOM REPORT IS SUBMITTED BY AN AUDITOR?\n",
      "The outcome of an audit is written audit report in which auditor expresses an opinion. The report is submitted to person making the appointment. In case of companies, these are shareholders- in case of a firm, to partners who have engaged him.\n",
      "We shall now discuss understanding reached so far from a case study involving discussion among students regarding nature, scope, limitations, benefits of auditing and other related matters.\n",
      "CASE STUDY-1\n",
      "Rohit, Gurpreet, Ali and Goreti are friends since their school days based in Mumbai. They have cleared CA foundation exams in the same attempt and now plan to appear for CA Intermediate exams. All of them are avid news listeners and regularly keep track of business news even on social media.\n",
      "They are trying to understand new subjects including auditing. Rohit, Gurpreet and Ali have also started attending Live Coaching Classes (LCC) being conducted by Board of studies of ICAI. Goreti has not been able to join Live Coaching Classes yet as she was away on a holiday with her parents. However, she plans to catch it up with her friends very soon. Ali had also joined the classes but he had skipped some lectures.\n",
      "During one informal get together, their discussions centred around new subject of auditing. They discussed many things regarding its nature, scope, benefits and other general practical issues. Goreti was regular in keeping track of audited results of companies being published in leading newspapers. Her view was that audited financial statements of companies give  guarantee to different stake holders. It is the main reason behind so much reliance upon auditing. But she could not understand why wrong doings in financial matters are being discovered after many years have gone by.\n",
      "Ali also concurred with her view and added that when financial statements are audited, each and every transaction appearing in books of accounts is verified. However, he could not give clarity to Goreti.\n",
      "Gurpreet was of the opinion that audit was conducted on the basis of sample checking. He was also of the view that audited financial statements are not a guarantee against probable wrong doings in financial matters of the companies.\n",
      "Not to be left behind, Rohit also jumped in the fray. He supported Gurpreet and also added something of his own.\n",
      "MEANING OF ASSURANCE ENGAGEMENT\n",
      "\"Assurance engagement\" means an engagement in which a practitioner expresses a conclusion designed to enhance the degree of confidence of the intended users other than the responsible party about the outcome of the evaluation or measurement of a subject matter against criteria.\n",
      "It means that the practitioner gives an opinion about specific information due to which users of information are able to make confident decisions knowing well that chance of information being incorrect is diminished.\n",
      " Elements of an Assurance Engagement\n",
      "Following elements comprise an assurance engagement: -\n",
      "A three party relationship involving a practitioner, a responsible party, and intended users\n",
      "An assurance engagement involves abovesaid three parties. A practitioner is a person who provides the assurance. The term practitioner is broader than auditor. Audit is related to historical information whereas practitioner may provide assurance not necessarily related to historical financial information.\n",
      "A responsible party is the party responsible for preparation of subject matter.\n",
      "Intended users are the persons for whom an assurance report is prepared. These persons may use the report in making decisions.\n",
      "An appropriate subject matter\n",
      "It refers to the information to be examined by the practitioner. For example, financial information contained in financial statements while conducting audit of financial statements.\n",
      "Suitable criteria\n",
      "These refer to benchmarks used to evaluate the subject matter like standards, guidance, laws, rules and regulations.\n",
      "Sufficient appropriate evidence\n",
      "The practitioner performs an assurance engagement to obtain sufficient appropriate evidence. It is on the basis of evidence that conclusions are arrived and an opinion is formed by auditor.\n",
      "\"Sufficient\" relates to quantity of evidence obtained by auditor. \"Appropriate\" relates to quality of evidence obtained by auditor. One evidence may be providing more comfort to auditor than the other evidence. The evidence providing more comfort is qualitative and, therefore, appropriate. Evidence should be both sufficient and appropriate.\n",
      "A written assurance report in appropriate form\n",
      "A written report is provided containing conclusion that conveys the assurance about the subject matter. A written assurance report is the outcome of an assurance engagement.\n",
      "Overview of Elements of assurance engagement\n",
      "- An assurance engagement involves a three-party relationship consisting of the responsible party, the practitioner, and the intended users.\n",
      "- The subject matter of an assurance engagement must be appropriate, meaning it is capable of evaluation against suitable criteria and available for the practitioner to obtain evidence.\n",
      "- Suitable criteria are standards or benchmarks applied to the subject matter of the assurance engagement against which the practitioner evaluates the information.\n",
      "- Sufficient appropriate evidence is necessary to support the practitioner's conclusion and is obtained through the assurance engagement process.\n",
      "- A written assurance report is provided in an appropriate form to communicate the conclusion of the assurance engagement to its intended users.\n",
      "Meaning of Review; Audit Vs. Review\n",
      "We have learnt that audit is a reasonable assurance engagement. It provides reasonable assurance. However, review is a limited assurance engagement. It provides lower level of assurance than audit. Further, review involves fewer procedures and gathers sufficient appropriate evidence on the basis of which limited conclusions can be drawn up. However, both \"audit\" and \"review\" are related to financial statements prepared on the basis of historical financial information.\n",
      "Types of Assurance Engagements- Reasonable assurance engagement vs. Limited assurance engagement\n",
      "As already discussed, assurance engagements provide assurance to users. The difference is of degree. Reasonable assurance engagement like audit provides reasonable assurance which is a high level of assurance. Limited assurance engagement like review provides lower level of assurance than audit. It is only a moderate level of assurance.\n",
      "- Reasonable assurance engagement is a process that provides a high level of assurance through the performance of extensive procedures to obtain sufficient appropriate evidence.\n",
      "- In contrast, limited assurance engagement offers a lower level of assurance, performing fewer procedures than a reasonable assurance engagement.\n",
      "- A reasonable assurance engagement results in conclusions based on the adequacy of the evidence gathered during the process.\n",
      "- An example of reasonable assurance engagement is an audit, which involves a thorough examination and provides a high level of assurance.\n",
      "- Conversely, an example of limited assurance engagement is a review, which provides a moderate level of assurance and involves less detailed procedures.\n",
      "Besides reasonable assurance engagements and limited assurance engagements, there is another kind of assurance which is related to matters other than historical financial information. Such an assurance may relate to prospective financial information and not to historical financial information. It may relate to providing assurance on internal controls in an entity.\n",
      "\"Prospective financial information\" means financial information based on assumptions about events that may occur in the future and possible actions by an entity. It can be in the form of a forecast or projection or combination of both.\n",
      "It is to be noted that in such type of assurance engagements, examination is not of historical financial information.\n",
      "Here, it is important to note the difference between \"Historical financial information\" and \"Prospective financial information.\" The former relates to information expressed in financial terms of an entity about economic events, conditions or circumstances occurring in past periods. The latter relates to financial information based on assumptions about occurrence of future events and possible actions by an entity.\n",
      "Therefore, historical financial information is rooted in past events which have already occurred whereas prospective financial information is related to future events.\n",
      "In assurance reports involving prospective financial information, the practitioner obtains sufficient appropriate evidence to the effect that management's assumptions on which the prospective financial information is based are not unreasonable, the prospective financial information is properly prepared on the basis of the assumptions and it is properly presented and all material assumptions are adequately disclosed.\n",
      "Prospective financial information relates to future events. While evidence may be available to support the assumptions on which the prospective financial information is based, such evidence is itself generally future- oriented. The auditor is, therefore, not in a position to express an opinion as to whether the results shown in the prospective financial information will be achieved.\n",
      "Therefore, in such assurance engagements, practitioner provides a report assuring that nothing has come to practitioner's attention to suggest that these assumptions do not provide a reasonable basis for the projection.\n",
      "Hence, such type of assurance engagement provides only a \"moderate\" level of assurance.\n",
      "Examples of assurance engagements\n",
      "- An audit of financial statements is classified as a reasonable assurance engagement, aiming to provide a high assurance level that financial statements are free from material misstatement.\n",
      "- A review of financial statements is considered a limited assurance engagement, which offers a moderate assurance level that no material modifications need to be made to the financial statements.\n",
      "- The examination of prospective financial information is an assurance engagement that assesses the reasonableness of assumptions used in projections and related matters.\n",
      "- Reporting on controls operating at an organization is an assurance engagement that evaluates the design and operation of an organization’s controls.\n",
      "The various categories of assurance engagements, which are professional services typically provided by certified accountants. The three main branches, originating from the overarching category of \"Assurance Engagements.\" Each branch is detailed below:\n",
      "\n",
      "Reasonable Assurance Engagement:\n",
      "\n",
      "This branch represents a high level of assurance provided by the auditor or accountant. It bifurcates into one sub-category:\n",
      "\n",
      "Audit: This is a type of reasonable assurance engagement where the auditor expresses an opinion on whether the financial statements are prepared, in all material respects, in accordance with an applicable financial reporting framework.\n",
      "\n",
      "Limited Assurance Engagement:\n",
      "\n",
      "This type of engagement provides a moderate level of assurance, less than that of a reasonable assurance engagement, but more than the level of assurance that would be provided by a compilation. It has one sub-category:\n",
      "\n",
      "Review: A review engagement is where the accountant performs procedures, primarily consisting of making inquiries of management and performing analytical procedures, to express a conclusion that provides a limited level of assurance on the financial statements.\n",
      "\n",
      "Assurance Engagements dealing with matters other than historical financial information:\n",
      "\n",
      "This branch indicates assurance services that do not focus on historical financial data. It includes:\n",
      "\n",
      "Examination of prospective financial information (like forecast): This involves engagements where auditors evaluate the preparation and presentation of financial forecasts and projections.\n",
      "\n",
      "Assurance regarding operations of controls: Here, the assurance practitioner provides an opinion on the design, implementation, and/or effectiveness of the controls at a service organization.\n",
      "\n",
      "Each of these branches indicates a different scope of work, level of assurance, and purpose within the realm of assurance engagements, offering various options depending on the needs of the users of the financial information.\n",
      "QUALITIES OF AUDITOR\n",
      "An auditor is concerned with the reporting on financial matters of business and other institutions. Financial matters inherently are to be set with the problems of human fallibility; errors and frauds are frequent.\n",
      "Tact, caution, firmness, good temper, integrity, discretion, industry, judgement, patience, clear headedness and reliability are some of qualities which an auditor\n",
      "should have. In short, all those personal qualities that go to make a good businessman contribute to the making of a good auditor.\n",
      "In addition, he must have the shine of culture for attaining a great height. He must have the highest degree of integrity backed by adequate independence.\n",
      "The auditor, who holds a position of trust, must have the basic human qualities apart from the technical requirement of professional training and education. He is called upon constantly to critically review financial statements and it is obviously useless for him to attempt that task unless his own knowledge is that of an expert. An exhaustive knowledge of accounting in all its branches is the sine qua non of the practice of auditing. He must know thoroughly all accounting principles and techniques.\n",
      "ENGAGEMENT AND QUALITY CONTROL STANDARDS: AN OVERVIEW\n",
      "The following Standards issued under authority of ICAI Council are collectively known as Engagement Standards: -\n",
      "Standards on auditing (SAs) which apply in audit of historical financial information.\n",
      "Standards on review engagements (SREs) which apply in review of historical financial information.\n",
      "Standards on Assurance engagements (SAEs) which apply in assurance engagements other than audits and review of historical financial information.\n",
      "Standards on Related Services (SRSs) which apply in agreed upon procedures to information, compilation engagements and other related service engagements.\n",
      "The purpose of issue of these standards is to establish high quality standards and guidance in the areas of financial statement audits and in other types of assurance services.\n",
      " Standards on Auditing\n",
      "Standards on Auditing apply in the context of an audit of financial statements by an independent auditor. It is important to remember that Standards on Auditing apply in audit of historical information. These establish high quality benchmarks and are followed by auditors in conducting audit of financial statements.\n",
      "Standards on Auditing have been issued on wide spectrum of issues in the field of auditing ranging from overall objectives of independent auditor, audit documentation, planning an audit of financial statements, identifying and assessing risk of material misstatement, audit sampling, audit evidence and forming an opinion and reporting on financial statements. These cover all significant aspects of audit of financial statements.\n",
      "Some examples of Standards on Auditing are: -\n",
      "SA 200 Overall Objectives of the Independent Auditor and the Conduct of an Audit in accordance with Standards on Auditing\n",
      "SA 230 Audit Documentation\n",
      "SA 315 Identifying and Assessing the Risks of Material Misstatement through Understanding the Entity and its Environment\n",
      "SA 500 Audit Evidence\n",
      "Revised SA 700 Forming an Opinion and Reporting on Financial Statements\n",
      "Standards on Review Engagements\n",
      "Standards on review engagements apply in the context of review of financial statements. We have already understood that review is a limited assurance engagement and it provides assurance which is lower than that provided by audit. It is due to the fact that review involves fewer procedures as compared to audit. Since a review also provides assurance to users, it also involves obtaining sufficient appropriate evidence. For example, when an auditor performs review of interim financial information of an entity.\n",
      "Examples of Standards on Review engagements are:\n",
      "SRE 2400 (Revised) Engagements to Review Historical Financial Statements\n",
      "SRE 2410 Review of Interim Financial Information Performed by the Independent Auditor of the Entity\n",
      "It is to be noted that both Standards on auditing and Standards on review engagements apply to engagements involving historical financial information.\n",
      "Standards on Assurance Engagements\n",
      "There is another set of standards which apply in assurance engagements dealing with subject matters other than historical financial information. Such assurance engagements do not include \"audit\" or \"review\" of historical financial information. These standards are known as Standards on Assurance Engagements. For example, an assurance engagement relating to examination of prospective financial information.\n",
      "It is to be noted that in such type of assurance engagements, examination is not of historical financial information or engagement may relate to providing assurance regarding non-financial matters like design and operation of internal control in an entity.\n",
      "Examples of Standards on Assurance Engagements are:\n",
      "SAE 3400 The Examination of Prospective Financial Information\n",
      "SAE 3420 Assurance Engagements to Report on the Compilation of Pro Forma Financial Information Included in a Prospectus\n",
      "Standards on Related Services\n",
      "Lastly, there are standards on related services. These standards apply in engagements to perform agreed-upon procedures regarding financial information.\n",
      "For example, an engagement to perform agreed-upon procedures may require the auditor to perform certain procedures concerning individual items of financial data, say, accounts payable, accounts receivable, purchases from related parties and sales and profits of a segment of an entity, or a financial statement, say, a balance sheet or even a complete set of financial statements.\n",
      "An engagement in which practitioner may be called upon to assist management with the preparation and presentation of historical financial information without obtaining assurance on that information. Such type of compilation engagements fall in the category of related services and practitioner issues a report clearly stating that it is not an assurance engagement and no opinion is being expressed.\n",
      "These types of services are called related services and standards have been issued to deal with practitioner's responsibilities in this regard.\n",
      "Examples of Standards on related services are:\n",
      "SRS 4400 Engagements to perform agreed-upon procedures regarding financial information\n",
      "SRS 4410 (Revised) Compilation engagements\n",
      "\n",
      "It is to be clearly understood that all the above standards i.e., Standards on Auditing (SAs), Standards on Review Engagements (SREs), Standards on Assurance Engagements (SAEs) and Standards on related services (SRSs) are collectively known as the Engagement Standards.\n",
      "Engagement Standards issued under the authority of Council of ICAI deal with responsibilities of auditor/practitioner.\n",
      "Standards on Quality Control\n",
      "Standards on Quality Control (SQCs) have been issued to establish standards and provide guidance regarding a firm's responsibilities for its system of quality control for the conduct of audit and review of historical financial information and for other assurance and related service engagements.\n",
      "SQC 1 has been issued in this regard. It requires auditors/practitioners to establish system of quality control so that firm and its personnel comply with professional standards and regulatory & legal requirements and reports issued are appropriate.\n",
      "Its basic objective is that while rendering services, to which engagement standards apply, there should be a system of quality control with in firms to ensure complying with professional standards/legal requirements. System of quality control ensures issuing of appropriate reports in the circumstances.\n",
      "Further, it is also to be remembered that Standards on Quality Control (SQCs) are to be applied for all services covered by Engagement Standards.\n",
      "Why are Standards needed?\n",
      "Standards ensure carrying out of audit against established benchmarks at par with global practices.\n",
      "Standards improve quality of financial reporting thereby helping users to make diligent decisions.\n",
      "Standards promote uniformity as audit of financial statements is carried out following these Standards.\n",
      "Standards equip professional accountants with professional knowledge and skill.\n",
      "Standards ensure audit quality.\n",
      "Duties in relation to Engagement and Quality Control Standards\n",
      "It is the duty of professional accountants to see that Standards are followed in engagements undertaken by them. Ordinarily, these are to be followed by professional accountants. However, a situation may arise when a specific procedure as required in Standards would be ineffective in a particular engagement. In such a case, he is required to document how alternative procedures performed achieve the purpose of required procedure. Also, reason for departure has also to be documented unless it is clear. Further, his report should draw attention to such departures. It is also to be noted that a mere disclosure in the report does not absolve a professional accountant from complying with applicable Standards.\n",
      "Overview of Engagement and Quality Control Standards\n",
      "- Standards on Auditing (SAs) are applicable to audits of historical financial information, guiding the audit process to ensure reliability and credibility.\n",
      "- Standards on Review Engagements (SREs) govern the review of historical financial information to provide a limited assurance that no material modifications are needed.\n",
      "- Standards on Assurance Engagements (SAEs) are relevant for engagements that involve assurance on matters other than historical financial information.\n",
      "- Standards on Related Services (SRSs) apply to engagements where agreed-upon procedures regarding financial information are performed, including assisting management in the preparation and presentation of financial statements.\n",
      "- Standards on Quality Control (SQC) are comprehensive and apply to all services covered by engagement standards, including SAs, SREs, SAEs, and SRSs.\n",
      "- Professional accountants have a duty to adhere to these Standards; any deviation must be clearly stated and explained in their reports.\n"
     ]
    },
    {
     "data": {
      "text/plain": [
       "27"
      ]
     },
     "execution_count": 89,
     "metadata": {},
     "output_type": "execute_result"
    }
   ],
   "source": [
    "counter = 0\n",
    "for section in sections[\"sections\"]:\n",
    "    print(section[\"content\"])\n",
    "    counter += 1\n",
    "counter"
   ]
  },
  {
   "cell_type": "code",
   "execution_count": 40,
   "metadata": {},
   "outputs": [
    {
     "data": {
      "text/plain": [
       "\"INTRODUCTION\\nWhat do such real-life situations highlight? Such instances underline importance of auditing in today's complex business environment. Be it investors desirous of investing their money in companies, shareholders anxious to know financial position of companies they have invested in, banks or financial institutions willing to lend funds to credit-worthy organizations, governments desirous of collecting taxes from trade and industry in accordance with applicable laws, trade unions negotiating with corporate managements for better wages or insurance companies wanting to settle property claims caused by fire or other disasters - range of diverse users in equally diverse fields rely upon audited financial statements.\\nCan you figure out reason behind such reliance? It is due to the fact that audited financial statements provide confidence to users of financial statements; audited financial statements provide assurance to users who may take their decisions on the basis of such audited financial statements. Herein lies the importance of auditing. You can very well understand how significant is role of auditing profession and auditors in modern world involving multitude of economic activities being carried out in equally dynamic legal and regulatory environments.\\nHere, comes a vital question. What do we mean by auditing? What is its nature and scope? What it includes and What it does not? What are its limitations? We shall try to find out answers to these questions in succeeding paras.\""
      ]
     },
     "execution_count": 40,
     "metadata": {},
     "output_type": "execute_result"
    }
   ],
   "source": [
    "sections[\"sections\"][0][\"content\"]"
   ]
  },
  {
   "cell_type": "code",
   "execution_count": null,
   "metadata": {},
   "outputs": [
    {
     "data": {
      "text/plain": [
       "DeleteResult({'n': 0, 'ok': 1.0}, acknowledged=True)"
      ]
     },
     "execution_count": 31,
     "metadata": {},
     "output_type": "execute_result"
    }
   ],
   "source": [
    "## Delete Objects\n",
    "# from bson import ObjectId\n",
    "\n",
    "# ca_inter_p5_c1_collection.delete_one({\"_id\": ObjectId(\"67445f12b1d4092f954d3d6f\")})"
   ]
  },
  {
   "cell_type": "markdown",
   "metadata": {},
   "source": [
    "# Generate Questions"
   ]
  },
  {
   "cell_type": "code",
   "execution_count": 41,
   "metadata": {},
   "outputs": [],
   "source": [
    "import os\n",
    "from openai import AzureOpenAI\n",
    "\n",
    "ai_client = AzureOpenAI(\n",
    "    api_version=\"2024-08-01-preview\",\n",
    "    api_key=os.getenv(key=\"AZURE_OPENAI_API_KEY\"),\n",
    "    azure_endpoint=os.getenv(key=\"AZURE_OPENAI_ENDPOINT\"),\n",
    ")"
   ]
  },
  {
   "cell_type": "code",
   "execution_count": 55,
   "metadata": {},
   "outputs": [],
   "source": [
    "QUESTIONS_PROMPT = f\"\"\"Analyze the following text and generate as many questions as possible to cover all aspects of the content. The questions should be of various types, including:\n",
    " \n",
    "- Facts\n",
    "- Logic\n",
    "- Steps\n",
    "- Examples\n",
    "- Definitions\n",
    "- Any other relevant types that help to create an overall understanding of the context involved.\n",
    " \n",
    "Your output must be in JSON format. Each object should have the following two fields:\n",
    " \n",
    "- \"question\": The question text.\n",
    "- \"type\": The type of question (e.g., \"fact\", \"logic\", \"steps\", \"example\", \"definition\", etc.)\n",
    " \n",
    "**Requirements:**\n",
    " \n",
    "- The questions should be comprehensive and cover all important points in the text.\n",
    "- The number of questions should be sufficient to thoroughly represent the input data.\n",
    "- Do not include any introductions, explanations, or conclusions in your output.\n",
    "- The output should be strictly in JSON format without any additional text.\n",
    " \n",
    "**Input Text:**\n",
    "{sections[\"sections\"][0][\"content\"]}\n",
    "\"\"\""
   ]
  },
  {
   "cell_type": "code",
   "execution_count": 66,
   "metadata": {},
   "outputs": [],
   "source": [
    "from pydantic import BaseModel\n",
    "from openai import OpenAI\n",
    "\n",
    "GPT_4O_MINI = \"gpt-4o-mini\"\n",
    "\n",
    "\n",
    "class Question(BaseModel):\n",
    "    question: str\n",
    "    type: str\n",
    "\n",
    "\n",
    "class Questions(BaseModel):\n",
    "    questions: List[Question]\n",
    "\n",
    "\n",
    "completion = ai_client.beta.chat.completions.parse(\n",
    "    model=GPT_4O_MINI,\n",
    "    messages=[\n",
    "        {\n",
    "            \"role\": \"system\",\n",
    "            \"content\": \"You are an assistant that generates questions based on given text.\",\n",
    "        },\n",
    "        {\n",
    "            \"role\": \"user\",\n",
    "            \"content\": f\"{QUESTIONS_PROMPT}\",\n",
    "        },\n",
    "    ],\n",
    "    response_format=Questions,\n",
    ")\n",
    "\n",
    "event = completion.choices[0].message.parsed\n"
   ]
  },
  {
   "cell_type": "code",
   "execution_count": 78,
   "metadata": {},
   "outputs": [
    {
     "data": {
      "text/plain": [
       "[{'question': \"What is the primary importance of auditing in today's complex business environment?\",\n",
       "  'type': 'definition'},\n",
       " {'question': 'Who are the diverse users that rely on audited financial statements?',\n",
       "  'type': 'fact'},\n",
       " {'question': 'Why do investors rely on audited financial statements?',\n",
       "  'type': 'logic'},\n",
       " {'question': 'How do audited financial statements provide assurance to users?',\n",
       "  'type': 'logic'},\n",
       " {'question': 'What roles do banks and financial institutions play in relation to audited financial statements?',\n",
       "  'type': 'fact'},\n",
       " {'question': 'In what ways do governments use audited financial statements?',\n",
       "  'type': 'fact'},\n",
       " {'question': 'Why might trade unions be interested in audited financial statements?',\n",
       "  'type': 'logic'},\n",
       " {'question': 'How do insurance companies utilize audited financial statements?',\n",
       "  'type': 'fact'},\n",
       " {'question': \"What is meant by the term 'auditing'?\", 'type': 'definition'},\n",
       " {'question': 'What aspects of auditing will be explored in the subsequent paragraphs?',\n",
       "  'type': 'fact'},\n",
       " {'question': 'What questions arise about the nature and scope of auditing?',\n",
       "  'type': 'steps'},\n",
       " {'question': 'What limitations of auditing need to be considered?',\n",
       "  'type': 'logic'},\n",
       " {'question': 'Why is the role of auditors significant in the modern world?',\n",
       "  'type': 'logic'}]"
      ]
     },
     "execution_count": 78,
     "metadata": {},
     "output_type": "execute_result"
    }
   ],
   "source": [
    "questions = event.model_dump()\n",
    "questions[\"questions\"]"
   ]
  },
  {
   "cell_type": "code",
   "execution_count": 82,
   "metadata": {},
   "outputs": [],
   "source": [
    "from bson import ObjectId\n",
    "\n",
    "\n",
    "def update_section_questions(collection, chapter_id, section_number, questions):\n",
    "    \"\"\"Update a section with generated questions.\"\"\"\n",
    "    collection.update_one(\n",
    "        {\"_id\": ObjectId(chapter_id), \"sections.section_number\": str(section_number)},\n",
    "        {\"$set\": {\"sections.$.questions\": questions}},\n",
    "    )\n",
    "\n",
    "\n",
    "update_section_questions(\n",
    "    collection=ca_inter_p5_c1_collection,\n",
    "    chapter_id=\"67446637a238f1fdec0eff32\",\n",
    "    section_number=1,\n",
    "    questions=questions,\n",
    ")\n"
   ]
  },
  {
   "cell_type": "markdown",
   "metadata": {},
   "source": [
    "# Pipeline"
   ]
  },
  {
   "cell_type": "code",
   "execution_count": 94,
   "metadata": {},
   "outputs": [],
   "source": [
    "import os\n",
    "from openai import AzureOpenAI\n",
    "from pydantic import BaseModel\n",
    "from typing import List\n",
    "from bson import ObjectId\n",
    "from pymongo.errors import PyMongoError\n",
    "\n",
    "# Step 1: Initialize Azure OpenAI client\n",
    "ai_client = AzureOpenAI(\n",
    "    api_version=\"2024-08-01-preview\",\n",
    "    api_key=os.getenv(\"AZURE_OPENAI_API_KEY\"),\n",
    "    azure_endpoint=os.getenv(\"AZURE_OPENAI_ENDPOINT\"),\n",
    ")\n",
    "\n",
    "\n",
    "# Define models\n",
    "class Question(BaseModel):\n",
    "    question: str\n",
    "    type: str\n",
    "\n",
    "\n",
    "class Questions(BaseModel):\n",
    "    questions: List[Question]\n",
    "\n",
    "\n",
    "# Constants\n",
    "GPT_4O_MINI = \"gpt-4o-mini\"\n",
    "\n",
    "\n",
    "# Helper function to update MongoDB\n",
    "def update_section_questions(collection, chapter_id, section_number, questions):\n",
    "    try:\n",
    "        result = collection.update_one(\n",
    "            {\n",
    "                \"_id\": ObjectId(chapter_id),\n",
    "                \"sections.section_number\": str(section_number),\n",
    "            },\n",
    "            {\"$set\": {\"sections.$.questions\": questions}},\n",
    "        )\n",
    "        if result.matched_count == 0:\n",
    "            print(\n",
    "                f\"No document found with id {chapter_id} and section number {section_number}\"\n",
    "            )\n",
    "        elif result.modified_count == 0:\n",
    "            print(f\"Document found but not modified. Questions might be the same.\")\n",
    "        else:\n",
    "            print(f\"Successfully updated questions for section {section_number}\")\n",
    "    except PyMongoError as e:\n",
    "        print(f\"An error occurred while updating MongoDB: {e}\")\n",
    "\n",
    "\n",
    "# Main pipeline function\n",
    "def process_sections(sections, chapter_id, collection):\n",
    "    for index, section in enumerate(sections[\"sections\"], start=1):\n",
    "        print(f\"\\nProcessing Section {index}\")\n",
    "\n",
    "        # Step 2: Prepare the prompt\n",
    "        QUESTIONS_PROMPT = f\"\"\"Analyze the following text and generate as many questions as possible to cover all aspects of the content. The questions should be of various types, including:\n",
    "\n",
    "- Facts\n",
    "- Logic\n",
    "- Steps\n",
    "- Examples\n",
    "- Definitions\n",
    "- Any other relevant types that help to create an overall understanding of the context involved.\n",
    "\n",
    "Your output must be in JSON format. Each object should have the following two fields:\n",
    "\n",
    "- \"question\": The question text.\n",
    "- \"type\": The type of question (e.g., \"fact\", \"logic\", \"steps\", \"example\", \"definition\", etc.)\n",
    "\n",
    "**Requirements:**\n",
    "\n",
    "- The questions should be comprehensive and cover all important points in the text.\n",
    "- The number of questions should be sufficient to thoroughly represent the input data.\n",
    "- Do not include any introductions, explanations, or conclusions in your output.\n",
    "- The output should be strictly in JSON format without any additional text.\n",
    "\n",
    "**Input Text:**\n",
    "{section[\"content\"]}\n",
    "\"\"\"\n",
    "\n",
    "        try:\n",
    "            # Step 3: Generate questions using Azure OpenAI\n",
    "            completion = ai_client.beta.chat.completions.parse(\n",
    "                model=GPT_4O_MINI,\n",
    "                messages=[\n",
    "                    {\n",
    "                        \"role\": \"system\",\n",
    "                        \"content\": \"You are an assistant that generates questions based on given text.\",\n",
    "                    },\n",
    "                    {\n",
    "                        \"role\": \"user\",\n",
    "                        \"content\": QUESTIONS_PROMPT,\n",
    "                    },\n",
    "                ],\n",
    "                response_format=Questions,\n",
    "            )\n",
    "\n",
    "            event = completion.choices[0].message.parsed\n",
    "            questions = event.model_dump()\n",
    "\n",
    "            # Update MongoDB\n",
    "            update_section_questions(\n",
    "                collection=collection,\n",
    "                chapter_id=chapter_id,\n",
    "                section_number=section[\"section_number\"],\n",
    "                questions=questions[\"questions\"],\n",
    "            )\n",
    "\n",
    "            print(\n",
    "                f\"Step {index} completed: Updated DB with section number {section['section_number']} questions\"\n",
    "            )\n",
    "\n",
    "        except Exception as e:\n",
    "            print(f\"An error occurred while processing section {index}: {e}\")\n"
   ]
  },
  {
   "cell_type": "code",
   "execution_count": 96,
   "metadata": {},
   "outputs": [
    {
     "name": "stdout",
     "output_type": "stream",
     "text": [
      "\n",
      "Processing Section 1\n",
      "Successfully updated questions for section 1\n",
      "Step 1 completed: Updated DB with section number 1 questions\n",
      "\n",
      "Processing Section 2\n",
      "Successfully updated questions for section 2\n",
      "Step 2 completed: Updated DB with section number 2 questions\n",
      "\n",
      "Processing Section 3\n",
      "Successfully updated questions for section 3\n",
      "Step 3 completed: Updated DB with section number 3 questions\n",
      "\n",
      "Processing Section 4\n",
      "Successfully updated questions for section 4\n",
      "Step 4 completed: Updated DB with section number 4 questions\n",
      "\n",
      "Processing Section 5\n",
      "Successfully updated questions for section 5\n",
      "Step 5 completed: Updated DB with section number 5 questions\n",
      "\n",
      "Processing Section 6\n",
      "Successfully updated questions for section 6\n",
      "Step 6 completed: Updated DB with section number 6 questions\n",
      "\n",
      "Processing Section 7\n",
      "Successfully updated questions for section 7\n",
      "Step 7 completed: Updated DB with section number 7 questions\n",
      "\n",
      "Processing Section 8\n",
      "Successfully updated questions for section 8\n",
      "Step 8 completed: Updated DB with section number 8 questions\n",
      "\n",
      "Processing Section 9\n",
      "Successfully updated questions for section 9\n",
      "Step 9 completed: Updated DB with section number 9 questions\n",
      "\n",
      "Processing Section 10\n",
      "Successfully updated questions for section 10\n",
      "Step 10 completed: Updated DB with section number 10 questions\n",
      "\n",
      "Processing Section 11\n",
      "Successfully updated questions for section 11\n",
      "Step 11 completed: Updated DB with section number 11 questions\n",
      "\n",
      "Processing Section 12\n",
      "Successfully updated questions for section 12\n",
      "Step 12 completed: Updated DB with section number 12 questions\n",
      "\n",
      "Processing Section 13\n",
      "Successfully updated questions for section 13\n",
      "Step 13 completed: Updated DB with section number 13 questions\n",
      "\n",
      "Processing Section 14\n",
      "Successfully updated questions for section 14\n",
      "Step 14 completed: Updated DB with section number 14 questions\n",
      "\n",
      "Processing Section 15\n",
      "Successfully updated questions for section 15\n",
      "Step 15 completed: Updated DB with section number 15 questions\n",
      "\n",
      "Processing Section 16\n",
      "Successfully updated questions for section 16\n",
      "Step 16 completed: Updated DB with section number 16 questions\n",
      "\n",
      "Processing Section 17\n",
      "Successfully updated questions for section 17\n",
      "Step 17 completed: Updated DB with section number 17 questions\n",
      "\n",
      "Processing Section 18\n",
      "Successfully updated questions for section 18\n",
      "Step 18 completed: Updated DB with section number 18 questions\n",
      "\n",
      "Processing Section 19\n",
      "Successfully updated questions for section 19\n",
      "Step 19 completed: Updated DB with section number 19 questions\n",
      "\n",
      "Processing Section 20\n",
      "Successfully updated questions for section 20\n",
      "Step 20 completed: Updated DB with section number 20 questions\n",
      "\n",
      "Processing Section 21\n",
      "Successfully updated questions for section 21\n",
      "Step 21 completed: Updated DB with section number 21 questions\n",
      "\n",
      "Processing Section 22\n",
      "Successfully updated questions for section 22\n",
      "Step 22 completed: Updated DB with section number 22 questions\n",
      "\n",
      "Processing Section 23\n",
      "Successfully updated questions for section 23\n",
      "Step 23 completed: Updated DB with section number 23 questions\n",
      "\n",
      "Processing Section 24\n",
      "Successfully updated questions for section 24\n",
      "Step 24 completed: Updated DB with section number 24 questions\n",
      "\n",
      "Processing Section 25\n",
      "Successfully updated questions for section 25\n",
      "Step 25 completed: Updated DB with section number 25 questions\n",
      "\n",
      "Processing Section 26\n",
      "Successfully updated questions for section 26\n",
      "Step 26 completed: Updated DB with section number 26 questions\n",
      "\n",
      "Processing Section 27\n",
      "Successfully updated questions for section 27\n",
      "Step 27 completed: Updated DB with section number 27 questions\n"
     ]
    }
   ],
   "source": [
    "process_sections(\n",
    "    sections=sections,\n",
    "    chapter_id=\"67446637a238f1fdec0eff32\",\n",
    "    collection=ca_inter_p5_c1_collection,\n",
    ")"
   ]
  },
  {
   "cell_type": "code",
   "execution_count": null,
   "metadata": {},
   "outputs": [],
   "source": []
  }
 ],
 "metadata": {
  "kernelspec": {
   "display_name": "learn-fastapi-9ibX4H3i-py3.12",
   "language": "python",
   "name": "python3"
  },
  "language_info": {
   "codemirror_mode": {
    "name": "ipython",
    "version": 3
   },
   "file_extension": ".py",
   "mimetype": "text/x-python",
   "name": "python",
   "nbconvert_exporter": "python",
   "pygments_lexer": "ipython3",
   "version": "3.12.5"
  }
 },
 "nbformat": 4,
 "nbformat_minor": 2
}
