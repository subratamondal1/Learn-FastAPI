{
 "cells": [
  {
   "cell_type": "markdown",
   "metadata": {},
   "source": [
    "# Azure OpenAI"
   ]
  },
  {
   "cell_type": "code",
   "execution_count": 1,
   "metadata": {},
   "outputs": [
    {
     "data": {
      "text/plain": [
       "True"
      ]
     },
     "execution_count": 1,
     "metadata": {},
     "output_type": "execute_result"
    }
   ],
   "source": [
    "from dotenv import load_dotenv\n",
    "\n",
    "load_dotenv()"
   ]
  },
  {
   "cell_type": "code",
   "execution_count": 2,
   "metadata": {},
   "outputs": [
    {
     "name": "stdout",
     "output_type": "stream",
     "text": [
      "Help on class AzureOpenAI in module openai.lib.azure:\n",
      "\n",
      "class AzureOpenAI(BaseAzureClient, openai.OpenAI)\n",
      " |  AzureOpenAI(*, api_version: 'str | None' = None, azure_endpoint: 'str | None' = None, azure_deployment: 'str | None' = None, api_key: 'str | None' = None, azure_ad_token: 'str | None' = None, azure_ad_token_provider: 'AzureADTokenProvider | None' = None, organization: 'str | None' = None, project: 'str | None' = None, base_url: 'str | None' = None, timeout: 'float | Timeout | None | NotGiven' = NOT_GIVEN, max_retries: 'int' = 2, default_headers: 'Mapping[str, str] | None' = None, default_query: 'Mapping[str, object] | None' = None, http_client: 'httpx.Client | None' = None, _strict_response_validation: 'bool' = False) -> 'None'\n",
      " |\n",
      " |  Method resolution order:\n",
      " |      AzureOpenAI\n",
      " |      BaseAzureClient\n",
      " |      openai.OpenAI\n",
      " |      openai._base_client.SyncAPIClient\n",
      " |      openai._base_client.BaseClient\n",
      " |      typing.Generic\n",
      " |      builtins.object\n",
      " |\n",
      " |  Methods defined here:\n",
      " |\n",
      " |  __init__(self, *, api_version: 'str | None' = None, azure_endpoint: 'str | None' = None, azure_deployment: 'str | None' = None, api_key: 'str | None' = None, azure_ad_token: 'str | None' = None, azure_ad_token_provider: 'AzureADTokenProvider | None' = None, organization: 'str | None' = None, project: 'str | None' = None, base_url: 'str | None' = None, timeout: 'float | Timeout | None | NotGiven' = NOT_GIVEN, max_retries: 'int' = 2, default_headers: 'Mapping[str, str] | None' = None, default_query: 'Mapping[str, object] | None' = None, http_client: 'httpx.Client | None' = None, _strict_response_validation: 'bool' = False) -> 'None'\n",
      " |      Construct a new synchronous azure openai client instance.\n",
      " |\n",
      " |      This automatically infers the following arguments from their corresponding environment variables if they are not provided:\n",
      " |      - `api_key` from `AZURE_OPENAI_API_KEY`\n",
      " |      - `organization` from `OPENAI_ORG_ID`\n",
      " |      - `project` from `OPENAI_PROJECT_ID`\n",
      " |      - `azure_ad_token` from `AZURE_OPENAI_AD_TOKEN`\n",
      " |      - `api_version` from `OPENAI_API_VERSION`\n",
      " |      - `azure_endpoint` from `AZURE_OPENAI_ENDPOINT`\n",
      " |\n",
      " |      Args:\n",
      " |          azure_endpoint: Your Azure endpoint, including the resource, e.g. `https://example-resource.azure.openai.com/`\n",
      " |\n",
      " |          azure_ad_token: Your Azure Active Directory token, https://www.microsoft.com/en-us/security/business/identity-access/microsoft-entra-id\n",
      " |\n",
      " |          azure_ad_token_provider: A function that returns an Azure Active Directory token, will be invoked on every request.\n",
      " |\n",
      " |          azure_deployment: A model deployment, if given sets the base client URL to include `/deployments/{azure_deployment}`.\n",
      " |              Note: this means you won't be able to use non-deployment endpoints. Not supported with Assistants APIs.\n",
      " |\n",
      " |  copy(self, *, api_key: 'str | None' = None, organization: 'str | None' = None, project: 'str | None' = None, api_version: 'str | None' = None, azure_ad_token: 'str | None' = None, azure_ad_token_provider: 'AzureADTokenProvider | None' = None, base_url: 'str | httpx.URL | None' = None, timeout: 'float | Timeout | None | NotGiven' = NOT_GIVEN, http_client: 'httpx.Client | None' = None, max_retries: 'int | NotGiven' = NOT_GIVEN, default_headers: 'Mapping[str, str] | None' = None, set_default_headers: 'Mapping[str, str] | None' = None, default_query: 'Mapping[str, object] | None' = None, set_default_query: 'Mapping[str, object] | None' = None, _extra_kwargs: 'Mapping[str, Any]' = {}) -> 'Self'\n",
      " |      Create a new client instance re-using the same options given to the current client with optional overriding.\n",
      " |\n",
      " |  with_options = copy(self, *, api_key: 'str | None' = None, organization: 'str | None' = None, project: 'str | None' = None, api_version: 'str | None' = None, azure_ad_token: 'str | None' = None, azure_ad_token_provider: 'AzureADTokenProvider | None' = None, base_url: 'str | httpx.URL | None' = None, timeout: 'float | Timeout | None | NotGiven' = NOT_GIVEN, http_client: 'httpx.Client | None' = None, max_retries: 'int | NotGiven' = NOT_GIVEN, default_headers: 'Mapping[str, str] | None' = None, set_default_headers: 'Mapping[str, str] | None' = None, default_query: 'Mapping[str, object] | None' = None, set_default_query: 'Mapping[str, object] | None' = None, _extra_kwargs: 'Mapping[str, Any]' = {}) -> 'Self'\n",
      " |\n",
      " |  ----------------------------------------------------------------------\n",
      " |  Data and other attributes defined here:\n",
      " |\n",
      " |  __annotations__ = {}\n",
      " |\n",
      " |  __orig_bases__ = (openai.lib.azure.BaseAzureClient[httpx.Client, opena...\n",
      " |\n",
      " |  __parameters__ = ()\n",
      " |\n",
      " |  ----------------------------------------------------------------------\n",
      " |  Readonly properties inherited from openai.OpenAI:\n",
      " |\n",
      " |  auth_headers\n",
      " |\n",
      " |  default_headers\n",
      " |\n",
      " |  qs\n",
      " |\n",
      " |  ----------------------------------------------------------------------\n",
      " |  Methods inherited from openai._base_client.SyncAPIClient:\n",
      " |\n",
      " |  __enter__(self: '_T') -> '_T'\n",
      " |\n",
      " |  __exit__(self, exc_type: 'type[BaseException] | None', exc: 'BaseException | None', exc_tb: 'TracebackType | None') -> 'None'\n",
      " |\n",
      " |  close(self) -> 'None'\n",
      " |      Close the underlying HTTPX client.\n",
      " |\n",
      " |      The client will *not* be usable after this.\n",
      " |\n",
      " |  delete(self, path: 'str', *, cast_to: 'Type[ResponseT]', body: 'Body | None' = None, options: 'RequestOptions' = {}) -> 'ResponseT'\n",
      " |\n",
      " |  get(self, path: 'str', *, cast_to: 'Type[ResponseT]', options: 'RequestOptions' = {}, stream: 'bool' = False, stream_cls: 'type[_StreamT] | None' = None) -> 'ResponseT | _StreamT'\n",
      " |\n",
      " |  get_api_list(self, path: 'str', *, model: 'Type[object]', page: 'Type[SyncPageT]', body: 'Body | None' = None, options: 'RequestOptions' = {}, method: 'str' = 'get') -> 'SyncPageT'\n",
      " |\n",
      " |  is_closed(self) -> 'bool'\n",
      " |\n",
      " |  patch(self, path: 'str', *, cast_to: 'Type[ResponseT]', body: 'Body | None' = None, options: 'RequestOptions' = {}) -> 'ResponseT'\n",
      " |\n",
      " |  post(self, path: 'str', *, cast_to: 'Type[ResponseT]', body: 'Body | None' = None, options: 'RequestOptions' = {}, files: 'RequestFiles | None' = None, stream: 'bool' = False, stream_cls: 'type[_StreamT] | None' = None) -> 'ResponseT | _StreamT'\n",
      " |\n",
      " |  put(self, path: 'str', *, cast_to: 'Type[ResponseT]', body: 'Body | None' = None, files: 'RequestFiles | None' = None, options: 'RequestOptions' = {}) -> 'ResponseT'\n",
      " |\n",
      " |  request(self, cast_to: 'Type[ResponseT]', options: 'FinalRequestOptions', remaining_retries: 'Optional[int]' = None, *, stream: 'bool' = False, stream_cls: 'type[_StreamT] | None' = None) -> 'ResponseT | _StreamT'\n",
      " |\n",
      " |  ----------------------------------------------------------------------\n",
      " |  Methods inherited from openai._base_client.BaseClient:\n",
      " |\n",
      " |  platform_headers(self) -> 'Dict[str, str]'\n",
      " |\n",
      " |  ----------------------------------------------------------------------\n",
      " |  Readonly properties inherited from openai._base_client.BaseClient:\n",
      " |\n",
      " |  custom_auth\n",
      " |\n",
      " |  default_query\n",
      " |\n",
      " |  user_agent\n",
      " |\n",
      " |  ----------------------------------------------------------------------\n",
      " |  Data descriptors inherited from openai._base_client.BaseClient:\n",
      " |\n",
      " |  __dict__\n",
      " |      dictionary for instance variables\n",
      " |\n",
      " |  __weakref__\n",
      " |      list of weak references to the object\n",
      " |\n",
      " |  base_url\n",
      " |\n",
      " |  ----------------------------------------------------------------------\n",
      " |  Class methods inherited from typing.Generic:\n",
      " |\n",
      " |  __class_getitem__(...)\n",
      " |      Parameterizes a generic class.\n",
      " |\n",
      " |      At least, parameterizing a generic class is the *main* thing this\n",
      " |      method does. For example, for some generic class `Foo`, this is called\n",
      " |      when we do `Foo[int]` - there, with `cls=Foo` and `params=int`.\n",
      " |\n",
      " |      However, note that this method is also called when defining generic\n",
      " |      classes in the first place with `class Foo[T]: ...`.\n",
      " |\n",
      " |  __init_subclass__(...)\n",
      " |      Function to initialize subclasses.\n",
      "\n"
     ]
    }
   ],
   "source": [
    "from openai import AzureOpenAI\n",
    "\n",
    "help(request=AzureOpenAI)"
   ]
  },
  {
   "cell_type": "code",
   "execution_count": 2,
   "metadata": {},
   "outputs": [],
   "source": [
    "import os\n"
   ]
  },
  {
   "cell_type": "code",
   "execution_count": 1,
   "metadata": {},
   "outputs": [],
   "source": [
    "import os\n",
    "from openai import AzureOpenAI\n",
    "\n",
    "ai_client = AzureOpenAI(\n",
    "    api_version=\"2024-08-01-preview\",\n",
    "    api_key=os.getenv(key=\"AZURE_OPENAI_API_KEY\"),\n",
    "    azure_endpoint=os.getenv(key=\"AZURE_OPENAI_ENDPOINT\"),\n",
    ")\n"
   ]
  },
  {
   "cell_type": "code",
   "execution_count": 5,
   "metadata": {},
   "outputs": [
    {
     "name": "stdout",
     "output_type": "stream",
     "text": [
      "Certainly! Writing a Python Flask application is a great way to create web applications. Below are the steps and a simple example to help you get started.\n",
      "\n",
      "### Prerequisites\n",
      "\n",
      "1. **Python** should be installed on your machine.\n",
      "2. Install Flask using pip:\n",
      "   ```bash\n",
      "   pip install Flask\n",
      "   ```\n",
      "\n",
      "### Basic Flask Application\n",
      "\n",
      "1. **Create a Project Directory:**\n",
      "   - Make a new directory for your Flask application:\n",
      "     ```bash\n",
      "     mkdir my_flask_app\n",
      "     cd my_flask_app\n",
      "     ```\n",
      "\n",
      "2. **Create a Virtual Environment (Optional but Recommended):**\n",
      "   - Create a virtual environment to keep dependencies organized.\n",
      "     ```bash\n",
      "     python3 -m venv venv\n",
      "     ```\n",
      "   - Activate the virtual environment.\n",
      "     - On macOS and Linux:\n",
      "       ```bash\n",
      "       source venv/bin/activate\n",
      "       ```\n",
      "     - On Windows:\n",
      "       ```bash\n",
      "       venv\\Scripts\\activate\n",
      "       ```\n",
      "   - Install Flask within this virtual environment:\n",
      "     ```bash\n",
      "     pip install Flask\n",
      "     ```\n",
      "\n",
      "3. **Create a Basic Flask Application:**\n",
      "\n",
      "   Create a file named `app.py`:\n",
      "\n",
      "   ```python\n",
      "   from flask import Flask\n",
      "\n",
      "   app = Flask(__name__)\n",
      "\n",
      "   @app.route('/')\n",
      "   def hello_world():\n",
      "       return 'Hello, World!'\n",
      "\n",
      "   if __name__ == '__main__':\n",
      "       app.run(debug=True)\n",
      "   ```\n",
      "\n",
      "4. **Run the Flask Application:**\n",
      "\n",
      "   In the terminal, make sure you're in the `my_flask_app` directory and run:\n",
      "\n",
      "   ```bash\n",
      "   python app.py\n",
      "   ```\n",
      "\n",
      "   You should see an output similar to:\n",
      "\n",
      "   ```plaintext\n",
      "   * Running on http://127.0.0.1:5000/ (Press CTRL+C to quit)\n",
      "   ```\n",
      "\n",
      "5. **Access Your Flask Application:**\n",
      "\n",
      "   Open a web browser and go to `http://127.0.0.1:5000/`. You should see \"Hello, World!\" displayed on the page.\n",
      "\n",
      "### Explanation\n",
      "\n",
      "- **`Flask`**: The Flask class is imported, and an instance of this class is created. This instance will be your WSGI application.\n",
      "- **`@app.route('/')`**: The route() decorator is used to bind a URL to a function. In this case, it binds the URL `/` to the `hello_world` function.\n",
      "- **`app.run()`**: This method runs the application on a local development server. The `debug=True` parameter helps while developing as it provides an interactive debugger and reloading if the code changes.\n",
      "\n",
      "### Development Tips\n",
      "\n",
      "- **Templates**: For HTML templates, create a folder named `templates` in the same directory as `app.py`. Flask will automatically find HTML files placed in this directory.\n",
      "- **Static Files**: To serve static files like CSS and JavaScript, create a folder named `static`.\n",
      "- **Environment Variables**: Use environment variables to set configurations like `FLASK_APP` and `FLASK_ENV` to manage development and production environments.\n",
      "- **Blueprints**: As your app grows, look into Flask Blueprints to organize it into modules.\n",
      "\n",
      "By following these steps, you should be able to get a basic Flask application up and running. As you gain familiarity, you can explore advanced features like database integration, templates, and authentication.\n"
     ]
    }
   ],
   "source": [
    "response = ai_client.chat.completions.create(\n",
    "    model=\"gpt-4o\",\n",
    "    messages=[\n",
    "        {\"role\": \"system\", \"content\": \"You are my coding assistant.\"},\n",
    "        {\n",
    "            \"role\": \"user\",\n",
    "            \"content\": \"Can you tell me how to write python flask application?\",\n",
    "        },\n",
    "    ],\n",
    ")\n",
    "\n",
    "print(response.choices[0].message.content)"
   ]
  },
  {
   "cell_type": "markdown",
   "metadata": {},
   "source": [
    "# MongoDB Client"
   ]
  },
  {
   "cell_type": "code",
   "execution_count": 6,
   "metadata": {},
   "outputs": [
    {
     "name": "stdout",
     "output_type": "stream",
     "text": [
      "MongoClient(host=['localhost:27017'], document_class=dict, tz_aware=False, connect=True)\n",
      "['admin', 'config', 'courses', 'local', 'my_store', 'subrata', 'test']\n"
     ]
    }
   ],
   "source": [
    "from pymongo import MongoClient\n",
    "\n",
    "db_client = MongoClient(host=\"localhost\", port=27017)\n",
    "\n",
    "print(db_client)\n",
    "print(db_client.list_database_names())"
   ]
  },
  {
   "cell_type": "code",
   "execution_count": 7,
   "metadata": {},
   "outputs": [
    {
     "name": "stdout",
     "output_type": "stream",
     "text": [
      "Database(MongoClient(host=['localhost:27017'], document_class=dict, tz_aware=False, connect=True), 'courses')\n"
     ]
    },
    {
     "data": {
      "text/plain": [
       "['CA-P1-M1-C1-U1-Theory']"
      ]
     },
     "execution_count": 7,
     "metadata": {},
     "output_type": "execute_result"
    }
   ],
   "source": [
    "courses_db = db_client.get_database(\"courses\")\n",
    "print(courses_db)\n",
    "courses_db.list_collection_names()"
   ]
  },
  {
   "cell_type": "code",
   "execution_count": 8,
   "metadata": {},
   "outputs": [
    {
     "name": "stdout",
     "output_type": "stream",
     "text": [
      "Collection(Database(MongoClient(host=['localhost:27017'], document_class=dict, tz_aware=False, connect=True), 'courses'), 'CA-P1-M1-C1-U1-Theory')\n"
     ]
    }
   ],
   "source": [
    "cap1_collection = courses_db.get_collection(\"CA-P1-M1-C1-U1-Theory\")\n",
    "\n",
    "print(cap1_collection)"
   ]
  },
  {
   "cell_type": "code",
   "execution_count": 9,
   "metadata": {},
   "outputs": [
    {
     "name": "stdout",
     "output_type": "stream",
     "text": [
      "<pymongo.synchronous.cursor.Cursor object at 0x10ccdb770>\n"
     ]
    }
   ],
   "source": [
    "from pymongo.synchronous.cursor import Cursor\n",
    "\n",
    "cap1_cursor: Cursor = cap1_collection.find({})\n",
    "\n",
    "print(cap1_cursor)"
   ]
  },
  {
   "cell_type": "code",
   "execution_count": 10,
   "metadata": {},
   "outputs": [
    {
     "name": "stdout",
     "output_type": "stream",
     "text": [
      "O) 1.1 INTRODUCTION\n",
      "Every individual performs some kind of economic activity. A salaried person gets salary and spends to buy provisions and clothing, for children's education, construction of house, etc. A sports club formed by a group of individuals, a business run by an individual or a group of individuals, a company running a business in telecom sector, a local authority like Calcutta Municipal Corporation, Delhi Development Authority, Governments, either Central or State, all are carrying some kind of economic activities. Not necessarily all the economic activities are run for any individual benefit; such economic activities may create social benefit i.e. benefit for the public, at large. Anyway, such economic activities are performed through 'transactions and events'. Transaction is used to mean 'a business, performance of an act, an agreement' while event is used to mean 'a happening, as a consequence of transaction(s), a result.'\n",
      "Example 1\n",
      "An individual invests ₹ 2,00,000 for running a stationery business. On 1st January, he purchases goods for  and sells for  during the month of January. He pays shop rent for the month  and finds that still he has goods worth  in hand. The individual performs an economic activity. He carries on a few transactions and encounters with some events. Is it not logical that he will want to know the result of his activity?\n",
      "We see that the individual, who runs the stationery business, earns a surplus of ₹ 42,000.\n",
      "\n",
      "Earning of ₹ 42,000 surplus is an event; also having the inventories in hand is another event, while purchase and sale of goods, investment of money and payment of rent are transactions.\n",
      "Similarly, a municipal corporation got government grant ₹ 500 lakhs for adult education; it spent ₹ 250 lakhs for purchasing literacy kits, paid ₹ 200 lakhs to the tutors and is left with a balance of ₹ 50 lakhs. These are also transactions and events.\n",
      "Similarly, the Central Government raised money through taxes, paid salaries to the employees, and spent on various developmental activities. Whenever receipts of the Government are more than expenses it has surplus, but if expenses are more than receipts it runs in deficit. Here raising money through various sources can be termed as transaction and surplus or deficit at the end of the accounting year can be termed as an event.\n",
      "A telecom company would need to ensure that it is providing the services for its millions of users for post-paid and pre-paid connections. Each activity done by a user (call, message, data usage) results into an economic event. The entity needs to keep appropriate and timely records to be able to collect money from post-paid connection users for the services availed by them. Likewise, the company will need to ensure that pre-paid connection customers are provided the support and the records confirm how much balance still remains to be utilized.\n",
      "So, everybody wants to keep records of all transactions and events and to have adequate information about the economic activity as an aid to decision-making. Accounting discipline has been developed to serve this purpose as it deals with the measurement of economic\n",
      "activities involving inflow and outflow of economic resources, which helps to develop useful information for decision-making process.\n",
      "Accounting has universal application for recording transactions and events and presenting suitable information to aid decision-making regarding any type of economic activity ranging from a family function to functions of the national government. But hereinafter we shall concentrate only on business activities and their accounting because the objective of this study material is to provide a basic understanding on accounting for business activities. Nevertheless, it will give adequate knowledge to think coherently of accounting as a field of study for universal application.\n",
      "The growth of accounting discipline is closely associated with the development of the business world. Thus, to understand accounting as a field of study for universal application, it is best identified with recording of business transactions and communication of financial information about business enterprise to facilitate decision-making. The aim of accounting is to meet the information needs of the rational and sound decision- makers, and thus, called the language of business.\n"
     ]
    }
   ],
   "source": [
    "for document in cap1_cursor:\n",
    "    if not document[\"key\"] == \"title\":\n",
    "        print(document[\"value\"])\n",
    "        break"
   ]
  },
  {
   "cell_type": "code",
   "execution_count": 11,
   "metadata": {},
   "outputs": [],
   "source": [
    "from typing import Any, Generator\n",
    "\n",
    "\n",
    "def get_values(cursor: Cursor) -> Generator[str, Any, None]:\n",
    "    for document in cursor:\n",
    "        if not document[\"key\"] == \"title\":\n",
    "            yield document[\"value\"]"
   ]
  },
  {
   "cell_type": "code",
   "execution_count": 12,
   "metadata": {},
   "outputs": [
    {
     "name": "stdout",
     "output_type": "stream",
     "text": [
      "<generator object get_values at 0x109923b90>\n"
     ]
    }
   ],
   "source": [
    "values = get_values(cap1_cursor)\n",
    "\n",
    "print(values)"
   ]
  },
  {
   "cell_type": "code",
   "execution_count": 13,
   "metadata": {},
   "outputs": [
    {
     "name": "stdout",
     "output_type": "stream",
     "text": [
      "1.2 MEANING OF ACCOUNTING\n",
      "The Committee on Terminology set up by the American Institute of Certified Public Accountants formulated the following definition of accounting in 1961:\n",
      "\"Accounting is the art of recording, classifying, and summarising in a significant manner and in terms of money, transactions and events which are, in part at least, of a financial character, and interpreting the result thereof.\"\n",
      "As per this definition, accounting is simply an art of record keeping. The process of accounting starts by first identifying the events and transactions which are of financial character and then be recorded in the books of account. Continuing with the same example of the telecom company, which needs to capture all transactions (transactions made by the user, raising invoice to the customer, receipt of money, payment towards salaries, marketing etc.). Likewise, the individual running the stationery business, would need to record all business transactions.\n",
      "This recording is done in Journal or subsidiary books, also known as primary books. Every good record keeping system includes suitable classification of transactions and events as well as their summarisation for ready reference. For example, the telecom company performing thousands of transactions on a daily basis, is not expected to publish all those transactions for the users to be able to make a decision. Surely, those transactions need to be summarized appropriately.\n",
      "After the transactions and events are recorded, they are transferred to secondary books, i.e., Ledger. In ledger, transactions and events are classified in terms of income, expense, assets and liabilities according to their characteristics and summarised in profit and loss account and balance sheet.\n",
      "Essentially the transactions and events are to be measured in terms of money. Measurement in terms of money means measuring at the ruling currency of a country, for example, rupee in India, dollar in U.S.A. and like. The transactions and events must have at least in part, financial characteristics. The inauguration of a new branch of a bank is an event without having financial character, while the business disposed of by the branch is an event having financial character. Accounting also interprets the recorded, classified and summarized transactions and events. However, the above-mentioned definition does not reflect the present day accounting function. According to the above definition, accounting ends with interpretation of the results of the financial transactions and events but in the modern world with the diversification of management and ownership, globalization of business and society gaining more interest in the functioning of the enterprises, the importance of communicating the accounting results has increased.\n",
      "Therefore, this requirement of communicating and motivating informed judgement has also become the part of accounting as defined in the widely accepted definition of accounting, given by the American Accounting Association in 1966 which treated accounting as:\n",
      "\"The process of identifying, measuring and communicating economic information to permit informed judgments and decisions by the users of accounts.\"\n",
      "In 1970, the Accounting Principles Board (APB) of American Institute of Certified Public Accountants (AICPA) enumerated the functions of accounting as follows:\n",
      "\"The function of accounting is to provide quantitative information, primarily of financial nature, about economic entities, that is needed to be useful in making economic decisions.\"\n",
      "Thus, accounting may be defined as the process of recording, classifying, summarising, analysing and interpreting the financial transactions and communicating the results thereof to the persons interested in such information.\n",
      "The above definition requires accountants to assume a bigger responsibility than to merely do book-keeping. Accountants need to be ready to provide the information ready for the intended users to be able to make economic decisions.\n"
     ]
    }
   ],
   "source": [
    "for value in values:\n",
    "    print(value)\n",
    "    break"
   ]
  },
  {
   "cell_type": "code",
   "execution_count": 15,
   "metadata": {},
   "outputs": [
    {
     "data": {
      "text/plain": [
       "str"
      ]
     },
     "execution_count": 15,
     "metadata": {},
     "output_type": "execute_result"
    }
   ],
   "source": [
    "type(value)"
   ]
  },
  {
   "cell_type": "code",
   "execution_count": 85,
   "metadata": {},
   "outputs": [
    {
     "name": "stdout",
     "output_type": "stream",
     "text": [
      "Five questions based on the provided context:\n",
      "ChatCompletion(id='chatcmpl-AVxlPI7ZVALmCk6XVB40hu9uazQXn', choices=[Choice(finish_reason='length', index=0, logprobs=None, message=ChatCompletionMessage(content=\"1. What was the definition of accounting formulated by the Committee on Terminology of the American Institute of Certified Public Accountants in 1961?\\n\\n2. How does the American Accounting Association's 1966 definition of accounting expand on the 1961 definition?\\n\\n3. What are the primary functions of accounting as outlined by the Accounting Principles Board in 1970?\\n\\n4. Why is it important for accounting to measure transactions in terms of money?\\n\\n5. How does the recording process in accounting begin according to the 1961 definition?\\n\\n6. What is the role of primary books like the Journal in the accounting process?\\n\\n7. How are transactions classified and summarized in the ledger?\\n\\n8. Why is it necessary to summarize transactions rather than publishing them all individually?\\n\\n9. What is the significance of communicating accounting results in the modern world?\\n\\n10. How does the concept of accounting today differ from its earlier definitions according to the text?\\n\\n11. What kind of events are considered to have financial characteristics in accounting?\\n\\n12. What responsibilities do modern accountants have beyond traditional bookkeeping?\\n\\n13. How has globalization influenced the evolution of accounting practices?\\n\\n14. In what ways does accounting assist in making economic decisions?\\n\\n15. Why is it important to classify transactions and events in accounting?\\n\\n16. What is the importance of summarizing transactions in financial statements like the profit and loss account and balance sheet?\\n\\n17. How does the text describe the event of inaugurating a new branch of a bank in terms of financial character?\\n\\n18\", refusal=None, role='assistant', audio=None, function_call=None, tool_calls=None), content_filter_results={'hate': {'filtered': False, 'severity': 'safe'}, 'protected_material_code': {'filtered': False, 'detected': False}, 'protected_material_text': {'filtered': False, 'detected': False}, 'self_harm': {'filtered': False, 'severity': 'safe'}, 'sexual': {'filtered': False, 'severity': 'safe'}, 'violence': {'filtered': False, 'severity': 'safe'}})], created=1732181263, model='gpt-4o-2024-08-06', object='chat.completion', service_tier=None, system_fingerprint='fp_04751d0b65', usage=CompletionUsage(completion_tokens=300, prompt_tokens=740, total_tokens=1040, completion_tokens_details=None, prompt_tokens_details=None), prompt_filter_results=[{'prompt_index': 0, 'content_filter_results': {'hate': {'filtered': False, 'severity': 'safe'}, 'jailbreak': {'filtered': False, 'detected': False}, 'self_harm': {'filtered': False, 'severity': 'safe'}, 'sexual': {'filtered': False, 'severity': 'safe'}, 'violence': {'filtered': False, 'severity': 'safe'}}}])\n"
     ]
    }
   ],
   "source": [
    "response = ai_client.chat.completions.create(\n",
    "    model=\"gpt-4o\",\n",
    "    messages=[\n",
    "        {\n",
    "            \"role\": \"system\",\n",
    "            \"content\": \"You are an assistant that generates questions based on given context.\",\n",
    "        },\n",
    "        {\n",
    "            \"role\": \"user\",\n",
    "            \"content\": f\"Based on the following context, generate exactly maximum number of quality questions:\\n\\n{value}\",\n",
    "        },\n",
    "    ],\n",
    "    temperature=0.7,  # Adjust for creativity\n",
    "    max_tokens=300,  # Adjust based on expected response length\n",
    ")\n",
    "\n",
    "# Print the generated questions\n",
    "print(\"Five questions based on the provided context:\")\n",
    "print(response)"
   ]
  },
  {
   "cell_type": "code",
   "execution_count": 86,
   "metadata": {},
   "outputs": [
    {
     "data": {
      "text/plain": [
       "1"
      ]
     },
     "execution_count": 86,
     "metadata": {},
     "output_type": "execute_result"
    }
   ],
   "source": [
    "len(response.choices)"
   ]
  },
  {
   "cell_type": "code",
   "execution_count": 87,
   "metadata": {},
   "outputs": [
    {
     "data": {
      "text/plain": [
       "openai.types.chat.chat_completion.Choice"
      ]
     },
     "execution_count": 87,
     "metadata": {},
     "output_type": "execute_result"
    }
   ],
   "source": [
    "type(response.choices[0])"
   ]
  },
  {
   "cell_type": "code",
   "execution_count": 88,
   "metadata": {},
   "outputs": [
    {
     "name": "stdout",
     "output_type": "stream",
     "text": [
      "('1. What was the definition of accounting formulated by the Committee on '\n",
      " 'Terminology of the American Institute of Certified Public Accountants in '\n",
      " '1961?\\n'\n",
      " '\\n'\n",
      " \"2. How does the American Accounting Association's 1966 definition of \"\n",
      " 'accounting expand on the 1961 definition?\\n'\n",
      " '\\n'\n",
      " '3. What are the primary functions of accounting as outlined by the '\n",
      " 'Accounting Principles Board in 1970?\\n'\n",
      " '\\n'\n",
      " '4. Why is it important for accounting to measure transactions in terms of '\n",
      " 'money?\\n'\n",
      " '\\n'\n",
      " '5. How does the recording process in accounting begin according to the 1961 '\n",
      " 'definition?\\n'\n",
      " '\\n'\n",
      " '6. What is the role of primary books like the Journal in the accounting '\n",
      " 'process?\\n'\n",
      " '\\n'\n",
      " '7. How are transactions classified and summarized in the ledger?\\n'\n",
      " '\\n'\n",
      " '8. Why is it necessary to summarize transactions rather than publishing them '\n",
      " 'all individually?\\n'\n",
      " '\\n'\n",
      " '9. What is the significance of communicating accounting results in the '\n",
      " 'modern world?\\n'\n",
      " '\\n'\n",
      " '10. How does the concept of accounting today differ from its earlier '\n",
      " 'definitions according to the text?\\n'\n",
      " '\\n'\n",
      " '11. What kind of events are considered to have financial characteristics in '\n",
      " 'accounting?\\n'\n",
      " '\\n'\n",
      " '12. What responsibilities do modern accountants have beyond traditional '\n",
      " 'bookkeeping?\\n'\n",
      " '\\n'\n",
      " '13. How has globalization influenced the evolution of accounting practices?\\n'\n",
      " '\\n'\n",
      " '14. In what ways does accounting assist in making economic decisions?\\n'\n",
      " '\\n'\n",
      " '15. Why is it important to classify transactions and events in accounting?\\n'\n",
      " '\\n'\n",
      " '16. What is the importance of summarizing transactions in financial '\n",
      " 'statements like the profit and loss account and balance sheet?\\n'\n",
      " '\\n'\n",
      " '17. How does the text describe the event of inaugurating a new branch of a '\n",
      " 'bank in terms of financial character?\\n'\n",
      " '\\n'\n",
      " '18')\n"
     ]
    }
   ],
   "source": [
    "pprint(response.choices[0].message.content)"
   ]
  },
  {
   "cell_type": "code",
   "execution_count": 89,
   "metadata": {},
   "outputs": [
    {
     "data": {
      "text/plain": [
       "str"
      ]
     },
     "execution_count": 89,
     "metadata": {},
     "output_type": "execute_result"
    }
   ],
   "source": [
    "type(response.choices[0].message.content)"
   ]
  },
  {
   "cell_type": "code",
   "execution_count": 91,
   "metadata": {},
   "outputs": [
    {
     "data": {
      "text/plain": [
       "['1. What was the definition of accounting formulated by the Committee on Terminology of the American Institute of Certified Public Accountants in 1961?',\n",
       " \"2. How does the American Accounting Association's 1966 definition of accounting expand on the 1961 definition?\",\n",
       " '3. What are the primary functions of accounting as outlined by the Accounting Principles Board in 1970?',\n",
       " '4. Why is it important for accounting to measure transactions in terms of money?',\n",
       " '5. How does the recording process in accounting begin according to the 1961 definition?',\n",
       " '6. What is the role of primary books like the Journal in the accounting process?',\n",
       " '7. How are transactions classified and summarized in the ledger?',\n",
       " '8. Why is it necessary to summarize transactions rather than publishing them all individually?',\n",
       " '9. What is the significance of communicating accounting results in the modern world?',\n",
       " '10. How does the concept of accounting today differ from its earlier definitions according to the text?',\n",
       " '11. What kind of events are considered to have financial characteristics in accounting?',\n",
       " '12. What responsibilities do modern accountants have beyond traditional bookkeeping?',\n",
       " '13. How has globalization influenced the evolution of accounting practices?',\n",
       " '14. In what ways does accounting assist in making economic decisions?',\n",
       " '15. Why is it important to classify transactions and events in accounting?',\n",
       " '16. What is the importance of summarizing transactions in financial statements like the profit and loss account and balance sheet?',\n",
       " '17. How does the text describe the event of inaugurating a new branch of a bank in terms of financial character?',\n",
       " '18']"
      ]
     },
     "execution_count": 91,
     "metadata": {},
     "output_type": "execute_result"
    }
   ],
   "source": [
    "questions = response.choices[0].message.content.split(sep=\"\\n\\n\")\n",
    "questions"
   ]
  },
  {
   "cell_type": "code",
   "execution_count": 92,
   "metadata": {},
   "outputs": [
    {
     "name": "stdout",
     "output_type": "stream",
     "text": [
      "1.2 MEANING OF ACCOUNTING\n",
      "The Committee on Terminology set up by the American Institute of Certified Public Accountants formulated the following definition of accounting in 1961:\n",
      "\"Accounting is the art of recording, classifying, and summarising in a significant manner and in terms of money, transactions and events which are, in part at least, of a financial character, and interpreting the result thereof.\"\n",
      "As per this definition, accounting is simply an art of record keeping. The process of accounting starts by first identifying the events and transactions which are of financial character and then be recorded in the books of account. Continuing with the same example of the telecom company, which needs to capture all transactions (transactions made by the user, raising invoice to the customer, receipt of money, payment towards salaries, marketing etc.). Likewise, the individual running the stationery business, would need to record all business transactions.\n",
      "This recording is done in Journal or subsidiary books, also known as primary books. Every good record keeping system includes suitable classification of transactions and events as well as their summarisation for ready reference. For example, the telecom company performing thousands of transactions on a daily basis, is not expected to publish all those transactions for the users to be able to make a decision. Surely, those transactions need to be summarized appropriately.\n",
      "After the transactions and events are recorded, they are transferred to secondary books, i.e., Ledger. In ledger, transactions and events are classified in terms of income, expense, assets and liabilities according to their characteristics and summarised in profit and loss account and balance sheet.\n",
      "Essentially the transactions and events are to be measured in terms of money. Measurement in terms of money means measuring at the ruling currency of a country, for example, rupee in India, dollar in U.S.A. and like. The transactions and events must have at least in part, financial characteristics. The inauguration of a new branch of a bank is an event without having financial character, while the business disposed of by the branch is an event having financial character. Accounting also interprets the recorded, classified and summarized transactions and events. However, the above-mentioned definition does not reflect the present day accounting function. According to the above definition, accounting ends with interpretation of the results of the financial transactions and events but in the modern world with the diversification of management and ownership, globalization of business and society gaining more interest in the functioning of the enterprises, the importance of communicating the accounting results has increased.\n",
      "Therefore, this requirement of communicating and motivating informed judgement has also become the part of accounting as defined in the widely accepted definition of accounting, given by the American Accounting Association in 1966 which treated accounting as:\n",
      "\"The process of identifying, measuring and communicating economic information to permit informed judgments and decisions by the users of accounts.\"\n",
      "In 1970, the Accounting Principles Board (APB) of American Institute of Certified Public Accountants (AICPA) enumerated the functions of accounting as follows:\n",
      "\"The function of accounting is to provide quantitative information, primarily of financial nature, about economic entities, that is needed to be useful in making economic decisions.\"\n",
      "Thus, accounting may be defined as the process of recording, classifying, summarising, analysing and interpreting the financial transactions and communicating the results thereof to the persons interested in such information.\n",
      "The above definition requires accountants to assume a bigger responsibility than to merely do book-keeping. Accountants need to be ready to provide the information ready for the intended users to be able to make economic decisions.\n"
     ]
    }
   ],
   "source": [
    "print(value)"
   ]
  },
  {
   "cell_type": "code",
   "execution_count": 101,
   "metadata": {},
   "outputs": [
    {
     "name": "stdout",
     "output_type": "stream",
     "text": [
      "{1: '1. What was the definition of accounting formulated by the Committee on '\n",
      "    'Terminology of the American Institute of Certified Public Accountants in '\n",
      "    '1961?',\n",
      " 2: \"2. How does the American Accounting Association's 1966 definition of \"\n",
      "    'accounting expand on the 1961 definition?',\n",
      " 3: '3. What are the primary functions of accounting as outlined by the '\n",
      "    'Accounting Principles Board in 1970?',\n",
      " 4: '4. Why is it important for accounting to measure transactions in terms of '\n",
      "    'money?',\n",
      " 5: '5. How does the recording process in accounting begin according to the '\n",
      "    '1961 definition?',\n",
      " 6: '6. What is the role of primary books like the Journal in the accounting '\n",
      "    'process?',\n",
      " 7: '7. How are transactions classified and summarized in the ledger?',\n",
      " 8: '8. Why is it necessary to summarize transactions rather than publishing '\n",
      "    'them all individually?',\n",
      " 9: '9. What is the significance of communicating accounting results in the '\n",
      "    'modern world?',\n",
      " 10: '10. How does the concept of accounting today differ from its earlier '\n",
      "     'definitions according to the text?',\n",
      " 11: '11. What kind of events are considered to have financial characteristics '\n",
      "     'in accounting?',\n",
      " 12: '12. What responsibilities do modern accountants have beyond traditional '\n",
      "     'bookkeeping?',\n",
      " 13: '13. How has globalization influenced the evolution of accounting '\n",
      "     'practices?',\n",
      " 14: '14. In what ways does accounting assist in making economic decisions?',\n",
      " 15: '15. Why is it important to classify transactions and events in '\n",
      "     'accounting?',\n",
      " 16: '16. What is the importance of summarizing transactions in financial '\n",
      "     'statements like the profit and loss account and balance sheet?',\n",
      " 17: '17. How does the text describe the event of inaugurating a new branch of '\n",
      "     'a bank in terms of financial character?',\n",
      " 18: '18'}\n"
     ]
    }
   ],
   "source": [
    "from pprint import pprint\n",
    "\n",
    "questions_dict = {}\n",
    "for index, question in enumerate(iterable=questions, start=1):\n",
    "    questions_dict[index] = question\n",
    "\n",
    "pprint(questions_dict)"
   ]
  },
  {
   "cell_type": "code",
   "execution_count": 104,
   "metadata": {},
   "outputs": [
    {
     "name": "stdout",
     "output_type": "stream",
     "text": [
      "{\n",
      "  \"1\": \"1. What was the definition of accounting formulated by the Committee on Terminology of the American Institute of Certified Public Accountants in 1961?\",\n",
      "  \"2\": \"2. How does the American Accounting Association's 1966 definition of accounting expand on the 1961 definition?\",\n",
      "  \"3\": \"3. What are the primary functions of accounting as outlined by the Accounting Principles Board in 1970?\",\n",
      "  \"4\": \"4. Why is it important for accounting to measure transactions in terms of money?\",\n",
      "  \"5\": \"5. How does the recording process in accounting begin according to the 1961 definition?\",\n",
      "  \"6\": \"6. What is the role of primary books like the Journal in the accounting process?\",\n",
      "  \"7\": \"7. How are transactions classified and summarized in the ledger?\",\n",
      "  \"8\": \"8. Why is it necessary to summarize transactions rather than publishing them all individually?\",\n",
      "  \"9\": \"9. What is the significance of communicating accounting results in the modern world?\",\n",
      "  \"10\": \"10. How does the concept of accounting today differ from its earlier definitions according to the text?\",\n",
      "  \"11\": \"11. What kind of events are considered to have financial characteristics in accounting?\",\n",
      "  \"12\": \"12. What responsibilities do modern accountants have beyond traditional bookkeeping?\",\n",
      "  \"13\": \"13. How has globalization influenced the evolution of accounting practices?\",\n",
      "  \"14\": \"14. In what ways does accounting assist in making economic decisions?\",\n",
      "  \"15\": \"15. Why is it important to classify transactions and events in accounting?\",\n",
      "  \"16\": \"16. What is the importance of summarizing transactions in financial statements like the profit and loss account and balance sheet?\",\n",
      "  \"17\": \"17. How does the text describe the event of inaugurating a new branch of a bank in terms of financial character?\"\n",
      "}\n"
     ]
    }
   ],
   "source": [
    "import json\n",
    "\n",
    "# Create a new dictionary with only the items where the value length is > 10\n",
    "modified_dict = {k: v for k, v in questions_dict.items() if len(v) > 10}\n",
    "\n",
    "# Convert the modified dictionary to JSON\n",
    "json_output = json.dumps(modified_dict, indent=2)\n",
    "\n",
    "# Print the JSON output\n",
    "print(json_output)\n"
   ]
  },
  {
   "cell_type": "code",
   "execution_count": 106,
   "metadata": {},
   "outputs": [
    {
     "data": {
      "text/plain": [
       "UpdateResult({'n': 1, 'nModified': 1, 'ok': 1.0, 'updatedExisting': True}, acknowledged=True)"
      ]
     },
     "execution_count": 106,
     "metadata": {},
     "output_type": "execute_result"
    }
   ],
   "source": [
    "cap1_collection.update_one(\n",
    "    filter={\"key\": 1}, update={\"$set\": {\"questions\": json_output}}\n",
    ")"
   ]
  },
  {
   "cell_type": "code",
   "execution_count": 110,
   "metadata": {},
   "outputs": [
    {
     "data": {
      "text/plain": [
       "{'_id': ObjectId('673de4343c729bab52f572fd'),\n",
       " 'key': 1,\n",
       " 'value': \"O) 1.1 INTRODUCTION\\nEvery individual performs some kind of economic activity. A salaried person gets salary and spends to buy provisions and clothing, for children's education, construction of house, etc. A sports club formed by a group of individuals, a business run by an individual or a group of individuals, a company running a business in telecom sector, a local authority like Calcutta Municipal Corporation, Delhi Development Authority, Governments, either Central or State, all are carrying some kind of economic activities. Not necessarily all the economic activities are run for any individual benefit; such economic activities may create social benefit i.e. benefit for the public, at large. Anyway, such economic activities are performed through 'transactions and events'. Transaction is used to mean 'a business, performance of an act, an agreement' while event is used to mean 'a happening, as a consequence of transaction(s), a result.'\\nExample 1\\nAn individual invests ₹ 2,00,000 for running a stationery business. On 1st January, he purchases goods for  and sells for  during the month of January. He pays shop rent for the month  and finds that still he has goods worth  in hand. The individual performs an economic activity. He carries on a few transactions and encounters with some events. Is it not logical that he will want to know the result of his activity?\\nWe see that the individual, who runs the stationery business, earns a surplus of ₹ 42,000.\\n\\nEarning of ₹ 42,000 surplus is an event; also having the inventories in hand is another event, while purchase and sale of goods, investment of money and payment of rent are transactions.\\nSimilarly, a municipal corporation got government grant ₹ 500 lakhs for adult education; it spent ₹ 250 lakhs for purchasing literacy kits, paid ₹ 200 lakhs to the tutors and is left with a balance of ₹ 50 lakhs. These are also transactions and events.\\nSimilarly, the Central Government raised money through taxes, paid salaries to the employees, and spent on various developmental activities. Whenever receipts of the Government are more than expenses it has surplus, but if expenses are more than receipts it runs in deficit. Here raising money through various sources can be termed as transaction and surplus or deficit at the end of the accounting year can be termed as an event.\\nA telecom company would need to ensure that it is providing the services for its millions of users for post-paid and pre-paid connections. Each activity done by a user (call, message, data usage) results into an economic event. The entity needs to keep appropriate and timely records to be able to collect money from post-paid connection users for the services availed by them. Likewise, the company will need to ensure that pre-paid connection customers are provided the support and the records confirm how much balance still remains to be utilized.\\nSo, everybody wants to keep records of all transactions and events and to have adequate information about the economic activity as an aid to decision-making. Accounting discipline has been developed to serve this purpose as it deals with the measurement of economic\\nactivities involving inflow and outflow of economic resources, which helps to develop useful information for decision-making process.\\nAccounting has universal application for recording transactions and events and presenting suitable information to aid decision-making regarding any type of economic activity ranging from a family function to functions of the national government. But hereinafter we shall concentrate only on business activities and their accounting because the objective of this study material is to provide a basic understanding on accounting for business activities. Nevertheless, it will give adequate knowledge to think coherently of accounting as a field of study for universal application.\\nThe growth of accounting discipline is closely associated with the development of the business world. Thus, to understand accounting as a field of study for universal application, it is best identified with recording of business transactions and communication of financial information about business enterprise to facilitate decision-making. The aim of accounting is to meet the information needs of the rational and sound decision- makers, and thus, called the language of business.\",\n",
       " 'questions': '{\\n  \"1\": \"1. What was the definition of accounting formulated by the Committee on Terminology of the American Institute of Certified Public Accountants in 1961?\",\\n  \"2\": \"2. How does the American Accounting Association\\'s 1966 definition of accounting expand on the 1961 definition?\",\\n  \"3\": \"3. What are the primary functions of accounting as outlined by the Accounting Principles Board in 1970?\",\\n  \"4\": \"4. Why is it important for accounting to measure transactions in terms of money?\",\\n  \"5\": \"5. How does the recording process in accounting begin according to the 1961 definition?\",\\n  \"6\": \"6. What is the role of primary books like the Journal in the accounting process?\",\\n  \"7\": \"7. How are transactions classified and summarized in the ledger?\",\\n  \"8\": \"8. Why is it necessary to summarize transactions rather than publishing them all individually?\",\\n  \"9\": \"9. What is the significance of communicating accounting results in the modern world?\",\\n  \"10\": \"10. How does the concept of accounting today differ from its earlier definitions according to the text?\",\\n  \"11\": \"11. What kind of events are considered to have financial characteristics in accounting?\",\\n  \"12\": \"12. What responsibilities do modern accountants have beyond traditional bookkeeping?\",\\n  \"13\": \"13. How has globalization influenced the evolution of accounting practices?\",\\n  \"14\": \"14. In what ways does accounting assist in making economic decisions?\",\\n  \"15\": \"15. Why is it important to classify transactions and events in accounting?\",\\n  \"16\": \"16. What is the importance of summarizing transactions in financial statements like the profit and loss account and balance sheet?\",\\n  \"17\": \"17. How does the text describe the event of inaugurating a new branch of a bank in terms of financial character?\"\\n}'}"
      ]
     },
     "execution_count": 110,
     "metadata": {},
     "output_type": "execute_result"
    }
   ],
   "source": [
    "cap1_collection.find_one(filter={\"key\": 1})"
   ]
  },
  {
   "cell_type": "code",
   "execution_count": 112,
   "metadata": {},
   "outputs": [
    {
     "name": "stdout",
     "output_type": "stream",
     "text": [
      "{\n",
      "  \"1\": \"1. What was the definition of accounting formulated by the Committee on Terminology of the American Institute of Certified Public Accountants in 1961?\",\n",
      "  \"2\": \"2. How does the American Accounting Association's 1966 definition of accounting expand on the 1961 definition?\",\n",
      "  \"3\": \"3. What are the primary functions of accounting as outlined by the Accounting Principles Board in 1970?\",\n",
      "  \"4\": \"4. Why is it important for accounting to measure transactions in terms of money?\",\n",
      "  \"5\": \"5. How does the recording process in accounting begin according to the 1961 definition?\",\n",
      "  \"6\": \"6. What is the role of primary books like the Journal in the accounting process?\",\n",
      "  \"7\": \"7. How are transactions classified and summarized in the ledger?\",\n",
      "  \"8\": \"8. Why is it necessary to summarize transactions rather than publishing them all individually?\",\n",
      "  \"9\": \"9. What is the significance of communicating accounting results in the modern world?\",\n",
      "  \"10\": \"10. How does the concept of accounting today differ from its earlier definitions according to the text?\",\n",
      "  \"11\": \"11. What kind of events are considered to have financial characteristics in accounting?\",\n",
      "  \"12\": \"12. What responsibilities do modern accountants have beyond traditional bookkeeping?\",\n",
      "  \"13\": \"13. How has globalization influenced the evolution of accounting practices?\",\n",
      "  \"14\": \"14. In what ways does accounting assist in making economic decisions?\",\n",
      "  \"15\": \"15. Why is it important to classify transactions and events in accounting?\",\n",
      "  \"16\": \"16. What is the importance of summarizing transactions in financial statements like the profit and loss account and balance sheet?\",\n",
      "  \"17\": \"17. How does the text describe the event of inaugurating a new branch of a bank in terms of financial character?\"\n",
      "}\n"
     ]
    }
   ],
   "source": [
    "print(cap1_collection.find_one(filter={\"key\": 1})[\"questions\"])"
   ]
  },
  {
   "cell_type": "code",
   "execution_count": 114,
   "metadata": {},
   "outputs": [
    {
     "name": "stdout",
     "output_type": "stream",
     "text": [
      "<class 'str'>\n",
      "{\n",
      "  \"1\": \"1. What was the definition of accounting formulated by the Committee on Terminology of the American Institute of Certified Public Accountants in 1961?\",\n",
      "  \"2\": \"2. How does the American Accounting Association's 1966 definition of accounting expand on the 1961 definition?\",\n",
      "  \"3\": \"3. What are the primary functions of accounting as outlined by the Accounting Principles Board in 1970?\",\n",
      "  \"4\": \"4. Why is it important for accounting to measure transactions in terms of money?\",\n",
      "  \"5\": \"5. How does the recording process in accounting begin according to the 1961 definition?\",\n",
      "  \"6\": \"6. What is the role of primary books like the Journal in the accounting process?\",\n",
      "  \"7\": \"7. How are transactions classified and summarized in the ledger?\",\n",
      "  \"8\": \"8. Why is it necessary to summarize transactions rather than publishing them all individually?\",\n",
      "  \"9\": \"9. What is the significance of communicating accounting results in the modern world?\",\n",
      "  \"10\": \"10. How does the concept of accounting today differ from its earlier definitions according to the text?\",\n",
      "  \"11\": \"11. What kind of events are considered to have financial characteristics in accounting?\",\n",
      "  \"12\": \"12. What responsibilities do modern accountants have beyond traditional bookkeeping?\",\n",
      "  \"13\": \"13. How has globalization influenced the evolution of accounting practices?\",\n",
      "  \"14\": \"14. In what ways does accounting assist in making economic decisions?\",\n",
      "  \"15\": \"15. Why is it important to classify transactions and events in accounting?\",\n",
      "  \"16\": \"16. What is the importance of summarizing transactions in financial statements like the profit and loss account and balance sheet?\",\n",
      "  \"17\": \"17. How does the text describe the event of inaugurating a new branch of a bank in terms of financial character?\"\n",
      "}\n"
     ]
    }
   ],
   "source": [
    "questions_from_db = cap1_collection.find_one(filter={\"key\": 1})[\"questions\"]\n",
    "\n",
    "print(type(questions_from_db))\n",
    "print(questions_from_db)"
   ]
  },
  {
   "cell_type": "code",
   "execution_count": 118,
   "metadata": {},
   "outputs": [
    {
     "name": "stdout",
     "output_type": "stream",
     "text": [
      "<class 'dict'>\n",
      "{'1': '1. What was the definition of accounting formulated by the Committee on Terminology of the American Institute of Certified Public Accountants in 1961?', '2': \"2. How does the American Accounting Association's 1966 definition of accounting expand on the 1961 definition?\", '3': '3. What are the primary functions of accounting as outlined by the Accounting Principles Board in 1970?', '4': '4. Why is it important for accounting to measure transactions in terms of money?', '5': '5. How does the recording process in accounting begin according to the 1961 definition?', '6': '6. What is the role of primary books like the Journal in the accounting process?', '7': '7. How are transactions classified and summarized in the ledger?', '8': '8. Why is it necessary to summarize transactions rather than publishing them all individually?', '9': '9. What is the significance of communicating accounting results in the modern world?', '10': '10. How does the concept of accounting today differ from its earlier definitions according to the text?', '11': '11. What kind of events are considered to have financial characteristics in accounting?', '12': '12. What responsibilities do modern accountants have beyond traditional bookkeeping?', '13': '13. How has globalization influenced the evolution of accounting practices?', '14': '14. In what ways does accounting assist in making economic decisions?', '15': '15. Why is it important to classify transactions and events in accounting?', '16': '16. What is the importance of summarizing transactions in financial statements like the profit and loss account and balance sheet?', '17': '17. How does the text describe the event of inaugurating a new branch of a bank in terms of financial character?'}\n"
     ]
    }
   ],
   "source": [
    "questions_from_db = json.loads(questions_from_db)\n",
    "\n",
    "print(type(questions_from_db))\n",
    "print(questions_from_db)"
   ]
  },
  {
   "cell_type": "code",
   "execution_count": 123,
   "metadata": {},
   "outputs": [
    {
     "name": "stdout",
     "output_type": "stream",
     "text": [
      "Batch 1: {'1. What was the definition of accounting formulated by the Committee on Terminology of the American Institute of Certified Public Accountants in 1961?', \"2. How does the American Accounting Association's 1966 definition of accounting expand on the 1961 definition?\", '3. What are the primary functions of accounting as outlined by the Accounting Principles Board in 1970?', '4. Why is it important for accounting to measure transactions in terms of money?', '5. How does the recording process in accounting begin according to the 1961 definition?'}\n"
     ]
    }
   ],
   "source": [
    "def process_dict_in_batches(input_dict, batch_size=5):\n",
    "    result = []\n",
    "    current_set = set()\n",
    "\n",
    "    for key, value in input_dict.items():\n",
    "        current_set.add(value)\n",
    "\n",
    "        if len(current_set) == batch_size:\n",
    "            result.append(current_set.copy())\n",
    "            current_set.clear()\n",
    "\n",
    "    # Add any remaining items in the last batch\n",
    "    if current_set:\n",
    "        result.append(current_set)\n",
    "\n",
    "    return result\n",
    "\n",
    "\n",
    "batches = process_dict_in_batches(questions_from_db)\n",
    "\n",
    "for i, batch in enumerate(batches, 1):\n",
    "    print(f\"Batch {i}: {batch}\")\n",
    "    break\n"
   ]
  },
  {
   "cell_type": "code",
   "execution_count": 126,
   "metadata": {},
   "outputs": [],
   "source": [
    "context = \"\"\"1.2 MEANING OF ACCOUNTING\n",
    "The Committee on Terminology set up by the American Institute of Certified Public Accountants formulated the following definition of accounting in 1961:\n",
    "\"Accounting is the art of recording, classifying, and summarising in a significant manner and in terms of money, transactions and events which are, in part at least, of a financial character, and interpreting the result thereof.\"\n",
    "As per this definition, accounting is simply an art of record keeping. The process of accounting starts by first identifying the events and transactions which are of financial character and then be recorded in the books of account. Continuing with the same example of the telecom company, which needs to capture all transactions (transactions made by the user, raising invoice to the customer, receipt of money, payment towards salaries, marketing etc.). Likewise, the individual running the stationery business, would need to record all business transactions.\n",
    "This recording is done in Journal or subsidiary books, also known as primary books. Every good record keeping system includes suitable classification of transactions and events as well as their summarisation for ready reference. For example, the telecom company performing thousands of transactions on a daily basis, is not expected to publish all those transactions for the users to be able to make a decision. Surely, those transactions need to be summarized appropriately.\n",
    "After the transactions and events are recorded, they are transferred to secondary books, i.e., Ledger. In ledger, transactions and events are classified in terms of income, expense, assets and liabilities according to their characteristics and summarised in profit and loss account and balance sheet.\n",
    "Essentially the transactions and events are to be measured in terms of money. Measurement in terms of money means measuring at the ruling currency of a country, for example, rupee in India, dollar in U.S.A. and like. The transactions and events must have at least in part, financial characteristics. The inauguration of a new branch of a bank is an event without having financial character, while the business disposed of by the branch is an event having financial character. Accounting also interprets the recorded, classified and summarized transactions and events. However, the above-mentioned definition does not reflect the present day accounting function. According to the above definition, accounting ends with interpretation of the results of the financial transactions and events but in the modern world with the diversification of management and ownership, globalization of business and society gaining more interest in the functioning of the enterprises, the importance of communicating the accounting results has increased.\n",
    "Therefore, this requirement of communicating and motivating informed judgement has also become the part of accounting as defined in the widely accepted definition of accounting, given by the American Accounting Association in 1966 which treated accounting as:\n",
    "\"The process of identifying, measuring and communicating economic information to permit informed judgments and decisions by the users of accounts.\"\n",
    "In 1970, the Accounting Principles Board (APB) of American Institute of Certified Public Accountants (AICPA) enumerated the functions of accounting as follows:\n",
    "\"The function of accounting is to provide quantitative information, primarily of financial nature, about economic entities, that is needed to be useful in making economic decisions.\"\n",
    "Thus, accounting may be defined as the process of recording, classifying, summarising, analysing and interpreting the financial transactions and communicating the results thereof to the persons interested in such information.\n",
    "The above definition requires accountants to assume a bigger responsibility than to merely do book-keeping. Accountants need to be ready to provide the information ready for the intended users to be able to make economic decisions.\n",
    "\"\"\""
   ]
  },
  {
   "cell_type": "code",
   "execution_count": 124,
   "metadata": {},
   "outputs": [
    {
     "data": {
      "text/plain": [
       "{'1. What was the definition of accounting formulated by the Committee on Terminology of the American Institute of Certified Public Accountants in 1961?',\n",
       " \"2. How does the American Accounting Association's 1966 definition of accounting expand on the 1961 definition?\",\n",
       " '3. What are the primary functions of accounting as outlined by the Accounting Principles Board in 1970?',\n",
       " '4. Why is it important for accounting to measure transactions in terms of money?',\n",
       " '5. How does the recording process in accounting begin according to the 1961 definition?'}"
      ]
     },
     "execution_count": 124,
     "metadata": {},
     "output_type": "execute_result"
    }
   ],
   "source": [
    "batch"
   ]
  },
  {
   "cell_type": "code",
   "execution_count": 125,
   "metadata": {},
   "outputs": [
    {
     "data": {
      "text/plain": [
       "'18'"
      ]
     },
     "execution_count": 125,
     "metadata": {},
     "output_type": "execute_result"
    }
   ],
   "source": [
    "value"
   ]
  },
  {
   "cell_type": "code",
   "execution_count": null,
   "metadata": {},
   "outputs": [],
   "source": [
    "format = {\n",
    "    \"question1\": \"Your answer for the question using the context\",\n",
    "    \"question2\": \"Your answer for the question using the context\",\n",
    "    \"question3\": \"Your answer for the question using the context\",\n",
    "    \"question4\": \"Your answer for the question using the context\",\n",
    "    \"question5\": \"Your answer for the question using the context\",\n",
    "}"
   ]
  },
  {
   "cell_type": "code",
   "execution_count": 159,
   "metadata": {},
   "outputs": [
    {
     "name": "stdout",
     "output_type": "stream",
     "text": [
      "Five questions based on the provided context:\n",
      "ChatCompletion(id='chatcmpl-AVyVtGE7azJrWLtX1FAYyVHnU7bNj', choices=[Choice(finish_reason='stop', index=0, logprobs=None, message=ChatCompletionMessage(content='{\\'1. What was the definition of accounting formulated by the Committee on Terminology of the American Institute of Certified Public Accountants in 1961?\\': \\'Accounting is the art of recording, classifying, and summarising in a significant manner and in terms of money, transactions and events which are, in part at least, of a financial character, and interpreting the result thereof.\\', \"2. How does the American Accounting Association\\'s 1966 definition of accounting expand on the 1961 definition?\": \"The American Accounting Association\\'s 1966 definition expands on the 1961 definition by including the process of communicating economic information to permit informed judgments and decisions by the users of accounts, thus emphasizing the importance of communication in accounting.\", \\'3. What are the primary functions of accounting as outlined by the Accounting Principles Board in 1970?\\': \\'The primary functions of accounting, as outlined by the Accounting Principles Board in 1970, are to provide quantitative information, primarily of financial nature, about economic entities, that is needed to be useful in making economic decisions.\\', \\'4. Why is it important for accounting to measure transactions in terms of money?\\': \\'It is important for accounting to measure transactions in terms of money because it allows for a standardized measurement using the ruling currency of a country, enabling consistent and comparable financial reporting.\\', \\'5. How does the recording process in accounting begin according to the 1961 definition?\\': \\'According to the 1961 definition, the recording process in accounting begins by identifying the events and transactions which are of financial character and then recording them in the books of account.\\'}', refusal=None, role='assistant', audio=None, function_call=None, tool_calls=None), content_filter_results={'hate': {'filtered': False, 'severity': 'safe'}, 'protected_material_code': {'filtered': False, 'detected': False}, 'protected_material_text': {'filtered': False, 'detected': False}, 'self_harm': {'filtered': False, 'severity': 'safe'}, 'sexual': {'filtered': False, 'severity': 'safe'}, 'violence': {'filtered': False, 'severity': 'safe'}})], created=1732184145, model='gpt-4o-2024-08-06', object='chat.completion', service_tier=None, system_fingerprint='fp_d54531d9eb', usage=CompletionUsage(completion_tokens=326, prompt_tokens=874, total_tokens=1200, completion_tokens_details=None, prompt_tokens_details=None), prompt_filter_results=[{'prompt_index': 0, 'content_filter_results': {'hate': {'filtered': False, 'severity': 'safe'}, 'jailbreak': {'filtered': False, 'detected': False}, 'self_harm': {'filtered': False, 'severity': 'safe'}, 'sexual': {'filtered': False, 'severity': 'safe'}, 'violence': {'filtered': False, 'severity': 'safe'}}}])\n"
     ]
    }
   ],
   "source": [
    "response = ai_client.chat.completions.create(\n",
    "    model=\"gpt-4o\",\n",
    "    messages=[\n",
    "        {\n",
    "            \"role\": \"system\",\n",
    "            \"content\": \"You are an assistant that generates answers to the based on given questions with the given context.\",\n",
    "        },\n",
    "        {\n",
    "            \"role\": \"user\",\n",
    "            \"content\": f\"\"\"Based on the following context: {context}, answer the following question:{batch} and return in the format: {format}\"\"\",\n",
    "        },\n",
    "    ],\n",
    "    temperature=0.7,  # Adjust for creativity\n",
    "    max_tokens=1000,  # Adjust based on expected response length\n",
    ")\n",
    "\n",
    "# Print the generated questions\n",
    "print(\"Five questions based on the provided context:\")\n",
    "print(response)"
   ]
  },
  {
   "cell_type": "code",
   "execution_count": 166,
   "metadata": {},
   "outputs": [
    {
     "name": "stdout",
     "output_type": "stream",
     "text": [
      "ChatCompletion(id='chatcmpl-AVybm4TALolXX5EvYvWTDFJFA7MYx', choices=[Choice(finish_reason='stop', index=0, logprobs=None, message=ChatCompletionMessage(content='{\"answer\":\"**1. Definition by Committee on Terminology (1961):** The 1961 definition of accounting by the Committee on Terminology of the American Institute of Certified Public Accountants is \\\\\"the art of recording, classifying, and summarising in a significant manner and in terms of money, transactions and events which are, in part at least, of a financial character, and interpreting the result thereof.\\\\\"\\\\n\\\\n**2. Expansion by American Accounting Association (1966):** The American Accounting Association\\'s 1966 definition expands on the 1961 definition by incorporating the aspect of communicating economic information to enable informed judgments and decisions by the users of accounts, thus recognizing the importance of communication in addition to recording, classifying, summarizing, and interpreting.\\\\n\\\\n**3. Functions by Accounting Principles Board (1970):** The primary functions of accounting as outlined by the Accounting Principles Board in 1970 are to provide quantitative information, primarily of a financial nature, about economic entities that is useful for making economic decisions.\\\\n\\\\n**4. Importance of Measuring in Terms of Money:** It is important for accounting to measure transactions in terms of money because it provides a common denominator that allows for the consistent and comparable recording and summarization of financial transactions across different entities and events.\\\\n\\\\n**5. Recording Process Begins (1961 Definition):** According to the 1961 definition, the recording process in accounting begins by identifying the events and transactions that have financial characteristics, which are then recorded in the books of account.\",\"additional_info\":\"The definitions and expansions over the years highlight the evolution in the understanding and scope of accounting as a discipline. Initially focusing on record-keeping and interpretation, the scope has expanded to include communication and providing information useful for decision-making, reflecting broader responsibilities and the increasing complexity of economic environments.\"}', refusal=None, role='assistant', audio=None, function_call=None, tool_calls=None), content_filter_results={'hate': {'filtered': False, 'severity': 'safe'}, 'protected_material_code': {'filtered': False, 'detected': False}, 'protected_material_text': {'filtered': False, 'detected': False}, 'self_harm': {'filtered': False, 'severity': 'safe'}, 'sexual': {'filtered': False, 'severity': 'safe'}, 'violence': {'filtered': False, 'severity': 'safe'}})], created=1732184510, model='gpt-4o-2024-08-06', object='chat.completion', service_tier=None, system_fingerprint='fp_04751d0b65', usage=CompletionUsage(completion_tokens=370, prompt_tokens=895, total_tokens=1265, completion_tokens_details=None, prompt_tokens_details=None), prompt_filter_results=[{'prompt_index': 0, 'content_filter_results': {'hate': {'filtered': False, 'severity': 'safe'}, 'jailbreak': {'filtered': False, 'detected': False}, 'self_harm': {'filtered': False, 'severity': 'safe'}, 'sexual': {'filtered': False, 'severity': 'safe'}, 'violence': {'filtered': False, 'severity': 'safe'}}}])\n"
     ]
    }
   ],
   "source": [
    "response_format = {\n",
    "    \"type\": \"json_schema\",\n",
    "    \"json_schema\": {\n",
    "        \"name\": \"response\",\n",
    "        \"strict\": True,\n",
    "        \"schema\": {\n",
    "            \"type\": \"object\",\n",
    "            \"properties\": {\n",
    "                \"answer\": {\"type\": \"string\"},\n",
    "                \"additional_info\": {\"type\": \"string\"},\n",
    "            },\n",
    "            \"required\": [\"answer\", \"additional_info\"],\n",
    "            \"additionalProperties\": False,\n",
    "        },\n",
    "    },\n",
    "}\n",
    "\n",
    "\n",
    "# Create the chat completion request\n",
    "response = ai_client.chat.completions.create(\n",
    "    model=\"gpt-4o\",\n",
    "    messages=[\n",
    "        {\n",
    "            \"role\": \"system\",\n",
    "            \"content\": \"You are an assistant that generates answers based on given questions with the provided context.\",\n",
    "        },\n",
    "        {\n",
    "            \"role\": \"user\",\n",
    "            \"content\": f\"Based on the following context: {context}, answer the following question: {batch} and return in the specified format.\",\n",
    "        },\n",
    "    ],\n",
    "    temperature=0.7,  # Adjust for creativity\n",
    "    max_tokens=1000,  # Adjust based on expected response length\n",
    "    response_format=response_format,\n",
    ")\n",
    "\n",
    "# Extract and print the structured response\n",
    "print(response)"
   ]
  },
  {
   "cell_type": "code",
   "execution_count": 169,
   "metadata": {},
   "outputs": [
    {
     "name": "stdout",
     "output_type": "stream",
     "text": [
      "<class 'str'>\n",
      "{\"answer\":\"**1. Definition by Committee on Terminology (1961):** The 1961 definition of accounting by the Committee on Terminology of the American Institute of Certified Public Accountants is \\\"the art of recording, classifying, and summarising in a significant manner and in terms of money, transactions and events which are, in part at least, of a financial character, and interpreting the result thereof.\\\"\\n\\n**2. Expansion by American Accounting Association (1966):** The American Accounting Association's 1966 definition expands on the 1961 definition by incorporating the aspect of communicating economic information to enable informed judgments and decisions by the users of accounts, thus recognizing the importance of communication in addition to recording, classifying, summarizing, and interpreting.\\n\\n**3. Functions by Accounting Principles Board (1970):** The primary functions of accounting as outlined by the Accounting Principles Board in 1970 are to provide quantitative information, primarily of a financial nature, about economic entities that is useful for making economic decisions.\\n\\n**4. Importance of Measuring in Terms of Money:** It is important for accounting to measure transactions in terms of money because it provides a common denominator that allows for the consistent and comparable recording and summarization of financial transactions across different entities and events.\\n\\n**5. Recording Process Begins (1961 Definition):** According to the 1961 definition, the recording process in accounting begins by identifying the events and transactions that have financial characteristics, which are then recorded in the books of account.\",\"additional_info\":\"The definitions and expansions over the years highlight the evolution in the understanding and scope of accounting as a discipline. Initially focusing on record-keeping and interpretation, the scope has expanded to include communication and providing information useful for decision-making, reflecting broader responsibilities and the increasing complexity of economic environments.\"}\n"
     ]
    }
   ],
   "source": [
    "qa = response.choices[0].message.content\n",
    "print(type(qa))\n",
    "print(qa)"
   ]
  },
  {
   "cell_type": "code",
   "execution_count": null,
   "metadata": {},
   "outputs": [
    {
     "name": "stdout",
     "output_type": "stream",
     "text": [
      "<class 'openai.types.chat.chat_completion.ChatCompletion'>\n",
      "ChatCompletion(id='chatcmpl-AVygGcBMLjhUCErQWNAOyKcY5YBMD', choices=[Choice(finish_reason='stop', index=0, logprobs=None, message=ChatCompletionMessage(content='{\"answer\":\"1. The Committee on Terminology of the American Institute of Certified Public Accountants in 1961 defined accounting as \\\\\"the art of recording, classifying, and summarising in a significant manner and in terms of money, transactions and events which are, in part at least, of a financial character, and interpreting the result thereof.\\\\\"\\\\n\\\\n2. The American Accounting Association\\'s 1966 definition of accounting expands on the 1961 definition by emphasizing the communication of economic information to facilitate informed judgments and decisions by users of accounts. This highlights the broader role of accounting not just in recording and summarizing, but also in effectively communicating financial data.\\\\n\\\\n3. The primary functions of accounting as outlined by the Accounting Principles Board in 1970 are to provide quantitative information, primarily of a financial nature, about economic entities that is needed to be useful in making economic decisions.\\\\n\\\\n4. It is important for accounting to measure transactions in terms of money because it provides a common denominator that allows for the quantification and comparison of different economic activities, thus facilitating the classification, summarization, and interpretation of financial information.\\\\n\\\\n5. According to the 1961 definition, the recording process in accounting begins by identifying events and transactions that have a financial character, which are then recorded in the books of account.\",\"additional_info\":\"The 1961 definition of accounting focuses on the art of record keeping, emphasizing the importance of identifying and recording financial transactions. The 1966 and 1970 definitions expand on this by highlighting the roles of communication, informed judgment, and decision-making, reflecting the evolving responsibilities of accountants in a globalized and diversified business environment. Measuring in terms of money is crucial as it standardizes various transactions, making them easier to analyze and compare. The recording process begins with the identification of financial events and transactions, which provides the foundation for further classification and summarization.\"}', refusal=None, role='assistant', audio=None, function_call=None, tool_calls=None), content_filter_results={'hate': {'filtered': False, 'severity': 'safe'}, 'protected_material_code': {'filtered': False, 'detected': False}, 'protected_material_text': {'filtered': False, 'detected': False}, 'self_harm': {'filtered': False, 'severity': 'safe'}, 'sexual': {'filtered': False, 'severity': 'safe'}, 'violence': {'filtered': False, 'severity': 'safe'}})], created=1732184788, model='gpt-4o-2024-08-06', object='chat.completion', service_tier=None, system_fingerprint='fp_d54531d9eb', usage=CompletionUsage(completion_tokens=384, prompt_tokens=909, total_tokens=1293, completion_tokens_details=None, prompt_tokens_details=None), prompt_filter_results=[{'prompt_index': 0, 'content_filter_results': {'hate': {'filtered': False, 'severity': 'safe'}, 'jailbreak': {'filtered': False, 'detected': False}, 'self_harm': {'filtered': False, 'severity': 'safe'}, 'sexual': {'filtered': False, 'severity': 'safe'}, 'violence': {'filtered': False, 'severity': 'safe'}}}])\n"
     ]
    }
   ],
   "source": [
    "from pydantic import BaseModel\n",
    "\n",
    "\n",
    "# Define the expected response schema using Pydantic\n",
    "class ResponseSchema(BaseModel):\n",
    "    answer: str\n",
    "    additional_info: str\n",
    "\n",
    "    class Config:\n",
    "        extra = \"forbid\"  # Ensures no additional properties are allowed\n",
    "\n",
    "\n",
    "# Create the chat completion request with structured output\n",
    "response = ai_client.chat.completions.create(\n",
    "    model=\"gpt-4o\",\n",
    "    messages=[\n",
    "        {\n",
    "            \"role\": \"system\",\n",
    "            \"content\": \"You are an assistant that generates answers based on given questions with the provided context.\",\n",
    "        },\n",
    "        {\n",
    "            \"role\": \"user\",\n",
    "            \"content\": f\"Based on the following context: {context}, answer the following question: {batch} and return in the specified format.\",\n",
    "        },\n",
    "    ],\n",
    "    temperature=0.7,\n",
    "    max_tokens=1000,\n",
    "    response_format={\n",
    "        \"type\": \"json_schema\",\n",
    "        \"json_schema\": {\n",
    "            \"name\": \"response\",\n",
    "            \"strict\": True,\n",
    "            \"schema\": ResponseSchema.model_json_schema(),\n",
    "        },\n",
    "    },\n",
    ")\n",
    "\n",
    "print(type(response))\n",
    "print(response)"
   ]
  },
  {
   "cell_type": "code",
   "execution_count": 186,
   "metadata": {},
   "outputs": [
    {
     "name": "stdout",
     "output_type": "stream",
     "text": [
      "{\"answer\":\"1. The Committee on Terminology of the American Institute of Certified Public Accountants in 1961 defined accounting as \\\"the art of recording, classifying, and summarising in a significant manner and in terms of money, transactions and events which are, in part at least, of a financial character, and interpreting the result thereof.\\\"\\n\\n2. The American Accounting Association's 1966 definition of accounting expands on the 1961 definition by emphasizing the communication of economic information to facilitate informed judgments and decisions by users of accounts. This highlights the broader role of accounting not just in recording and summarizing, but also in effectively communicating financial data.\\n\\n3. The primary functions of accounting as outlined by the Accounting Principles Board in 1970 are to provide quantitative information, primarily of a financial nature, about economic entities that is needed to be useful in making economic decisions.\\n\\n4. It is important for accounting to measure transactions in terms of money because it provides a common denominator that allows for the quantification and comparison of different economic activities, thus facilitating the classification, summarization, and interpretation of financial information.\\n\\n5. According to the 1961 definition, the recording process in accounting begins by identifying events and transactions that have a financial character, which are then recorded in the books of account.\",\"additional_info\":\"The 1961 definition of accounting focuses on the art of record keeping, emphasizing the importance of identifying and recording financial transactions. The 1966 and 1970 definitions expand on this by highlighting the roles of communication, informed judgment, and decision-making, reflecting the evolving responsibilities of accountants in a globalized and diversified business environment. Measuring in terms of money is crucial as it standardizes various transactions, making them easier to analyze and compare. The recording process begins with the identification of financial events and transactions, which provides the foundation for further classification and summarization.\"}\n"
     ]
    }
   ],
   "source": [
    "qa = response.choices[0].message.content\n",
    "print(qa)"
   ]
  },
  {
   "cell_type": "code",
   "execution_count": 193,
   "metadata": {},
   "outputs": [
    {
     "name": "stdout",
     "output_type": "stream",
     "text": [
      "<class 'dict'>\n"
     ]
    }
   ],
   "source": [
    "qa_dict = json.loads(qa)\n",
    "\n",
    "print(type(qa_dict))"
   ]
  },
  {
   "cell_type": "code",
   "execution_count": null,
   "metadata": {},
   "outputs": [],
   "source": []
  },
  {
   "cell_type": "code",
   "execution_count": 194,
   "metadata": {},
   "outputs": [
    {
     "name": "stdout",
     "output_type": "stream",
     "text": [
      "{'answer': '1. The Committee on Terminology of the American Institute of Certified Public Accountants in 1961 defined accounting as \"the art of recording, classifying, and summarising in a significant manner and in terms of money, transactions and events which are, in part at least, of a financial character, and interpreting the result thereof.\"\\n\\n2. The American Accounting Association\\'s 1966 definition of accounting expands on the 1961 definition by emphasizing the communication of economic information to facilitate informed judgments and decisions by users of accounts. This highlights the broader role of accounting not just in recording and summarizing, but also in effectively communicating financial data.\\n\\n3. The primary functions of accounting as outlined by the Accounting Principles Board in 1970 are to provide quantitative information, primarily of a financial nature, about economic entities that is needed to be useful in making economic decisions.\\n\\n4. It is important for accounting to measure transactions in terms of money because it provides a common denominator that allows for the quantification and comparison of different economic activities, thus facilitating the classification, summarization, and interpretation of financial information.\\n\\n5. According to the 1961 definition, the recording process in accounting begins by identifying events and transactions that have a financial character, which are then recorded in the books of account.', 'additional_info': 'The 1961 definition of accounting focuses on the art of record keeping, emphasizing the importance of identifying and recording financial transactions. The 1966 and 1970 definitions expand on this by highlighting the roles of communication, informed judgment, and decision-making, reflecting the evolving responsibilities of accountants in a globalized and diversified business environment. Measuring in terms of money is crucial as it standardizes various transactions, making them easier to analyze and compare. The recording process begins with the identification of financial events and transactions, which provides the foundation for further classification and summarization.'}\n"
     ]
    }
   ],
   "source": [
    "print(qa_dict)"
   ]
  },
  {
   "cell_type": "code",
   "execution_count": 195,
   "metadata": {},
   "outputs": [
    {
     "data": {
      "text/plain": [
       "UpdateResult({'n': 1, 'nModified': 1, 'ok': 1.0, 'updatedExisting': True}, acknowledged=True)"
      ]
     },
     "execution_count": 195,
     "metadata": {},
     "output_type": "execute_result"
    }
   ],
   "source": [
    "cap1_collection.update_one(\n",
    "    filter={\"key\": 1}, update={\"$set\": {\"question-answer-pairs\": qa_dict}}\n",
    ")"
   ]
  },
  {
   "cell_type": "code",
   "execution_count": 212,
   "metadata": {},
   "outputs": [
    {
     "name": "stdout",
     "output_type": "stream",
     "text": [
      "<class 'dict'>\n",
      "{'answer': '1. The Committee on Terminology of the American Institute of Certified Public Accountants in 1961 defined accounting as \"the art of recording, classifying, and summarising in a significant manner and in terms of money, transactions and events which are, in part at least, of a financial character, and interpreting the result thereof.\"\\n\\n2. The American Accounting Association\\'s 1966 definition of accounting expands on the 1961 definition by emphasizing the communication of economic information to facilitate informed judgments and decisions by users of accounts. This highlights the broader role of accounting not just in recording and summarizing, but also in effectively communicating financial data.\\n\\n3. The primary functions of accounting as outlined by the Accounting Principles Board in 1970 are to provide quantitative information, primarily of a financial nature, about economic entities that is needed to be useful in making economic decisions.\\n\\n4. It is important for accounting to measure transactions in terms of money because it provides a common denominator that allows for the quantification and comparison of different economic activities, thus facilitating the classification, summarization, and interpretation of financial information.\\n\\n5. According to the 1961 definition, the recording process in accounting begins by identifying events and transactions that have a financial character, which are then recorded in the books of account.', 'additional_info': 'The 1961 definition of accounting focuses on the art of record keeping, emphasizing the importance of identifying and recording financial transactions. The 1966 and 1970 definitions expand on this by highlighting the roles of communication, informed judgment, and decision-making, reflecting the evolving responsibilities of accountants in a globalized and diversified business environment. Measuring in terms of money is crucial as it standardizes various transactions, making them easier to analyze and compare. The recording process begins with the identification of financial events and transactions, which provides the foundation for further classification and summarization.'}\n"
     ]
    }
   ],
   "source": [
    "qa_pairs = cap1_collection.find_one(\n",
    "    filter={\"key\": 1},\n",
    "    projection={\"question-answer-pairs\": 1},\n",
    ")[\"question-answer-pairs\"]\n",
    "\n",
    "\n",
    "print(type(qa_dict))\n",
    "print(qa_pairs)"
   ]
  },
  {
   "cell_type": "code",
   "execution_count": 216,
   "metadata": {},
   "outputs": [
    {
     "name": "stdout",
     "output_type": "stream",
     "text": [
      "<class 'str'>\n",
      "1. The Committee on Terminology of the American Institute of Certified Public Accountants in 1961 defined accounting as \"the art of recording, classifying, and summarising in a significant manner and in terms of money, transactions and events which are, in part at least, of a financial character, and interpreting the result thereof.\"\n",
      "\n",
      "2. The American Accounting Association's 1966 definition of accounting expands on the 1961 definition by emphasizing the communication of economic information to facilitate informed judgments and decisions by users of accounts. This highlights the broader role of accounting not just in recording and summarizing, but also in effectively communicating financial data.\n",
      "\n",
      "3. The primary functions of accounting as outlined by the Accounting Principles Board in 1970 are to provide quantitative information, primarily of a financial nature, about economic entities that is needed to be useful in making economic decisions.\n",
      "\n",
      "4. It is important for accounting to measure transactions in terms of money because it provides a common denominator that allows for the quantification and comparison of different economic activities, thus facilitating the classification, summarization, and interpretation of financial information.\n",
      "\n",
      "5. According to the 1961 definition, the recording process in accounting begins by identifying events and transactions that have a financial character, which are then recorded in the books of account.\n"
     ]
    }
   ],
   "source": [
    "print(type(qa_pairs[\"answer\"]))\n",
    "print(qa_pairs[\"answer\"])"
   ]
  },
  {
   "cell_type": "code",
   "execution_count": 220,
   "metadata": {},
   "outputs": [
    {
     "name": "stdout",
     "output_type": "stream",
     "text": [
      "5\n"
     ]
    }
   ],
   "source": [
    "answers_list = qa_pairs[\"answer\"].split(sep=\"\\n\\n\")\n",
    "print(len(answers_list))"
   ]
  },
  {
   "cell_type": "code",
   "execution_count": 226,
   "metadata": {},
   "outputs": [
    {
     "name": "stdout",
     "output_type": "stream",
     "text": [
      "1.2 MEANING OF ACCOUNTING\n",
      "The Committee on Terminology set up by the American Institute of Certified Public Accountants formulated the following definition of accounting in 1961:\n",
      "\"Accounting is the art of recording, classifying, and summarising in a significant manner and in terms of money, transactions and events which are, in part at least, of a financial character, and interpreting the result thereof.\"\n",
      "As per this definition, accounting is simply an art of record keeping. The process of accounting starts by first identifying the events and transactions which are of financial character and then be recorded in the books of account. Continuing with the same example of the telecom company, which needs to capture all transactions (transactions made by the user, raising invoice to the customer, receipt of money, payment towards salaries, marketing etc.). Likewise, the individual running the stationery business, would need to record all business transactions.\n",
      "This recording is done in Journal or subsidiary books, also known as primary books. Every good record keeping system includes suitable classification of transactions and events as well as their summarisation for ready reference. For example, the telecom company performing thousands of transactions on a daily basis, is not expected to publish all those transactions for the users to be able to make a decision. Surely, those transactions need to be summarized appropriately.\n",
      "After the transactions and events are recorded, they are transferred to secondary books, i.e., Ledger. In ledger, transactions and events are classified in terms of income, expense, assets and liabilities according to their characteristics and summarised in profit and loss account and balance sheet.\n",
      "Essentially the transactions and events are to be measured in terms of money. Measurement in terms of money means measuring at the ruling currency of a country, for example, rupee in India, dollar in U.S.A. and like. The transactions and events must have at least in part, financial characteristics. The inauguration of a new branch of a bank is an event without having financial character, while the business disposed of by the branch is an event having financial character. Accounting also interprets the recorded, classified and summarized transactions and events. However, the above-mentioned definition does not reflect the present day accounting function. According to the above definition, accounting ends with interpretation of the results of the financial transactions and events but in the modern world with the diversification of management and ownership, globalization of business and society gaining more interest in the functioning of the enterprises, the importance of communicating the accounting results has increased.\n",
      "Therefore, this requirement of communicating and motivating informed judgement has also become the part of accounting as defined in the widely accepted definition of accounting, given by the American Accounting Association in 1966 which treated accounting as:\n",
      "\"The process of identifying, measuring and communicating economic information to permit informed judgments and decisions by the users of accounts.\"\n",
      "In 1970, the Accounting Principles Board (APB) of American Institute of Certified Public Accountants (AICPA) enumerated the functions of accounting as follows:\n",
      "\"The function of accounting is to provide quantitative information, primarily of financial nature, about economic entities, that is needed to be useful in making economic decisions.\"\n",
      "Thus, accounting may be defined as the process of recording, classifying, summarising, analysing and interpreting the financial transactions and communicating the results thereof to the persons interested in such information.\n",
      "The above definition requires accountants to assume a bigger responsibility than to merely do book-keeping. Accountants need to be ready to provide the information ready for the intended users to be able to make economic decisions.\n",
      "\n",
      "1. What was the definition of accounting formulated by the Committee on Terminology of the American Institute of Certified Public Accountants in 1961?\n",
      "1. The Committee on Terminology of the American Institute of Certified Public Accountants in 1961 defined accounting as \"the art of recording, classifying, and summarising in a significant manner and in terms of money, transactions and events which are, in part at least, of a financial character, and interpreting the result thereof.\"\n",
      "\n",
      "\n",
      "\n",
      "1.2 MEANING OF ACCOUNTING\n",
      "The Committee on Terminology set up by the American Institute of Certified Public Accountants formulated the following definition of accounting in 1961:\n",
      "\"Accounting is the art of recording, classifying, and summarising in a significant manner and in terms of money, transactions and events which are, in part at least, of a financial character, and interpreting the result thereof.\"\n",
      "As per this definition, accounting is simply an art of record keeping. The process of accounting starts by first identifying the events and transactions which are of financial character and then be recorded in the books of account. Continuing with the same example of the telecom company, which needs to capture all transactions (transactions made by the user, raising invoice to the customer, receipt of money, payment towards salaries, marketing etc.). Likewise, the individual running the stationery business, would need to record all business transactions.\n",
      "This recording is done in Journal or subsidiary books, also known as primary books. Every good record keeping system includes suitable classification of transactions and events as well as their summarisation for ready reference. For example, the telecom company performing thousands of transactions on a daily basis, is not expected to publish all those transactions for the users to be able to make a decision. Surely, those transactions need to be summarized appropriately.\n",
      "After the transactions and events are recorded, they are transferred to secondary books, i.e., Ledger. In ledger, transactions and events are classified in terms of income, expense, assets and liabilities according to their characteristics and summarised in profit and loss account and balance sheet.\n",
      "Essentially the transactions and events are to be measured in terms of money. Measurement in terms of money means measuring at the ruling currency of a country, for example, rupee in India, dollar in U.S.A. and like. The transactions and events must have at least in part, financial characteristics. The inauguration of a new branch of a bank is an event without having financial character, while the business disposed of by the branch is an event having financial character. Accounting also interprets the recorded, classified and summarized transactions and events. However, the above-mentioned definition does not reflect the present day accounting function. According to the above definition, accounting ends with interpretation of the results of the financial transactions and events but in the modern world with the diversification of management and ownership, globalization of business and society gaining more interest in the functioning of the enterprises, the importance of communicating the accounting results has increased.\n",
      "Therefore, this requirement of communicating and motivating informed judgement has also become the part of accounting as defined in the widely accepted definition of accounting, given by the American Accounting Association in 1966 which treated accounting as:\n",
      "\"The process of identifying, measuring and communicating economic information to permit informed judgments and decisions by the users of accounts.\"\n",
      "In 1970, the Accounting Principles Board (APB) of American Institute of Certified Public Accountants (AICPA) enumerated the functions of accounting as follows:\n",
      "\"The function of accounting is to provide quantitative information, primarily of financial nature, about economic entities, that is needed to be useful in making economic decisions.\"\n",
      "Thus, accounting may be defined as the process of recording, classifying, summarising, analysing and interpreting the financial transactions and communicating the results thereof to the persons interested in such information.\n",
      "The above definition requires accountants to assume a bigger responsibility than to merely do book-keeping. Accountants need to be ready to provide the information ready for the intended users to be able to make economic decisions.\n",
      "\n",
      "2. How does the American Accounting Association's 1966 definition of accounting expand on the 1961 definition?\n",
      "2. The American Accounting Association's 1966 definition of accounting expands on the 1961 definition by emphasizing the communication of economic information to facilitate informed judgments and decisions by users of accounts. This highlights the broader role of accounting not just in recording and summarizing, but also in effectively communicating financial data.\n",
      "\n",
      "\n",
      "\n",
      "1.2 MEANING OF ACCOUNTING\n",
      "The Committee on Terminology set up by the American Institute of Certified Public Accountants formulated the following definition of accounting in 1961:\n",
      "\"Accounting is the art of recording, classifying, and summarising in a significant manner and in terms of money, transactions and events which are, in part at least, of a financial character, and interpreting the result thereof.\"\n",
      "As per this definition, accounting is simply an art of record keeping. The process of accounting starts by first identifying the events and transactions which are of financial character and then be recorded in the books of account. Continuing with the same example of the telecom company, which needs to capture all transactions (transactions made by the user, raising invoice to the customer, receipt of money, payment towards salaries, marketing etc.). Likewise, the individual running the stationery business, would need to record all business transactions.\n",
      "This recording is done in Journal or subsidiary books, also known as primary books. Every good record keeping system includes suitable classification of transactions and events as well as their summarisation for ready reference. For example, the telecom company performing thousands of transactions on a daily basis, is not expected to publish all those transactions for the users to be able to make a decision. Surely, those transactions need to be summarized appropriately.\n",
      "After the transactions and events are recorded, they are transferred to secondary books, i.e., Ledger. In ledger, transactions and events are classified in terms of income, expense, assets and liabilities according to their characteristics and summarised in profit and loss account and balance sheet.\n",
      "Essentially the transactions and events are to be measured in terms of money. Measurement in terms of money means measuring at the ruling currency of a country, for example, rupee in India, dollar in U.S.A. and like. The transactions and events must have at least in part, financial characteristics. The inauguration of a new branch of a bank is an event without having financial character, while the business disposed of by the branch is an event having financial character. Accounting also interprets the recorded, classified and summarized transactions and events. However, the above-mentioned definition does not reflect the present day accounting function. According to the above definition, accounting ends with interpretation of the results of the financial transactions and events but in the modern world with the diversification of management and ownership, globalization of business and society gaining more interest in the functioning of the enterprises, the importance of communicating the accounting results has increased.\n",
      "Therefore, this requirement of communicating and motivating informed judgement has also become the part of accounting as defined in the widely accepted definition of accounting, given by the American Accounting Association in 1966 which treated accounting as:\n",
      "\"The process of identifying, measuring and communicating economic information to permit informed judgments and decisions by the users of accounts.\"\n",
      "In 1970, the Accounting Principles Board (APB) of American Institute of Certified Public Accountants (AICPA) enumerated the functions of accounting as follows:\n",
      "\"The function of accounting is to provide quantitative information, primarily of financial nature, about economic entities, that is needed to be useful in making economic decisions.\"\n",
      "Thus, accounting may be defined as the process of recording, classifying, summarising, analysing and interpreting the financial transactions and communicating the results thereof to the persons interested in such information.\n",
      "The above definition requires accountants to assume a bigger responsibility than to merely do book-keeping. Accountants need to be ready to provide the information ready for the intended users to be able to make economic decisions.\n",
      "\n",
      "3. What are the primary functions of accounting as outlined by the Accounting Principles Board in 1970?\n",
      "3. The primary functions of accounting as outlined by the Accounting Principles Board in 1970 are to provide quantitative information, primarily of a financial nature, about economic entities that is needed to be useful in making economic decisions.\n",
      "\n",
      "\n",
      "\n",
      "1.2 MEANING OF ACCOUNTING\n",
      "The Committee on Terminology set up by the American Institute of Certified Public Accountants formulated the following definition of accounting in 1961:\n",
      "\"Accounting is the art of recording, classifying, and summarising in a significant manner and in terms of money, transactions and events which are, in part at least, of a financial character, and interpreting the result thereof.\"\n",
      "As per this definition, accounting is simply an art of record keeping. The process of accounting starts by first identifying the events and transactions which are of financial character and then be recorded in the books of account. Continuing with the same example of the telecom company, which needs to capture all transactions (transactions made by the user, raising invoice to the customer, receipt of money, payment towards salaries, marketing etc.). Likewise, the individual running the stationery business, would need to record all business transactions.\n",
      "This recording is done in Journal or subsidiary books, also known as primary books. Every good record keeping system includes suitable classification of transactions and events as well as their summarisation for ready reference. For example, the telecom company performing thousands of transactions on a daily basis, is not expected to publish all those transactions for the users to be able to make a decision. Surely, those transactions need to be summarized appropriately.\n",
      "After the transactions and events are recorded, they are transferred to secondary books, i.e., Ledger. In ledger, transactions and events are classified in terms of income, expense, assets and liabilities according to their characteristics and summarised in profit and loss account and balance sheet.\n",
      "Essentially the transactions and events are to be measured in terms of money. Measurement in terms of money means measuring at the ruling currency of a country, for example, rupee in India, dollar in U.S.A. and like. The transactions and events must have at least in part, financial characteristics. The inauguration of a new branch of a bank is an event without having financial character, while the business disposed of by the branch is an event having financial character. Accounting also interprets the recorded, classified and summarized transactions and events. However, the above-mentioned definition does not reflect the present day accounting function. According to the above definition, accounting ends with interpretation of the results of the financial transactions and events but in the modern world with the diversification of management and ownership, globalization of business and society gaining more interest in the functioning of the enterprises, the importance of communicating the accounting results has increased.\n",
      "Therefore, this requirement of communicating and motivating informed judgement has also become the part of accounting as defined in the widely accepted definition of accounting, given by the American Accounting Association in 1966 which treated accounting as:\n",
      "\"The process of identifying, measuring and communicating economic information to permit informed judgments and decisions by the users of accounts.\"\n",
      "In 1970, the Accounting Principles Board (APB) of American Institute of Certified Public Accountants (AICPA) enumerated the functions of accounting as follows:\n",
      "\"The function of accounting is to provide quantitative information, primarily of financial nature, about economic entities, that is needed to be useful in making economic decisions.\"\n",
      "Thus, accounting may be defined as the process of recording, classifying, summarising, analysing and interpreting the financial transactions and communicating the results thereof to the persons interested in such information.\n",
      "The above definition requires accountants to assume a bigger responsibility than to merely do book-keeping. Accountants need to be ready to provide the information ready for the intended users to be able to make economic decisions.\n",
      "\n",
      "4. Why is it important for accounting to measure transactions in terms of money?\n",
      "4. It is important for accounting to measure transactions in terms of money because it provides a common denominator that allows for the quantification and comparison of different economic activities, thus facilitating the classification, summarization, and interpretation of financial information.\n",
      "\n",
      "\n",
      "\n",
      "1.2 MEANING OF ACCOUNTING\n",
      "The Committee on Terminology set up by the American Institute of Certified Public Accountants formulated the following definition of accounting in 1961:\n",
      "\"Accounting is the art of recording, classifying, and summarising in a significant manner and in terms of money, transactions and events which are, in part at least, of a financial character, and interpreting the result thereof.\"\n",
      "As per this definition, accounting is simply an art of record keeping. The process of accounting starts by first identifying the events and transactions which are of financial character and then be recorded in the books of account. Continuing with the same example of the telecom company, which needs to capture all transactions (transactions made by the user, raising invoice to the customer, receipt of money, payment towards salaries, marketing etc.). Likewise, the individual running the stationery business, would need to record all business transactions.\n",
      "This recording is done in Journal or subsidiary books, also known as primary books. Every good record keeping system includes suitable classification of transactions and events as well as their summarisation for ready reference. For example, the telecom company performing thousands of transactions on a daily basis, is not expected to publish all those transactions for the users to be able to make a decision. Surely, those transactions need to be summarized appropriately.\n",
      "After the transactions and events are recorded, they are transferred to secondary books, i.e., Ledger. In ledger, transactions and events are classified in terms of income, expense, assets and liabilities according to their characteristics and summarised in profit and loss account and balance sheet.\n",
      "Essentially the transactions and events are to be measured in terms of money. Measurement in terms of money means measuring at the ruling currency of a country, for example, rupee in India, dollar in U.S.A. and like. The transactions and events must have at least in part, financial characteristics. The inauguration of a new branch of a bank is an event without having financial character, while the business disposed of by the branch is an event having financial character. Accounting also interprets the recorded, classified and summarized transactions and events. However, the above-mentioned definition does not reflect the present day accounting function. According to the above definition, accounting ends with interpretation of the results of the financial transactions and events but in the modern world with the diversification of management and ownership, globalization of business and society gaining more interest in the functioning of the enterprises, the importance of communicating the accounting results has increased.\n",
      "Therefore, this requirement of communicating and motivating informed judgement has also become the part of accounting as defined in the widely accepted definition of accounting, given by the American Accounting Association in 1966 which treated accounting as:\n",
      "\"The process of identifying, measuring and communicating economic information to permit informed judgments and decisions by the users of accounts.\"\n",
      "In 1970, the Accounting Principles Board (APB) of American Institute of Certified Public Accountants (AICPA) enumerated the functions of accounting as follows:\n",
      "\"The function of accounting is to provide quantitative information, primarily of financial nature, about economic entities, that is needed to be useful in making economic decisions.\"\n",
      "Thus, accounting may be defined as the process of recording, classifying, summarising, analysing and interpreting the financial transactions and communicating the results thereof to the persons interested in such information.\n",
      "The above definition requires accountants to assume a bigger responsibility than to merely do book-keeping. Accountants need to be ready to provide the information ready for the intended users to be able to make economic decisions.\n",
      "\n",
      "5. How does the recording process in accounting begin according to the 1961 definition?\n",
      "5. According to the 1961 definition, the recording process in accounting begins by identifying events and transactions that have a financial character, which are then recorded in the books of account.\n",
      "\n",
      "\n",
      "\n"
     ]
    }
   ],
   "source": [
    "for i in range(5):\n",
    "    print(context)\n",
    "    print(questions[i])\n",
    "    print(answers_list[i])\n",
    "    print(\"\\n\\n\")"
   ]
  },
  {
   "cell_type": "code",
   "execution_count": null,
   "metadata": {},
   "outputs": [],
   "source": [
    "for i in range(5):\n",
    "    print(questions[i])\n",
    "    print(answers_list[i])\n",
    "\n",
    "\n",
    "# jsonl file\n",
    "{questions[i]: questions[i]}\n",
    "{questions[i]: questions[i]}\n",
    "{questions[i]: questions[i]}\n",
    "{questions[i]: questions[i]}\n"
   ]
  },
  {
   "cell_type": "code",
   "execution_count": null,
   "metadata": {},
   "outputs": [
    {
     "name": "stdout",
     "output_type": "stream",
     "text": [
      "JSONL file 'qa_pairs.jsonl' has been created.\n"
     ]
    }
   ],
   "source": [
    "import json\n",
    "\n",
    "# Assuming questions and answers_list are already defined\n",
    "with open(\"qa_pairs.jsonl\", \"w\") as f:\n",
    "    for i in range(5):\n",
    "        # Write question\n",
    "        json.dump(obj={questions[i]: answers_list[i]}, fp=f)\n",
    "        f.write(\"\\n\")\n",
    "\n",
    "print(\"JSONL file 'qa_pairs.jsonl' has been created.\")"
   ]
  },
  {
   "cell_type": "code",
   "execution_count": null,
   "metadata": {},
   "outputs": [],
   "source": []
  },
  {
   "cell_type": "code",
   "execution_count": null,
   "metadata": {},
   "outputs": [],
   "source": []
  }
 ],
 "metadata": {
  "kernelspec": {
   "display_name": "learn-fastapi-9ibX4H3i-py3.12",
   "language": "python",
   "name": "python3"
  },
  "language_info": {
   "codemirror_mode": {
    "name": "ipython",
    "version": 3
   },
   "file_extension": ".py",
   "mimetype": "text/x-python",
   "name": "python",
   "nbconvert_exporter": "python",
   "pygments_lexer": "ipython3",
   "version": "3.12.5"
  }
 },
 "nbformat": 4,
 "nbformat_minor": 2
}
