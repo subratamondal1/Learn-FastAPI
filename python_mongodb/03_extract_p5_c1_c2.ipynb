{
 "cells": [
  {
   "cell_type": "markdown",
   "metadata": {},
   "source": [
    "# MongoDB"
   ]
  },
  {
   "cell_type": "code",
   "execution_count": 14,
   "metadata": {},
   "outputs": [],
   "source": [
    "from pymongo import MongoClient"
   ]
  },
  {
   "cell_type": "code",
   "execution_count": 15,
   "metadata": {},
   "outputs": [
    {
     "data": {
      "text/plain": [
       "['admin', 'config', 'courses', 'local', 'my_store', 'subrata', 'test']"
      ]
     },
     "execution_count": 15,
     "metadata": {},
     "output_type": "execute_result"
    }
   ],
   "source": [
    "client = MongoClient()\n",
    "client.list_database_names()"
   ]
  },
  {
   "cell_type": "code",
   "execution_count": 16,
   "metadata": {},
   "outputs": [
    {
     "data": {
      "text/plain": [
       "['CA-Inter-P5 - Chapter 2 - Audit Strategy, Audit Planning and Audit Programme',\n",
       " 'CA-Inter-P5 - Chapter 1 - Nature, Objective and Scope of Audit',\n",
       " 'CA-P1-M1-C1-U1-Theory']"
      ]
     },
     "execution_count": 16,
     "metadata": {},
     "output_type": "execute_result"
    }
   ],
   "source": [
    "courses_db = client.get_database(name=\"courses\")\n",
    "courses_db.list_collection_names()"
   ]
  },
  {
   "cell_type": "code",
   "execution_count": 17,
   "metadata": {},
   "outputs": [
    {
     "data": {
      "text/plain": [
       "<pymongo.synchronous.cursor.Cursor at 0x1112e47d0>"
      ]
     },
     "execution_count": 17,
     "metadata": {},
     "output_type": "execute_result"
    }
   ],
   "source": [
    "ca_inter_p2_c1_db = courses_db.get_collection(\n",
    "    name=\"CA-Inter-P5 - Chapter 1 - Nature, Objective and Scope of Audit\"\n",
    ")\n",
    "ca_inter_p2_c1_db_cursor = ca_inter_p2_c1_db.find({})\n",
    "ca_inter_p2_c1_db_cursor"
   ]
  },
  {
   "cell_type": "code",
   "execution_count": 18,
   "metadata": {},
   "outputs": [
    {
     "name": "stdout",
     "output_type": "stream",
     "text": [
      "{'_id': ObjectId('67406591a2ed655c19ebe25b'), 'key': 'title', 'value': ''}\n",
      "{'_id': ObjectId('67406591a2ed655c19ebe25c'), 'key': 1, 'value': \"CHAPTER 1 -  NATURE, OBJECTIVE AND SCOPE OF ADULT\\nINTRODUCTION\\nWhat do such real-life situations highlight? Such instances underline importance of auditing in today's complex business environment. Be it investors desirous of investing their money in companies, shareholders anxious to know financial position of companies they have invested in, banks or financial institutions willing to lend funds to credit-worthy organizations, governments desirous of collecting taxes from trade and industry in accordance with applicable laws, trade unions negotiating with corporate managements for better wages or insurance companies wanting to settle property claims caused by fire or other disasters - range of diverse users in equally diverse fields rely upon audited financial statements.\\nCan you figure out reason behind such reliance? It is due to the fact that audited financial statements provide confidence to users of financial statements; audited financial statements provide assurance to users who may take their decisions on the basis of such audited financial statements. Herein lies the importance of auditing. You can very well understand how significant is role of auditing profession and auditors in modern world involving multitude of economic activities being carried out in equally dynamic legal and regulatory environments.\\nHere, comes a vital question. What do we mean by auditing? What is its nature and scope? What it includes and What it does not? What are its limitations? We shall try to find out answers to these questions in succeeding paras.\"}\n",
      "{'_id': ObjectId('67406591a2ed655c19ebe25d'), 'key': 2, 'value': 'ORIGIN OF AUDITING\\nBefore we get to understand meaning and nature of auditing, let\\'s travel back in time to know about origin of auditing. Auditing has existed even in ancient times in many societies of world including India. The reference to auditing is found in Kautilya\\'s Arthshastra even in  century BC. It talks about fixed accounting year, a process for closure of accounts and audit for the same. Concepts of periodical checking and verification existed even in those times. Even there are references in his monumental work to misstatements in financial statements due to abuse of power. Wasn\\'t he far ahead of his times?\\nThe word \"audit\" originates from Latin word \"audire\" meaning \"to hear\". In medieval times, auditors used to hear the accounts read out to them to check that employees were not careless and negligent. Industrial revolution in Europe led to astronomical expansion in volume of trade and consequently demand of auditors.\\nComing to more recent history, the first Auditor General of India was appointed in British India in 1860 having both accounting and auditing functions. Later on, office of Auditor General was given statutory recognition. Presently, Comptroller and Auditor General of India is an independent constitutional authority responsible for auditing government receipts and expenditures.\\nThe Institute of Chartered Accountants of India was established as a statutory body under an Act of Parliament in 1949 for regulating the profession of Chartered Accountancy in the country.'}\n",
      "{'_id': ObjectId('67406591a2ed655c19ebe25e'), 'key': 3, 'value': 'MEANING AND NATURE OF AUDITING\\n\"An audit is an independent examination of financial information of any entity, whether profit oriented or not, and irrespective of its size or legal form, when such an examination is conducted with a view to expressing an opinion thereon\".\\nAn incisive analysis of above meaning of auditing brings out following points clearly: -\\nAudit is an independent examination of financial information.\\nIndependence, here, implies that the judgement of a person is not subordinate to \\tthe wishes or direction of another person who might have engaged him. The \\tauditor should be independent of entity whose financial statements are subject to \\taudit so that he can form an opinion without being affected by any influence. \\tIndependence increases auditor\\'s ability to act objectively without creeping in of \\tany biases.\\nConsider, for example, a person who requests his brother, a Chartered Accountant,to audit accounts of his proprietary concern and issue a report. Can CA audit accounts of concern in which his brother is sole proprietor? No, he cannot. It is due to the fact that there would be no independence in such a case due to relationship by birth between CA and his brother. He would be subject to influence from his brother.\\nTake another case where a CA has invested in shares of a company. Can he audit \\taccounts of such a company in which he holds shares? The answer is resounding \\tNO. It is due to the fact that by holding shares of the company, his own self-\\tinterest gets involved. His own money is invested in the company and he may not \\tbe able to form judgment independently on the financial statements of the \\tcompany.\\nThe entity whose financial information is examined need not necessarily be profit oriented like in case of a business. It can be a non-profit organization like an NGO or a charitable trust. Audit can be undertaken in respect of any organization be it a small, medium or large. Further, it can be conducted for any entity irrespective of its legal structure i.e. such an entity may be a proprietary concern, a partnership firm, a LLP, a private company, a public company, a society or a trust.\\nThe purpose of audit is to express an opinion on the financial statements.\\nUnderstand that preparation and presentation of financial statements of an entity is responsibility of management of entity. The auditor expresses an opinion on financial statements by means of written audit report.\\nIn doing so, he has to see that financial statements would not mislead anybody by ensuring that: -\\nthe accounts have been drawn up with reference to entries in the books of account;\\nthe entries in the books of account are adequately supported by sufficient and appropriate evidence;\\nnone of the entries in the books of account has been omitted in the process of compilation;\\nthe information conveyed by the statements is clear and unambiguous;\\nthe financial statement amounts are properly classified, described and disclosed in conformity with accounting standards; and\\nthe statement of accounts presents a true and fair picture of the operational results and of the assets and liabilities.\\nAuditing provides assurance. Its basic nature lies in providing assurance to users providing confidence to users of financial statements. Such an assurance lends credibility to financial statements. Audited financial statements provide confidence to users that financial information reflected in financial statements can be relied upon.'}\n",
      "{'_id': ObjectId('67406591a2ed655c19ebe25f'), 'key': 4, 'value': 'INTERDISCIPLINARY NATURE OF AUDITING         RELATIONSHIP WITH DIVERSE SUBJECTS\\nAuditing is interdisciplinary in nature. It draws from diverse subjects including accountancy, law, behavioural science, statistics, economics and financial management and makes use of these subjects. Since audit of financial statements is concerned with financial information, a sound knowledge of accounting principles is a fundamental requirement for an auditor of financial statements to conduct audit and express an opinion. Similarly, good knowledge of business laws and various taxation laws helps auditor to understand financial statements in a better way in accordance with applicable laws.\\nDuring course of audit, auditor has to interact with lot of persons for seeking information and making inquiries. This can be done only if one has knowledge of human behaviour. Auditors use statistical methods to draw samples in a scientific manner. It is not possible for an auditor to check each and every transaction. So, use of statistical methods to draw samples for conducting audit is made.\\nKnowledge of subject like economics helps auditor to be familiar with overall economic environment in which specific business is operating. Financial management deals with issues such as funds flow, working capital management, ratio analysis etc. and an auditor is expected to be knowledgeable about these for applying some of audit procedures and carrying out audit effectively. Besides, knowledge of financial markets comprised in study of financial management is expected from a professional auditor.\\nAuditing and Accounting: Auditing reviews the financial statements which are nothing but a result of the overall accounting process.\\nAuditing and Law: An auditor should have a good knowledge of business laws affecting the entity.\\nAuditing and Economics: Auditor is expected to be familiar with the overall economic environment of the client.\\nAuditing and Behavioural Science: Knowledge of human behaviour is essential for an auditor to effectively discharge his duties.\\nAuditing and Statistics & Mathematics: Auditor is also expected to have the knowledge of statistical sampling for meaningful conclusions and mathematics for verification of inventories.\\nAuditing and Data Processing: EDP auditing in itself is developing as a discipline in itself.\\nAuditing and Financial Management : Auditor is expected to have knowledge about various financial techniques such as working capital management, funds flow, ratio analysis, capital budgeting etc.\\nAuditing and Production: Good auditor is one who understands the client and his business functions such as production, cost system, marketing etc.'}\n",
      "{'_id': ObjectId('67406591a2ed655c19ebe260'), 'key': 5, 'value': 'OBJECTIVES OF AUDIT\\nIn conducting audit of financial statements, objectives of auditor in accordance with SA-200 \"Overall Objectives of the Independent auditor and the conduct of an audit in accordance with Standards on Auditing\" are: -\\nTo obtain reasonable assurance about whether the financial statements as a whole are free from material misstatement, whether due to fraud or error, thereby enabling the auditor to express an opinion on whether the financial statements are prepared, in all material respects, in accordance with an applicable financial reporting framework; and\\nTo report on the financial statements, and communicate as required by the SAs, in accordance with the auditor\\'s findings.\\nAn analysis of above brings out following points clearly: -\\nAuditor\\'s objective is to obtain a reasonable assurance whether financial statements as a whole are free from material misstatement whether due to fraud or error.\\nReasonable assurance is to be distinguished from absolute assurance. Absolute assurance is a complete assurance or a guarantee that financial statements are free from material misstatements. However, reasonable assurance is not a complete guarantee. Although it is a high-level of assurance but it is not complete assurance.\\nAudit of financial statements is carried out by the auditor with professional competence and skills in accordance with Standards on Auditing. Audit procedures are applied in accordance with SAs, audit evidence is obtained and evaluated. On basis of that, conclusions are drawn and opinion is formed. It leads to high level of assurance which is called as reasonable assurance but it is not absolute assurance.\\nMisstatements in financial statements can occur due to fraud or error or both. The auditor seeks to obtain reasonable assurance whether financial statements as a whole are free from material misstatements caused by fraud or error. He has to see effect of misstatements on financial statements as a whole, in totality.\\nObtaining reasonable assurance that financial statements as a whole are free from material misstatements enables the auditor to express an opinion on whether the financial statements are prepared, in all material respects, in accordance with an applicable financial reporting framework.\\nThe opinion is reported and communicated in accordance with audit findings through a written report as required by Standards on Auditing. (You would be studying about these in subsequent parts of this (hapter).'}\n",
      "{'_id': ObjectId('67406591a2ed655c19ebe261'), 'key': 6, 'value': \"An Overview of Objectives of Audit \\n- The primary objective of an audit is to obtain reasonable assurance that the financial statements are free from material misstatement, whether caused by fraud or error.\\n- An auditor aims to gain reasonable assurance to form an opinion on whether the financial statements are prepared, in all material respects, in accordance with the applicable financial reporting framework.\\n- It is an auditor's responsibility to report on the financial statements based on the conclusion of the audit.\\n- Auditors must express an opinion that accurately reflects their audit findings.\\n- Effective communication of the audit findings is an essential component of an auditor's responsibilities.\\n- The audit report should be prepared and communicated in accordance with the Standards on Auditing.\"}\n",
      "{'_id': ObjectId('67406591a2ed655c19ebe262'), 'key': 7, 'value': 'SCOPE OF AUDIT-WHAT IT INCLUDES\\nScope refers to range or reach of something. The purpose of an audit is to enhance the degree of confidence of intended users in the financial statements. Users of financial statements may be shareholders, employees, customers, government and regulatory authorities, bankers etc. Enhancing of degree of confidence is achieved by the expression of an opinion by the auditor on whether the financial statements are prepared, in all material respects, in accordance with an applicable financial reporting framework.\\n(Applicable financial reporting framework means a framework adopted in the preparation and presentation of the financial statements that is acceptable in view of the nature of the entity and the objective of the financial statements, or that is required by law or regulation.)\\nFor example, in case of companies in India, financial reporting framework is provided under Schedule III of Companies Act,2013.\\n\\nThe following points are included in scope of audit of financial statements: -\\nCoverage of all aspects of entity\\nAudit of financial statements should be organized adequately to cover all aspects of the entity relevant to the financial statements being audited.\\nReliability and sufficiency of financial information\\nThe auditor should be reasonably satisfied that information contained in underlying accounting records and other source data (like bills, vouchers, documents etc.) is reliable and sufficient basis for preparation of financial statements.\\nThe auditor makes a judgment of reliability and sufficiency of financial information by making a study and assessment of accounting systems and internal controls and by carrying out appropriate tests, enquiries and procedures.\\nProper disclosure of financial information\\nThe auditor should also decide whether relevant information is properly disclosed in the financial statements. He should also keep in mind applicable statutory requirements in this regard.\\nIt is done by ensuring that financial statements properly summarize transactions and events recorded therein and by considering the judgments made by management in preparation of financial statements.\\nThe management responsible for preparation and presentation of financial statements makes many judgments in this process of preparing and presenting financial statements. For example, choosing of appropriate accounting policies in relation to various accounting issues like choosing method of charging depreciation on fixed assets or choosing appropriate method for valuation of inventories.\\nThe auditor evaluates selection and consistent application of accounting policies by management; whether such a selection is proper and whether chosen policy has been applied consistently on a period-to-period basis.\\nUnderstand that financial statements of an entity are prepared on historical financial information basis. \"Historical financial information\" means information expressed in financial terms in relation to a particular entity, derived primarily from that entity\\'s accounting system, about economic events occurring in past time periods or about economic conditions or circumstances at points in time in the past.\\nFor example, when purchases and sales are reflected in financial statements of an entity, these are examples of historical financial information. These are about transactions which have occurred in past.\\nSince financial statements are prepared on the basis of historical financial information, it is logical that audit of financial statements is also based upon such historical financial information. Therefore, audit of financial statements is based upon historical financial information.'}\n",
      "{'_id': ObjectId('67406591a2ed655c19ebe263'), 'key': 8, 'value': \"Scope of audit-What it does not include\\nAuditor is not expected to perform duties which fall outside domain of his competence. For example, physical condition of certain assets like that of sophisticated machinery cannot be determined by him. Similarly, it is not expected from an auditor to determine suitability and life of civil structures like buildings. These require different skillsets which may be performed by qualified engineers in their respective fields.\\nAn auditor is not an expert in authentication of documents. The genuineness of documents cannot be authenticated by him because he is not an expert in this field.\\nAn audit is not an official investigation into alleged wrong doing. He does not have any specific legal powers of search or recording statements of witness on oath which may be necessary for carrying out an official investigation.\\nAudit is distinct from investigation. Investigation is a critical examination of the accounts with a special purpose. For example, if fraud is suspected and it is specifically called upon to check the accounts whether fraud really exists, it takes character of investigation.\\nThe objective of audit, on the other hand, as has already been discussed, is to obtain reasonable assurance about whether the financial statements as a whole are free from material misstatement, whether due to fraud or error, thereby enabling the auditor to express an opinion.\\nThe scope of audit is general and broad whereas scope of investigation is specific and narrow.\\nAn Overview of Scope of Audit\\n- The scope of an audit of financial statements includes the comprehensive examination of all aspects of the entity that are relevant to the financial statements being audited.\\n- It encompasses assessing the reliability and sufficiency of the financial information presented in the statements.\\n- Ensuring proper disclosure of all pertinent financial information in the statements is a key part of the audit scope.\\n- The auditor is responsible for expressing an opinion on the financial statements based on the audit evidence obtained.\\n- The preparation and presentation of financial statements fall outside the auditor's responsibilities; this is the management's duty.\\n- Actions beyond the auditor's professional competence are not within the scope of the audit.\\n- The auditor is not required to possess expertise in the authentication of documents; such expertise lies beyond the typical scope of auditing.\\n- Conducting investigations is not typically within the scope of a standard financial statement audit.\"}\n",
      "{'_id': ObjectId('67406591a2ed655c19ebe264'), 'key': 9, 'value': 'INHERENT LIMITATIONS OF AUDIT\\nThe process of audit suffers from certain inbuilt limitations due to which an auditor cannot obtain an absolute assurance that financial statements are free from misstatement due to fraud or error. These fundamental limitations arise due to the following factors: -\\nNature of financial reporting\\nPreparation of financial statements involves making many judgments by management. These judgments may involve subjective decisions or a degree of uncertainty. Therefore, auditor may not be able to obtain absolute assurance that financial statements are free from material misstatements due to frauds or errors.\\nOne of the premises for conducting an audit is that management acknowledges its responsibility of preparation of financial statements in accordance with applicable financial reporting framework and for devising suitable internal controls. However, such controls may not have operated to produce reliable financial information due to their own limitations.\\nConsider, for example, that management of a company has devised a control that all purchase bills should reflect stamp and signatures of an authorised person in \"Goods Receiving Section\" of the company stating the date and time of receiving goods in premises. It is an example of internal control devised by the company to ensure that only those purchase bills are produced for payment for which goods have been actually received. Now, what happens if concerned accountant and authorised person in \"Goods Receiving Section\" collude. It is a case of overriding of internal controls devised by the company due to collusion between two persons. Such a probable collusion is one of limitations of internal controls itself.'}\n",
      "{'_id': ObjectId('67406591a2ed655c19ebe265'), 'key': 10, 'value': \"Nature of Audit procedures\\nThe auditor carries out his work by obtaining audit evidence through performance of audit procedures. However, there are practical and legal limitations on ability of auditor to obtain audit evidence. For example, an auditor does not test all transactions and balances. He forms his opinion only by testing samples. It is an example of practical limitation on auditor's ability to obtain audit evidence.\\nManagement may not provide complete information as requested by auditor. There is no way by which auditor can force management to provide complete information as may be requested by auditor. In case he is not provided with required information, he can only report. It is an example of legal limitation on auditor's ability to obtain audit evidence.\\nThe management may consist of dishonest and unscrupulous people and may be, itself, involved in fraud. It may be engaged in concealing fraud by designing sophisticated and carefully organized schemes which may be hard to detect by the auditor. It may produce fabricated documents before auditor to lead him to believe that audit evidence is valid. However, in reality, such documents could be fake or non-genuine.\\nWe have already discussed under section on scope of audit that an auditor is not an expert in authentication of documents. Therefore, he may be led to accept invalid audit evidence on the basis of unauthentic documents.\\nIt is quite possible that entity may have entered into some transactions with related parties. Such transactions may be only paper transactions and may not have actually occurred. The auditor may not be aware of such related party relationships or audit procedures may not be able to detect probable wrong doings in such transactions.\"}\n",
      "{'_id': ObjectId('67406591a2ed655c19ebe266'), 'key': 11, 'value': 'Not in nature of investigation\\nAs already discussed, audit is not an official investigation. Hence, auditor cannot obtain absolute assurance that financial statements are free from material misstatements due to frauds or errors.\\nTimeliness of financial reporting and decrease in relevance of information over time\\nThe relevance of information decreases over time and auditor cannot verify each and every matter. Therefore, a balance has to be struck between reliability of information and cost of obtaining it.\\nConsider, for example, an auditor who is conducting audit of a company since last two years. During these two years, he has sought detailed information from management of company regarding various matters. During his thirdyear stint, he chooses to rely upon some information obtained as part of audit procedures of second year. However, it could be possible that something new has happened and that information is not relevant. So, the information being relied upon by auditor is not timely and may have lost its reliability.\\nFuture events\\nFuture events or conditions may affect an entity adversely. Adverse events may seriously affect ability of an entity to continue its business. The business may cease to exist in future due to change in market conditions, emergence of new business models or products or due to onset of some adverse events.\\nTherefore, it is in view of above factors, that an auditor cannot provide a guarantee that financial statements are free from material misstatements due to frauds or errors.\\nInherent Limitations of Audit (SA 200 \"Overall Objectives of the Independent Auditor and the Conduct of an Audit in Accordance with Standards on Auditing\"): The auditor is not expected to, and cannot, reduce audit risk to zero because there are inherent limitations of an audit. The inherent limitations of an audit arise from:\\nThe Nature of Financial Reporting: The preparation of financial statements involves judgment by management.\\nThe Nature of Audit Procedures: There are practical and legal limitations on the auditor\\'s ability to obtain audit evidence such as:\\nPossibility that management or others may  not provide, intentionally or unintentionally, the complete information relevant for preparation and presentation of FS.\\nFraud may involve sophisticated and carefully organised schemes.\\nNot in the nature of Investigation: An audit is not an official investigation into alleged wrongdoing.\\nTimeliness of financial reporting and decrease in relevance of information\\n over time: Relevance of information, and thereby its value, tends to diminish over time, and there is a balance to be struck between the reliability of information and its cost.\\nFuture events: Future events or conditions may affect an entity adversely. Adverse events may seriously affect ability of an entity to continue its Business.'}\n",
      "{'_id': ObjectId('67406591a2ed655c19ebe267'), 'key': 12, 'value': 'WHAT IS AN ENGAGEMENT?\\nEngagement means an arrangement to do something. In the context of auditing, it means a formal agreement between auditor and client under which auditor agrees to provide auditing services. It takes the shape of engagement letter.\\n8.1 External audit engagements\\nThe purpose of external audit engagements is to enhance the degree of confidence of intended users of financial statements. Such engagements are also reasonable assurance engagements. For example, in India, companies are required to get their annual accounts audited by an external auditor. Even non-corporate entities may choose to have their accounts audited by an external auditor because of benefits of such an audit.'}\n",
      "{'_id': ObjectId('67406591a2ed655c19ebe268'), 'key': 13, 'value': 'BENEFITS OF AUDIT-WHY AUDIT IS NEEDED?\\nAudited accounts provide high quality information. It gives confidence to users that information on which they are relying is qualitative and it is the outcome of an exercise carried out by following Auditing Standards recognized globally.\\nIn case of companies, shareholders may or may not be involved in daily affairs of the company. The financial statements are prepared by management consisting of directors. As shareholders are owners of the company, they need an independent mechanism so that financial information is qualitative and reliable. Hence, their interest is safeguarded by an audit.\\nAn audit acts as a moral check on employees from committing frauds for the fear of being discovered by audit.\\nAudited financial statements are helpful to government authorities for determining tax liabilities.\\nAudited financial statements can be relied upon by lenders, bankers for making their credit decisions i.e. whether to lend or not to lend to a particular entity.\\nAn audit may also detect fraud or error or both.\\nAn audit reviews existence and operations of various controls operating in any entity. Hence, it is useful at pointing out deficiencies.'}\n",
      "{'_id': ObjectId('67406591a2ed655c19ebe269'), 'key': 14, 'value': 'AUDIT- MANDATORY OR VOLUNTARY?\\nIt is not necessary that audit is always legally mandatory. There are entities like companies who are compulsorily required to get their accounts audited under law. Even non-corporate entities may be compulsorily requiring audit of their accounts under tax laws. For example, in India, every person is required to get accounts audited if turnover crosses certain threshold limit under income tax law.\\nIt is also possible that some entities like schools may be required to get their accounts audited for the purpose of obtaining grant or assistance from the Government.\\nAudit is not always mandatory. Many entities may get their accounts audited voluntarily because of benefits from the process of audit. Many such concerns have their internal rules requiring audit due to advantages flowing from an audit.'}\n",
      "{'_id': ObjectId('67406591a2ed655c19ebe26a'), 'key': 15, 'value': 'WHO APPOINTS AN AUDITOR?\\nGenerally, an auditor is appointed by owners or in some cases by constitutional or government authorities in accordance with applicable laws and regulations. For example, in case of companies, auditor is appointed by members (shareholders) in Annual General Meeting (AGM). Shareholders are owners of a company and auditor is appointed by them in AGM.\\nHowever, in case of government companies in India, auditor is appointed by Comptroller and Auditor General of India (CAG), an independent constitutional authority.\\nTake case of a firm who engages an auditor to audit its accounts. In such a case, auditor is appointed by partners of firm.\\nThere may be a situation in which auditor may be appointed by a government authority in accordance with some law or regulation. For example, an auditor may be appointed under tax laws by a government authority.'}\n",
      "{'_id': ObjectId('67406591a2ed655c19ebe26b'), 'key': 16, 'value': 'TO WHOM REPORT IS SUBMITTED BY AN AUDITOR?\\nThe outcome of an audit is written audit report in which auditor expresses an opinion. The report is submitted to person making the appointment. In case of companies, these are shareholders- in case of a firm, to partners who have engaged him.\\nWe shall now discuss understanding reached so far from a case study involving discussion among students regarding nature, scope, limitations, benefits of auditing and other related matters.\\nCASE STUDY-1\\nRohit, Gurpreet, Ali and Goreti are friends since their school days based in Mumbai. They have cleared CA foundation exams in the same attempt and now plan to appear for CA Intermediate exams. All of them are avid news listeners and regularly keep track of business news even on social media.\\nThey are trying to understand new subjects including auditing. Rohit, Gurpreet and Ali have also started attending Live Coaching Classes (LCC) being conducted by Board of studies of ICAI. Goreti has not been able to join Live Coaching Classes yet as she was away on a holiday with her parents. However, she plans to catch it up with her friends very soon. Ali had also joined the classes but he had skipped some lectures.\\nDuring one informal get together, their discussions centred around new subject of auditing. They discussed many things regarding its nature, scope, benefits and other general practical issues. Goreti was regular in keeping track of audited results of companies being published in leading newspapers. Her view was that audited financial statements of companies give  guarantee to different stake holders. It is the main reason behind so much reliance upon auditing. But she could not understand why wrong doings in financial matters are being discovered after many years have gone by.\\nAli also concurred with her view and added that when financial statements are audited, each and every transaction appearing in books of accounts is verified. However, he could not give clarity to Goreti.\\nGurpreet was of the opinion that audit was conducted on the basis of sample checking. He was also of the view that audited financial statements are not a guarantee against probable wrong doings in financial matters of the companies.\\nNot to be left behind, Rohit also jumped in the fray. He supported Gurpreet and also added something of his own.'}\n",
      "{'_id': ObjectId('67406591a2ed655c19ebe26c'), 'key': 17, 'value': 'MEANING OF ASSURANCE ENGAGEMENT\\n\"Assurance engagement\" means an engagement in which a practitioner expresses a conclusion designed to enhance the degree of confidence of the intended users other than the responsible party about the outcome of the evaluation or measurement of a subject matter against criteria.\\nIt means that the practitioner gives an opinion about specific information due to which users of information are able to make confident decisions knowing well that chance of information being incorrect is diminished.\\n Elements of an Assurance Engagement\\nFollowing elements comprise an assurance engagement: -\\nA three party relationship involving a practitioner, a responsible party, and intended users\\nAn assurance engagement involves abovesaid three parties. A practitioner is a person who provides the assurance. The term practitioner is broader than auditor. Audit is related to historical information whereas practitioner may provide assurance not necessarily related to historical financial information.\\nA responsible party is the party responsible for preparation of subject matter.\\nIntended users are the persons for whom an assurance report is prepared. These persons may use the report in making decisions.\\nAn appropriate subject matter\\nIt refers to the information to be examined by the practitioner. For example, financial information contained in financial statements while conducting audit of financial statements.\\nSuitable criteria\\nThese refer to benchmarks used to evaluate the subject matter like standards, guidance, laws, rules and regulations.\\nSufficient appropriate evidence\\nThe practitioner performs an assurance engagement to obtain sufficient appropriate evidence. It is on the basis of evidence that conclusions are arrived and an opinion is formed by auditor.\\n\"Sufficient\" relates to quantity of evidence obtained by auditor. \"Appropriate\" relates to quality of evidence obtained by auditor. One evidence may be providing more comfort to auditor than the other evidence. The evidence providing more comfort is qualitative and, therefore, appropriate. Evidence should be both sufficient and appropriate.\\nA written assurance report in appropriate form\\nA written report is provided containing conclusion that conveys the assurance about the subject matter. A written assurance report is the outcome of an assurance engagement.\\nOverview of Elements of assurance engagement\\n- An assurance engagement involves a three-party relationship consisting of the responsible party, the practitioner, and the intended users.\\n- The subject matter of an assurance engagement must be appropriate, meaning it is capable of evaluation against suitable criteria and available for the practitioner to obtain evidence.\\n- Suitable criteria are standards or benchmarks applied to the subject matter of the assurance engagement against which the practitioner evaluates the information.\\n- Sufficient appropriate evidence is necessary to support the practitioner\\'s conclusion and is obtained through the assurance engagement process.\\n- A written assurance report is provided in an appropriate form to communicate the conclusion of the assurance engagement to its intended users.'}\n",
      "{'_id': ObjectId('67406591a2ed655c19ebe26d'), 'key': 18, 'value': 'Meaning of Review; Audit Vs. Review\\nWe have learnt that audit is a reasonable assurance engagement. It provides reasonable assurance. However, review is a limited assurance engagement. It provides lower level of assurance than audit. Further, review involves fewer procedures and gathers sufficient appropriate evidence on the basis of which limited conclusions can be drawn up. However, both \"audit\" and \"review\" are related to financial statements prepared on the basis of historical financial information.'}\n",
      "{'_id': ObjectId('67406591a2ed655c19ebe26e'), 'key': 19, 'value': 'Types of Assurance Engagements- Reasonable assurance engagement vs. Limited assurance engagement\\nAs already discussed, assurance engagements provide assurance to users. The difference is of degree. Reasonable assurance engagement like audit provides reasonable assurance which is a high level of assurance. Limited assurance engagement like review provides lower level of assurance than audit. It is only a moderate level of assurance.\\n- Reasonable assurance engagement is a process that provides a high level of assurance through the performance of extensive procedures to obtain sufficient appropriate evidence.\\n- In contrast, limited assurance engagement offers a lower level of assurance, performing fewer procedures than a reasonable assurance engagement.\\n- A reasonable assurance engagement results in conclusions based on the adequacy of the evidence gathered during the process.\\n- An example of reasonable assurance engagement is an audit, which involves a thorough examination and provides a high level of assurance.\\n- Conversely, an example of limited assurance engagement is a review, which provides a moderate level of assurance and involves less detailed procedures.\\nBesides reasonable assurance engagements and limited assurance engagements, there is another kind of assurance which is related to matters other than historical financial information. Such an assurance may relate to prospective financial information and not to historical financial information. It may relate to providing assurance on internal controls in an entity.\\n\"Prospective financial information\" means financial information based on assumptions about events that may occur in the future and possible actions by an entity. It can be in the form of a forecast or projection or combination of both.\\nIt is to be noted that in such type of assurance engagements, examination is not of historical financial information.\\nHere, it is important to note the difference between \"Historical financial information\" and \"Prospective financial information.\" The former relates to information expressed in financial terms of an entity about economic events, conditions or circumstances occurring in past periods. The latter relates to financial information based on assumptions about occurrence of future events and possible actions by an entity.\\nTherefore, historical financial information is rooted in past events which have already occurred whereas prospective financial information is related to future events.\\nIn assurance reports involving prospective financial information, the practitioner obtains sufficient appropriate evidence to the effect that management\\'s assumptions on which the prospective financial information is based are not unreasonable, the prospective financial information is properly prepared on the basis of the assumptions and it is properly presented and all material assumptions are adequately disclosed.\\nProspective financial information relates to future events. While evidence may be available to support the assumptions on which the prospective financial information is based, such evidence is itself generally future- oriented. The auditor is, therefore, not in a position to express an opinion as to whether the results shown in the prospective financial information will be achieved.\\nTherefore, in such assurance engagements, practitioner provides a report assuring that nothing has come to practitioner\\'s attention to suggest that these assumptions do not provide a reasonable basis for the projection.\\nHence, such type of assurance engagement provides only a \"moderate\" level of assurance.\\nExamples of assurance engagements\\n- An audit of financial statements is classified as a reasonable assurance engagement, aiming to provide a high assurance level that financial statements are free from material misstatement.\\n- A review of financial statements is considered a limited assurance engagement, which offers a moderate assurance level that no material modifications need to be made to the financial statements.\\n- The examination of prospective financial information is an assurance engagement that assesses the reasonableness of assumptions used in projections and related matters.\\n- Reporting on controls operating at an organization is an assurance engagement that evaluates the design and operation of an organization’s controls.\\nThe various categories of assurance engagements, which are professional services typically provided by certified accountants. The three main branches, originating from the overarching category of \"Assurance Engagements.\" Each branch is detailed below:\\n\\nReasonable Assurance Engagement:\\n\\nThis branch represents a high level of assurance provided by the auditor or accountant. It bifurcates into one sub-category:\\n\\nAudit: This is a type of reasonable assurance engagement where the auditor expresses an opinion on whether the financial statements are prepared, in all material respects, in accordance with an applicable financial reporting framework.\\n\\nLimited Assurance Engagement:\\n\\nThis type of engagement provides a moderate level of assurance, less than that of a reasonable assurance engagement, but more than the level of assurance that would be provided by a compilation. It has one sub-category:\\n\\nReview: A review engagement is where the accountant performs procedures, primarily consisting of making inquiries of management and performing analytical procedures, to express a conclusion that provides a limited level of assurance on the financial statements.\\n\\nAssurance Engagements dealing with matters other than historical financial information:\\n\\nThis branch indicates assurance services that do not focus on historical financial data. It includes:\\n\\nExamination of prospective financial information (like forecast): This involves engagements where auditors evaluate the preparation and presentation of financial forecasts and projections.\\n\\nAssurance regarding operations of controls: Here, the assurance practitioner provides an opinion on the design, implementation, and/or effectiveness of the controls at a service organization.\\n\\nEach of these branches indicates a different scope of work, level of assurance, and purpose within the realm of assurance engagements, offering various options depending on the needs of the users of the financial information.'}\n",
      "{'_id': ObjectId('67406591a2ed655c19ebe26f'), 'key': 20, 'value': 'QUALITIES OF AUDITOR\\nAn auditor is concerned with the reporting on financial matters of business and other institutions. Financial matters inherently are to be set with the problems of human fallibility; errors and frauds are frequent.\\nTact, caution, firmness, good temper, integrity, discretion, industry, judgement, patience, clear headedness and reliability are some of qualities which an auditor\\nshould have. In short, all those personal qualities that go to make a good businessman contribute to the making of a good auditor.\\nIn addition, he must have the shine of culture for attaining a great height. He must have the highest degree of integrity backed by adequate independence.\\nThe auditor, who holds a position of trust, must have the basic human qualities apart from the technical requirement of professional training and education. He is called upon constantly to critically review financial statements and it is obviously useless for him to attempt that task unless his own knowledge is that of an expert. An exhaustive knowledge of accounting in all its branches is the sine qua non of the practice of auditing. He must know thoroughly all accounting principles and techniques.'}\n",
      "{'_id': ObjectId('67406591a2ed655c19ebe270'), 'key': 21, 'value': 'ENGAGEMENT AND QUALITY CONTROL STANDARDS: AN OVERVIEW\\nThe following Standards issued under authority of ICAI Council are collectively known as Engagement Standards: -\\nStandards on auditing (SAs) which apply in audit of historical financial information.\\nStandards on review engagements (SREs) which apply in review of historical financial information.\\nStandards on Assurance engagements (SAEs) which apply in assurance engagements other than audits and review of historical financial information.\\nStandards on Related Services (SRSs) which apply in agreed upon procedures to information, compilation engagements and other related service engagements.\\nThe purpose of issue of these standards is to establish high quality standards and guidance in the areas of financial statement audits and in other types of assurance services.\\n Standards on Auditing\\nStandards on Auditing apply in the context of an audit of financial statements by an independent auditor. It is important to remember that Standards on Auditing apply in audit of historical information. These establish high quality benchmarks and are followed by auditors in conducting audit of financial statements.\\nStandards on Auditing have been issued on wide spectrum of issues in the field of auditing ranging from overall objectives of independent auditor, audit documentation, planning an audit of financial statements, identifying and assessing risk of material misstatement, audit sampling, audit evidence and forming an opinion and reporting on financial statements. These cover all significant aspects of audit of financial statements.\\nSome examples of Standards on Auditing are: -\\nSA 200 Overall Objectives of the Independent Auditor and the Conduct of an Audit in accordance with Standards on Auditing\\nSA 230 Audit Documentation\\nSA 315 Identifying and Assessing the Risks of Material Misstatement through Understanding the Entity and its Environment\\nSA 500 Audit Evidence\\nRevised SA 700 Forming an Opinion and Reporting on Financial Statements'}\n",
      "{'_id': ObjectId('67406591a2ed655c19ebe271'), 'key': 22, 'value': 'Standards on Review Engagements\\nStandards on review engagements apply in the context of review of financial statements. We have already understood that review is a limited assurance engagement and it provides assurance which is lower than that provided by audit. It is due to the fact that review involves fewer procedures as compared to audit. Since a review also provides assurance to users, it also involves obtaining sufficient appropriate evidence. For example, when an auditor performs review of interim financial information of an entity.\\nExamples of Standards on Review engagements are:\\nSRE 2400 (Revised) Engagements to Review Historical Financial Statements\\nSRE 2410 Review of Interim Financial Information Performed by the Independent Auditor of the Entity\\nIt is to be noted that both Standards on auditing and Standards on review engagements apply to engagements involving historical financial information.'}\n",
      "{'_id': ObjectId('67406591a2ed655c19ebe272'), 'key': 23, 'value': 'Standards on Assurance Engagements\\nThere is another set of standards which apply in assurance engagements dealing with subject matters other than historical financial information. Such assurance engagements do not include \"audit\" or \"review\" of historical financial information. These standards are known as Standards on Assurance Engagements. For example, an assurance engagement relating to examination of prospective financial information.\\nIt is to be noted that in such type of assurance engagements, examination is not of historical financial information or engagement may relate to providing assurance regarding non-financial matters like design and operation of internal control in an entity.\\nExamples of Standards on Assurance Engagements are:\\nSAE 3400 The Examination of Prospective Financial Information\\nSAE 3420 Assurance Engagements to Report on the Compilation of Pro Forma Financial Information Included in a Prospectus'}\n",
      "{'_id': ObjectId('67406591a2ed655c19ebe273'), 'key': 24, 'value': \"Standards on Related Services\\nLastly, there are standards on related services. These standards apply in engagements to perform agreed-upon procedures regarding financial information.\\nFor example, an engagement to perform agreed-upon procedures may require the auditor to perform certain procedures concerning individual items of financial data, say, accounts payable, accounts receivable, purchases from related parties and sales and profits of a segment of an entity, or a financial statement, say, a balance sheet or even a complete set of financial statements.\\nAn engagement in which practitioner may be called upon to assist management with the preparation and presentation of historical financial information without obtaining assurance on that information. Such type of compilation engagements fall in the category of related services and practitioner issues a report clearly stating that it is not an assurance engagement and no opinion is being expressed.\\nThese types of services are called related services and standards have been issued to deal with practitioner's responsibilities in this regard.\\nExamples of Standards on related services are:\\nSRS 4400 Engagements to perform agreed-upon procedures regarding financial information\\nSRS 4410 (Revised) Compilation engagements\\n\\nIt is to be clearly understood that all the above standards i.e., Standards on Auditing (SAs), Standards on Review Engagements (SREs), Standards on Assurance Engagements (SAEs) and Standards on related services (SRSs) are collectively known as the Engagement Standards.\\nEngagement Standards issued under the authority of Council of ICAI deal with responsibilities of auditor/practitioner.\"}\n",
      "{'_id': ObjectId('67406591a2ed655c19ebe274'), 'key': 25, 'value': \"Standards on Quality Control\\nStandards on Quality Control (SQCs) have been issued to establish standards and provide guidance regarding a firm's responsibilities for its system of quality control for the conduct of audit and review of historical financial information and for other assurance and related service engagements.\\nSQC 1 has been issued in this regard. It requires auditors/practitioners to establish system of quality control so that firm and its personnel comply with professional standards and regulatory & legal requirements and reports issued are appropriate.\\nIts basic objective is that while rendering services, to which engagement standards apply, there should be a system of quality control with in firms to ensure complying with professional standards/legal requirements. System of quality control ensures issuing of appropriate reports in the circumstances.\\nFurther, it is also to be remembered that Standards on Quality Control (SQCs) are to be applied for all services covered by Engagement Standards.\"}\n",
      "{'_id': ObjectId('67406591a2ed655c19ebe275'), 'key': 26, 'value': 'Why are Standards needed?\\nStandards ensure carrying out of audit against established benchmarks at par with global practices.\\nStandards improve quality of financial reporting thereby helping users to make diligent decisions.\\nStandards promote uniformity as audit of financial statements is carried out following these Standards.\\nStandards equip professional accountants with professional knowledge and skill.\\nStandards ensure audit quality.'}\n",
      "{'_id': ObjectId('67406591a2ed655c19ebe276'), 'key': 27, 'value': 'Duties in relation to Engagement and Quality Control Standards\\nIt is the duty of professional accountants to see that Standards are followed in engagements undertaken by them. Ordinarily, these are to be followed by professional accountants. However, a situation may arise when a specific procedure as required in Standards would be ineffective in a particular engagement. In such a case, he is required to document how alternative procedures performed achieve the purpose of required procedure. Also, reason for departure has also to be documented unless it is clear. Further, his report should draw attention to such departures. It is also to be noted that a mere disclosure in the report does not absolve a professional accountant from complying with applicable Standards.\\nOverview of Engagement and Quality Control Standards\\n- Standards on Auditing (SAs) are applicable to audits of historical financial information, guiding the audit process to ensure reliability and credibility.\\n- Standards on Review Engagements (SREs) govern the review of historical financial information to provide a limited assurance that no material modifications are needed.\\n- Standards on Assurance Engagements (SAEs) are relevant for engagements that involve assurance on matters other than historical financial information.\\n- Standards on Related Services (SRSs) apply to engagements where agreed-upon procedures regarding financial information are performed, including assisting management in the preparation and presentation of financial statements.\\n- Standards on Quality Control (SQC) are comprehensive and apply to all services covered by engagement standards, including SAs, SREs, SAEs, and SRSs.\\n- Professional accountants have a duty to adhere to these Standards; any deviation must be clearly stated and explained in their reports.'}\n"
     ]
    }
   ],
   "source": [
    "for document in ca_inter_p2_c1_db_cursor:\n",
    "    print(document)"
   ]
  },
  {
   "cell_type": "code",
   "execution_count": 19,
   "metadata": {},
   "outputs": [
    {
     "data": {
      "text/plain": [
       "<pymongo.synchronous.cursor.Cursor at 0x1112e7830>"
      ]
     },
     "execution_count": 19,
     "metadata": {},
     "output_type": "execute_result"
    }
   ],
   "source": [
    "ca_inter_p2_c2_db = courses_db.get_collection(\n",
    "    name=\"CA-Inter-P5 - Chapter 1 - Nature, Objective and Scope of Audit\"\n",
    ")\n",
    "ca_inter_p2_c2_db_cursor = ca_inter_p2_c2_db.find({})\n",
    "ca_inter_p2_c2_db_cursor"
   ]
  },
  {
   "cell_type": "code",
   "execution_count": null,
   "metadata": {},
   "outputs": [
    {
     "name": "stdout",
     "output_type": "stream",
     "text": [
      "{'_id': ObjectId('67406591a2ed655c19ebe25b'), 'key': 'title', 'value': ''}\n",
      "{'_id': ObjectId('67406591a2ed655c19ebe25c'), 'key': 1, 'value': \"CHAPTER 1 -  NATURE, OBJECTIVE AND SCOPE OF ADULT\\nINTRODUCTION\\nWhat do such real-life situations highlight? Such instances underline importance of auditing in today's complex business environment. Be it investors desirous of investing their money in companies, shareholders anxious to know financial position of companies they have invested in, banks or financial institutions willing to lend funds to credit-worthy organizations, governments desirous of collecting taxes from trade and industry in accordance with applicable laws, trade unions negotiating with corporate managements for better wages or insurance companies wanting to settle property claims caused by fire or other disasters - range of diverse users in equally diverse fields rely upon audited financial statements.\\nCan you figure out reason behind such reliance? It is due to the fact that audited financial statements provide confidence to users of financial statements; audited financial statements provide assurance to users who may take their decisions on the basis of such audited financial statements. Herein lies the importance of auditing. You can very well understand how significant is role of auditing profession and auditors in modern world involving multitude of economic activities being carried out in equally dynamic legal and regulatory environments.\\nHere, comes a vital question. What do we mean by auditing? What is its nature and scope? What it includes and What it does not? What are its limitations? We shall try to find out answers to these questions in succeeding paras.\"}\n",
      "{'_id': ObjectId('67406591a2ed655c19ebe25d'), 'key': 2, 'value': 'ORIGIN OF AUDITING\\nBefore we get to understand meaning and nature of auditing, let\\'s travel back in time to know about origin of auditing. Auditing has existed even in ancient times in many societies of world including India. The reference to auditing is found in Kautilya\\'s Arthshastra even in  century BC. It talks about fixed accounting year, a process for closure of accounts and audit for the same. Concepts of periodical checking and verification existed even in those times. Even there are references in his monumental work to misstatements in financial statements due to abuse of power. Wasn\\'t he far ahead of his times?\\nThe word \"audit\" originates from Latin word \"audire\" meaning \"to hear\". In medieval times, auditors used to hear the accounts read out to them to check that employees were not careless and negligent. Industrial revolution in Europe led to astronomical expansion in volume of trade and consequently demand of auditors.\\nComing to more recent history, the first Auditor General of India was appointed in British India in 1860 having both accounting and auditing functions. Later on, office of Auditor General was given statutory recognition. Presently, Comptroller and Auditor General of India is an independent constitutional authority responsible for auditing government receipts and expenditures.\\nThe Institute of Chartered Accountants of India was established as a statutory body under an Act of Parliament in 1949 for regulating the profession of Chartered Accountancy in the country.'}\n",
      "{'_id': ObjectId('67406591a2ed655c19ebe25e'), 'key': 3, 'value': 'MEANING AND NATURE OF AUDITING\\n\"An audit is an independent examination of financial information of any entity, whether profit oriented or not, and irrespective of its size or legal form, when such an examination is conducted with a view to expressing an opinion thereon\".\\nAn incisive analysis of above meaning of auditing brings out following points clearly: -\\nAudit is an independent examination of financial information.\\nIndependence, here, implies that the judgement of a person is not subordinate to \\tthe wishes or direction of another person who might have engaged him. The \\tauditor should be independent of entity whose financial statements are subject to \\taudit so that he can form an opinion without being affected by any influence. \\tIndependence increases auditor\\'s ability to act objectively without creeping in of \\tany biases.\\nConsider, for example, a person who requests his brother, a Chartered Accountant,to audit accounts of his proprietary concern and issue a report. Can CA audit accounts of concern in which his brother is sole proprietor? No, he cannot. It is due to the fact that there would be no independence in such a case due to relationship by birth between CA and his brother. He would be subject to influence from his brother.\\nTake another case where a CA has invested in shares of a company. Can he audit \\taccounts of such a company in which he holds shares? The answer is resounding \\tNO. It is due to the fact that by holding shares of the company, his own self-\\tinterest gets involved. His own money is invested in the company and he may not \\tbe able to form judgment independently on the financial statements of the \\tcompany.\\nThe entity whose financial information is examined need not necessarily be profit oriented like in case of a business. It can be a non-profit organization like an NGO or a charitable trust. Audit can be undertaken in respect of any organization be it a small, medium or large. Further, it can be conducted for any entity irrespective of its legal structure i.e. such an entity may be a proprietary concern, a partnership firm, a LLP, a private company, a public company, a society or a trust.\\nThe purpose of audit is to express an opinion on the financial statements.\\nUnderstand that preparation and presentation of financial statements of an entity is responsibility of management of entity. The auditor expresses an opinion on financial statements by means of written audit report.\\nIn doing so, he has to see that financial statements would not mislead anybody by ensuring that: -\\nthe accounts have been drawn up with reference to entries in the books of account;\\nthe entries in the books of account are adequately supported by sufficient and appropriate evidence;\\nnone of the entries in the books of account has been omitted in the process of compilation;\\nthe information conveyed by the statements is clear and unambiguous;\\nthe financial statement amounts are properly classified, described and disclosed in conformity with accounting standards; and\\nthe statement of accounts presents a true and fair picture of the operational results and of the assets and liabilities.\\nAuditing provides assurance. Its basic nature lies in providing assurance to users providing confidence to users of financial statements. Such an assurance lends credibility to financial statements. Audited financial statements provide confidence to users that financial information reflected in financial statements can be relied upon.'}\n",
      "{'_id': ObjectId('67406591a2ed655c19ebe25f'), 'key': 4, 'value': 'INTERDISCIPLINARY NATURE OF AUDITING         RELATIONSHIP WITH DIVERSE SUBJECTS\\nAuditing is interdisciplinary in nature. It draws from diverse subjects including accountancy, law, behavioural science, statistics, economics and financial management and makes use of these subjects. Since audit of financial statements is concerned with financial information, a sound knowledge of accounting principles is a fundamental requirement for an auditor of financial statements to conduct audit and express an opinion. Similarly, good knowledge of business laws and various taxation laws helps auditor to understand financial statements in a better way in accordance with applicable laws.\\nDuring course of audit, auditor has to interact with lot of persons for seeking information and making inquiries. This can be done only if one has knowledge of human behaviour. Auditors use statistical methods to draw samples in a scientific manner. It is not possible for an auditor to check each and every transaction. So, use of statistical methods to draw samples for conducting audit is made.\\nKnowledge of subject like economics helps auditor to be familiar with overall economic environment in which specific business is operating. Financial management deals with issues such as funds flow, working capital management, ratio analysis etc. and an auditor is expected to be knowledgeable about these for applying some of audit procedures and carrying out audit effectively. Besides, knowledge of financial markets comprised in study of financial management is expected from a professional auditor.\\nAuditing and Accounting: Auditing reviews the financial statements which are nothing but a result of the overall accounting process.\\nAuditing and Law: An auditor should have a good knowledge of business laws affecting the entity.\\nAuditing and Economics: Auditor is expected to be familiar with the overall economic environment of the client.\\nAuditing and Behavioural Science: Knowledge of human behaviour is essential for an auditor to effectively discharge his duties.\\nAuditing and Statistics & Mathematics: Auditor is also expected to have the knowledge of statistical sampling for meaningful conclusions and mathematics for verification of inventories.\\nAuditing and Data Processing: EDP auditing in itself is developing as a discipline in itself.\\nAuditing and Financial Management : Auditor is expected to have knowledge about various financial techniques such as working capital management, funds flow, ratio analysis, capital budgeting etc.\\nAuditing and Production: Good auditor is one who understands the client and his business functions such as production, cost system, marketing etc.'}\n",
      "{'_id': ObjectId('67406591a2ed655c19ebe260'), 'key': 5, 'value': 'OBJECTIVES OF AUDIT\\nIn conducting audit of financial statements, objectives of auditor in accordance with SA-200 \"Overall Objectives of the Independent auditor and the conduct of an audit in accordance with Standards on Auditing\" are: -\\nTo obtain reasonable assurance about whether the financial statements as a whole are free from material misstatement, whether due to fraud or error, thereby enabling the auditor to express an opinion on whether the financial statements are prepared, in all material respects, in accordance with an applicable financial reporting framework; and\\nTo report on the financial statements, and communicate as required by the SAs, in accordance with the auditor\\'s findings.\\nAn analysis of above brings out following points clearly: -\\nAuditor\\'s objective is to obtain a reasonable assurance whether financial statements as a whole are free from material misstatement whether due to fraud or error.\\nReasonable assurance is to be distinguished from absolute assurance. Absolute assurance is a complete assurance or a guarantee that financial statements are free from material misstatements. However, reasonable assurance is not a complete guarantee. Although it is a high-level of assurance but it is not complete assurance.\\nAudit of financial statements is carried out by the auditor with professional competence and skills in accordance with Standards on Auditing. Audit procedures are applied in accordance with SAs, audit evidence is obtained and evaluated. On basis of that, conclusions are drawn and opinion is formed. It leads to high level of assurance which is called as reasonable assurance but it is not absolute assurance.\\nMisstatements in financial statements can occur due to fraud or error or both. The auditor seeks to obtain reasonable assurance whether financial statements as a whole are free from material misstatements caused by fraud or error. He has to see effect of misstatements on financial statements as a whole, in totality.\\nObtaining reasonable assurance that financial statements as a whole are free from material misstatements enables the auditor to express an opinion on whether the financial statements are prepared, in all material respects, in accordance with an applicable financial reporting framework.\\nThe opinion is reported and communicated in accordance with audit findings through a written report as required by Standards on Auditing. (You would be studying about these in subsequent parts of this (hapter).'}\n",
      "{'_id': ObjectId('67406591a2ed655c19ebe261'), 'key': 6, 'value': \"An Overview of Objectives of Audit \\n- The primary objective of an audit is to obtain reasonable assurance that the financial statements are free from material misstatement, whether caused by fraud or error.\\n- An auditor aims to gain reasonable assurance to form an opinion on whether the financial statements are prepared, in all material respects, in accordance with the applicable financial reporting framework.\\n- It is an auditor's responsibility to report on the financial statements based on the conclusion of the audit.\\n- Auditors must express an opinion that accurately reflects their audit findings.\\n- Effective communication of the audit findings is an essential component of an auditor's responsibilities.\\n- The audit report should be prepared and communicated in accordance with the Standards on Auditing.\"}\n",
      "{'_id': ObjectId('67406591a2ed655c19ebe262'), 'key': 7, 'value': 'SCOPE OF AUDIT-WHAT IT INCLUDES\\nScope refers to range or reach of something. The purpose of an audit is to enhance the degree of confidence of intended users in the financial statements. Users of financial statements may be shareholders, employees, customers, government and regulatory authorities, bankers etc. Enhancing of degree of confidence is achieved by the expression of an opinion by the auditor on whether the financial statements are prepared, in all material respects, in accordance with an applicable financial reporting framework.\\n(Applicable financial reporting framework means a framework adopted in the preparation and presentation of the financial statements that is acceptable in view of the nature of the entity and the objective of the financial statements, or that is required by law or regulation.)\\nFor example, in case of companies in India, financial reporting framework is provided under Schedule III of Companies Act,2013.\\n\\nThe following points are included in scope of audit of financial statements: -\\nCoverage of all aspects of entity\\nAudit of financial statements should be organized adequately to cover all aspects of the entity relevant to the financial statements being audited.\\nReliability and sufficiency of financial information\\nThe auditor should be reasonably satisfied that information contained in underlying accounting records and other source data (like bills, vouchers, documents etc.) is reliable and sufficient basis for preparation of financial statements.\\nThe auditor makes a judgment of reliability and sufficiency of financial information by making a study and assessment of accounting systems and internal controls and by carrying out appropriate tests, enquiries and procedures.\\nProper disclosure of financial information\\nThe auditor should also decide whether relevant information is properly disclosed in the financial statements. He should also keep in mind applicable statutory requirements in this regard.\\nIt is done by ensuring that financial statements properly summarize transactions and events recorded therein and by considering the judgments made by management in preparation of financial statements.\\nThe management responsible for preparation and presentation of financial statements makes many judgments in this process of preparing and presenting financial statements. For example, choosing of appropriate accounting policies in relation to various accounting issues like choosing method of charging depreciation on fixed assets or choosing appropriate method for valuation of inventories.\\nThe auditor evaluates selection and consistent application of accounting policies by management; whether such a selection is proper and whether chosen policy has been applied consistently on a period-to-period basis.\\nUnderstand that financial statements of an entity are prepared on historical financial information basis. \"Historical financial information\" means information expressed in financial terms in relation to a particular entity, derived primarily from that entity\\'s accounting system, about economic events occurring in past time periods or about economic conditions or circumstances at points in time in the past.\\nFor example, when purchases and sales are reflected in financial statements of an entity, these are examples of historical financial information. These are about transactions which have occurred in past.\\nSince financial statements are prepared on the basis of historical financial information, it is logical that audit of financial statements is also based upon such historical financial information. Therefore, audit of financial statements is based upon historical financial information.'}\n",
      "{'_id': ObjectId('67406591a2ed655c19ebe263'), 'key': 8, 'value': \"Scope of audit-What it does not include\\nAuditor is not expected to perform duties which fall outside domain of his competence. For example, physical condition of certain assets like that of sophisticated machinery cannot be determined by him. Similarly, it is not expected from an auditor to determine suitability and life of civil structures like buildings. These require different skillsets which may be performed by qualified engineers in their respective fields.\\nAn auditor is not an expert in authentication of documents. The genuineness of documents cannot be authenticated by him because he is not an expert in this field.\\nAn audit is not an official investigation into alleged wrong doing. He does not have any specific legal powers of search or recording statements of witness on oath which may be necessary for carrying out an official investigation.\\nAudit is distinct from investigation. Investigation is a critical examination of the accounts with a special purpose. For example, if fraud is suspected and it is specifically called upon to check the accounts whether fraud really exists, it takes character of investigation.\\nThe objective of audit, on the other hand, as has already been discussed, is to obtain reasonable assurance about whether the financial statements as a whole are free from material misstatement, whether due to fraud or error, thereby enabling the auditor to express an opinion.\\nThe scope of audit is general and broad whereas scope of investigation is specific and narrow.\\nAn Overview of Scope of Audit\\n- The scope of an audit of financial statements includes the comprehensive examination of all aspects of the entity that are relevant to the financial statements being audited.\\n- It encompasses assessing the reliability and sufficiency of the financial information presented in the statements.\\n- Ensuring proper disclosure of all pertinent financial information in the statements is a key part of the audit scope.\\n- The auditor is responsible for expressing an opinion on the financial statements based on the audit evidence obtained.\\n- The preparation and presentation of financial statements fall outside the auditor's responsibilities; this is the management's duty.\\n- Actions beyond the auditor's professional competence are not within the scope of the audit.\\n- The auditor is not required to possess expertise in the authentication of documents; such expertise lies beyond the typical scope of auditing.\\n- Conducting investigations is not typically within the scope of a standard financial statement audit.\"}\n",
      "{'_id': ObjectId('67406591a2ed655c19ebe264'), 'key': 9, 'value': 'INHERENT LIMITATIONS OF AUDIT\\nThe process of audit suffers from certain inbuilt limitations due to which an auditor cannot obtain an absolute assurance that financial statements are free from misstatement due to fraud or error. These fundamental limitations arise due to the following factors: -\\nNature of financial reporting\\nPreparation of financial statements involves making many judgments by management. These judgments may involve subjective decisions or a degree of uncertainty. Therefore, auditor may not be able to obtain absolute assurance that financial statements are free from material misstatements due to frauds or errors.\\nOne of the premises for conducting an audit is that management acknowledges its responsibility of preparation of financial statements in accordance with applicable financial reporting framework and for devising suitable internal controls. However, such controls may not have operated to produce reliable financial information due to their own limitations.\\nConsider, for example, that management of a company has devised a control that all purchase bills should reflect stamp and signatures of an authorised person in \"Goods Receiving Section\" of the company stating the date and time of receiving goods in premises. It is an example of internal control devised by the company to ensure that only those purchase bills are produced for payment for which goods have been actually received. Now, what happens if concerned accountant and authorised person in \"Goods Receiving Section\" collude. It is a case of overriding of internal controls devised by the company due to collusion between two persons. Such a probable collusion is one of limitations of internal controls itself.'}\n",
      "{'_id': ObjectId('67406591a2ed655c19ebe265'), 'key': 10, 'value': \"Nature of Audit procedures\\nThe auditor carries out his work by obtaining audit evidence through performance of audit procedures. However, there are practical and legal limitations on ability of auditor to obtain audit evidence. For example, an auditor does not test all transactions and balances. He forms his opinion only by testing samples. It is an example of practical limitation on auditor's ability to obtain audit evidence.\\nManagement may not provide complete information as requested by auditor. There is no way by which auditor can force management to provide complete information as may be requested by auditor. In case he is not provided with required information, he can only report. It is an example of legal limitation on auditor's ability to obtain audit evidence.\\nThe management may consist of dishonest and unscrupulous people and may be, itself, involved in fraud. It may be engaged in concealing fraud by designing sophisticated and carefully organized schemes which may be hard to detect by the auditor. It may produce fabricated documents before auditor to lead him to believe that audit evidence is valid. However, in reality, such documents could be fake or non-genuine.\\nWe have already discussed under section on scope of audit that an auditor is not an expert in authentication of documents. Therefore, he may be led to accept invalid audit evidence on the basis of unauthentic documents.\\nIt is quite possible that entity may have entered into some transactions with related parties. Such transactions may be only paper transactions and may not have actually occurred. The auditor may not be aware of such related party relationships or audit procedures may not be able to detect probable wrong doings in such transactions.\"}\n",
      "{'_id': ObjectId('67406591a2ed655c19ebe266'), 'key': 11, 'value': 'Not in nature of investigation\\nAs already discussed, audit is not an official investigation. Hence, auditor cannot obtain absolute assurance that financial statements are free from material misstatements due to frauds or errors.\\nTimeliness of financial reporting and decrease in relevance of information over time\\nThe relevance of information decreases over time and auditor cannot verify each and every matter. Therefore, a balance has to be struck between reliability of information and cost of obtaining it.\\nConsider, for example, an auditor who is conducting audit of a company since last two years. During these two years, he has sought detailed information from management of company regarding various matters. During his thirdyear stint, he chooses to rely upon some information obtained as part of audit procedures of second year. However, it could be possible that something new has happened and that information is not relevant. So, the information being relied upon by auditor is not timely and may have lost its reliability.\\nFuture events\\nFuture events or conditions may affect an entity adversely. Adverse events may seriously affect ability of an entity to continue its business. The business may cease to exist in future due to change in market conditions, emergence of new business models or products or due to onset of some adverse events.\\nTherefore, it is in view of above factors, that an auditor cannot provide a guarantee that financial statements are free from material misstatements due to frauds or errors.\\nInherent Limitations of Audit (SA 200 \"Overall Objectives of the Independent Auditor and the Conduct of an Audit in Accordance with Standards on Auditing\"): The auditor is not expected to, and cannot, reduce audit risk to zero because there are inherent limitations of an audit. The inherent limitations of an audit arise from:\\nThe Nature of Financial Reporting: The preparation of financial statements involves judgment by management.\\nThe Nature of Audit Procedures: There are practical and legal limitations on the auditor\\'s ability to obtain audit evidence such as:\\nPossibility that management or others may  not provide, intentionally or unintentionally, the complete information relevant for preparation and presentation of FS.\\nFraud may involve sophisticated and carefully organised schemes.\\nNot in the nature of Investigation: An audit is not an official investigation into alleged wrongdoing.\\nTimeliness of financial reporting and decrease in relevance of information\\n over time: Relevance of information, and thereby its value, tends to diminish over time, and there is a balance to be struck between the reliability of information and its cost.\\nFuture events: Future events or conditions may affect an entity adversely. Adverse events may seriously affect ability of an entity to continue its Business.'}\n",
      "{'_id': ObjectId('67406591a2ed655c19ebe267'), 'key': 12, 'value': 'WHAT IS AN ENGAGEMENT?\\nEngagement means an arrangement to do something. In the context of auditing, it means a formal agreement between auditor and client under which auditor agrees to provide auditing services. It takes the shape of engagement letter.\\n8.1 External audit engagements\\nThe purpose of external audit engagements is to enhance the degree of confidence of intended users of financial statements. Such engagements are also reasonable assurance engagements. For example, in India, companies are required to get their annual accounts audited by an external auditor. Even non-corporate entities may choose to have their accounts audited by an external auditor because of benefits of such an audit.'}\n",
      "{'_id': ObjectId('67406591a2ed655c19ebe268'), 'key': 13, 'value': 'BENEFITS OF AUDIT-WHY AUDIT IS NEEDED?\\nAudited accounts provide high quality information. It gives confidence to users that information on which they are relying is qualitative and it is the outcome of an exercise carried out by following Auditing Standards recognized globally.\\nIn case of companies, shareholders may or may not be involved in daily affairs of the company. The financial statements are prepared by management consisting of directors. As shareholders are owners of the company, they need an independent mechanism so that financial information is qualitative and reliable. Hence, their interest is safeguarded by an audit.\\nAn audit acts as a moral check on employees from committing frauds for the fear of being discovered by audit.\\nAudited financial statements are helpful to government authorities for determining tax liabilities.\\nAudited financial statements can be relied upon by lenders, bankers for making their credit decisions i.e. whether to lend or not to lend to a particular entity.\\nAn audit may also detect fraud or error or both.\\nAn audit reviews existence and operations of various controls operating in any entity. Hence, it is useful at pointing out deficiencies.'}\n",
      "{'_id': ObjectId('67406591a2ed655c19ebe269'), 'key': 14, 'value': 'AUDIT- MANDATORY OR VOLUNTARY?\\nIt is not necessary that audit is always legally mandatory. There are entities like companies who are compulsorily required to get their accounts audited under law. Even non-corporate entities may be compulsorily requiring audit of their accounts under tax laws. For example, in India, every person is required to get accounts audited if turnover crosses certain threshold limit under income tax law.\\nIt is also possible that some entities like schools may be required to get their accounts audited for the purpose of obtaining grant or assistance from the Government.\\nAudit is not always mandatory. Many entities may get their accounts audited voluntarily because of benefits from the process of audit. Many such concerns have their internal rules requiring audit due to advantages flowing from an audit.'}\n",
      "{'_id': ObjectId('67406591a2ed655c19ebe26a'), 'key': 15, 'value': 'WHO APPOINTS AN AUDITOR?\\nGenerally, an auditor is appointed by owners or in some cases by constitutional or government authorities in accordance with applicable laws and regulations. For example, in case of companies, auditor is appointed by members (shareholders) in Annual General Meeting (AGM). Shareholders are owners of a company and auditor is appointed by them in AGM.\\nHowever, in case of government companies in India, auditor is appointed by Comptroller and Auditor General of India (CAG), an independent constitutional authority.\\nTake case of a firm who engages an auditor to audit its accounts. In such a case, auditor is appointed by partners of firm.\\nThere may be a situation in which auditor may be appointed by a government authority in accordance with some law or regulation. For example, an auditor may be appointed under tax laws by a government authority.'}\n",
      "{'_id': ObjectId('67406591a2ed655c19ebe26b'), 'key': 16, 'value': 'TO WHOM REPORT IS SUBMITTED BY AN AUDITOR?\\nThe outcome of an audit is written audit report in which auditor expresses an opinion. The report is submitted to person making the appointment. In case of companies, these are shareholders- in case of a firm, to partners who have engaged him.\\nWe shall now discuss understanding reached so far from a case study involving discussion among students regarding nature, scope, limitations, benefits of auditing and other related matters.\\nCASE STUDY-1\\nRohit, Gurpreet, Ali and Goreti are friends since their school days based in Mumbai. They have cleared CA foundation exams in the same attempt and now plan to appear for CA Intermediate exams. All of them are avid news listeners and regularly keep track of business news even on social media.\\nThey are trying to understand new subjects including auditing. Rohit, Gurpreet and Ali have also started attending Live Coaching Classes (LCC) being conducted by Board of studies of ICAI. Goreti has not been able to join Live Coaching Classes yet as she was away on a holiday with her parents. However, she plans to catch it up with her friends very soon. Ali had also joined the classes but he had skipped some lectures.\\nDuring one informal get together, their discussions centred around new subject of auditing. They discussed many things regarding its nature, scope, benefits and other general practical issues. Goreti was regular in keeping track of audited results of companies being published in leading newspapers. Her view was that audited financial statements of companies give  guarantee to different stake holders. It is the main reason behind so much reliance upon auditing. But she could not understand why wrong doings in financial matters are being discovered after many years have gone by.\\nAli also concurred with her view and added that when financial statements are audited, each and every transaction appearing in books of accounts is verified. However, he could not give clarity to Goreti.\\nGurpreet was of the opinion that audit was conducted on the basis of sample checking. He was also of the view that audited financial statements are not a guarantee against probable wrong doings in financial matters of the companies.\\nNot to be left behind, Rohit also jumped in the fray. He supported Gurpreet and also added something of his own.'}\n",
      "{'_id': ObjectId('67406591a2ed655c19ebe26c'), 'key': 17, 'value': 'MEANING OF ASSURANCE ENGAGEMENT\\n\"Assurance engagement\" means an engagement in which a practitioner expresses a conclusion designed to enhance the degree of confidence of the intended users other than the responsible party about the outcome of the evaluation or measurement of a subject matter against criteria.\\nIt means that the practitioner gives an opinion about specific information due to which users of information are able to make confident decisions knowing well that chance of information being incorrect is diminished.\\n Elements of an Assurance Engagement\\nFollowing elements comprise an assurance engagement: -\\nA three party relationship involving a practitioner, a responsible party, and intended users\\nAn assurance engagement involves abovesaid three parties. A practitioner is a person who provides the assurance. The term practitioner is broader than auditor. Audit is related to historical information whereas practitioner may provide assurance not necessarily related to historical financial information.\\nA responsible party is the party responsible for preparation of subject matter.\\nIntended users are the persons for whom an assurance report is prepared. These persons may use the report in making decisions.\\nAn appropriate subject matter\\nIt refers to the information to be examined by the practitioner. For example, financial information contained in financial statements while conducting audit of financial statements.\\nSuitable criteria\\nThese refer to benchmarks used to evaluate the subject matter like standards, guidance, laws, rules and regulations.\\nSufficient appropriate evidence\\nThe practitioner performs an assurance engagement to obtain sufficient appropriate evidence. It is on the basis of evidence that conclusions are arrived and an opinion is formed by auditor.\\n\"Sufficient\" relates to quantity of evidence obtained by auditor. \"Appropriate\" relates to quality of evidence obtained by auditor. One evidence may be providing more comfort to auditor than the other evidence. The evidence providing more comfort is qualitative and, therefore, appropriate. Evidence should be both sufficient and appropriate.\\nA written assurance report in appropriate form\\nA written report is provided containing conclusion that conveys the assurance about the subject matter. A written assurance report is the outcome of an assurance engagement.\\nOverview of Elements of assurance engagement\\n- An assurance engagement involves a three-party relationship consisting of the responsible party, the practitioner, and the intended users.\\n- The subject matter of an assurance engagement must be appropriate, meaning it is capable of evaluation against suitable criteria and available for the practitioner to obtain evidence.\\n- Suitable criteria are standards or benchmarks applied to the subject matter of the assurance engagement against which the practitioner evaluates the information.\\n- Sufficient appropriate evidence is necessary to support the practitioner\\'s conclusion and is obtained through the assurance engagement process.\\n- A written assurance report is provided in an appropriate form to communicate the conclusion of the assurance engagement to its intended users.'}\n",
      "{'_id': ObjectId('67406591a2ed655c19ebe26d'), 'key': 18, 'value': 'Meaning of Review; Audit Vs. Review\\nWe have learnt that audit is a reasonable assurance engagement. It provides reasonable assurance. However, review is a limited assurance engagement. It provides lower level of assurance than audit. Further, review involves fewer procedures and gathers sufficient appropriate evidence on the basis of which limited conclusions can be drawn up. However, both \"audit\" and \"review\" are related to financial statements prepared on the basis of historical financial information.'}\n",
      "{'_id': ObjectId('67406591a2ed655c19ebe26e'), 'key': 19, 'value': 'Types of Assurance Engagements- Reasonable assurance engagement vs. Limited assurance engagement\\nAs already discussed, assurance engagements provide assurance to users. The difference is of degree. Reasonable assurance engagement like audit provides reasonable assurance which is a high level of assurance. Limited assurance engagement like review provides lower level of assurance than audit. It is only a moderate level of assurance.\\n- Reasonable assurance engagement is a process that provides a high level of assurance through the performance of extensive procedures to obtain sufficient appropriate evidence.\\n- In contrast, limited assurance engagement offers a lower level of assurance, performing fewer procedures than a reasonable assurance engagement.\\n- A reasonable assurance engagement results in conclusions based on the adequacy of the evidence gathered during the process.\\n- An example of reasonable assurance engagement is an audit, which involves a thorough examination and provides a high level of assurance.\\n- Conversely, an example of limited assurance engagement is a review, which provides a moderate level of assurance and involves less detailed procedures.\\nBesides reasonable assurance engagements and limited assurance engagements, there is another kind of assurance which is related to matters other than historical financial information. Such an assurance may relate to prospective financial information and not to historical financial information. It may relate to providing assurance on internal controls in an entity.\\n\"Prospective financial information\" means financial information based on assumptions about events that may occur in the future and possible actions by an entity. It can be in the form of a forecast or projection or combination of both.\\nIt is to be noted that in such type of assurance engagements, examination is not of historical financial information.\\nHere, it is important to note the difference between \"Historical financial information\" and \"Prospective financial information.\" The former relates to information expressed in financial terms of an entity about economic events, conditions or circumstances occurring in past periods. The latter relates to financial information based on assumptions about occurrence of future events and possible actions by an entity.\\nTherefore, historical financial information is rooted in past events which have already occurred whereas prospective financial information is related to future events.\\nIn assurance reports involving prospective financial information, the practitioner obtains sufficient appropriate evidence to the effect that management\\'s assumptions on which the prospective financial information is based are not unreasonable, the prospective financial information is properly prepared on the basis of the assumptions and it is properly presented and all material assumptions are adequately disclosed.\\nProspective financial information relates to future events. While evidence may be available to support the assumptions on which the prospective financial information is based, such evidence is itself generally future- oriented. The auditor is, therefore, not in a position to express an opinion as to whether the results shown in the prospective financial information will be achieved.\\nTherefore, in such assurance engagements, practitioner provides a report assuring that nothing has come to practitioner\\'s attention to suggest that these assumptions do not provide a reasonable basis for the projection.\\nHence, such type of assurance engagement provides only a \"moderate\" level of assurance.\\nExamples of assurance engagements\\n- An audit of financial statements is classified as a reasonable assurance engagement, aiming to provide a high assurance level that financial statements are free from material misstatement.\\n- A review of financial statements is considered a limited assurance engagement, which offers a moderate assurance level that no material modifications need to be made to the financial statements.\\n- The examination of prospective financial information is an assurance engagement that assesses the reasonableness of assumptions used in projections and related matters.\\n- Reporting on controls operating at an organization is an assurance engagement that evaluates the design and operation of an organization’s controls.\\nThe various categories of assurance engagements, which are professional services typically provided by certified accountants. The three main branches, originating from the overarching category of \"Assurance Engagements.\" Each branch is detailed below:\\n\\nReasonable Assurance Engagement:\\n\\nThis branch represents a high level of assurance provided by the auditor or accountant. It bifurcates into one sub-category:\\n\\nAudit: This is a type of reasonable assurance engagement where the auditor expresses an opinion on whether the financial statements are prepared, in all material respects, in accordance with an applicable financial reporting framework.\\n\\nLimited Assurance Engagement:\\n\\nThis type of engagement provides a moderate level of assurance, less than that of a reasonable assurance engagement, but more than the level of assurance that would be provided by a compilation. It has one sub-category:\\n\\nReview: A review engagement is where the accountant performs procedures, primarily consisting of making inquiries of management and performing analytical procedures, to express a conclusion that provides a limited level of assurance on the financial statements.\\n\\nAssurance Engagements dealing with matters other than historical financial information:\\n\\nThis branch indicates assurance services that do not focus on historical financial data. It includes:\\n\\nExamination of prospective financial information (like forecast): This involves engagements where auditors evaluate the preparation and presentation of financial forecasts and projections.\\n\\nAssurance regarding operations of controls: Here, the assurance practitioner provides an opinion on the design, implementation, and/or effectiveness of the controls at a service organization.\\n\\nEach of these branches indicates a different scope of work, level of assurance, and purpose within the realm of assurance engagements, offering various options depending on the needs of the users of the financial information.'}\n",
      "{'_id': ObjectId('67406591a2ed655c19ebe26f'), 'key': 20, 'value': 'QUALITIES OF AUDITOR\\nAn auditor is concerned with the reporting on financial matters of business and other institutions. Financial matters inherently are to be set with the problems of human fallibility; errors and frauds are frequent.\\nTact, caution, firmness, good temper, integrity, discretion, industry, judgement, patience, clear headedness and reliability are some of qualities which an auditor\\nshould have. In short, all those personal qualities that go to make a good businessman contribute to the making of a good auditor.\\nIn addition, he must have the shine of culture for attaining a great height. He must have the highest degree of integrity backed by adequate independence.\\nThe auditor, who holds a position of trust, must have the basic human qualities apart from the technical requirement of professional training and education. He is called upon constantly to critically review financial statements and it is obviously useless for him to attempt that task unless his own knowledge is that of an expert. An exhaustive knowledge of accounting in all its branches is the sine qua non of the practice of auditing. He must know thoroughly all accounting principles and techniques.'}\n",
      "{'_id': ObjectId('67406591a2ed655c19ebe270'), 'key': 21, 'value': 'ENGAGEMENT AND QUALITY CONTROL STANDARDS: AN OVERVIEW\\nThe following Standards issued under authority of ICAI Council are collectively known as Engagement Standards: -\\nStandards on auditing (SAs) which apply in audit of historical financial information.\\nStandards on review engagements (SREs) which apply in review of historical financial information.\\nStandards on Assurance engagements (SAEs) which apply in assurance engagements other than audits and review of historical financial information.\\nStandards on Related Services (SRSs) which apply in agreed upon procedures to information, compilation engagements and other related service engagements.\\nThe purpose of issue of these standards is to establish high quality standards and guidance in the areas of financial statement audits and in other types of assurance services.\\n Standards on Auditing\\nStandards on Auditing apply in the context of an audit of financial statements by an independent auditor. It is important to remember that Standards on Auditing apply in audit of historical information. These establish high quality benchmarks and are followed by auditors in conducting audit of financial statements.\\nStandards on Auditing have been issued on wide spectrum of issues in the field of auditing ranging from overall objectives of independent auditor, audit documentation, planning an audit of financial statements, identifying and assessing risk of material misstatement, audit sampling, audit evidence and forming an opinion and reporting on financial statements. These cover all significant aspects of audit of financial statements.\\nSome examples of Standards on Auditing are: -\\nSA 200 Overall Objectives of the Independent Auditor and the Conduct of an Audit in accordance with Standards on Auditing\\nSA 230 Audit Documentation\\nSA 315 Identifying and Assessing the Risks of Material Misstatement through Understanding the Entity and its Environment\\nSA 500 Audit Evidence\\nRevised SA 700 Forming an Opinion and Reporting on Financial Statements'}\n",
      "{'_id': ObjectId('67406591a2ed655c19ebe271'), 'key': 22, 'value': 'Standards on Review Engagements\\nStandards on review engagements apply in the context of review of financial statements. We have already understood that review is a limited assurance engagement and it provides assurance which is lower than that provided by audit. It is due to the fact that review involves fewer procedures as compared to audit. Since a review also provides assurance to users, it also involves obtaining sufficient appropriate evidence. For example, when an auditor performs review of interim financial information of an entity.\\nExamples of Standards on Review engagements are:\\nSRE 2400 (Revised) Engagements to Review Historical Financial Statements\\nSRE 2410 Review of Interim Financial Information Performed by the Independent Auditor of the Entity\\nIt is to be noted that both Standards on auditing and Standards on review engagements apply to engagements involving historical financial information.'}\n",
      "{'_id': ObjectId('67406591a2ed655c19ebe272'), 'key': 23, 'value': 'Standards on Assurance Engagements\\nThere is another set of standards which apply in assurance engagements dealing with subject matters other than historical financial information. Such assurance engagements do not include \"audit\" or \"review\" of historical financial information. These standards are known as Standards on Assurance Engagements. For example, an assurance engagement relating to examination of prospective financial information.\\nIt is to be noted that in such type of assurance engagements, examination is not of historical financial information or engagement may relate to providing assurance regarding non-financial matters like design and operation of internal control in an entity.\\nExamples of Standards on Assurance Engagements are:\\nSAE 3400 The Examination of Prospective Financial Information\\nSAE 3420 Assurance Engagements to Report on the Compilation of Pro Forma Financial Information Included in a Prospectus'}\n",
      "{'_id': ObjectId('67406591a2ed655c19ebe273'), 'key': 24, 'value': \"Standards on Related Services\\nLastly, there are standards on related services. These standards apply in engagements to perform agreed-upon procedures regarding financial information.\\nFor example, an engagement to perform agreed-upon procedures may require the auditor to perform certain procedures concerning individual items of financial data, say, accounts payable, accounts receivable, purchases from related parties and sales and profits of a segment of an entity, or a financial statement, say, a balance sheet or even a complete set of financial statements.\\nAn engagement in which practitioner may be called upon to assist management with the preparation and presentation of historical financial information without obtaining assurance on that information. Such type of compilation engagements fall in the category of related services and practitioner issues a report clearly stating that it is not an assurance engagement and no opinion is being expressed.\\nThese types of services are called related services and standards have been issued to deal with practitioner's responsibilities in this regard.\\nExamples of Standards on related services are:\\nSRS 4400 Engagements to perform agreed-upon procedures regarding financial information\\nSRS 4410 (Revised) Compilation engagements\\n\\nIt is to be clearly understood that all the above standards i.e., Standards on Auditing (SAs), Standards on Review Engagements (SREs), Standards on Assurance Engagements (SAEs) and Standards on related services (SRSs) are collectively known as the Engagement Standards.\\nEngagement Standards issued under the authority of Council of ICAI deal with responsibilities of auditor/practitioner.\"}\n",
      "{'_id': ObjectId('67406591a2ed655c19ebe274'), 'key': 25, 'value': \"Standards on Quality Control\\nStandards on Quality Control (SQCs) have been issued to establish standards and provide guidance regarding a firm's responsibilities for its system of quality control for the conduct of audit and review of historical financial information and for other assurance and related service engagements.\\nSQC 1 has been issued in this regard. It requires auditors/practitioners to establish system of quality control so that firm and its personnel comply with professional standards and regulatory & legal requirements and reports issued are appropriate.\\nIts basic objective is that while rendering services, to which engagement standards apply, there should be a system of quality control with in firms to ensure complying with professional standards/legal requirements. System of quality control ensures issuing of appropriate reports in the circumstances.\\nFurther, it is also to be remembered that Standards on Quality Control (SQCs) are to be applied for all services covered by Engagement Standards.\"}\n",
      "{'_id': ObjectId('67406591a2ed655c19ebe275'), 'key': 26, 'value': 'Why are Standards needed?\\nStandards ensure carrying out of audit against established benchmarks at par with global practices.\\nStandards improve quality of financial reporting thereby helping users to make diligent decisions.\\nStandards promote uniformity as audit of financial statements is carried out following these Standards.\\nStandards equip professional accountants with professional knowledge and skill.\\nStandards ensure audit quality.'}\n",
      "{'_id': ObjectId('67406591a2ed655c19ebe276'), 'key': 27, 'value': 'Duties in relation to Engagement and Quality Control Standards\\nIt is the duty of professional accountants to see that Standards are followed in engagements undertaken by them. Ordinarily, these are to be followed by professional accountants. However, a situation may arise when a specific procedure as required in Standards would be ineffective in a particular engagement. In such a case, he is required to document how alternative procedures performed achieve the purpose of required procedure. Also, reason for departure has also to be documented unless it is clear. Further, his report should draw attention to such departures. It is also to be noted that a mere disclosure in the report does not absolve a professional accountant from complying with applicable Standards.\\nOverview of Engagement and Quality Control Standards\\n- Standards on Auditing (SAs) are applicable to audits of historical financial information, guiding the audit process to ensure reliability and credibility.\\n- Standards on Review Engagements (SREs) govern the review of historical financial information to provide a limited assurance that no material modifications are needed.\\n- Standards on Assurance Engagements (SAEs) are relevant for engagements that involve assurance on matters other than historical financial information.\\n- Standards on Related Services (SRSs) apply to engagements where agreed-upon procedures regarding financial information are performed, including assisting management in the preparation and presentation of financial statements.\\n- Standards on Quality Control (SQC) are comprehensive and apply to all services covered by engagement standards, including SAs, SREs, SAEs, and SRSs.\\n- Professional accountants have a duty to adhere to these Standards; any deviation must be clearly stated and explained in their reports.'}\n"
     ]
    }
   ],
   "source": [
    "for document in ca_inter_p2_c2_db_cursor:\n",
    "    print(document)"
   ]
  },
  {
   "cell_type": "markdown",
   "metadata": {},
   "source": [
    "## Generate Questions"
   ]
  },
  {
   "cell_type": "code",
   "execution_count": 25,
   "metadata": {},
   "outputs": [
    {
     "data": {
      "text/plain": [
       "['admin', 'config', 'courses', 'local', 'my_store', 'subrata', 'test']"
      ]
     },
     "execution_count": 25,
     "metadata": {},
     "output_type": "execute_result"
    }
   ],
   "source": [
    "from pymongo import MongoClient\n",
    "\n",
    "client = MongoClient()\n",
    "client.list_database_names()"
   ]
  },
  {
   "cell_type": "code",
   "execution_count": 26,
   "metadata": {},
   "outputs": [
    {
     "data": {
      "text/plain": [
       "['CA-Inter-P5 - Chapter 2 - Audit Strategy, Audit Planning and Audit Programme',\n",
       " 'CA-Inter-P5 - Chapter 1 - Nature, Objective and Scope of Audit',\n",
       " 'CA-P1-M1-C1-U1-Theory']"
      ]
     },
     "execution_count": 26,
     "metadata": {},
     "output_type": "execute_result"
    }
   ],
   "source": [
    "courses_db = client.get_database(name=\"courses\")\n",
    "courses_db.list_collection_names()"
   ]
  },
  {
   "cell_type": "code",
   "execution_count": 31,
   "metadata": {},
   "outputs": [
    {
     "data": {
      "text/plain": [
       "27"
      ]
     },
     "execution_count": 31,
     "metadata": {},
     "output_type": "execute_result"
    }
   ],
   "source": [
    "ca_iner_p5_c1_db = courses_db.get_collection(\n",
    "    name=\"CA-Inter-P5 - Chapter 1 - Nature, Objective and Scope of Audit\"\n",
    ")\n",
    "\n",
    "ca_iner_p5_c1_db_cursor = ca_iner_p5_c1_db.find({})\n",
    "\n",
    "contexts = []\n",
    "for document in ca_iner_p5_c1_db_cursor:\n",
    "    if not document[\"key\"] == \"title\":\n",
    "        contexts.append(document[\"value\"])\n",
    "\n",
    "len(contexts)"
   ]
  },
  {
   "cell_type": "code",
   "execution_count": 33,
   "metadata": {},
   "outputs": [
    {
     "data": {
      "text/plain": [
       "\"An Overview of Objectives of Audit \\n- The primary objective of an audit is to obtain reasonable assurance that the financial statements are free from material misstatement, whether caused by fraud or error.\\n- An auditor aims to gain reasonable assurance to form an opinion on whether the financial statements are prepared, in all material respects, in accordance with the applicable financial reporting framework.\\n- It is an auditor's responsibility to report on the financial statements based on the conclusion of the audit.\\n- Auditors must express an opinion that accurately reflects their audit findings.\\n- Effective communication of the audit findings is an essential component of an auditor's responsibilities.\\n- The audit report should be prepared and communicated in accordance with the Standards on Auditing.\""
      ]
     },
     "execution_count": 33,
     "metadata": {},
     "output_type": "execute_result"
    }
   ],
   "source": [
    "contexts[5]"
   ]
  },
  {
   "cell_type": "code",
   "execution_count": 21,
   "metadata": {},
   "outputs": [
    {
     "data": {
      "text/plain": [
       "True"
      ]
     },
     "execution_count": 21,
     "metadata": {},
     "output_type": "execute_result"
    }
   ],
   "source": [
    "from dotenv import load_dotenv\n",
    "\n",
    "load_dotenv()"
   ]
  },
  {
   "cell_type": "code",
   "execution_count": 24,
   "metadata": {},
   "outputs": [
    {
     "name": "stdout",
     "output_type": "stream",
     "text": [
      "<openai.lib.azure.AzureOpenAI object at 0x1112e6480>\n"
     ]
    }
   ],
   "source": [
    "import os\n",
    "from openai import AzureOpenAI\n",
    "\n",
    "ai_client = AzureOpenAI(\n",
    "    api_version=\"2024-08-01-preview\",\n",
    "    api_key=os.getenv(key=\"AZURE_OPENAI_API_KEY\"),\n",
    "    azure_endpoint=os.getenv(key=\"AZURE_OPENAI_ENDPOINT\"),\n",
    ")\n",
    "\n",
    "print(ai_client)"
   ]
  },
  {
   "cell_type": "code",
   "execution_count": null,
   "metadata": {},
   "outputs": [
    {
     "name": "stdout",
     "output_type": "stream",
     "text": [
      "Five questions based on the provided context:\n",
      "ChatCompletion(id='chatcmpl-AWNANvaAwYIzGqitpY3SZiMk2yMKZ', choices=[Choice(finish_reason='stop', index=0, logprobs=None, message=ChatCompletionMessage(content=\"1. What is the significance of auditing in today's complex business environment?\\n2. Why do investors rely on audited financial statements when deciding where to invest their money?\\n3. How do audited financial statements provide assurance to users in various fields?\\n4. What role do auditors play in the modern world with diverse economic activities and dynamic legal environments?\\n5. How do banks and financial institutions use audited financial statements to determine creditworthiness?\\n6. Why is auditing important for governments in the context of tax collection from trade and industry?\\n7. In what ways do trade unions benefit from audited financial statements during wage negotiations?\\n8. How do insurance companies utilize audited financial statements when settling property claims?\\n9. What critical questions are raised about the nature, scope, and limitations of auditing?\\n10. Why is understanding the nature and scope of auditing crucial for various stakeholders?\", refusal=None, role='assistant', audio=None, function_call=None, tool_calls=None), content_filter_results={'hate': {'filtered': False, 'severity': 'safe'}, 'protected_material_code': {'filtered': False, 'detected': False}, 'protected_material_text': {'filtered': False, 'detected': False}, 'self_harm': {'filtered': False, 'severity': 'safe'}, 'sexual': {'filtered': False, 'severity': 'safe'}, 'violence': {'filtered': False, 'severity': 'safe'}})], created=1732278911, model='gpt-4o-2024-08-06', object='chat.completion', service_tier=None, system_fingerprint='fp_d54531d9eb', usage=CompletionUsage(completion_tokens=169, prompt_tokens=309, total_tokens=478, completion_tokens_details=None, prompt_tokens_details=None), prompt_filter_results=[{'prompt_index': 0, 'content_filter_results': {'hate': {'filtered': False, 'severity': 'safe'}, 'jailbreak': {'filtered': False, 'detected': False}, 'self_harm': {'filtered': False, 'severity': 'safe'}, 'sexual': {'filtered': False, 'severity': 'safe'}, 'violence': {'filtered': False, 'severity': 'safe'}}}])\n"
     ]
    }
   ],
   "source": [
    "response = ai_client.chat.completions.create(\n",
    "    model=\"gpt-4o\",\n",
    "    messages=[\n",
    "        {\n",
    "            \"role\": \"system\",\n",
    "            \"content\": \"You are an assistant that generates questions based on given context.\",\n",
    "        },\n",
    "        {\n",
    "            \"role\": \"user\",\n",
    "            \"content\": f\"Based on the following context, generate exactly maximum number of quality questions:\\n\\n{contexts[0]}\",\n",
    "        },\n",
    "    ],\n",
    "    temperature=0.7,  # Adjust for creativity\n",
    "    max_tokens=300,  # Adjust based on expected response length\n",
    ")\n",
    "\n",
    "print(response)\n"
   ]
  },
  {
   "cell_type": "code",
   "execution_count": null,
   "metadata": {},
   "outputs": [
    {
     "name": "stdout",
     "output_type": "stream",
     "text": [
      "<class 'openai.types.chat.chat_completion.ChatCompletion'>\n",
      "ChatCompletion(id='chatcmpl-AWNDgXCFUtpb4mqsoepu4xMzdKSAJ', choices=[Choice(finish_reason='stop', index=0, logprobs=None, message=ChatCompletionMessage(content='{\"questions\":[\"What are the key reasons why different stakeholders rely on audited financial statements?\",\"How does auditing provide assurance to the users of financial statements?\",\"Why is the role of auditors significant in the modern world?\",\"What is the nature of auditing in today\\'s complex business environment?\",\"What are the objectives of auditing?\",\"How does auditing impact the decision-making process of investors and other stakeholders?\",\"What are the limitations of auditing?\",\"In what ways do diverse fields rely on audited financial statements?\",\"What is meant by the scope of auditing?\",\"Why is auditing important for governments and financial institutions?\",\"How do trade unions and insurance companies utilize audited financial statements?\",\"What are the components included in the auditing process?\",\"How does the dynamic legal and regulatory environment affect auditing?\",\"What are some real-life situations that highlight the importance of auditing?\",\"How do audited financial statements contribute to economic activities?\"]}', refusal=None, role='assistant', audio=None, function_call=None, tool_calls=None), content_filter_results={'hate': {'filtered': False, 'severity': 'safe'}, 'protected_material_code': {'filtered': False, 'detected': False}, 'protected_material_text': {'filtered': False, 'detected': False}, 'self_harm': {'filtered': False, 'severity': 'safe'}, 'sexual': {'filtered': False, 'severity': 'safe'}, 'violence': {'filtered': False, 'severity': 'safe'}})], created=1732279116, model='gpt-4o-2024-08-06', object='chat.completion', service_tier=None, system_fingerprint='fp_04751d0b65', usage=CompletionUsage(completion_tokens=184, prompt_tokens=352, total_tokens=536, completion_tokens_details=None, prompt_tokens_details=None), prompt_filter_results=[{'prompt_index': 0, 'content_filter_results': {'hate': {'filtered': False, 'severity': 'safe'}, 'jailbreak': {'filtered': False, 'detected': False}, 'self_harm': {'filtered': False, 'severity': 'safe'}, 'sexual': {'filtered': False, 'severity': 'safe'}, 'violence': {'filtered': False, 'severity': 'safe'}}}])\n"
     ]
    }
   ],
   "source": [
    "from pydantic import BaseModel\n",
    "from typing import List\n",
    "\n",
    "\n",
    "class QuestionsResponse(BaseModel):\n",
    "    questions: List[str]\n",
    "\n",
    "    class Config:\n",
    "        extra = \"forbid\"  # Disallows any additional fields not defined in the model\n",
    "\n",
    "\n",
    "response = ai_client.chat.completions.create(\n",
    "    model=\"gpt-4o\",\n",
    "    messages=[\n",
    "        {\n",
    "            \"role\": \"system\",\n",
    "            \"content\": \"You are an assistant that generates questions based on the given context.\",\n",
    "        },\n",
    "        {\n",
    "            \"role\": \"user\",\n",
    "            \"content\": f\"Based on the following context, generate the maximum number of quality questions:\\n\\n{contexts[0]}\",\n",
    "        },\n",
    "    ],\n",
    "    temperature=0.7,  # Adjust for creativity\n",
    "    max_tokens=300,  # Adjust based on expected response length\n",
    "    response_format={\n",
    "        \"type\": \"json_schema\",\n",
    "        \"json_schema\": {\n",
    "            \"name\": \"QuestionsResponse\",\n",
    "            \"strict\": True,\n",
    "            \"schema\": QuestionsResponse.model_json_schema(),\n",
    "        },\n",
    "    },\n",
    ")\n",
    "\n",
    "print(type(response))\n",
    "print(response)"
   ]
  },
  {
   "cell_type": "code",
   "execution_count": 57,
   "metadata": {},
   "outputs": [
    {
     "name": "stdout",
     "output_type": "stream",
     "text": [
      "<class 'openai.types.chat.chat_completion.ChatCompletion'>\n",
      "<class 'openai.types.chat.chat_completion.ChatCompletion'>\n",
      "<class 'openai.types.chat.chat_completion.ChatCompletion'>\n",
      "<class 'openai.types.chat.chat_completion.ChatCompletion'>\n",
      "<class 'openai.types.chat.chat_completion.ChatCompletion'>\n",
      "<class 'openai.types.chat.chat_completion.ChatCompletion'>\n",
      "<class 'openai.types.chat.chat_completion.ChatCompletion'>\n",
      "<class 'openai.types.chat.chat_completion.ChatCompletion'>\n",
      "<class 'openai.types.chat.chat_completion.ChatCompletion'>\n",
      "<class 'openai.types.chat.chat_completion.ChatCompletion'>\n",
      "<class 'openai.types.chat.chat_completion.ChatCompletion'>\n",
      "<class 'openai.types.chat.chat_completion.ChatCompletion'>\n",
      "<class 'openai.types.chat.chat_completion.ChatCompletion'>\n",
      "<class 'openai.types.chat.chat_completion.ChatCompletion'>\n",
      "<class 'openai.types.chat.chat_completion.ChatCompletion'>\n",
      "<class 'openai.types.chat.chat_completion.ChatCompletion'>\n",
      "<class 'openai.types.chat.chat_completion.ChatCompletion'>\n",
      "<class 'openai.types.chat.chat_completion.ChatCompletion'>\n",
      "<class 'openai.types.chat.chat_completion.ChatCompletion'>\n",
      "<class 'openai.types.chat.chat_completion.ChatCompletion'>\n",
      "<class 'openai.types.chat.chat_completion.ChatCompletion'>\n",
      "<class 'openai.types.chat.chat_completion.ChatCompletion'>\n",
      "<class 'openai.types.chat.chat_completion.ChatCompletion'>\n",
      "<class 'openai.types.chat.chat_completion.ChatCompletion'>\n",
      "<class 'openai.types.chat.chat_completion.ChatCompletion'>\n",
      "<class 'openai.types.chat.chat_completion.ChatCompletion'>\n",
      "<class 'openai.types.chat.chat_completion.ChatCompletion'>\n",
      "165.61598896980286\n"
     ]
    }
   ],
   "source": [
    "import json\n",
    "from pydantic import BaseModel\n",
    "from typing import List\n",
    "import time\n",
    "\n",
    "start = time.time()\n",
    "\n",
    "\n",
    "class QuestionsResponse(BaseModel):\n",
    "    questions: List[str]\n",
    "\n",
    "    class Config:\n",
    "        extra = \"forbid\"  # Disallows any additional fields not defined in the model\n",
    "\n",
    "\n",
    "ca_inter_p2_c1_db_cursor = ca_inter_p2_c1_db.find({})\n",
    "\n",
    "responses = []\n",
    "for index, context in enumerate(iterable=contexts, start=1):\n",
    "    response = ai_client.chat.completions.create(\n",
    "        model=\"gpt-4o\",\n",
    "        messages=[\n",
    "            {\n",
    "                \"role\": \"system\",\n",
    "                \"content\": \"You are an assistant that generates questions based on the given context.\",\n",
    "            },\n",
    "            {\n",
    "                \"role\": \"user\",\n",
    "                \"content\": f\"Based on the following context, generate the maximum number of quality questions:\\n\\n{context}\",\n",
    "            },\n",
    "        ],\n",
    "        temperature=0.7,  # Adjust for creativity\n",
    "        max_tokens=1000,  # Adjust based on expected response length\n",
    "        response_format={\n",
    "            \"type\": \"json_schema\",\n",
    "            \"json_schema\": {\n",
    "                \"name\": \"QuestionsResponse\",\n",
    "                \"strict\": True,\n",
    "                \"schema\": QuestionsResponse.model_json_schema(),\n",
    "            },\n",
    "        },\n",
    "    )\n",
    "\n",
    "    responses.append({\"index\": index, \"response\": response})\n",
    "    print(type(response))\n",
    "end = time.time()\n",
    "\n",
    "print(end - start)"
   ]
  },
  {
   "cell_type": "code",
   "execution_count": 60,
   "metadata": {},
   "outputs": [
    {
     "data": {
      "text/plain": [
       "{'index': 9,\n",
       " 'response': ChatCompletion(id='chatcmpl-AWNj33xwqirIrqN2cgobMYPjwuPhK', choices=[Choice(finish_reason='stop', index=0, logprobs=None, message=ChatCompletionMessage(content='{\"questions\":[\"What are the inherent limitations of an audit process?\",\"Why can\\'t auditors provide absolute assurance that financial statements are free from misstatements?\",\"How does the nature of financial reporting contribute to the limitations of an audit?\",\"What role does management\\'s judgment play in the limitations of financial reporting?\",\"How can subjective decisions in financial reporting affect the audit process?\",\"What are the responsibilities of management in the preparation of financial statements?\",\"Why might an auditor not be able to detect all material misstatements due to fraud or errors?\",\"How do internal controls impact the reliability of financial statements?\",\"Can internal controls completely eliminate the risk of fraud in financial statements? Why or why not?\",\"What is an example of how internal controls can fail due to collusion?\",\"How does collusion between employees affect the effectiveness of internal controls?\",\"What measures can companies take to minimize the risk of collusion in overriding internal controls?\",\"Why is it important for management to acknowledge their responsibility in financial reporting during an audit?\",\"What are some factors that contribute to the uncertainty in financial statement preparation?\",\"How can auditors address the limitations posed by the nature of financial reporting?\",\"What is the significance of obtaining assurance in the audit process?\",\"How might an auditor identify potential collusion within a company\\'s internal controls?\",\"What challenges do auditors face when assessing judgments made by management during the preparation of financial statements?\",\"In what ways can the limitations of internal controls affect the outcome of an audit?\",\"How can auditors mitigate the impact of the inherent limitations of audits?\"]}', refusal=None, role='assistant', audio=None, function_call=None, tool_calls=None), content_filter_results={'hate': {'filtered': False, 'severity': 'safe'}, 'protected_material_code': {'filtered': False, 'detected': False}, 'protected_material_text': {'filtered': False, 'detected': False}, 'self_harm': {'filtered': False, 'severity': 'safe'}, 'sexual': {'filtered': False, 'severity': 'safe'}, 'violence': {'filtered': False, 'severity': 'safe'}})], created=1732281061, model='gpt-4o-2024-08-06', object='chat.completion', service_tier=None, system_fingerprint='fp_d54531d9eb', usage=CompletionUsage(completion_tokens=316, prompt_tokens=374, total_tokens=690, completion_tokens_details=None, prompt_tokens_details=None), prompt_filter_results=[{'prompt_index': 0, 'content_filter_results': {'hate': {'filtered': False, 'severity': 'safe'}, 'jailbreak': {'filtered': False, 'detected': False}, 'self_harm': {'filtered': False, 'severity': 'safe'}, 'sexual': {'filtered': False, 'severity': 'safe'}, 'violence': {'filtered': False, 'severity': 'safe'}}}])}"
      ]
     },
     "execution_count": 60,
     "metadata": {},
     "output_type": "execute_result"
    }
   ],
   "source": [
    "responses[8]"
   ]
  },
  {
   "cell_type": "code",
   "execution_count": 65,
   "metadata": {},
   "outputs": [
    {
     "data": {
      "text/plain": [
       "27"
      ]
     },
     "execution_count": 65,
     "metadata": {},
     "output_type": "execute_result"
    }
   ],
   "source": [
    "responses_parsed = [\n",
    "    json.loads(response[\"response\"].choices[0].message.content)\n",
    "    for response in responses\n",
    "]\n",
    "len(responses_parsed)"
   ]
  },
  {
   "cell_type": "code",
   "execution_count": 66,
   "metadata": {},
   "outputs": [
    {
     "data": {
      "text/plain": [
       "{'questions': ['What are the key reasons for the reliance on audited financial statements in the business world?',\n",
       "  'How do audited financial statements provide confidence to their users?',\n",
       "  \"What is the significance of auditing in today's complex business environment?\",\n",
       "  'Who are the diverse users that rely on audited financial statements?',\n",
       "  'Why do investors find audited financial statements important when investing in companies?',\n",
       "  'How do banks and financial institutions benefit from audited financial statements when lending funds?',\n",
       "  'In what ways do governments use audited financial statements for tax collection?',\n",
       "  'Why do trade unions consider audited financial statements important during wage negotiations?',\n",
       "  'How do insurance companies rely on audited financial statements for settling property claims?',\n",
       "  'What is the role of auditors in a dynamic legal and regulatory environment?',\n",
       "  'Why is auditing considered significant in modern economic activities?',\n",
       "  'What is the nature and scope of auditing?',\n",
       "  'What are the limitations of auditing?',\n",
       "  'What does auditing include and what does it exclude?',\n",
       "  'How has the role of the auditing profession evolved in recent times?']}"
      ]
     },
     "execution_count": 66,
     "metadata": {},
     "output_type": "execute_result"
    }
   ],
   "source": [
    "responses_parsed[0]"
   ]
  },
  {
   "cell_type": "code",
   "execution_count": 69,
   "metadata": {},
   "outputs": [
    {
     "name": "stdout",
     "output_type": "stream",
     "text": [
      "['What are the key reasons for the reliance on audited financial statements in the business world?', 'How do audited financial statements provide confidence to their users?', \"What is the significance of auditing in today's complex business environment?\", 'Who are the diverse users that rely on audited financial statements?', 'Why do investors find audited financial statements important when investing in companies?', 'How do banks and financial institutions benefit from audited financial statements when lending funds?', 'In what ways do governments use audited financial statements for tax collection?', 'Why do trade unions consider audited financial statements important during wage negotiations?', 'How do insurance companies rely on audited financial statements for settling property claims?', 'What is the role of auditors in a dynamic legal and regulatory environment?', 'Why is auditing considered significant in modern economic activities?', 'What is the nature and scope of auditing?', 'What are the limitations of auditing?', 'What does auditing include and what does it exclude?', 'How has the role of the auditing profession evolved in recent times?']\n"
     ]
    }
   ],
   "source": [
    "for response in responses_parsed:\n",
    "    print(response[\"questions\"])\n",
    "    break"
   ]
  },
  {
   "cell_type": "code",
   "execution_count": 71,
   "metadata": {},
   "outputs": [
    {
     "data": {
      "text/plain": [
       "['What are the inherent limitations of an audit as per SA 200?',\n",
       " \"Why can't an auditor provide absolute assurance that financial statements are free from material misstatements?\",\n",
       " 'How does the timeliness of financial reporting affect the reliability of information in audits?',\n",
       " \"Why might an auditor rely on information from a previous year's audit?\",\n",
       " 'What risks are associated with relying on information obtained in prior audits?',\n",
       " \"How do future events impact an entity's ability to continue its business?\",\n",
       " 'In what ways can fraud affect the audit process?',\n",
       " 'Why is an audit not considered an official investigation?',\n",
       " 'What practical and legal limitations might an auditor face when obtaining audit evidence?',\n",
       " 'How does the nature of financial reporting contribute to the limitations of an audit?',\n",
       " 'What are the challenges in balancing the reliability and cost of obtaining information during an audit?',\n",
       " \"How might management's judgments in preparing financial statements affect an audit?\",\n",
       " 'What role does the emergence of new business models play in the audit process?',\n",
       " \"How can the onset of adverse events influence an entity's financial statements?\",\n",
       " 'What are some reasons an auditor might not receive complete information from management?',\n",
       " 'Why is it important for auditors to be aware of sophisticated fraud schemes?',\n",
       " \"How do changes in market conditions affect an entity's financial statements?\",\n",
       " \"What is the significance of audit risk, and why can't it be reduced to zero?\",\n",
       " 'How might an auditor address the limitations of not being able to verify every matter?',\n",
       " 'Why is it important for an auditor to strike a balance between the timeliness and relevance of information?']"
      ]
     },
     "execution_count": 71,
     "metadata": {},
     "output_type": "execute_result"
    }
   ],
   "source": [
    "responses_parsed[10][\"questions\"]"
   ]
  },
  {
   "cell_type": "code",
   "execution_count": 63,
   "metadata": {},
   "outputs": [
    {
     "name": "stdout",
     "output_type": "stream",
     "text": [
      "{\"questions\":[\"What are the inherent limitations of an audit process?\",\"Why can't auditors provide absolute assurance that financial statements are free from misstatements?\",\"How does the nature of financial reporting contribute to the limitations of an audit?\",\"What role does management's judgment play in the limitations of financial reporting?\",\"How can subjective decisions in financial reporting affect the audit process?\",\"What are the responsibilities of management in the preparation of financial statements?\",\"Why might an auditor not be able to detect all material misstatements due to fraud or errors?\",\"How do internal controls impact the reliability of financial statements?\",\"Can internal controls completely eliminate the risk of fraud in financial statements? Why or why not?\",\"What is an example of how internal controls can fail due to collusion?\",\"How does collusion between employees affect the effectiveness of internal controls?\",\"What measures can companies take to minimize the risk of collusion in overriding internal controls?\",\"Why is it important for management to acknowledge their responsibility in financial reporting during an audit?\",\"What are some factors that contribute to the uncertainty in financial statement preparation?\",\"How can auditors address the limitations posed by the nature of financial reporting?\",\"What is the significance of obtaining assurance in the audit process?\",\"How might an auditor identify potential collusion within a company's internal controls?\",\"What challenges do auditors face when assessing judgments made by management during the preparation of financial statements?\",\"In what ways can the limitations of internal controls affect the outcome of an audit?\",\"How can auditors mitigate the impact of the inherent limitations of audits?\"]}\n"
     ]
    }
   ],
   "source": [
    "print(responses[8][\"response\"].choices[0].message.content)"
   ]
  },
  {
   "cell_type": "code",
   "execution_count": 68,
   "metadata": {},
   "outputs": [],
   "source": [
    "for response in responses_parsed:\n",
    "    questions = response[\"questions\"]\n",
    "\n",
    "    for index, document in enumerate(iterable=ca_inter_p2_c1_db_cursor, start=1):\n",
    "        if not document[\"key\"] == \"title\":\n",
    "            if index == document[\"key\"]:\n",
    "                ca_inter_p2_c1_db.update_one(\n",
    "                    filter={\"key\": document[\"key\"]},\n",
    "                    update={\"$set\": {\"questions\": questions}},\n",
    "                )"
   ]
  },
  {
   "cell_type": "code",
   "execution_count": 86,
   "metadata": {},
   "outputs": [
    {
     "ename": "KeyError",
     "evalue": "'answers'",
     "output_type": "error",
     "traceback": [
      "\u001b[0;31m---------------------------------------------------------------------------\u001b[0m",
      "\u001b[0;31mKeyError\u001b[0m                                  Traceback (most recent call last)",
      "Cell \u001b[0;32mIn[86], line 5\u001b[0m\n\u001b[1;32m      3\u001b[0m \u001b[38;5;28;01mfor\u001b[39;00m document \u001b[38;5;129;01min\u001b[39;00m ca_inter_p2_c1_db_cursor:\n\u001b[1;32m      4\u001b[0m     \u001b[38;5;28;01mif\u001b[39;00m document[\u001b[38;5;124m\"\u001b[39m\u001b[38;5;124mkey\u001b[39m\u001b[38;5;124m\"\u001b[39m] \u001b[38;5;241m==\u001b[39m \u001b[38;5;124m\"\u001b[39m\u001b[38;5;124mtitle\u001b[39m\u001b[38;5;124m\"\u001b[39m:\n\u001b[0;32m----> 5\u001b[0m         \u001b[38;5;28mprint\u001b[39m(\u001b[43mdocument\u001b[49m\u001b[43m[\u001b[49m\u001b[38;5;124;43m\"\u001b[39;49m\u001b[38;5;124;43manswers\u001b[39;49m\u001b[38;5;124;43m\"\u001b[39;49m\u001b[43m]\u001b[49m)\n",
      "\u001b[0;31mKeyError\u001b[0m: 'answers'"
     ]
    }
   ],
   "source": [
    "ca_inter_p2_c1_db_cursor = ca_inter_p2_c1_db.find({})\n",
    "\n",
    "for document in ca_inter_p2_c1_db_cursor:\n",
    "    if document[\"key\"] == \"title\":\n",
    "        print(document[\"answers\"])\n"
   ]
  },
  {
   "cell_type": "code",
   "execution_count": 72,
   "metadata": {},
   "outputs": [],
   "source": [
    "for index, document in enumerate(iterable=ca_inter_p2_c1_db_cursor, start=1):\n",
    "    if not document[\"key\"] == \"title\":\n",
    "        if index == document[\"key\"]:\n",
    "            ca_inter_p2_c1_db.update_one(\n",
    "                filter={\"key\": document[\"key\"]},\n",
    "                update={\"$set\": {\"questions\": responses_parsed[index][\"questions\"]}},\n",
    "            )\n"
   ]
  },
  {
   "cell_type": "code",
   "execution_count": null,
   "metadata": {},
   "outputs": [],
   "source": []
  },
  {
   "cell_type": "code",
   "execution_count": 40,
   "metadata": {},
   "outputs": [
    {
     "data": {
      "text/plain": [
       "'{\"questions\":[\"What are the key reasons why different stakeholders rely on audited financial statements?\",\"How does auditing provide assurance to the users of financial statements?\",\"Why is the role of auditors significant in the modern world?\",\"What is the nature of auditing in today\\'s complex business environment?\",\"What are the objectives of auditing?\",\"How does auditing impact the decision-making process of investors and other stakeholders?\",\"What are the limitations of auditing?\",\"In what ways do diverse fields rely on audited financial statements?\",\"What is meant by the scope of auditing?\",\"Why is auditing important for governments and financial institutions?\",\"How do trade unions and insurance companies utilize audited financial statements?\",\"What are the components included in the auditing process?\",\"How does the dynamic legal and regulatory environment affect auditing?\",\"What are some real-life situations that highlight the importance of auditing?\",\"How do audited financial statements contribute to economic activities?\"]}'"
      ]
     },
     "execution_count": 40,
     "metadata": {},
     "output_type": "execute_result"
    }
   ],
   "source": [
    "questions = response.choices[0].message.content\n",
    "questions"
   ]
  },
  {
   "cell_type": "code",
   "execution_count": 41,
   "metadata": {},
   "outputs": [
    {
     "data": {
      "text/plain": [
       "dict"
      ]
     },
     "execution_count": 41,
     "metadata": {},
     "output_type": "execute_result"
    }
   ],
   "source": [
    "import json\n",
    "\n",
    "questions_json = json.loads(questions)\n",
    "type(questions_json)"
   ]
  },
  {
   "cell_type": "code",
   "execution_count": 43,
   "metadata": {},
   "outputs": [
    {
     "data": {
      "text/plain": [
       "dict_items([('questions', ['What are the key reasons why different stakeholders rely on audited financial statements?', 'How does auditing provide assurance to the users of financial statements?', 'Why is the role of auditors significant in the modern world?', \"What is the nature of auditing in today's complex business environment?\", 'What are the objectives of auditing?', 'How does auditing impact the decision-making process of investors and other stakeholders?', 'What are the limitations of auditing?', 'In what ways do diverse fields rely on audited financial statements?', 'What is meant by the scope of auditing?', 'Why is auditing important for governments and financial institutions?', 'How do trade unions and insurance companies utilize audited financial statements?', 'What are the components included in the auditing process?', 'How does the dynamic legal and regulatory environment affect auditing?', 'What are some real-life situations that highlight the importance of auditing?', 'How do audited financial statements contribute to economic activities?'])])"
      ]
     },
     "execution_count": 43,
     "metadata": {},
     "output_type": "execute_result"
    }
   ],
   "source": [
    "questions_json.items()"
   ]
  },
  {
   "cell_type": "code",
   "execution_count": 47,
   "metadata": {},
   "outputs": [
    {
     "data": {
      "text/plain": [
       "['What are the key reasons why different stakeholders rely on audited financial statements?',\n",
       " 'How does auditing provide assurance to the users of financial statements?',\n",
       " 'Why is the role of auditors significant in the modern world?',\n",
       " \"What is the nature of auditing in today's complex business environment?\",\n",
       " 'What are the objectives of auditing?',\n",
       " 'How does auditing impact the decision-making process of investors and other stakeholders?',\n",
       " 'What are the limitations of auditing?',\n",
       " 'In what ways do diverse fields rely on audited financial statements?',\n",
       " 'What is meant by the scope of auditing?',\n",
       " 'Why is auditing important for governments and financial institutions?',\n",
       " 'How do trade unions and insurance companies utilize audited financial statements?',\n",
       " 'What are the components included in the auditing process?',\n",
       " 'How does the dynamic legal and regulatory environment affect auditing?',\n",
       " 'What are some real-life situations that highlight the importance of auditing?',\n",
       " 'How do audited financial statements contribute to economic activities?']"
      ]
     },
     "execution_count": 47,
     "metadata": {},
     "output_type": "execute_result"
    }
   ],
   "source": [
    "questions_json[\"questions\"]"
   ]
  },
  {
   "cell_type": "code",
   "execution_count": 49,
   "metadata": {},
   "outputs": [
    {
     "name": "stdout",
     "output_type": "stream",
     "text": [
      "{'_id': ObjectId('67406591a2ed655c19ebe25b'), 'key': 'title', 'value': ''}\n",
      "{'_id': ObjectId('67406591a2ed655c19ebe25c'), 'key': 1, 'value': \"CHAPTER 1 -  NATURE, OBJECTIVE AND SCOPE OF ADULT\\nINTRODUCTION\\nWhat do such real-life situations highlight? Such instances underline importance of auditing in today's complex business environment. Be it investors desirous of investing their money in companies, shareholders anxious to know financial position of companies they have invested in, banks or financial institutions willing to lend funds to credit-worthy organizations, governments desirous of collecting taxes from trade and industry in accordance with applicable laws, trade unions negotiating with corporate managements for better wages or insurance companies wanting to settle property claims caused by fire or other disasters - range of diverse users in equally diverse fields rely upon audited financial statements.\\nCan you figure out reason behind such reliance? It is due to the fact that audited financial statements provide confidence to users of financial statements; audited financial statements provide assurance to users who may take their decisions on the basis of such audited financial statements. Herein lies the importance of auditing. You can very well understand how significant is role of auditing profession and auditors in modern world involving multitude of economic activities being carried out in equally dynamic legal and regulatory environments.\\nHere, comes a vital question. What do we mean by auditing? What is its nature and scope? What it includes and What it does not? What are its limitations? We shall try to find out answers to these questions in succeeding paras.\"}\n",
      "{'_id': ObjectId('67406591a2ed655c19ebe25d'), 'key': 2, 'value': 'ORIGIN OF AUDITING\\nBefore we get to understand meaning and nature of auditing, let\\'s travel back in time to know about origin of auditing. Auditing has existed even in ancient times in many societies of world including India. The reference to auditing is found in Kautilya\\'s Arthshastra even in  century BC. It talks about fixed accounting year, a process for closure of accounts and audit for the same. Concepts of periodical checking and verification existed even in those times. Even there are references in his monumental work to misstatements in financial statements due to abuse of power. Wasn\\'t he far ahead of his times?\\nThe word \"audit\" originates from Latin word \"audire\" meaning \"to hear\". In medieval times, auditors used to hear the accounts read out to them to check that employees were not careless and negligent. Industrial revolution in Europe led to astronomical expansion in volume of trade and consequently demand of auditors.\\nComing to more recent history, the first Auditor General of India was appointed in British India in 1860 having both accounting and auditing functions. Later on, office of Auditor General was given statutory recognition. Presently, Comptroller and Auditor General of India is an independent constitutional authority responsible for auditing government receipts and expenditures.\\nThe Institute of Chartered Accountants of India was established as a statutory body under an Act of Parliament in 1949 for regulating the profession of Chartered Accountancy in the country.'}\n",
      "{'_id': ObjectId('67406591a2ed655c19ebe25e'), 'key': 3, 'value': 'MEANING AND NATURE OF AUDITING\\n\"An audit is an independent examination of financial information of any entity, whether profit oriented or not, and irrespective of its size or legal form, when such an examination is conducted with a view to expressing an opinion thereon\".\\nAn incisive analysis of above meaning of auditing brings out following points clearly: -\\nAudit is an independent examination of financial information.\\nIndependence, here, implies that the judgement of a person is not subordinate to \\tthe wishes or direction of another person who might have engaged him. The \\tauditor should be independent of entity whose financial statements are subject to \\taudit so that he can form an opinion without being affected by any influence. \\tIndependence increases auditor\\'s ability to act objectively without creeping in of \\tany biases.\\nConsider, for example, a person who requests his brother, a Chartered Accountant,to audit accounts of his proprietary concern and issue a report. Can CA audit accounts of concern in which his brother is sole proprietor? No, he cannot. It is due to the fact that there would be no independence in such a case due to relationship by birth between CA and his brother. He would be subject to influence from his brother.\\nTake another case where a CA has invested in shares of a company. Can he audit \\taccounts of such a company in which he holds shares? The answer is resounding \\tNO. It is due to the fact that by holding shares of the company, his own self-\\tinterest gets involved. His own money is invested in the company and he may not \\tbe able to form judgment independently on the financial statements of the \\tcompany.\\nThe entity whose financial information is examined need not necessarily be profit oriented like in case of a business. It can be a non-profit organization like an NGO or a charitable trust. Audit can be undertaken in respect of any organization be it a small, medium or large. Further, it can be conducted for any entity irrespective of its legal structure i.e. such an entity may be a proprietary concern, a partnership firm, a LLP, a private company, a public company, a society or a trust.\\nThe purpose of audit is to express an opinion on the financial statements.\\nUnderstand that preparation and presentation of financial statements of an entity is responsibility of management of entity. The auditor expresses an opinion on financial statements by means of written audit report.\\nIn doing so, he has to see that financial statements would not mislead anybody by ensuring that: -\\nthe accounts have been drawn up with reference to entries in the books of account;\\nthe entries in the books of account are adequately supported by sufficient and appropriate evidence;\\nnone of the entries in the books of account has been omitted in the process of compilation;\\nthe information conveyed by the statements is clear and unambiguous;\\nthe financial statement amounts are properly classified, described and disclosed in conformity with accounting standards; and\\nthe statement of accounts presents a true and fair picture of the operational results and of the assets and liabilities.\\nAuditing provides assurance. Its basic nature lies in providing assurance to users providing confidence to users of financial statements. Such an assurance lends credibility to financial statements. Audited financial statements provide confidence to users that financial information reflected in financial statements can be relied upon.'}\n",
      "{'_id': ObjectId('67406591a2ed655c19ebe25f'), 'key': 4, 'value': 'INTERDISCIPLINARY NATURE OF AUDITING         RELATIONSHIP WITH DIVERSE SUBJECTS\\nAuditing is interdisciplinary in nature. It draws from diverse subjects including accountancy, law, behavioural science, statistics, economics and financial management and makes use of these subjects. Since audit of financial statements is concerned with financial information, a sound knowledge of accounting principles is a fundamental requirement for an auditor of financial statements to conduct audit and express an opinion. Similarly, good knowledge of business laws and various taxation laws helps auditor to understand financial statements in a better way in accordance with applicable laws.\\nDuring course of audit, auditor has to interact with lot of persons for seeking information and making inquiries. This can be done only if one has knowledge of human behaviour. Auditors use statistical methods to draw samples in a scientific manner. It is not possible for an auditor to check each and every transaction. So, use of statistical methods to draw samples for conducting audit is made.\\nKnowledge of subject like economics helps auditor to be familiar with overall economic environment in which specific business is operating. Financial management deals with issues such as funds flow, working capital management, ratio analysis etc. and an auditor is expected to be knowledgeable about these for applying some of audit procedures and carrying out audit effectively. Besides, knowledge of financial markets comprised in study of financial management is expected from a professional auditor.\\nAuditing and Accounting: Auditing reviews the financial statements which are nothing but a result of the overall accounting process.\\nAuditing and Law: An auditor should have a good knowledge of business laws affecting the entity.\\nAuditing and Economics: Auditor is expected to be familiar with the overall economic environment of the client.\\nAuditing and Behavioural Science: Knowledge of human behaviour is essential for an auditor to effectively discharge his duties.\\nAuditing and Statistics & Mathematics: Auditor is also expected to have the knowledge of statistical sampling for meaningful conclusions and mathematics for verification of inventories.\\nAuditing and Data Processing: EDP auditing in itself is developing as a discipline in itself.\\nAuditing and Financial Management : Auditor is expected to have knowledge about various financial techniques such as working capital management, funds flow, ratio analysis, capital budgeting etc.\\nAuditing and Production: Good auditor is one who understands the client and his business functions such as production, cost system, marketing etc.'}\n",
      "{'_id': ObjectId('67406591a2ed655c19ebe260'), 'key': 5, 'value': 'OBJECTIVES OF AUDIT\\nIn conducting audit of financial statements, objectives of auditor in accordance with SA-200 \"Overall Objectives of the Independent auditor and the conduct of an audit in accordance with Standards on Auditing\" are: -\\nTo obtain reasonable assurance about whether the financial statements as a whole are free from material misstatement, whether due to fraud or error, thereby enabling the auditor to express an opinion on whether the financial statements are prepared, in all material respects, in accordance with an applicable financial reporting framework; and\\nTo report on the financial statements, and communicate as required by the SAs, in accordance with the auditor\\'s findings.\\nAn analysis of above brings out following points clearly: -\\nAuditor\\'s objective is to obtain a reasonable assurance whether financial statements as a whole are free from material misstatement whether due to fraud or error.\\nReasonable assurance is to be distinguished from absolute assurance. Absolute assurance is a complete assurance or a guarantee that financial statements are free from material misstatements. However, reasonable assurance is not a complete guarantee. Although it is a high-level of assurance but it is not complete assurance.\\nAudit of financial statements is carried out by the auditor with professional competence and skills in accordance with Standards on Auditing. Audit procedures are applied in accordance with SAs, audit evidence is obtained and evaluated. On basis of that, conclusions are drawn and opinion is formed. It leads to high level of assurance which is called as reasonable assurance but it is not absolute assurance.\\nMisstatements in financial statements can occur due to fraud or error or both. The auditor seeks to obtain reasonable assurance whether financial statements as a whole are free from material misstatements caused by fraud or error. He has to see effect of misstatements on financial statements as a whole, in totality.\\nObtaining reasonable assurance that financial statements as a whole are free from material misstatements enables the auditor to express an opinion on whether the financial statements are prepared, in all material respects, in accordance with an applicable financial reporting framework.\\nThe opinion is reported and communicated in accordance with audit findings through a written report as required by Standards on Auditing. (You would be studying about these in subsequent parts of this (hapter).'}\n",
      "{'_id': ObjectId('67406591a2ed655c19ebe261'), 'key': 6, 'value': \"An Overview of Objectives of Audit \\n- The primary objective of an audit is to obtain reasonable assurance that the financial statements are free from material misstatement, whether caused by fraud or error.\\n- An auditor aims to gain reasonable assurance to form an opinion on whether the financial statements are prepared, in all material respects, in accordance with the applicable financial reporting framework.\\n- It is an auditor's responsibility to report on the financial statements based on the conclusion of the audit.\\n- Auditors must express an opinion that accurately reflects their audit findings.\\n- Effective communication of the audit findings is an essential component of an auditor's responsibilities.\\n- The audit report should be prepared and communicated in accordance with the Standards on Auditing.\"}\n",
      "{'_id': ObjectId('67406591a2ed655c19ebe262'), 'key': 7, 'value': 'SCOPE OF AUDIT-WHAT IT INCLUDES\\nScope refers to range or reach of something. The purpose of an audit is to enhance the degree of confidence of intended users in the financial statements. Users of financial statements may be shareholders, employees, customers, government and regulatory authorities, bankers etc. Enhancing of degree of confidence is achieved by the expression of an opinion by the auditor on whether the financial statements are prepared, in all material respects, in accordance with an applicable financial reporting framework.\\n(Applicable financial reporting framework means a framework adopted in the preparation and presentation of the financial statements that is acceptable in view of the nature of the entity and the objective of the financial statements, or that is required by law or regulation.)\\nFor example, in case of companies in India, financial reporting framework is provided under Schedule III of Companies Act,2013.\\n\\nThe following points are included in scope of audit of financial statements: -\\nCoverage of all aspects of entity\\nAudit of financial statements should be organized adequately to cover all aspects of the entity relevant to the financial statements being audited.\\nReliability and sufficiency of financial information\\nThe auditor should be reasonably satisfied that information contained in underlying accounting records and other source data (like bills, vouchers, documents etc.) is reliable and sufficient basis for preparation of financial statements.\\nThe auditor makes a judgment of reliability and sufficiency of financial information by making a study and assessment of accounting systems and internal controls and by carrying out appropriate tests, enquiries and procedures.\\nProper disclosure of financial information\\nThe auditor should also decide whether relevant information is properly disclosed in the financial statements. He should also keep in mind applicable statutory requirements in this regard.\\nIt is done by ensuring that financial statements properly summarize transactions and events recorded therein and by considering the judgments made by management in preparation of financial statements.\\nThe management responsible for preparation and presentation of financial statements makes many judgments in this process of preparing and presenting financial statements. For example, choosing of appropriate accounting policies in relation to various accounting issues like choosing method of charging depreciation on fixed assets or choosing appropriate method for valuation of inventories.\\nThe auditor evaluates selection and consistent application of accounting policies by management; whether such a selection is proper and whether chosen policy has been applied consistently on a period-to-period basis.\\nUnderstand that financial statements of an entity are prepared on historical financial information basis. \"Historical financial information\" means information expressed in financial terms in relation to a particular entity, derived primarily from that entity\\'s accounting system, about economic events occurring in past time periods or about economic conditions or circumstances at points in time in the past.\\nFor example, when purchases and sales are reflected in financial statements of an entity, these are examples of historical financial information. These are about transactions which have occurred in past.\\nSince financial statements are prepared on the basis of historical financial information, it is logical that audit of financial statements is also based upon such historical financial information. Therefore, audit of financial statements is based upon historical financial information.'}\n",
      "{'_id': ObjectId('67406591a2ed655c19ebe263'), 'key': 8, 'value': \"Scope of audit-What it does not include\\nAuditor is not expected to perform duties which fall outside domain of his competence. For example, physical condition of certain assets like that of sophisticated machinery cannot be determined by him. Similarly, it is not expected from an auditor to determine suitability and life of civil structures like buildings. These require different skillsets which may be performed by qualified engineers in their respective fields.\\nAn auditor is not an expert in authentication of documents. The genuineness of documents cannot be authenticated by him because he is not an expert in this field.\\nAn audit is not an official investigation into alleged wrong doing. He does not have any specific legal powers of search or recording statements of witness on oath which may be necessary for carrying out an official investigation.\\nAudit is distinct from investigation. Investigation is a critical examination of the accounts with a special purpose. For example, if fraud is suspected and it is specifically called upon to check the accounts whether fraud really exists, it takes character of investigation.\\nThe objective of audit, on the other hand, as has already been discussed, is to obtain reasonable assurance about whether the financial statements as a whole are free from material misstatement, whether due to fraud or error, thereby enabling the auditor to express an opinion.\\nThe scope of audit is general and broad whereas scope of investigation is specific and narrow.\\nAn Overview of Scope of Audit\\n- The scope of an audit of financial statements includes the comprehensive examination of all aspects of the entity that are relevant to the financial statements being audited.\\n- It encompasses assessing the reliability and sufficiency of the financial information presented in the statements.\\n- Ensuring proper disclosure of all pertinent financial information in the statements is a key part of the audit scope.\\n- The auditor is responsible for expressing an opinion on the financial statements based on the audit evidence obtained.\\n- The preparation and presentation of financial statements fall outside the auditor's responsibilities; this is the management's duty.\\n- Actions beyond the auditor's professional competence are not within the scope of the audit.\\n- The auditor is not required to possess expertise in the authentication of documents; such expertise lies beyond the typical scope of auditing.\\n- Conducting investigations is not typically within the scope of a standard financial statement audit.\"}\n",
      "{'_id': ObjectId('67406591a2ed655c19ebe264'), 'key': 9, 'value': 'INHERENT LIMITATIONS OF AUDIT\\nThe process of audit suffers from certain inbuilt limitations due to which an auditor cannot obtain an absolute assurance that financial statements are free from misstatement due to fraud or error. These fundamental limitations arise due to the following factors: -\\nNature of financial reporting\\nPreparation of financial statements involves making many judgments by management. These judgments may involve subjective decisions or a degree of uncertainty. Therefore, auditor may not be able to obtain absolute assurance that financial statements are free from material misstatements due to frauds or errors.\\nOne of the premises for conducting an audit is that management acknowledges its responsibility of preparation of financial statements in accordance with applicable financial reporting framework and for devising suitable internal controls. However, such controls may not have operated to produce reliable financial information due to their own limitations.\\nConsider, for example, that management of a company has devised a control that all purchase bills should reflect stamp and signatures of an authorised person in \"Goods Receiving Section\" of the company stating the date and time of receiving goods in premises. It is an example of internal control devised by the company to ensure that only those purchase bills are produced for payment for which goods have been actually received. Now, what happens if concerned accountant and authorised person in \"Goods Receiving Section\" collude. It is a case of overriding of internal controls devised by the company due to collusion between two persons. Such a probable collusion is one of limitations of internal controls itself.'}\n",
      "{'_id': ObjectId('67406591a2ed655c19ebe265'), 'key': 10, 'value': \"Nature of Audit procedures\\nThe auditor carries out his work by obtaining audit evidence through performance of audit procedures. However, there are practical and legal limitations on ability of auditor to obtain audit evidence. For example, an auditor does not test all transactions and balances. He forms his opinion only by testing samples. It is an example of practical limitation on auditor's ability to obtain audit evidence.\\nManagement may not provide complete information as requested by auditor. There is no way by which auditor can force management to provide complete information as may be requested by auditor. In case he is not provided with required information, he can only report. It is an example of legal limitation on auditor's ability to obtain audit evidence.\\nThe management may consist of dishonest and unscrupulous people and may be, itself, involved in fraud. It may be engaged in concealing fraud by designing sophisticated and carefully organized schemes which may be hard to detect by the auditor. It may produce fabricated documents before auditor to lead him to believe that audit evidence is valid. However, in reality, such documents could be fake or non-genuine.\\nWe have already discussed under section on scope of audit that an auditor is not an expert in authentication of documents. Therefore, he may be led to accept invalid audit evidence on the basis of unauthentic documents.\\nIt is quite possible that entity may have entered into some transactions with related parties. Such transactions may be only paper transactions and may not have actually occurred. The auditor may not be aware of such related party relationships or audit procedures may not be able to detect probable wrong doings in such transactions.\"}\n",
      "{'_id': ObjectId('67406591a2ed655c19ebe266'), 'key': 11, 'value': 'Not in nature of investigation\\nAs already discussed, audit is not an official investigation. Hence, auditor cannot obtain absolute assurance that financial statements are free from material misstatements due to frauds or errors.\\nTimeliness of financial reporting and decrease in relevance of information over time\\nThe relevance of information decreases over time and auditor cannot verify each and every matter. Therefore, a balance has to be struck between reliability of information and cost of obtaining it.\\nConsider, for example, an auditor who is conducting audit of a company since last two years. During these two years, he has sought detailed information from management of company regarding various matters. During his thirdyear stint, he chooses to rely upon some information obtained as part of audit procedures of second year. However, it could be possible that something new has happened and that information is not relevant. So, the information being relied upon by auditor is not timely and may have lost its reliability.\\nFuture events\\nFuture events or conditions may affect an entity adversely. Adverse events may seriously affect ability of an entity to continue its business. The business may cease to exist in future due to change in market conditions, emergence of new business models or products or due to onset of some adverse events.\\nTherefore, it is in view of above factors, that an auditor cannot provide a guarantee that financial statements are free from material misstatements due to frauds or errors.\\nInherent Limitations of Audit (SA 200 \"Overall Objectives of the Independent Auditor and the Conduct of an Audit in Accordance with Standards on Auditing\"): The auditor is not expected to, and cannot, reduce audit risk to zero because there are inherent limitations of an audit. The inherent limitations of an audit arise from:\\nThe Nature of Financial Reporting: The preparation of financial statements involves judgment by management.\\nThe Nature of Audit Procedures: There are practical and legal limitations on the auditor\\'s ability to obtain audit evidence such as:\\nPossibility that management or others may  not provide, intentionally or unintentionally, the complete information relevant for preparation and presentation of FS.\\nFraud may involve sophisticated and carefully organised schemes.\\nNot in the nature of Investigation: An audit is not an official investigation into alleged wrongdoing.\\nTimeliness of financial reporting and decrease in relevance of information\\n over time: Relevance of information, and thereby its value, tends to diminish over time, and there is a balance to be struck between the reliability of information and its cost.\\nFuture events: Future events or conditions may affect an entity adversely. Adverse events may seriously affect ability of an entity to continue its Business.'}\n",
      "{'_id': ObjectId('67406591a2ed655c19ebe267'), 'key': 12, 'value': 'WHAT IS AN ENGAGEMENT?\\nEngagement means an arrangement to do something. In the context of auditing, it means a formal agreement between auditor and client under which auditor agrees to provide auditing services. It takes the shape of engagement letter.\\n8.1 External audit engagements\\nThe purpose of external audit engagements is to enhance the degree of confidence of intended users of financial statements. Such engagements are also reasonable assurance engagements. For example, in India, companies are required to get their annual accounts audited by an external auditor. Even non-corporate entities may choose to have their accounts audited by an external auditor because of benefits of such an audit.'}\n",
      "{'_id': ObjectId('67406591a2ed655c19ebe268'), 'key': 13, 'value': 'BENEFITS OF AUDIT-WHY AUDIT IS NEEDED?\\nAudited accounts provide high quality information. It gives confidence to users that information on which they are relying is qualitative and it is the outcome of an exercise carried out by following Auditing Standards recognized globally.\\nIn case of companies, shareholders may or may not be involved in daily affairs of the company. The financial statements are prepared by management consisting of directors. As shareholders are owners of the company, they need an independent mechanism so that financial information is qualitative and reliable. Hence, their interest is safeguarded by an audit.\\nAn audit acts as a moral check on employees from committing frauds for the fear of being discovered by audit.\\nAudited financial statements are helpful to government authorities for determining tax liabilities.\\nAudited financial statements can be relied upon by lenders, bankers for making their credit decisions i.e. whether to lend or not to lend to a particular entity.\\nAn audit may also detect fraud or error or both.\\nAn audit reviews existence and operations of various controls operating in any entity. Hence, it is useful at pointing out deficiencies.'}\n",
      "{'_id': ObjectId('67406591a2ed655c19ebe269'), 'key': 14, 'value': 'AUDIT- MANDATORY OR VOLUNTARY?\\nIt is not necessary that audit is always legally mandatory. There are entities like companies who are compulsorily required to get their accounts audited under law. Even non-corporate entities may be compulsorily requiring audit of their accounts under tax laws. For example, in India, every person is required to get accounts audited if turnover crosses certain threshold limit under income tax law.\\nIt is also possible that some entities like schools may be required to get their accounts audited for the purpose of obtaining grant or assistance from the Government.\\nAudit is not always mandatory. Many entities may get their accounts audited voluntarily because of benefits from the process of audit. Many such concerns have their internal rules requiring audit due to advantages flowing from an audit.'}\n",
      "{'_id': ObjectId('67406591a2ed655c19ebe26a'), 'key': 15, 'value': 'WHO APPOINTS AN AUDITOR?\\nGenerally, an auditor is appointed by owners or in some cases by constitutional or government authorities in accordance with applicable laws and regulations. For example, in case of companies, auditor is appointed by members (shareholders) in Annual General Meeting (AGM). Shareholders are owners of a company and auditor is appointed by them in AGM.\\nHowever, in case of government companies in India, auditor is appointed by Comptroller and Auditor General of India (CAG), an independent constitutional authority.\\nTake case of a firm who engages an auditor to audit its accounts. In such a case, auditor is appointed by partners of firm.\\nThere may be a situation in which auditor may be appointed by a government authority in accordance with some law or regulation. For example, an auditor may be appointed under tax laws by a government authority.'}\n",
      "{'_id': ObjectId('67406591a2ed655c19ebe26b'), 'key': 16, 'value': 'TO WHOM REPORT IS SUBMITTED BY AN AUDITOR?\\nThe outcome of an audit is written audit report in which auditor expresses an opinion. The report is submitted to person making the appointment. In case of companies, these are shareholders- in case of a firm, to partners who have engaged him.\\nWe shall now discuss understanding reached so far from a case study involving discussion among students regarding nature, scope, limitations, benefits of auditing and other related matters.\\nCASE STUDY-1\\nRohit, Gurpreet, Ali and Goreti are friends since their school days based in Mumbai. They have cleared CA foundation exams in the same attempt and now plan to appear for CA Intermediate exams. All of them are avid news listeners and regularly keep track of business news even on social media.\\nThey are trying to understand new subjects including auditing. Rohit, Gurpreet and Ali have also started attending Live Coaching Classes (LCC) being conducted by Board of studies of ICAI. Goreti has not been able to join Live Coaching Classes yet as she was away on a holiday with her parents. However, she plans to catch it up with her friends very soon. Ali had also joined the classes but he had skipped some lectures.\\nDuring one informal get together, their discussions centred around new subject of auditing. They discussed many things regarding its nature, scope, benefits and other general practical issues. Goreti was regular in keeping track of audited results of companies being published in leading newspapers. Her view was that audited financial statements of companies give  guarantee to different stake holders. It is the main reason behind so much reliance upon auditing. But she could not understand why wrong doings in financial matters are being discovered after many years have gone by.\\nAli also concurred with her view and added that when financial statements are audited, each and every transaction appearing in books of accounts is verified. However, he could not give clarity to Goreti.\\nGurpreet was of the opinion that audit was conducted on the basis of sample checking. He was also of the view that audited financial statements are not a guarantee against probable wrong doings in financial matters of the companies.\\nNot to be left behind, Rohit also jumped in the fray. He supported Gurpreet and also added something of his own.'}\n",
      "{'_id': ObjectId('67406591a2ed655c19ebe26c'), 'key': 17, 'value': 'MEANING OF ASSURANCE ENGAGEMENT\\n\"Assurance engagement\" means an engagement in which a practitioner expresses a conclusion designed to enhance the degree of confidence of the intended users other than the responsible party about the outcome of the evaluation or measurement of a subject matter against criteria.\\nIt means that the practitioner gives an opinion about specific information due to which users of information are able to make confident decisions knowing well that chance of information being incorrect is diminished.\\n Elements of an Assurance Engagement\\nFollowing elements comprise an assurance engagement: -\\nA three party relationship involving a practitioner, a responsible party, and intended users\\nAn assurance engagement involves abovesaid three parties. A practitioner is a person who provides the assurance. The term practitioner is broader than auditor. Audit is related to historical information whereas practitioner may provide assurance not necessarily related to historical financial information.\\nA responsible party is the party responsible for preparation of subject matter.\\nIntended users are the persons for whom an assurance report is prepared. These persons may use the report in making decisions.\\nAn appropriate subject matter\\nIt refers to the information to be examined by the practitioner. For example, financial information contained in financial statements while conducting audit of financial statements.\\nSuitable criteria\\nThese refer to benchmarks used to evaluate the subject matter like standards, guidance, laws, rules and regulations.\\nSufficient appropriate evidence\\nThe practitioner performs an assurance engagement to obtain sufficient appropriate evidence. It is on the basis of evidence that conclusions are arrived and an opinion is formed by auditor.\\n\"Sufficient\" relates to quantity of evidence obtained by auditor. \"Appropriate\" relates to quality of evidence obtained by auditor. One evidence may be providing more comfort to auditor than the other evidence. The evidence providing more comfort is qualitative and, therefore, appropriate. Evidence should be both sufficient and appropriate.\\nA written assurance report in appropriate form\\nA written report is provided containing conclusion that conveys the assurance about the subject matter. A written assurance report is the outcome of an assurance engagement.\\nOverview of Elements of assurance engagement\\n- An assurance engagement involves a three-party relationship consisting of the responsible party, the practitioner, and the intended users.\\n- The subject matter of an assurance engagement must be appropriate, meaning it is capable of evaluation against suitable criteria and available for the practitioner to obtain evidence.\\n- Suitable criteria are standards or benchmarks applied to the subject matter of the assurance engagement against which the practitioner evaluates the information.\\n- Sufficient appropriate evidence is necessary to support the practitioner\\'s conclusion and is obtained through the assurance engagement process.\\n- A written assurance report is provided in an appropriate form to communicate the conclusion of the assurance engagement to its intended users.'}\n",
      "{'_id': ObjectId('67406591a2ed655c19ebe26d'), 'key': 18, 'value': 'Meaning of Review; Audit Vs. Review\\nWe have learnt that audit is a reasonable assurance engagement. It provides reasonable assurance. However, review is a limited assurance engagement. It provides lower level of assurance than audit. Further, review involves fewer procedures and gathers sufficient appropriate evidence on the basis of which limited conclusions can be drawn up. However, both \"audit\" and \"review\" are related to financial statements prepared on the basis of historical financial information.'}\n",
      "{'_id': ObjectId('67406591a2ed655c19ebe26e'), 'key': 19, 'value': 'Types of Assurance Engagements- Reasonable assurance engagement vs. Limited assurance engagement\\nAs already discussed, assurance engagements provide assurance to users. The difference is of degree. Reasonable assurance engagement like audit provides reasonable assurance which is a high level of assurance. Limited assurance engagement like review provides lower level of assurance than audit. It is only a moderate level of assurance.\\n- Reasonable assurance engagement is a process that provides a high level of assurance through the performance of extensive procedures to obtain sufficient appropriate evidence.\\n- In contrast, limited assurance engagement offers a lower level of assurance, performing fewer procedures than a reasonable assurance engagement.\\n- A reasonable assurance engagement results in conclusions based on the adequacy of the evidence gathered during the process.\\n- An example of reasonable assurance engagement is an audit, which involves a thorough examination and provides a high level of assurance.\\n- Conversely, an example of limited assurance engagement is a review, which provides a moderate level of assurance and involves less detailed procedures.\\nBesides reasonable assurance engagements and limited assurance engagements, there is another kind of assurance which is related to matters other than historical financial information. Such an assurance may relate to prospective financial information and not to historical financial information. It may relate to providing assurance on internal controls in an entity.\\n\"Prospective financial information\" means financial information based on assumptions about events that may occur in the future and possible actions by an entity. It can be in the form of a forecast or projection or combination of both.\\nIt is to be noted that in such type of assurance engagements, examination is not of historical financial information.\\nHere, it is important to note the difference between \"Historical financial information\" and \"Prospective financial information.\" The former relates to information expressed in financial terms of an entity about economic events, conditions or circumstances occurring in past periods. The latter relates to financial information based on assumptions about occurrence of future events and possible actions by an entity.\\nTherefore, historical financial information is rooted in past events which have already occurred whereas prospective financial information is related to future events.\\nIn assurance reports involving prospective financial information, the practitioner obtains sufficient appropriate evidence to the effect that management\\'s assumptions on which the prospective financial information is based are not unreasonable, the prospective financial information is properly prepared on the basis of the assumptions and it is properly presented and all material assumptions are adequately disclosed.\\nProspective financial information relates to future events. While evidence may be available to support the assumptions on which the prospective financial information is based, such evidence is itself generally future- oriented. The auditor is, therefore, not in a position to express an opinion as to whether the results shown in the prospective financial information will be achieved.\\nTherefore, in such assurance engagements, practitioner provides a report assuring that nothing has come to practitioner\\'s attention to suggest that these assumptions do not provide a reasonable basis for the projection.\\nHence, such type of assurance engagement provides only a \"moderate\" level of assurance.\\nExamples of assurance engagements\\n- An audit of financial statements is classified as a reasonable assurance engagement, aiming to provide a high assurance level that financial statements are free from material misstatement.\\n- A review of financial statements is considered a limited assurance engagement, which offers a moderate assurance level that no material modifications need to be made to the financial statements.\\n- The examination of prospective financial information is an assurance engagement that assesses the reasonableness of assumptions used in projections and related matters.\\n- Reporting on controls operating at an organization is an assurance engagement that evaluates the design and operation of an organization’s controls.\\nThe various categories of assurance engagements, which are professional services typically provided by certified accountants. The three main branches, originating from the overarching category of \"Assurance Engagements.\" Each branch is detailed below:\\n\\nReasonable Assurance Engagement:\\n\\nThis branch represents a high level of assurance provided by the auditor or accountant. It bifurcates into one sub-category:\\n\\nAudit: This is a type of reasonable assurance engagement where the auditor expresses an opinion on whether the financial statements are prepared, in all material respects, in accordance with an applicable financial reporting framework.\\n\\nLimited Assurance Engagement:\\n\\nThis type of engagement provides a moderate level of assurance, less than that of a reasonable assurance engagement, but more than the level of assurance that would be provided by a compilation. It has one sub-category:\\n\\nReview: A review engagement is where the accountant performs procedures, primarily consisting of making inquiries of management and performing analytical procedures, to express a conclusion that provides a limited level of assurance on the financial statements.\\n\\nAssurance Engagements dealing with matters other than historical financial information:\\n\\nThis branch indicates assurance services that do not focus on historical financial data. It includes:\\n\\nExamination of prospective financial information (like forecast): This involves engagements where auditors evaluate the preparation and presentation of financial forecasts and projections.\\n\\nAssurance regarding operations of controls: Here, the assurance practitioner provides an opinion on the design, implementation, and/or effectiveness of the controls at a service organization.\\n\\nEach of these branches indicates a different scope of work, level of assurance, and purpose within the realm of assurance engagements, offering various options depending on the needs of the users of the financial information.'}\n",
      "{'_id': ObjectId('67406591a2ed655c19ebe26f'), 'key': 20, 'value': 'QUALITIES OF AUDITOR\\nAn auditor is concerned with the reporting on financial matters of business and other institutions. Financial matters inherently are to be set with the problems of human fallibility; errors and frauds are frequent.\\nTact, caution, firmness, good temper, integrity, discretion, industry, judgement, patience, clear headedness and reliability are some of qualities which an auditor\\nshould have. In short, all those personal qualities that go to make a good businessman contribute to the making of a good auditor.\\nIn addition, he must have the shine of culture for attaining a great height. He must have the highest degree of integrity backed by adequate independence.\\nThe auditor, who holds a position of trust, must have the basic human qualities apart from the technical requirement of professional training and education. He is called upon constantly to critically review financial statements and it is obviously useless for him to attempt that task unless his own knowledge is that of an expert. An exhaustive knowledge of accounting in all its branches is the sine qua non of the practice of auditing. He must know thoroughly all accounting principles and techniques.'}\n",
      "{'_id': ObjectId('67406591a2ed655c19ebe270'), 'key': 21, 'value': 'ENGAGEMENT AND QUALITY CONTROL STANDARDS: AN OVERVIEW\\nThe following Standards issued under authority of ICAI Council are collectively known as Engagement Standards: -\\nStandards on auditing (SAs) which apply in audit of historical financial information.\\nStandards on review engagements (SREs) which apply in review of historical financial information.\\nStandards on Assurance engagements (SAEs) which apply in assurance engagements other than audits and review of historical financial information.\\nStandards on Related Services (SRSs) which apply in agreed upon procedures to information, compilation engagements and other related service engagements.\\nThe purpose of issue of these standards is to establish high quality standards and guidance in the areas of financial statement audits and in other types of assurance services.\\n Standards on Auditing\\nStandards on Auditing apply in the context of an audit of financial statements by an independent auditor. It is important to remember that Standards on Auditing apply in audit of historical information. These establish high quality benchmarks and are followed by auditors in conducting audit of financial statements.\\nStandards on Auditing have been issued on wide spectrum of issues in the field of auditing ranging from overall objectives of independent auditor, audit documentation, planning an audit of financial statements, identifying and assessing risk of material misstatement, audit sampling, audit evidence and forming an opinion and reporting on financial statements. These cover all significant aspects of audit of financial statements.\\nSome examples of Standards on Auditing are: -\\nSA 200 Overall Objectives of the Independent Auditor and the Conduct of an Audit in accordance with Standards on Auditing\\nSA 230 Audit Documentation\\nSA 315 Identifying and Assessing the Risks of Material Misstatement through Understanding the Entity and its Environment\\nSA 500 Audit Evidence\\nRevised SA 700 Forming an Opinion and Reporting on Financial Statements'}\n",
      "{'_id': ObjectId('67406591a2ed655c19ebe271'), 'key': 22, 'value': 'Standards on Review Engagements\\nStandards on review engagements apply in the context of review of financial statements. We have already understood that review is a limited assurance engagement and it provides assurance which is lower than that provided by audit. It is due to the fact that review involves fewer procedures as compared to audit. Since a review also provides assurance to users, it also involves obtaining sufficient appropriate evidence. For example, when an auditor performs review of interim financial information of an entity.\\nExamples of Standards on Review engagements are:\\nSRE 2400 (Revised) Engagements to Review Historical Financial Statements\\nSRE 2410 Review of Interim Financial Information Performed by the Independent Auditor of the Entity\\nIt is to be noted that both Standards on auditing and Standards on review engagements apply to engagements involving historical financial information.'}\n",
      "{'_id': ObjectId('67406591a2ed655c19ebe272'), 'key': 23, 'value': 'Standards on Assurance Engagements\\nThere is another set of standards which apply in assurance engagements dealing with subject matters other than historical financial information. Such assurance engagements do not include \"audit\" or \"review\" of historical financial information. These standards are known as Standards on Assurance Engagements. For example, an assurance engagement relating to examination of prospective financial information.\\nIt is to be noted that in such type of assurance engagements, examination is not of historical financial information or engagement may relate to providing assurance regarding non-financial matters like design and operation of internal control in an entity.\\nExamples of Standards on Assurance Engagements are:\\nSAE 3400 The Examination of Prospective Financial Information\\nSAE 3420 Assurance Engagements to Report on the Compilation of Pro Forma Financial Information Included in a Prospectus'}\n",
      "{'_id': ObjectId('67406591a2ed655c19ebe273'), 'key': 24, 'value': \"Standards on Related Services\\nLastly, there are standards on related services. These standards apply in engagements to perform agreed-upon procedures regarding financial information.\\nFor example, an engagement to perform agreed-upon procedures may require the auditor to perform certain procedures concerning individual items of financial data, say, accounts payable, accounts receivable, purchases from related parties and sales and profits of a segment of an entity, or a financial statement, say, a balance sheet or even a complete set of financial statements.\\nAn engagement in which practitioner may be called upon to assist management with the preparation and presentation of historical financial information without obtaining assurance on that information. Such type of compilation engagements fall in the category of related services and practitioner issues a report clearly stating that it is not an assurance engagement and no opinion is being expressed.\\nThese types of services are called related services and standards have been issued to deal with practitioner's responsibilities in this regard.\\nExamples of Standards on related services are:\\nSRS 4400 Engagements to perform agreed-upon procedures regarding financial information\\nSRS 4410 (Revised) Compilation engagements\\n\\nIt is to be clearly understood that all the above standards i.e., Standards on Auditing (SAs), Standards on Review Engagements (SREs), Standards on Assurance Engagements (SAEs) and Standards on related services (SRSs) are collectively known as the Engagement Standards.\\nEngagement Standards issued under the authority of Council of ICAI deal with responsibilities of auditor/practitioner.\"}\n",
      "{'_id': ObjectId('67406591a2ed655c19ebe274'), 'key': 25, 'value': \"Standards on Quality Control\\nStandards on Quality Control (SQCs) have been issued to establish standards and provide guidance regarding a firm's responsibilities for its system of quality control for the conduct of audit and review of historical financial information and for other assurance and related service engagements.\\nSQC 1 has been issued in this regard. It requires auditors/practitioners to establish system of quality control so that firm and its personnel comply with professional standards and regulatory & legal requirements and reports issued are appropriate.\\nIts basic objective is that while rendering services, to which engagement standards apply, there should be a system of quality control with in firms to ensure complying with professional standards/legal requirements. System of quality control ensures issuing of appropriate reports in the circumstances.\\nFurther, it is also to be remembered that Standards on Quality Control (SQCs) are to be applied for all services covered by Engagement Standards.\"}\n",
      "{'_id': ObjectId('67406591a2ed655c19ebe275'), 'key': 26, 'value': 'Why are Standards needed?\\nStandards ensure carrying out of audit against established benchmarks at par with global practices.\\nStandards improve quality of financial reporting thereby helping users to make diligent decisions.\\nStandards promote uniformity as audit of financial statements is carried out following these Standards.\\nStandards equip professional accountants with professional knowledge and skill.\\nStandards ensure audit quality.'}\n",
      "{'_id': ObjectId('67406591a2ed655c19ebe276'), 'key': 27, 'value': 'Duties in relation to Engagement and Quality Control Standards\\nIt is the duty of professional accountants to see that Standards are followed in engagements undertaken by them. Ordinarily, these are to be followed by professional accountants. However, a situation may arise when a specific procedure as required in Standards would be ineffective in a particular engagement. In such a case, he is required to document how alternative procedures performed achieve the purpose of required procedure. Also, reason for departure has also to be documented unless it is clear. Further, his report should draw attention to such departures. It is also to be noted that a mere disclosure in the report does not absolve a professional accountant from complying with applicable Standards.\\nOverview of Engagement and Quality Control Standards\\n- Standards on Auditing (SAs) are applicable to audits of historical financial information, guiding the audit process to ensure reliability and credibility.\\n- Standards on Review Engagements (SREs) govern the review of historical financial information to provide a limited assurance that no material modifications are needed.\\n- Standards on Assurance Engagements (SAEs) are relevant for engagements that involve assurance on matters other than historical financial information.\\n- Standards on Related Services (SRSs) apply to engagements where agreed-upon procedures regarding financial information are performed, including assisting management in the preparation and presentation of financial statements.\\n- Standards on Quality Control (SQC) are comprehensive and apply to all services covered by engagement standards, including SAs, SREs, SAEs, and SRSs.\\n- Professional accountants have a duty to adhere to these Standards; any deviation must be clearly stated and explained in their reports.'}\n"
     ]
    }
   ],
   "source": [
    "ca_inter_p2_c1_db_cursor = ca_inter_p2_c1_db.find({})\n",
    "\n",
    "for document in ca_inter_p2_c1_db_cursor:\n",
    "    print(document)"
   ]
  },
  {
   "cell_type": "code",
   "execution_count": 51,
   "metadata": {},
   "outputs": [
    {
     "data": {
      "text/plain": [
       "UpdateResult({'n': 1, 'nModified': 0, 'ok': 1.0, 'updatedExisting': True}, acknowledged=True)"
      ]
     },
     "execution_count": 51,
     "metadata": {},
     "output_type": "execute_result"
    }
   ],
   "source": [
    "ca_inter_p2_c1_db.update_one(\n",
    "    filter={\"key\": 1}, update={\"$set\": {\"questions\": questions_json[\"questions\"]}}\n",
    ")"
   ]
  },
  {
   "cell_type": "code",
   "execution_count": null,
   "metadata": {},
   "outputs": [],
   "source": []
  },
  {
   "cell_type": "code",
   "execution_count": null,
   "metadata": {},
   "outputs": [],
   "source": []
  },
  {
   "cell_type": "markdown",
   "metadata": {},
   "source": [
    "---"
   ]
  },
  {
   "cell_type": "code",
   "execution_count": null,
   "metadata": {},
   "outputs": [],
   "source": [
    "# Generate Answers of the Questions\n",
    "\n",
    "from pydantic import BaseModel\n",
    "\n",
    "\n",
    "# Define the expected response schema using Pydantic\n",
    "class ResponseSchema(BaseModel):\n",
    "    answer: str\n",
    "    additional_info: str\n",
    "\n",
    "    class Config:\n",
    "        extra = \"forbid\"  # Ensures no additional properties are allowed\n",
    "\n",
    "\n",
    "# Create the chat completion request with structured output\n",
    "response = ai_client.chat.completions.create(\n",
    "    model=\"gpt-4o\",\n",
    "    messages=[\n",
    "        {\n",
    "            \"role\": \"system\",\n",
    "            \"content\": \"You are an assistant that generates answers based on given questions with the provided context.\",\n",
    "        },\n",
    "        {\n",
    "            \"role\": \"user\",\n",
    "            \"content\": f\"Based on the following context: {context}, answer the following question: {batch} and return in the specified format.\",\n",
    "        },\n",
    "    ],\n",
    "    temperature=0.7,\n",
    "    max_tokens=1000,\n",
    "    response_format={\n",
    "        \"type\": \"json_schema\",\n",
    "        \"json_schema\": {\n",
    "            \"name\": \"response\",\n",
    "            \"strict\": True,\n",
    "            \"schema\": ResponseSchema.model_json_schema(),\n",
    "        },\n",
    "    },\n",
    ")\n",
    "\n",
    "print(type(response))\n",
    "print(response)\n"
   ]
  }
 ],
 "metadata": {
  "kernelspec": {
   "display_name": "learn-fastapi-9ibX4H3i-py3.12",
   "language": "python",
   "name": "python3"
  },
  "language_info": {
   "codemirror_mode": {
    "name": "ipython",
    "version": 3
   },
   "file_extension": ".py",
   "mimetype": "text/x-python",
   "name": "python",
   "nbconvert_exporter": "python",
   "pygments_lexer": "ipython3",
   "version": "3.12.5"
  }
 },
 "nbformat": 4,
 "nbformat_minor": 2
}
