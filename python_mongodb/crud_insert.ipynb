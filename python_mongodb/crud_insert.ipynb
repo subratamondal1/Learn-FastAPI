{
 "cells": [
  {
   "cell_type": "markdown",
   "metadata": {},
   "source": [
    "# MongoDB Insert Functionality"
   ]
  },
  {
   "cell_type": "markdown",
   "metadata": {},
   "source": [
    "### Import `pymongo`, and `MongoClient`"
   ]
  },
  {
   "cell_type": "code",
   "execution_count": 2,
   "metadata": {},
   "outputs": [],
   "source": [
    "import pymongo\n",
    "from pymongo import MongoClient"
   ]
  },
  {
   "cell_type": "markdown",
   "metadata": {},
   "source": [
    "### Initialize a Client, Connect to DB, and Specify Collection"
   ]
  },
  {
   "cell_type": "code",
   "execution_count": 3,
   "metadata": {},
   "outputs": [
    {
     "name": "stdout",
     "output_type": "stream",
     "text": [
      "MongoClient(host=['localhost:27017'], document_class=dict, tz_aware=False, connect=True)\n"
     ]
    }
   ],
   "source": [
    "uri = \"mongodb://localhost:27017\"\n",
    "client = MongoClient(host=uri)\n",
    "client = MongoClient(host=\"localhost\", port=27017)\n",
    "print(client)"
   ]
  },
  {
   "cell_type": "code",
   "execution_count": 4,
   "metadata": {},
   "outputs": [
    {
     "data": {
      "text/plain": [
       "['admin', 'config', 'local', 'my_store', 'subrata', 'test']"
      ]
     },
     "execution_count": 4,
     "metadata": {},
     "output_type": "execute_result"
    }
   ],
   "source": [
    "client.list_database_names()"
   ]
  },
  {
   "cell_type": "code",
   "execution_count": 8,
   "metadata": {},
   "outputs": [
    {
     "data": {
      "text/plain": [
       "['users']"
      ]
     },
     "execution_count": 8,
     "metadata": {},
     "output_type": "execute_result"
    }
   ],
   "source": [
    "my_store_db = client.my_store\n",
    "my_store_db = client[\"my_store\"]\n",
    "my_store_db.list_collection_names()"
   ]
  },
  {
   "cell_type": "code",
   "execution_count": 9,
   "metadata": {},
   "outputs": [
    {
     "data": {
      "text/plain": [
       "Collection(Database(MongoClient(host=['localhost:27017'], document_class=dict, tz_aware=False, connect=True), 'my_store'), 'products')"
      ]
     },
     "execution_count": 9,
     "metadata": {},
     "output_type": "execute_result"
    }
   ],
   "source": [
    "products_collection = my_store_db[\"products\"]\n",
    "products_collection"
   ]
  },
  {
   "cell_type": "markdown",
   "metadata": {},
   "source": [
    "### `insert_one()`"
   ]
  },
  {
   "cell_type": "code",
   "execution_count": 29,
   "metadata": {},
   "outputs": [],
   "source": [
    "bag = {\"name\": \"Bag\", \"price\": 100, \"quantity\": 10}"
   ]
  },
  {
   "cell_type": "code",
   "execution_count": 30,
   "metadata": {},
   "outputs": [
    {
     "data": {
      "text/plain": [
       "InsertOneResult(ObjectId('673b32f1a96d89c2299b3b63'), acknowledged=True)"
      ]
     },
     "execution_count": 30,
     "metadata": {},
     "output_type": "execute_result"
    }
   ],
   "source": [
    "insert_doc = products_collection.insert_one(bag)\n",
    "insert_doc"
   ]
  },
  {
   "cell_type": "code",
   "execution_count": 31,
   "metadata": {},
   "outputs": [
    {
     "data": {
      "text/plain": [
       "{'_id': ObjectId('673b30a6a96d89c2299b3b60'),\n",
       " 'name': 'Bag',\n",
       " 'price': 100,\n",
       " 'quantity': 10}"
      ]
     },
     "execution_count": 31,
     "metadata": {},
     "output_type": "execute_result"
    }
   ],
   "source": [
    "products_collection.find_one(filter={})"
   ]
  },
  {
   "cell_type": "markdown",
   "metadata": {},
   "source": [
    "### `insert_many()`"
   ]
  },
  {
   "cell_type": "code",
   "execution_count": 32,
   "metadata": {},
   "outputs": [],
   "source": [
    "phone = {\n",
    "    \"name\": \"iPhone 11\",\n",
    "    \"price\": 1000,\n",
    "    \"quantity\": 10,\n",
    "}\n",
    "\n",
    "notebook = {\n",
    "    \"name\": \"Notebook\",\n",
    "    \"price\": 500,\n",
    "    \"quantity\": 10,\n",
    "}"
   ]
  },
  {
   "cell_type": "code",
   "execution_count": 33,
   "metadata": {},
   "outputs": [
    {
     "data": {
      "text/plain": [
       "InsertManyResult([ObjectId('673b32f4a96d89c2299b3b64'), ObjectId('673b32f4a96d89c2299b3b65')], acknowledged=True)"
      ]
     },
     "execution_count": 33,
     "metadata": {},
     "output_type": "execute_result"
    }
   ],
   "source": [
    "insert_documents = products_collection.insert_many(documents=[phone, notebook])\n",
    "insert_documents"
   ]
  },
  {
   "cell_type": "code",
   "execution_count": 42,
   "metadata": {},
   "outputs": [
    {
     "name": "stdout",
     "output_type": "stream",
     "text": [
      "True\n",
      "[ObjectId('673b32f4a96d89c2299b3b64'), ObjectId('673b32f4a96d89c2299b3b65')]\n"
     ]
    }
   ],
   "source": [
    "print(insert_documents.acknowledged)\n",
    "print(insert_documents.inserted_ids)"
   ]
  },
  {
   "cell_type": "code",
   "execution_count": 41,
   "metadata": {},
   "outputs": [
    {
     "data": {
      "text/plain": [
       "<pymongo.synchronous.cursor.Cursor at 0x1084743e0>"
      ]
     },
     "execution_count": 41,
     "metadata": {},
     "output_type": "execute_result"
    }
   ],
   "source": [
    "products_collection.find(filter={})"
   ]
  },
  {
   "cell_type": "markdown",
   "metadata": {},
   "source": [
    "### Catch Errors while Inserting"
   ]
  },
  {
   "cell_type": "code",
   "execution_count": 43,
   "metadata": {},
   "outputs": [
    {
     "name": "stdout",
     "output_type": "stream",
     "text": [
      "Duplicate Entry Detected; E11000 duplicate key error collection: my_store.products index: _id_ dup key: { _id: ObjectId('673b32f1a96d89c2299b3b63') }, full error: {'index': 0, 'code': 11000, 'errmsg': \"E11000 duplicate key error collection: my_store.products index: _id_ dup key: { _id: ObjectId('673b32f1a96d89c2299b3b63') }\", 'keyPattern': {'_id': 1}, 'keyValue': {'_id': ObjectId('673b32f1a96d89c2299b3b63')}}\n"
     ]
    }
   ],
   "source": [
    "try:\n",
    "    products_collection.insert_one(document=bag)\n",
    "except pymongo.errors.DuplicateKeyError as e:\n",
    "    print(f\"Duplicate Entry Detected; {e}\")\n",
    "except Exception as e:\n",
    "    print(e)"
   ]
  },
  {
   "cell_type": "code",
   "execution_count": 46,
   "metadata": {},
   "outputs": [
    {
     "name": "stdout",
     "output_type": "stream",
     "text": [
      "Bulk Write Error -> Duplicate Entry Detected; batch op errors occurred, full error: {'writeErrors': [{'index': 0, 'code': 11000, 'errmsg': \"E11000 duplicate key error collection: my_store.products index: _id_ dup key: { _id: ObjectId('673b32f4a96d89c2299b3b64') }\", 'keyPattern': {'_id': 1}, 'keyValue': {'_id': ObjectId('673b32f4a96d89c2299b3b64')}, 'op': {'name': 'iPhone 11', 'price': 1000, 'quantity': 10, '_id': ObjectId('673b32f4a96d89c2299b3b64')}}], 'writeConcernErrors': [], 'nInserted': 0, 'nUpserted': 0, 'nMatched': 0, 'nModified': 0, 'nRemoved': 0, 'upserted': []}\n"
     ]
    }
   ],
   "source": [
    "try:\n",
    "    products_collection.insert_many(documents=[phone, notebook])\n",
    "except pymongo.errors.BulkWriteError as e:\n",
    "    print(f\"Bulk Write Error -> Duplicate Entry Detected; {e}\")\n",
    "except Exception as e:\n",
    "    print(e)"
   ]
  },
  {
   "cell_type": "code",
   "execution_count": null,
   "metadata": {},
   "outputs": [],
   "source": []
  },
  {
   "cell_type": "code",
   "execution_count": null,
   "metadata": {},
   "outputs": [],
   "source": []
  },
  {
   "cell_type": "code",
   "execution_count": null,
   "metadata": {},
   "outputs": [],
   "source": []
  }
 ],
 "metadata": {
  "kernelspec": {
   "display_name": "learn-fastapi-9ibX4H3i-py3.12",
   "language": "python",
   "name": "python3"
  },
  "language_info": {
   "codemirror_mode": {
    "name": "ipython",
    "version": 3
   },
   "file_extension": ".py",
   "mimetype": "text/x-python",
   "name": "python",
   "nbconvert_exporter": "python",
   "pygments_lexer": "ipython3",
   "version": "3.12.5"
  }
 },
 "nbformat": 4,
 "nbformat_minor": 2
}
